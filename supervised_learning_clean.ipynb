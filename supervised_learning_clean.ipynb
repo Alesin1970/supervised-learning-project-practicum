{
 "cells": [
  {
   "cell_type": "markdown",
   "metadata": {
    "toc": true
   },
   "source": [
    "<h1>Содержание<span class=\"tocSkip\"></span></h1>\n",
    "<div class=\"toc\"><ul class=\"toc-item\"><li><span><a href=\"#Подготовка-данных\" data-toc-modified-id=\"Подготовка-данных-1\"><span class=\"toc-item-num\">1&nbsp;&nbsp;</span>Подготовка данных</a></span><ul class=\"toc-item\"><li><ul class=\"toc-item\"><li><ul class=\"toc-item\"><li><span><a href=\"#Импорт-библиотек\" data-toc-modified-id=\"Импорт-библиотек-1.0.0.1\"><span class=\"toc-item-num\">1.0.0.1&nbsp;&nbsp;</span>Импорт библиотек</a></span></li><li><span><a href=\"#Импорт-данных\" data-toc-modified-id=\"Импорт-данных-1.0.0.2\"><span class=\"toc-item-num\">1.0.0.2&nbsp;&nbsp;</span>Импорт данных</a></span></li></ul></li></ul></li><li><span><a href=\"#Первоначальное-изучение-данных\" data-toc-modified-id=\"Первоначальное-изучение-данных-1.1\"><span class=\"toc-item-num\">1.1&nbsp;&nbsp;</span>Первоначальное изучение данных</a></span></li><li><span><a href=\"#Предобработка-данных\" data-toc-modified-id=\"Предобработка-данных-1.2\"><span class=\"toc-item-num\">1.2&nbsp;&nbsp;</span>Предобработка данных</a></span><ul class=\"toc-item\"><li><ul class=\"toc-item\"><li><span><a href=\"#Вывод\" data-toc-modified-id=\"Вывод-1.2.0.1\"><span class=\"toc-item-num\">1.2.0.1&nbsp;&nbsp;</span>Вывод</a></span></li></ul></li></ul></li></ul></li><li><span><a href=\"#Исследование-задачи\" data-toc-modified-id=\"Исследование-задачи-2\"><span class=\"toc-item-num\">2&nbsp;&nbsp;</span>Исследование задачи</a></span><ul class=\"toc-item\"><li><ul class=\"toc-item\"><li><ul class=\"toc-item\"><li><span><a href=\"#Вывод\" data-toc-modified-id=\"Вывод-2.0.0.1\"><span class=\"toc-item-num\">2.0.0.1&nbsp;&nbsp;</span>Вывод</a></span></li><li><span><a href=\"#Подготовка-данных-для-работы\" data-toc-modified-id=\"Подготовка-данных-для-работы-2.0.0.2\"><span class=\"toc-item-num\">2.0.0.2&nbsp;&nbsp;</span>Подготовка данных для работы</a></span></li></ul></li><li><span><a href=\"#Подготовка-обучающей,-валидационной-и-тестовой-выборок.\" data-toc-modified-id=\"Подготовка-обучающей,-валидационной-и-тестовой-выборок.-2.0.1\"><span class=\"toc-item-num\">2.0.1&nbsp;&nbsp;</span>Подготовка обучающей, валидационной и тестовой выборок.</a></span></li><li><span><a href=\"#Создание-и-обучение-моделей\" data-toc-modified-id=\"Создание-и-обучение-моделей-2.0.2\"><span class=\"toc-item-num\">2.0.2&nbsp;&nbsp;</span>Создание и обучение моделей</a></span></li><li><span><a href=\"#Модель-с-решающим-деревом\" data-toc-modified-id=\"Модель-с-решающим-деревом-2.0.3\"><span class=\"toc-item-num\">2.0.3&nbsp;&nbsp;</span>Модель с решающим деревом</a></span><ul class=\"toc-item\"><li><span><a href=\"#Модель-с-решающим-деревом-для-полной--выборки\" data-toc-modified-id=\"Модель-с-решающим-деревом-для-полной--выборки-2.0.3.1\"><span class=\"toc-item-num\">2.0.3.1&nbsp;&nbsp;</span>Модель с решающим деревом для полной  выборки</a></span></li><li><span><a href=\"#Модель-решающего-дерева-для-сокращенной-выборки\" data-toc-modified-id=\"Модель-решающего-дерева-для-сокращенной-выборки-2.0.3.2\"><span class=\"toc-item-num\">2.0.3.2&nbsp;&nbsp;</span>Модель решающего дерева для сокращенной выборки</a></span></li></ul></li><li><span><a href=\"#Модель-случайного-леса\" data-toc-modified-id=\"Модель-случайного-леса-2.0.4\"><span class=\"toc-item-num\">2.0.4&nbsp;&nbsp;</span>Модель случайного леса</a></span><ul class=\"toc-item\"><li><span><a href=\"#Поиск-лучшей-модели-для-общей-выборки.\" data-toc-modified-id=\"Поиск-лучшей-модели-для-общей-выборки.-2.0.4.1\"><span class=\"toc-item-num\">2.0.4.1&nbsp;&nbsp;</span>Поиск лучшей модели для общей выборки.</a></span></li><li><span><a href=\"#Модель-случайного-леса-для-сокращенной-выборки\" data-toc-modified-id=\"Модель-случайного-леса-для-сокращенной-выборки-2.0.4.2\"><span class=\"toc-item-num\">2.0.4.2&nbsp;&nbsp;</span>Модель случайного леса для сокращенной выборки</a></span></li><li><span><a href=\"#Модель-логистической-регрессии\" data-toc-modified-id=\"Модель-логистической-регрессии-2.0.4.3\"><span class=\"toc-item-num\">2.0.4.3&nbsp;&nbsp;</span>Модель логистической регрессии</a></span></li></ul></li></ul></li></ul></li><li><span><a href=\"#Борьба-с-дисбалансом\" data-toc-modified-id=\"Борьба-с-дисбалансом-3\"><span class=\"toc-item-num\">3&nbsp;&nbsp;</span>Борьба с дисбалансом</a></span><ul class=\"toc-item\"><li><ul class=\"toc-item\"><li><span><a href=\"#Взвешивание-классов\" data-toc-modified-id=\"Взвешивание-классов-3.0.1\"><span class=\"toc-item-num\">3.0.1&nbsp;&nbsp;</span>Взвешивание классов</a></span><ul class=\"toc-item\"><li><span><a href=\"#Модель-решающего-дерева-(взвешивание-классов)\" data-toc-modified-id=\"Модель-решающего-дерева-(взвешивание-классов)-3.0.1.1\"><span class=\"toc-item-num\">3.0.1.1&nbsp;&nbsp;</span>Модель решающего дерева (взвешивание классов)</a></span></li><li><span><a href=\"#Модель-случайного-леса\" data-toc-modified-id=\"Модель-случайного-леса-3.0.1.2\"><span class=\"toc-item-num\">3.0.1.2&nbsp;&nbsp;</span>Модель случайного леса</a></span></li><li><span><a href=\"#Модель-логистической-регрессии\" data-toc-modified-id=\"Модель-логистической-регрессии-3.0.1.3\"><span class=\"toc-item-num\">3.0.1.3&nbsp;&nbsp;</span>Модель логистической регрессии</a></span></li></ul></li><li><span><a href=\"#Увеличение-выборки\" data-toc-modified-id=\"Увеличение-выборки-3.0.2\"><span class=\"toc-item-num\">3.0.2&nbsp;&nbsp;</span>Увеличение выборки</a></span><ul class=\"toc-item\"><li><span><a href=\"#Модель-решающего-дерева\" data-toc-modified-id=\"Модель-решающего-дерева-3.0.2.1\"><span class=\"toc-item-num\">3.0.2.1&nbsp;&nbsp;</span>Модель решающего дерева</a></span></li><li><span><a href=\"#Модель-случайного-леса-(увеличение-выборки)\" data-toc-modified-id=\"Модель-случайного-леса-(увеличение-выборки)-3.0.2.2\"><span class=\"toc-item-num\">3.0.2.2&nbsp;&nbsp;</span>Модель случайного леса (увеличение выборки)</a></span></li></ul></li><li><span><a href=\"#Уменьшение--выборки\" data-toc-modified-id=\"Уменьшение--выборки-3.0.3\"><span class=\"toc-item-num\">3.0.3&nbsp;&nbsp;</span>Уменьшение  выборки</a></span><ul class=\"toc-item\"><li><span><a href=\"#Модель-решающего-дерева-(уменьшение-выборки)\" data-toc-modified-id=\"Модель-решающего-дерева-(уменьшение-выборки)-3.0.3.1\"><span class=\"toc-item-num\">3.0.3.1&nbsp;&nbsp;</span>Модель решающего дерева (уменьшение выборки)</a></span></li><li><span><a href=\"#Модель-случайного-леса-(уменьшение-выборки)\" data-toc-modified-id=\"Модель-случайного-леса-(уменьшение-выборки)-3.0.3.2\"><span class=\"toc-item-num\">3.0.3.2&nbsp;&nbsp;</span>Модель случайного леса (уменьшение выборки)</a></span></li><li><span><a href=\"#Вывод\" data-toc-modified-id=\"Вывод-3.0.3.3\"><span class=\"toc-item-num\">3.0.3.3&nbsp;&nbsp;</span>Вывод</a></span></li></ul></li></ul></li></ul></li><li><span><a href=\"#Тестирование-модели\" data-toc-modified-id=\"Тестирование-модели-4\"><span class=\"toc-item-num\">4&nbsp;&nbsp;</span>Тестирование модели</a></span></li></ul></div>"
   ]
  },
  {
   "cell_type": "markdown",
   "metadata": {},
   "source": [
    "# Отток клиентов"
   ]
  },
  {
   "cell_type": "markdown",
   "metadata": {},
   "source": [
    "Из «Бета-Банка» стали уходить клиенты. Каждый месяц. Немного, но заметно. Банковские маркетологи посчитали: сохранять текущих клиентов дешевле, чем привлекать новых.\n",
    "\n",
    "Нужно спрогнозировать, уйдёт клиент из банка в ближайшее время или нет. Вам предоставлены исторические данные о поведении клиентов и расторжении договоров с банком. \n",
    "\n",
    "Постройте модель с предельно большим значением *F1*-меры. Чтобы сдать проект успешно, нужно довести метрику до 0.59. Проверьте *F1*-меру на тестовой выборке самостоятельно.\n",
    "\n",
    "Дополнительно измеряйте *AUC-ROC*, сравнивайте её значение с *F1*-мерой.\n",
    "\n",
    "Источник данных: [https://www.kaggle.com/barelydedicated/bank-customer-churn-modeling](https://www.kaggle.com/barelydedicated/bank-customer-churn-modeling)"
   ]
  },
  {
   "cell_type": "markdown",
   "metadata": {},
   "source": [
    "# Построение модели прогнозирования ухода клиента\n",
    "\n",
    "Задачей проектной работы является разработка классификационной модели, позволяющей прогнозировать поведение клиента банка в ближайшем будущем. Прогнозируется уйдет ли клиент из банка или нет. \n",
    "\n",
    "Источник данных для обучения и тестирования модели:\n",
    "https://www.kaggle.com/barelydedicated/bank-customer-churn-modeling\n",
    "\n",
    "F1-мера модели должна быть не меньше 0,59.\n"
   ]
  },
  {
   "cell_type": "markdown",
   "metadata": {},
   "source": [
    "## Подготовка данных"
   ]
  },
  {
   "cell_type": "markdown",
   "metadata": {},
   "source": [
    "##### Импорт библиотек"
   ]
  },
  {
   "cell_type": "code",
   "execution_count": 1,
   "metadata": {},
   "outputs": [],
   "source": [
    "import pandas as pd\n",
    "import numpy as np\n",
    "import matplotlib.pyplot as plt\n",
    "import joblib\n",
    "from joblib import dump\n",
    "from sklearn.tree import DecisionTreeClassifier\n",
    "from sklearn.ensemble import RandomForestClassifier\n",
    "from sklearn.linear_model import LogisticRegression\n",
    "from sklearn.metrics import accuracy_score\n",
    "from sklearn.model_selection import train_test_split\n",
    "from sklearn.dummy import DummyClassifier\n",
    "from sklearn.preprocessing import OrdinalEncoder\n",
    "from sklearn.preprocessing import StandardScaler\n",
    "from sklearn.utils import shuffle\n",
    "from sklearn.metrics import f1_score\n",
    "from sklearn.tree import plot_tree\n",
    "from sklearn.model_selection import GridSearchCV\n",
    "from sklearn.utils import shuffle\n",
    "from sklearn.metrics import roc_curve \n",
    "from sklearn.metrics import roc_auc_score\n"
   ]
  },
  {
   "cell_type": "markdown",
   "metadata": {},
   "source": [
    "##### Импорт данных"
   ]
  },
  {
   "cell_type": "code",
   "execution_count": 2,
   "metadata": {},
   "outputs": [],
   "source": [
    "df = pd.read_csv('/datasets/Churn.csv')"
   ]
  },
  {
   "cell_type": "markdown",
   "metadata": {},
   "source": [
    "Создаем копию оригинального датасета"
   ]
  },
  {
   "cell_type": "code",
   "execution_count": 3,
   "metadata": {},
   "outputs": [],
   "source": [
    "df_original = df.copy()"
   ]
  },
  {
   "cell_type": "markdown",
   "metadata": {},
   "source": [
    "### Первоначальное изучение данных"
   ]
  },
  {
   "cell_type": "code",
   "execution_count": 4,
   "metadata": {},
   "outputs": [
    {
     "data": {
      "text/html": [
       "<div>\n",
       "<style scoped>\n",
       "    .dataframe tbody tr th:only-of-type {\n",
       "        vertical-align: middle;\n",
       "    }\n",
       "\n",
       "    .dataframe tbody tr th {\n",
       "        vertical-align: top;\n",
       "    }\n",
       "\n",
       "    .dataframe thead th {\n",
       "        text-align: right;\n",
       "    }\n",
       "</style>\n",
       "<table border=\"1\" class=\"dataframe\">\n",
       "  <thead>\n",
       "    <tr style=\"text-align: right;\">\n",
       "      <th></th>\n",
       "      <th>RowNumber</th>\n",
       "      <th>CustomerId</th>\n",
       "      <th>Surname</th>\n",
       "      <th>CreditScore</th>\n",
       "      <th>Geography</th>\n",
       "      <th>Gender</th>\n",
       "      <th>Age</th>\n",
       "      <th>Tenure</th>\n",
       "      <th>Balance</th>\n",
       "      <th>NumOfProducts</th>\n",
       "      <th>HasCrCard</th>\n",
       "      <th>IsActiveMember</th>\n",
       "      <th>EstimatedSalary</th>\n",
       "      <th>Exited</th>\n",
       "    </tr>\n",
       "  </thead>\n",
       "  <tbody>\n",
       "    <tr>\n",
       "      <th>0</th>\n",
       "      <td>1</td>\n",
       "      <td>15634602</td>\n",
       "      <td>Hargrave</td>\n",
       "      <td>619</td>\n",
       "      <td>France</td>\n",
       "      <td>Female</td>\n",
       "      <td>42</td>\n",
       "      <td>2.0</td>\n",
       "      <td>0.00</td>\n",
       "      <td>1</td>\n",
       "      <td>1</td>\n",
       "      <td>1</td>\n",
       "      <td>101348.88</td>\n",
       "      <td>1</td>\n",
       "    </tr>\n",
       "    <tr>\n",
       "      <th>1</th>\n",
       "      <td>2</td>\n",
       "      <td>15647311</td>\n",
       "      <td>Hill</td>\n",
       "      <td>608</td>\n",
       "      <td>Spain</td>\n",
       "      <td>Female</td>\n",
       "      <td>41</td>\n",
       "      <td>1.0</td>\n",
       "      <td>83807.86</td>\n",
       "      <td>1</td>\n",
       "      <td>0</td>\n",
       "      <td>1</td>\n",
       "      <td>112542.58</td>\n",
       "      <td>0</td>\n",
       "    </tr>\n",
       "    <tr>\n",
       "      <th>2</th>\n",
       "      <td>3</td>\n",
       "      <td>15619304</td>\n",
       "      <td>Onio</td>\n",
       "      <td>502</td>\n",
       "      <td>France</td>\n",
       "      <td>Female</td>\n",
       "      <td>42</td>\n",
       "      <td>8.0</td>\n",
       "      <td>159660.80</td>\n",
       "      <td>3</td>\n",
       "      <td>1</td>\n",
       "      <td>0</td>\n",
       "      <td>113931.57</td>\n",
       "      <td>1</td>\n",
       "    </tr>\n",
       "    <tr>\n",
       "      <th>3</th>\n",
       "      <td>4</td>\n",
       "      <td>15701354</td>\n",
       "      <td>Boni</td>\n",
       "      <td>699</td>\n",
       "      <td>France</td>\n",
       "      <td>Female</td>\n",
       "      <td>39</td>\n",
       "      <td>1.0</td>\n",
       "      <td>0.00</td>\n",
       "      <td>2</td>\n",
       "      <td>0</td>\n",
       "      <td>0</td>\n",
       "      <td>93826.63</td>\n",
       "      <td>0</td>\n",
       "    </tr>\n",
       "    <tr>\n",
       "      <th>4</th>\n",
       "      <td>5</td>\n",
       "      <td>15737888</td>\n",
       "      <td>Mitchell</td>\n",
       "      <td>850</td>\n",
       "      <td>Spain</td>\n",
       "      <td>Female</td>\n",
       "      <td>43</td>\n",
       "      <td>2.0</td>\n",
       "      <td>125510.82</td>\n",
       "      <td>1</td>\n",
       "      <td>1</td>\n",
       "      <td>1</td>\n",
       "      <td>79084.10</td>\n",
       "      <td>0</td>\n",
       "    </tr>\n",
       "  </tbody>\n",
       "</table>\n",
       "</div>"
      ],
      "text/plain": [
       "   RowNumber  CustomerId   Surname  CreditScore Geography  Gender  Age  \\\n",
       "0          1    15634602  Hargrave          619    France  Female   42   \n",
       "1          2    15647311      Hill          608     Spain  Female   41   \n",
       "2          3    15619304      Onio          502    France  Female   42   \n",
       "3          4    15701354      Boni          699    France  Female   39   \n",
       "4          5    15737888  Mitchell          850     Spain  Female   43   \n",
       "\n",
       "   Tenure    Balance  NumOfProducts  HasCrCard  IsActiveMember  \\\n",
       "0     2.0       0.00              1          1               1   \n",
       "1     1.0   83807.86              1          0               1   \n",
       "2     8.0  159660.80              3          1               0   \n",
       "3     1.0       0.00              2          0               0   \n",
       "4     2.0  125510.82              1          1               1   \n",
       "\n",
       "   EstimatedSalary  Exited  \n",
       "0        101348.88       1  \n",
       "1        112542.58       0  \n",
       "2        113931.57       1  \n",
       "3         93826.63       0  \n",
       "4         79084.10       0  "
      ]
     },
     "execution_count": 4,
     "metadata": {},
     "output_type": "execute_result"
    }
   ],
   "source": [
    "df.head()"
   ]
  },
  {
   "cell_type": "code",
   "execution_count": 5,
   "metadata": {},
   "outputs": [
    {
     "name": "stdout",
     "output_type": "stream",
     "text": [
      "<class 'pandas.core.frame.DataFrame'>\n",
      "RangeIndex: 10000 entries, 0 to 9999\n",
      "Data columns (total 14 columns):\n",
      " #   Column           Non-Null Count  Dtype  \n",
      "---  ------           --------------  -----  \n",
      " 0   RowNumber        10000 non-null  int64  \n",
      " 1   CustomerId       10000 non-null  int64  \n",
      " 2   Surname          10000 non-null  object \n",
      " 3   CreditScore      10000 non-null  int64  \n",
      " 4   Geography        10000 non-null  object \n",
      " 5   Gender           10000 non-null  object \n",
      " 6   Age              10000 non-null  int64  \n",
      " 7   Tenure           9091 non-null   float64\n",
      " 8   Balance          10000 non-null  float64\n",
      " 9   NumOfProducts    10000 non-null  int64  \n",
      " 10  HasCrCard        10000 non-null  int64  \n",
      " 11  IsActiveMember   10000 non-null  int64  \n",
      " 12  EstimatedSalary  10000 non-null  float64\n",
      " 13  Exited           10000 non-null  int64  \n",
      "dtypes: float64(3), int64(8), object(3)\n",
      "memory usage: 1.1+ MB\n"
     ]
    }
   ],
   "source": [
    "df.info()"
   ]
  },
  {
   "cell_type": "code",
   "execution_count": 6,
   "metadata": {
    "scrolled": true
   },
   "outputs": [
    {
     "data": {
      "text/html": [
       "<div>\n",
       "<style scoped>\n",
       "    .dataframe tbody tr th:only-of-type {\n",
       "        vertical-align: middle;\n",
       "    }\n",
       "\n",
       "    .dataframe tbody tr th {\n",
       "        vertical-align: top;\n",
       "    }\n",
       "\n",
       "    .dataframe thead th {\n",
       "        text-align: right;\n",
       "    }\n",
       "</style>\n",
       "<table border=\"1\" class=\"dataframe\">\n",
       "  <thead>\n",
       "    <tr style=\"text-align: right;\">\n",
       "      <th></th>\n",
       "      <th>RowNumber</th>\n",
       "      <th>CustomerId</th>\n",
       "      <th>CreditScore</th>\n",
       "      <th>Age</th>\n",
       "      <th>Tenure</th>\n",
       "      <th>Balance</th>\n",
       "      <th>NumOfProducts</th>\n",
       "      <th>HasCrCard</th>\n",
       "      <th>IsActiveMember</th>\n",
       "      <th>EstimatedSalary</th>\n",
       "      <th>Exited</th>\n",
       "    </tr>\n",
       "  </thead>\n",
       "  <tbody>\n",
       "    <tr>\n",
       "      <th>count</th>\n",
       "      <td>10000.00000</td>\n",
       "      <td>1.000000e+04</td>\n",
       "      <td>10000.000000</td>\n",
       "      <td>10000.000000</td>\n",
       "      <td>9091.000000</td>\n",
       "      <td>10000.000000</td>\n",
       "      <td>10000.000000</td>\n",
       "      <td>10000.00000</td>\n",
       "      <td>10000.000000</td>\n",
       "      <td>10000.000000</td>\n",
       "      <td>10000.000000</td>\n",
       "    </tr>\n",
       "    <tr>\n",
       "      <th>mean</th>\n",
       "      <td>5000.50000</td>\n",
       "      <td>1.569094e+07</td>\n",
       "      <td>650.528800</td>\n",
       "      <td>38.921800</td>\n",
       "      <td>4.997690</td>\n",
       "      <td>76485.889288</td>\n",
       "      <td>1.530200</td>\n",
       "      <td>0.70550</td>\n",
       "      <td>0.515100</td>\n",
       "      <td>100090.239881</td>\n",
       "      <td>0.203700</td>\n",
       "    </tr>\n",
       "    <tr>\n",
       "      <th>std</th>\n",
       "      <td>2886.89568</td>\n",
       "      <td>7.193619e+04</td>\n",
       "      <td>96.653299</td>\n",
       "      <td>10.487806</td>\n",
       "      <td>2.894723</td>\n",
       "      <td>62397.405202</td>\n",
       "      <td>0.581654</td>\n",
       "      <td>0.45584</td>\n",
       "      <td>0.499797</td>\n",
       "      <td>57510.492818</td>\n",
       "      <td>0.402769</td>\n",
       "    </tr>\n",
       "    <tr>\n",
       "      <th>min</th>\n",
       "      <td>1.00000</td>\n",
       "      <td>1.556570e+07</td>\n",
       "      <td>350.000000</td>\n",
       "      <td>18.000000</td>\n",
       "      <td>0.000000</td>\n",
       "      <td>0.000000</td>\n",
       "      <td>1.000000</td>\n",
       "      <td>0.00000</td>\n",
       "      <td>0.000000</td>\n",
       "      <td>11.580000</td>\n",
       "      <td>0.000000</td>\n",
       "    </tr>\n",
       "    <tr>\n",
       "      <th>25%</th>\n",
       "      <td>2500.75000</td>\n",
       "      <td>1.562853e+07</td>\n",
       "      <td>584.000000</td>\n",
       "      <td>32.000000</td>\n",
       "      <td>2.000000</td>\n",
       "      <td>0.000000</td>\n",
       "      <td>1.000000</td>\n",
       "      <td>0.00000</td>\n",
       "      <td>0.000000</td>\n",
       "      <td>51002.110000</td>\n",
       "      <td>0.000000</td>\n",
       "    </tr>\n",
       "    <tr>\n",
       "      <th>50%</th>\n",
       "      <td>5000.50000</td>\n",
       "      <td>1.569074e+07</td>\n",
       "      <td>652.000000</td>\n",
       "      <td>37.000000</td>\n",
       "      <td>5.000000</td>\n",
       "      <td>97198.540000</td>\n",
       "      <td>1.000000</td>\n",
       "      <td>1.00000</td>\n",
       "      <td>1.000000</td>\n",
       "      <td>100193.915000</td>\n",
       "      <td>0.000000</td>\n",
       "    </tr>\n",
       "    <tr>\n",
       "      <th>75%</th>\n",
       "      <td>7500.25000</td>\n",
       "      <td>1.575323e+07</td>\n",
       "      <td>718.000000</td>\n",
       "      <td>44.000000</td>\n",
       "      <td>7.000000</td>\n",
       "      <td>127644.240000</td>\n",
       "      <td>2.000000</td>\n",
       "      <td>1.00000</td>\n",
       "      <td>1.000000</td>\n",
       "      <td>149388.247500</td>\n",
       "      <td>0.000000</td>\n",
       "    </tr>\n",
       "    <tr>\n",
       "      <th>max</th>\n",
       "      <td>10000.00000</td>\n",
       "      <td>1.581569e+07</td>\n",
       "      <td>850.000000</td>\n",
       "      <td>92.000000</td>\n",
       "      <td>10.000000</td>\n",
       "      <td>250898.090000</td>\n",
       "      <td>4.000000</td>\n",
       "      <td>1.00000</td>\n",
       "      <td>1.000000</td>\n",
       "      <td>199992.480000</td>\n",
       "      <td>1.000000</td>\n",
       "    </tr>\n",
       "  </tbody>\n",
       "</table>\n",
       "</div>"
      ],
      "text/plain": [
       "         RowNumber    CustomerId   CreditScore           Age       Tenure  \\\n",
       "count  10000.00000  1.000000e+04  10000.000000  10000.000000  9091.000000   \n",
       "mean    5000.50000  1.569094e+07    650.528800     38.921800     4.997690   \n",
       "std     2886.89568  7.193619e+04     96.653299     10.487806     2.894723   \n",
       "min        1.00000  1.556570e+07    350.000000     18.000000     0.000000   \n",
       "25%     2500.75000  1.562853e+07    584.000000     32.000000     2.000000   \n",
       "50%     5000.50000  1.569074e+07    652.000000     37.000000     5.000000   \n",
       "75%     7500.25000  1.575323e+07    718.000000     44.000000     7.000000   \n",
       "max    10000.00000  1.581569e+07    850.000000     92.000000    10.000000   \n",
       "\n",
       "             Balance  NumOfProducts    HasCrCard  IsActiveMember  \\\n",
       "count   10000.000000   10000.000000  10000.00000    10000.000000   \n",
       "mean    76485.889288       1.530200      0.70550        0.515100   \n",
       "std     62397.405202       0.581654      0.45584        0.499797   \n",
       "min         0.000000       1.000000      0.00000        0.000000   \n",
       "25%         0.000000       1.000000      0.00000        0.000000   \n",
       "50%     97198.540000       1.000000      1.00000        1.000000   \n",
       "75%    127644.240000       2.000000      1.00000        1.000000   \n",
       "max    250898.090000       4.000000      1.00000        1.000000   \n",
       "\n",
       "       EstimatedSalary        Exited  \n",
       "count     10000.000000  10000.000000  \n",
       "mean     100090.239881      0.203700  \n",
       "std       57510.492818      0.402769  \n",
       "min          11.580000      0.000000  \n",
       "25%       51002.110000      0.000000  \n",
       "50%      100193.915000      0.000000  \n",
       "75%      149388.247500      0.000000  \n",
       "max      199992.480000      1.000000  "
      ]
     },
     "execution_count": 6,
     "metadata": {},
     "output_type": "execute_result"
    }
   ],
   "source": [
    "df.describe()"
   ]
  },
  {
   "cell_type": "markdown",
   "metadata": {},
   "source": [
    "Всего десять тысяч строки и 14 столбцов. \n",
    "\n",
    "- CustromerID - семизначный ID (возможно использовать тип данных int32)\n",
    "- CreditScore - трехзначный (возможно использовать тип данных int16)\n",
    "- Age - максимальный возраст - 92 года, минимальный - 18 лет (возможно использовать тип данных int8)\n",
    "- Tenure - максимальное значение 10 (возможно использовать тип данных int8)\n",
    "- NumOfProducts - максимальное значение 4 (возможно использовать тип данных int8)\n",
    "- HasCrCard, IsActiveMember, Exited - макс значение 1 (возможно использовать тип данных int8).\n",
    "\n",
    "Учитывая разрядность содержимого отдельных столбцов возможно осуществить замену типов данных на типы, потребляющие меньший объем памяти. В данном случае выигрыш от замены типа данных не очень большой, посколько  в дальнейшем неоходимо будет провести стандартизацию данных, которая приведет к изменению типа данных на float, однако эта замена позволит несколько сократить потребление памяти на этапах, предшествующих стандратизации данных. \n",
    "\n",
    "Проверка на дубликаты будет проведена после устранения пропусков и изменения типов данных. \n",
    "\n",
    "######   Промежуточные выводы. \n",
    "\n",
    "* В столбце Tenure имеются пропуски\n",
    "* Заголовки столбцов созданы с нарушением рекомендованного стиля\n",
    "* В ряде столбцов тип данных возможно изменить на тип, использующий меньше памяти. \n",
    "* Столбец RowNumber - фактически дублирует данные индекса датафрейма и может быть удален. Столбец Surname - содержит данные в формате object, на этапе обучения модели, данный формат вызовет ошибку, в тоже время столбец CustomerID содержит информацию, позволяющую идентифицировать клиента, в форме чисел, поэтому столбец Surname тоже стоит удалить. "
   ]
  },
  {
   "cell_type": "markdown",
   "metadata": {},
   "source": [
    "### Предобработка данных"
   ]
  },
  {
   "cell_type": "markdown",
   "metadata": {},
   "source": [
    "###### Удаление столбцов 'RowNumber '  и  'Surname'"
   ]
  },
  {
   "cell_type": "code",
   "execution_count": 7,
   "metadata": {},
   "outputs": [],
   "source": [
    "df = df.drop(['RowNumber'],axis=1)\n",
    "df = df.drop(['Surname'],axis=1)"
   ]
  },
  {
   "cell_type": "markdown",
   "metadata": {},
   "source": [
    "###### Исправление названий столбцов. "
   ]
  },
  {
   "cell_type": "code",
   "execution_count": 8,
   "metadata": {},
   "outputs": [
    {
     "data": {
      "text/plain": [
       "Index(['CustomerId', 'CreditScore', 'Geography', 'Gender', 'Age', 'Tenure',\n",
       "       'Balance', 'NumOfProducts', 'HasCrCard', 'IsActiveMember',\n",
       "       'EstimatedSalary', 'Exited'],\n",
       "      dtype='object')"
      ]
     },
     "execution_count": 8,
     "metadata": {},
     "output_type": "execute_result"
    }
   ],
   "source": [
    "df.columns"
   ]
  },
  {
   "cell_type": "code",
   "execution_count": 9,
   "metadata": {},
   "outputs": [],
   "source": [
    "df.columns = ['customer_id', 'credit_score', 'geography',\n",
    "       'gender', 'age', 'tenure', 'balance', 'num_of_products', 'has_cr_card',\n",
    "       'is_active_member', 'estimated_salary', 'exited']"
   ]
  },
  {
   "cell_type": "code",
   "execution_count": 10,
   "metadata": {},
   "outputs": [
    {
     "name": "stdout",
     "output_type": "stream",
     "text": [
      "<class 'pandas.core.frame.DataFrame'>\n",
      "RangeIndex: 10000 entries, 0 to 9999\n",
      "Data columns (total 12 columns):\n",
      " #   Column            Non-Null Count  Dtype  \n",
      "---  ------            --------------  -----  \n",
      " 0   customer_id       10000 non-null  int64  \n",
      " 1   credit_score      10000 non-null  int64  \n",
      " 2   geography         10000 non-null  object \n",
      " 3   gender            10000 non-null  object \n",
      " 4   age               10000 non-null  int64  \n",
      " 5   tenure            9091 non-null   float64\n",
      " 6   balance           10000 non-null  float64\n",
      " 7   num_of_products   10000 non-null  int64  \n",
      " 8   has_cr_card       10000 non-null  int64  \n",
      " 9   is_active_member  10000 non-null  int64  \n",
      " 10  estimated_salary  10000 non-null  float64\n",
      " 11  exited            10000 non-null  int64  \n",
      "dtypes: float64(3), int64(7), object(2)\n",
      "memory usage: 937.6+ KB\n"
     ]
    }
   ],
   "source": [
    "df.info()"
   ]
  },
  {
   "cell_type": "markdown",
   "metadata": {},
   "source": [
    "###### Устранение пропусков\n",
    "\n",
    "Пропуски имеются только в одном столбце - 'tenure'. Делаем срез данных содержащий пропуски. "
   ]
  },
  {
   "cell_type": "code",
   "execution_count": 11,
   "metadata": {},
   "outputs": [
    {
     "data": {
      "text/html": [
       "<div>\n",
       "<style scoped>\n",
       "    .dataframe tbody tr th:only-of-type {\n",
       "        vertical-align: middle;\n",
       "    }\n",
       "\n",
       "    .dataframe tbody tr th {\n",
       "        vertical-align: top;\n",
       "    }\n",
       "\n",
       "    .dataframe thead th {\n",
       "        text-align: right;\n",
       "    }\n",
       "</style>\n",
       "<table border=\"1\" class=\"dataframe\">\n",
       "  <thead>\n",
       "    <tr style=\"text-align: right;\">\n",
       "      <th></th>\n",
       "      <th>customer_id</th>\n",
       "      <th>credit_score</th>\n",
       "      <th>age</th>\n",
       "      <th>tenure</th>\n",
       "      <th>balance</th>\n",
       "      <th>num_of_products</th>\n",
       "      <th>has_cr_card</th>\n",
       "      <th>is_active_member</th>\n",
       "      <th>estimated_salary</th>\n",
       "      <th>exited</th>\n",
       "    </tr>\n",
       "  </thead>\n",
       "  <tbody>\n",
       "    <tr>\n",
       "      <th>count</th>\n",
       "      <td>9.090000e+02</td>\n",
       "      <td>909.000000</td>\n",
       "      <td>909.000000</td>\n",
       "      <td>0.0</td>\n",
       "      <td>909.000000</td>\n",
       "      <td>909.000000</td>\n",
       "      <td>909.000000</td>\n",
       "      <td>909.000000</td>\n",
       "      <td>909.000000</td>\n",
       "      <td>909.000000</td>\n",
       "    </tr>\n",
       "    <tr>\n",
       "      <th>mean</th>\n",
       "      <td>1.568981e+07</td>\n",
       "      <td>648.451045</td>\n",
       "      <td>38.647965</td>\n",
       "      <td>NaN</td>\n",
       "      <td>76117.341474</td>\n",
       "      <td>1.530253</td>\n",
       "      <td>0.710671</td>\n",
       "      <td>0.510451</td>\n",
       "      <td>99180.389373</td>\n",
       "      <td>0.201320</td>\n",
       "    </tr>\n",
       "    <tr>\n",
       "      <th>std</th>\n",
       "      <td>7.511225e+04</td>\n",
       "      <td>99.079381</td>\n",
       "      <td>9.785438</td>\n",
       "      <td>NaN</td>\n",
       "      <td>63105.690715</td>\n",
       "      <td>0.588452</td>\n",
       "      <td>0.453701</td>\n",
       "      <td>0.500166</td>\n",
       "      <td>56378.063765</td>\n",
       "      <td>0.401207</td>\n",
       "    </tr>\n",
       "    <tr>\n",
       "      <th>min</th>\n",
       "      <td>1.556581e+07</td>\n",
       "      <td>359.000000</td>\n",
       "      <td>18.000000</td>\n",
       "      <td>NaN</td>\n",
       "      <td>0.000000</td>\n",
       "      <td>1.000000</td>\n",
       "      <td>0.000000</td>\n",
       "      <td>0.000000</td>\n",
       "      <td>106.670000</td>\n",
       "      <td>0.000000</td>\n",
       "    </tr>\n",
       "    <tr>\n",
       "      <th>25%</th>\n",
       "      <td>1.562658e+07</td>\n",
       "      <td>580.000000</td>\n",
       "      <td>32.000000</td>\n",
       "      <td>NaN</td>\n",
       "      <td>0.000000</td>\n",
       "      <td>1.000000</td>\n",
       "      <td>0.000000</td>\n",
       "      <td>0.000000</td>\n",
       "      <td>49872.330000</td>\n",
       "      <td>0.000000</td>\n",
       "    </tr>\n",
       "    <tr>\n",
       "      <th>50%</th>\n",
       "      <td>1.568687e+07</td>\n",
       "      <td>647.000000</td>\n",
       "      <td>37.000000</td>\n",
       "      <td>NaN</td>\n",
       "      <td>96674.550000</td>\n",
       "      <td>1.000000</td>\n",
       "      <td>1.000000</td>\n",
       "      <td>1.000000</td>\n",
       "      <td>99444.020000</td>\n",
       "      <td>0.000000</td>\n",
       "    </tr>\n",
       "    <tr>\n",
       "      <th>75%</th>\n",
       "      <td>1.575680e+07</td>\n",
       "      <td>718.000000</td>\n",
       "      <td>43.000000</td>\n",
       "      <td>NaN</td>\n",
       "      <td>128554.980000</td>\n",
       "      <td>2.000000</td>\n",
       "      <td>1.000000</td>\n",
       "      <td>1.000000</td>\n",
       "      <td>145759.700000</td>\n",
       "      <td>0.000000</td>\n",
       "    </tr>\n",
       "    <tr>\n",
       "      <th>max</th>\n",
       "      <td>1.581569e+07</td>\n",
       "      <td>850.000000</td>\n",
       "      <td>92.000000</td>\n",
       "      <td>NaN</td>\n",
       "      <td>206663.750000</td>\n",
       "      <td>4.000000</td>\n",
       "      <td>1.000000</td>\n",
       "      <td>1.000000</td>\n",
       "      <td>199390.450000</td>\n",
       "      <td>1.000000</td>\n",
       "    </tr>\n",
       "  </tbody>\n",
       "</table>\n",
       "</div>"
      ],
      "text/plain": [
       "        customer_id  credit_score         age  tenure        balance  \\\n",
       "count  9.090000e+02    909.000000  909.000000     0.0     909.000000   \n",
       "mean   1.568981e+07    648.451045   38.647965     NaN   76117.341474   \n",
       "std    7.511225e+04     99.079381    9.785438     NaN   63105.690715   \n",
       "min    1.556581e+07    359.000000   18.000000     NaN       0.000000   \n",
       "25%    1.562658e+07    580.000000   32.000000     NaN       0.000000   \n",
       "50%    1.568687e+07    647.000000   37.000000     NaN   96674.550000   \n",
       "75%    1.575680e+07    718.000000   43.000000     NaN  128554.980000   \n",
       "max    1.581569e+07    850.000000   92.000000     NaN  206663.750000   \n",
       "\n",
       "       num_of_products  has_cr_card  is_active_member  estimated_salary  \\\n",
       "count       909.000000   909.000000        909.000000        909.000000   \n",
       "mean          1.530253     0.710671          0.510451      99180.389373   \n",
       "std           0.588452     0.453701          0.500166      56378.063765   \n",
       "min           1.000000     0.000000          0.000000        106.670000   \n",
       "25%           1.000000     0.000000          0.000000      49872.330000   \n",
       "50%           1.000000     1.000000          1.000000      99444.020000   \n",
       "75%           2.000000     1.000000          1.000000     145759.700000   \n",
       "max           4.000000     1.000000          1.000000     199390.450000   \n",
       "\n",
       "           exited  \n",
       "count  909.000000  \n",
       "mean     0.201320  \n",
       "std      0.401207  \n",
       "min      0.000000  \n",
       "25%      0.000000  \n",
       "50%      0.000000  \n",
       "75%      0.000000  \n",
       "max      1.000000  "
      ]
     },
     "execution_count": 11,
     "metadata": {},
     "output_type": "execute_result"
    }
   ],
   "source": [
    "filter_isna = pd.isna(df['tenure'])\n",
    "df.query('@filter_isna').describe()"
   ]
  },
  {
   "cell_type": "markdown",
   "metadata": {},
   "source": [
    "На первый взгляд каких-то значимых отличий данных с пропусками от общего датасета не видно.\n",
    "Проверим долю ушедших клиентов в общем датасете и среди клиентов с пропусками данных."
   ]
  },
  {
   "cell_type": "code",
   "execution_count": 12,
   "metadata": {},
   "outputs": [
    {
     "data": {
      "text/plain": [
       "0.2037"
      ]
     },
     "execution_count": 12,
     "metadata": {},
     "output_type": "execute_result"
    }
   ],
   "source": [
    "df['exited'].sum()/len(df['exited'])"
   ]
  },
  {
   "cell_type": "code",
   "execution_count": 13,
   "metadata": {},
   "outputs": [
    {
     "data": {
      "text/plain": [
       "0.20132013201320131"
      ]
     },
     "execution_count": 13,
     "metadata": {},
     "output_type": "execute_result"
    }
   ],
   "source": [
    "df.query('@filter_isna')['exited'].sum()/len(df.query('@filter_isna')['exited'])"
   ]
  },
  {
   "cell_type": "code",
   "execution_count": 14,
   "metadata": {},
   "outputs": [
    {
     "data": {
      "text/plain": [
       "count    9091.000000\n",
       "mean        4.997690\n",
       "std         2.894723\n",
       "min         0.000000\n",
       "25%         2.000000\n",
       "50%         5.000000\n",
       "75%         7.000000\n",
       "max        10.000000\n",
       "Name: tenure, dtype: float64"
      ]
     },
     "execution_count": 14,
     "metadata": {},
     "output_type": "execute_result"
    }
   ],
   "source": [
    "df['tenure'].describe()"
   ]
  },
  {
   "cell_type": "code",
   "execution_count": 15,
   "metadata": {},
   "outputs": [],
   "source": [
    "#df['tenure'].fillna(df['tenure'].median(), inplace=True)\n",
    "df['tenure'].fillna(np.random.choice(df['tenure'][~df['tenure'].isna()]),inplace = True)"
   ]
  },
  {
   "cell_type": "code",
   "execution_count": 16,
   "metadata": {},
   "outputs": [
    {
     "data": {
      "text/plain": [
       "count    10000.000000\n",
       "mean         5.270600\n",
       "std          2.891818\n",
       "min          0.000000\n",
       "25%          3.000000\n",
       "50%          5.000000\n",
       "75%          8.000000\n",
       "max         10.000000\n",
       "Name: tenure, dtype: float64"
      ]
     },
     "execution_count": 16,
     "metadata": {},
     "output_type": "execute_result"
    }
   ],
   "source": [
    "df['tenure'].describe()"
   ]
  },
  {
   "cell_type": "code",
   "execution_count": 17,
   "metadata": {},
   "outputs": [
    {
     "name": "stdout",
     "output_type": "stream",
     "text": [
      "<class 'pandas.core.frame.DataFrame'>\n",
      "RangeIndex: 10000 entries, 0 to 9999\n",
      "Data columns (total 12 columns):\n",
      " #   Column            Non-Null Count  Dtype  \n",
      "---  ------            --------------  -----  \n",
      " 0   customer_id       10000 non-null  int64  \n",
      " 1   credit_score      10000 non-null  int64  \n",
      " 2   geography         10000 non-null  object \n",
      " 3   gender            10000 non-null  object \n",
      " 4   age               10000 non-null  int64  \n",
      " 5   tenure            10000 non-null  float64\n",
      " 6   balance           10000 non-null  float64\n",
      " 7   num_of_products   10000 non-null  int64  \n",
      " 8   has_cr_card       10000 non-null  int64  \n",
      " 9   is_active_member  10000 non-null  int64  \n",
      " 10  estimated_salary  10000 non-null  float64\n",
      " 11  exited            10000 non-null  int64  \n",
      "dtypes: float64(3), int64(7), object(2)\n",
      "memory usage: 937.6+ KB\n"
     ]
    }
   ],
   "source": [
    "df.info()"
   ]
  },
  {
   "cell_type": "markdown",
   "metadata": {},
   "source": [
    "<div class=\"alert alert-block alert-success\">\n",
    "<b>V2 ✔️ Успешно исправлено</b>\n",
    "</div>"
   ]
  },
  {
   "cell_type": "markdown",
   "metadata": {},
   "source": [
    "Изменяем типы данных в столбцах. "
   ]
  },
  {
   "cell_type": "code",
   "execution_count": 18,
   "metadata": {},
   "outputs": [],
   "source": [
    "df['credit_score'] = df['credit_score'].astype('int16')\n",
    "df[['age','tenure',\n",
    "    'num_of_products',\n",
    "    'has_cr_card',\n",
    "    'is_active_member',\n",
    "     'exited']] = df[['age','tenure','num_of_products',\n",
    "                               'has_cr_card','is_active_member','exited']].astype('int8')"
   ]
  },
  {
   "cell_type": "code",
   "execution_count": 19,
   "metadata": {
    "scrolled": true
   },
   "outputs": [
    {
     "data": {
      "text/plain": [
       "0"
      ]
     },
     "execution_count": 19,
     "metadata": {},
     "output_type": "execute_result"
    }
   ],
   "source": [
    "df.duplicated().sum()"
   ]
  },
  {
   "cell_type": "markdown",
   "metadata": {},
   "source": [
    "Дубликатов не обнаружено. "
   ]
  },
  {
   "cell_type": "code",
   "execution_count": 20,
   "metadata": {},
   "outputs": [
    {
     "name": "stdout",
     "output_type": "stream",
     "text": [
      "<class 'pandas.core.frame.DataFrame'>\n",
      "RangeIndex: 10000 entries, 0 to 9999\n",
      "Data columns (total 12 columns):\n",
      " #   Column            Non-Null Count  Dtype  \n",
      "---  ------            --------------  -----  \n",
      " 0   customer_id       10000 non-null  int64  \n",
      " 1   credit_score      10000 non-null  int16  \n",
      " 2   geography         10000 non-null  object \n",
      " 3   gender            10000 non-null  object \n",
      " 4   age               10000 non-null  int8   \n",
      " 5   tenure            10000 non-null  int8   \n",
      " 6   balance           10000 non-null  float64\n",
      " 7   num_of_products   10000 non-null  int8   \n",
      " 8   has_cr_card       10000 non-null  int8   \n",
      " 9   is_active_member  10000 non-null  int8   \n",
      " 10  estimated_salary  10000 non-null  float64\n",
      " 11  exited            10000 non-null  int8   \n",
      "dtypes: float64(2), int16(1), int64(1), int8(6), object(2)\n",
      "memory usage: 468.9+ KB\n"
     ]
    }
   ],
   "source": [
    "df.info()"
   ]
  },
  {
   "cell_type": "markdown",
   "metadata": {},
   "source": [
    "##### Вывод\n",
    "\n",
    "Предобработка данных завершена. \n",
    "- Исправлены названия столбцов;\n",
    "- Столбцы с нумерацией строк и фамилтями клиентов былы удалены, поскольку они дублировали индекс датафрейма;\n",
    "- Пропуски в столбце 'tenure' заменены на медианное значение;\n",
    "- Типы данных в нескольких столбцах изменены, что позволило существенно уменьшить использование памяти. \n"
   ]
  },
  {
   "cell_type": "markdown",
   "metadata": {},
   "source": [
    "## Исследование задачи"
   ]
  },
  {
   "cell_type": "markdown",
   "metadata": {},
   "source": [
    "Прежде чем переходить к созданию модели,  ознакомимся с данными несколько подробнее. Посмотрим какие параметры наиболее существенно отличаются в срезе ушедших клиентов. Для этого создадим срез с информацией об ушедших клиентах и сравним его с оставшимися и общей выборкой. "
   ]
  },
  {
   "cell_type": "code",
   "execution_count": 21,
   "metadata": {},
   "outputs": [],
   "source": [
    "df_exited = df.query('exited==1')\n",
    "describe_exited = df_exited.describe()\n",
    "df_remaining = df.query('exited!=1')\n",
    "describe_remaining = df_remaining.describe()\n",
    "describe_total = df.describe()"
   ]
  },
  {
   "cell_type": "code",
   "execution_count": 22,
   "metadata": {},
   "outputs": [
    {
     "data": {
      "text/plain": [
       "Index(['customer_id', 'credit_score', 'age', 'tenure', 'balance',\n",
       "       'num_of_products', 'has_cr_card', 'is_active_member',\n",
       "       'estimated_salary', 'exited'],\n",
       "      dtype='object')"
      ]
     },
     "execution_count": 22,
     "metadata": {},
     "output_type": "execute_result"
    }
   ],
   "source": [
    "describe_total.columns"
   ]
  },
  {
   "cell_type": "markdown",
   "metadata": {},
   "source": [
    "###### Кредитный рейтинг"
   ]
  },
  {
   "cell_type": "code",
   "execution_count": 23,
   "metadata": {
    "scrolled": true
   },
   "outputs": [
    {
     "data": {
      "text/html": [
       "<div>\n",
       "<style scoped>\n",
       "    .dataframe tbody tr th:only-of-type {\n",
       "        vertical-align: middle;\n",
       "    }\n",
       "\n",
       "    .dataframe tbody tr th {\n",
       "        vertical-align: top;\n",
       "    }\n",
       "\n",
       "    .dataframe thead th {\n",
       "        text-align: right;\n",
       "    }\n",
       "</style>\n",
       "<table border=\"1\" class=\"dataframe\">\n",
       "  <thead>\n",
       "    <tr style=\"text-align: right;\">\n",
       "      <th></th>\n",
       "      <th>total</th>\n",
       "      <th>exited</th>\n",
       "      <th>remaining</th>\n",
       "    </tr>\n",
       "  </thead>\n",
       "  <tbody>\n",
       "    <tr>\n",
       "      <th>count</th>\n",
       "      <td>10000.000000</td>\n",
       "      <td>2037.000000</td>\n",
       "      <td>7963.000000</td>\n",
       "    </tr>\n",
       "    <tr>\n",
       "      <th>mean</th>\n",
       "      <td>650.528800</td>\n",
       "      <td>645.351497</td>\n",
       "      <td>651.853196</td>\n",
       "    </tr>\n",
       "    <tr>\n",
       "      <th>std</th>\n",
       "      <td>96.653299</td>\n",
       "      <td>100.321503</td>\n",
       "      <td>95.653837</td>\n",
       "    </tr>\n",
       "    <tr>\n",
       "      <th>min</th>\n",
       "      <td>350.000000</td>\n",
       "      <td>350.000000</td>\n",
       "      <td>405.000000</td>\n",
       "    </tr>\n",
       "    <tr>\n",
       "      <th>25%</th>\n",
       "      <td>584.000000</td>\n",
       "      <td>578.000000</td>\n",
       "      <td>585.000000</td>\n",
       "    </tr>\n",
       "    <tr>\n",
       "      <th>50%</th>\n",
       "      <td>652.000000</td>\n",
       "      <td>646.000000</td>\n",
       "      <td>653.000000</td>\n",
       "    </tr>\n",
       "    <tr>\n",
       "      <th>75%</th>\n",
       "      <td>718.000000</td>\n",
       "      <td>716.000000</td>\n",
       "      <td>718.000000</td>\n",
       "    </tr>\n",
       "    <tr>\n",
       "      <th>max</th>\n",
       "      <td>850.000000</td>\n",
       "      <td>850.000000</td>\n",
       "      <td>850.000000</td>\n",
       "    </tr>\n",
       "  </tbody>\n",
       "</table>\n",
       "</div>"
      ],
      "text/plain": [
       "              total       exited    remaining\n",
       "count  10000.000000  2037.000000  7963.000000\n",
       "mean     650.528800   645.351497   651.853196\n",
       "std       96.653299   100.321503    95.653837\n",
       "min      350.000000   350.000000   405.000000\n",
       "25%      584.000000   578.000000   585.000000\n",
       "50%      652.000000   646.000000   653.000000\n",
       "75%      718.000000   716.000000   718.000000\n",
       "max      850.000000   850.000000   850.000000"
      ]
     },
     "execution_count": 23,
     "metadata": {},
     "output_type": "execute_result"
    }
   ],
   "source": [
    "credit_score = pd.DataFrame()\n",
    "credit_score['total'] = describe_total['credit_score']\n",
    "credit_score['exited'] = describe_exited ['credit_score']\n",
    "credit_score['remaining'] = describe_remaining ['credit_score']\n",
    "credit_score"
   ]
  },
  {
   "cell_type": "markdown",
   "metadata": {},
   "source": [
    "Различия в кредитном рейтинге несущественные, медианный крединый рейтинг ушедших клиентов несколько ниже, однако различие в 7 пунктов для кредитного рейтинга не может быть материальным. "
   ]
  },
  {
   "cell_type": "markdown",
   "metadata": {},
   "source": [
    "######  Возраст клиентов"
   ]
  },
  {
   "cell_type": "code",
   "execution_count": 24,
   "metadata": {},
   "outputs": [
    {
     "data": {
      "text/html": [
       "<div>\n",
       "<style scoped>\n",
       "    .dataframe tbody tr th:only-of-type {\n",
       "        vertical-align: middle;\n",
       "    }\n",
       "\n",
       "    .dataframe tbody tr th {\n",
       "        vertical-align: top;\n",
       "    }\n",
       "\n",
       "    .dataframe thead th {\n",
       "        text-align: right;\n",
       "    }\n",
       "</style>\n",
       "<table border=\"1\" class=\"dataframe\">\n",
       "  <thead>\n",
       "    <tr style=\"text-align: right;\">\n",
       "      <th></th>\n",
       "      <th>total</th>\n",
       "      <th>exited</th>\n",
       "      <th>remaining</th>\n",
       "    </tr>\n",
       "  </thead>\n",
       "  <tbody>\n",
       "    <tr>\n",
       "      <th>count</th>\n",
       "      <td>10000.000000</td>\n",
       "      <td>2037.000000</td>\n",
       "      <td>7963.000000</td>\n",
       "    </tr>\n",
       "    <tr>\n",
       "      <th>mean</th>\n",
       "      <td>38.921800</td>\n",
       "      <td>44.837997</td>\n",
       "      <td>37.408389</td>\n",
       "    </tr>\n",
       "    <tr>\n",
       "      <th>std</th>\n",
       "      <td>10.487806</td>\n",
       "      <td>9.761562</td>\n",
       "      <td>10.125363</td>\n",
       "    </tr>\n",
       "    <tr>\n",
       "      <th>min</th>\n",
       "      <td>18.000000</td>\n",
       "      <td>18.000000</td>\n",
       "      <td>18.000000</td>\n",
       "    </tr>\n",
       "    <tr>\n",
       "      <th>25%</th>\n",
       "      <td>32.000000</td>\n",
       "      <td>38.000000</td>\n",
       "      <td>31.000000</td>\n",
       "    </tr>\n",
       "    <tr>\n",
       "      <th>50%</th>\n",
       "      <td>37.000000</td>\n",
       "      <td>45.000000</td>\n",
       "      <td>36.000000</td>\n",
       "    </tr>\n",
       "    <tr>\n",
       "      <th>75%</th>\n",
       "      <td>44.000000</td>\n",
       "      <td>51.000000</td>\n",
       "      <td>41.000000</td>\n",
       "    </tr>\n",
       "    <tr>\n",
       "      <th>max</th>\n",
       "      <td>92.000000</td>\n",
       "      <td>84.000000</td>\n",
       "      <td>92.000000</td>\n",
       "    </tr>\n",
       "  </tbody>\n",
       "</table>\n",
       "</div>"
      ],
      "text/plain": [
       "              total       exited    remaining\n",
       "count  10000.000000  2037.000000  7963.000000\n",
       "mean      38.921800    44.837997    37.408389\n",
       "std       10.487806     9.761562    10.125363\n",
       "min       18.000000    18.000000    18.000000\n",
       "25%       32.000000    38.000000    31.000000\n",
       "50%       37.000000    45.000000    36.000000\n",
       "75%       44.000000    51.000000    41.000000\n",
       "max       92.000000    84.000000    92.000000"
      ]
     },
     "execution_count": 24,
     "metadata": {},
     "output_type": "execute_result"
    }
   ],
   "source": [
    "client_age = pd.DataFrame()\n",
    "client_age['total'] = describe_total['age']\n",
    "client_age['exited'] = describe_exited ['age']\n",
    "client_age['remaining'] = describe_remaining ['age']\n",
    "client_age"
   ]
  },
  {
   "cell_type": "markdown",
   "metadata": {},
   "source": [
    "Возраст клиентов, покинувших банк, значимо выше возраста оставшихся. Исключение составляет минимальный возраст - он одинаковый в обеих выборках, что скорее всего обусловленно минимальным возрастом открытия счета, равным 18 годам, и выбросами в максимальном возрасте. \n",
    "\n",
    "Во всех квартилях возраст ушедших клиентов выше возраста оставшихся. Медианное значение - 38 лет для ушедших клиентов и 31 для оставшихся. "
   ]
  },
  {
   "cell_type": "markdown",
   "metadata": {},
   "source": [
    "###### Остаток по счету"
   ]
  },
  {
   "cell_type": "code",
   "execution_count": 25,
   "metadata": {},
   "outputs": [
    {
     "data": {
      "text/html": [
       "<div>\n",
       "<style scoped>\n",
       "    .dataframe tbody tr th:only-of-type {\n",
       "        vertical-align: middle;\n",
       "    }\n",
       "\n",
       "    .dataframe tbody tr th {\n",
       "        vertical-align: top;\n",
       "    }\n",
       "\n",
       "    .dataframe thead th {\n",
       "        text-align: right;\n",
       "    }\n",
       "</style>\n",
       "<table border=\"1\" class=\"dataframe\">\n",
       "  <thead>\n",
       "    <tr style=\"text-align: right;\">\n",
       "      <th></th>\n",
       "      <th>total</th>\n",
       "      <th>exited</th>\n",
       "      <th>remaining</th>\n",
       "    </tr>\n",
       "  </thead>\n",
       "  <tbody>\n",
       "    <tr>\n",
       "      <th>count</th>\n",
       "      <td>10000.000000</td>\n",
       "      <td>2037.000000</td>\n",
       "      <td>7963.000000</td>\n",
       "    </tr>\n",
       "    <tr>\n",
       "      <th>mean</th>\n",
       "      <td>76485.889288</td>\n",
       "      <td>91108.539337</td>\n",
       "      <td>72745.296779</td>\n",
       "    </tr>\n",
       "    <tr>\n",
       "      <th>std</th>\n",
       "      <td>62397.405202</td>\n",
       "      <td>58360.794816</td>\n",
       "      <td>62848.040701</td>\n",
       "    </tr>\n",
       "    <tr>\n",
       "      <th>min</th>\n",
       "      <td>0.000000</td>\n",
       "      <td>0.000000</td>\n",
       "      <td>0.000000</td>\n",
       "    </tr>\n",
       "    <tr>\n",
       "      <th>25%</th>\n",
       "      <td>0.000000</td>\n",
       "      <td>38340.020000</td>\n",
       "      <td>0.000000</td>\n",
       "    </tr>\n",
       "    <tr>\n",
       "      <th>50%</th>\n",
       "      <td>97198.540000</td>\n",
       "      <td>109349.290000</td>\n",
       "      <td>92072.680000</td>\n",
       "    </tr>\n",
       "    <tr>\n",
       "      <th>75%</th>\n",
       "      <td>127644.240000</td>\n",
       "      <td>131433.330000</td>\n",
       "      <td>126410.280000</td>\n",
       "    </tr>\n",
       "    <tr>\n",
       "      <th>max</th>\n",
       "      <td>250898.090000</td>\n",
       "      <td>250898.090000</td>\n",
       "      <td>221532.800000</td>\n",
       "    </tr>\n",
       "  </tbody>\n",
       "</table>\n",
       "</div>"
      ],
      "text/plain": [
       "               total         exited      remaining\n",
       "count   10000.000000    2037.000000    7963.000000\n",
       "mean    76485.889288   91108.539337   72745.296779\n",
       "std     62397.405202   58360.794816   62848.040701\n",
       "min         0.000000       0.000000       0.000000\n",
       "25%         0.000000   38340.020000       0.000000\n",
       "50%     97198.540000  109349.290000   92072.680000\n",
       "75%    127644.240000  131433.330000  126410.280000\n",
       "max    250898.090000  250898.090000  221532.800000"
      ]
     },
     "execution_count": 25,
     "metadata": {},
     "output_type": "execute_result"
    }
   ],
   "source": [
    "balance = pd.DataFrame()\n",
    "balance['total'] = describe_total['balance']\n",
    "balance['exited'] = describe_exited['balance']\n",
    "balance['remaining'] = describe_remaining['balance']\n",
    "balance"
   ]
  },
  {
   "cell_type": "markdown",
   "metadata": {},
   "source": [
    "У ушедших клиентов были большие остатки на счетах. Медиана 109 тыс против 92 тыс у оставшихся. "
   ]
  },
  {
   "cell_type": "markdown",
   "metadata": {},
   "source": [
    "###### Предполагаемая зарплата"
   ]
  },
  {
   "cell_type": "code",
   "execution_count": 26,
   "metadata": {},
   "outputs": [
    {
     "data": {
      "text/html": [
       "<div>\n",
       "<style scoped>\n",
       "    .dataframe tbody tr th:only-of-type {\n",
       "        vertical-align: middle;\n",
       "    }\n",
       "\n",
       "    .dataframe tbody tr th {\n",
       "        vertical-align: top;\n",
       "    }\n",
       "\n",
       "    .dataframe thead th {\n",
       "        text-align: right;\n",
       "    }\n",
       "</style>\n",
       "<table border=\"1\" class=\"dataframe\">\n",
       "  <thead>\n",
       "    <tr style=\"text-align: right;\">\n",
       "      <th></th>\n",
       "      <th>total</th>\n",
       "      <th>exited</th>\n",
       "      <th>remaining</th>\n",
       "    </tr>\n",
       "  </thead>\n",
       "  <tbody>\n",
       "    <tr>\n",
       "      <th>count</th>\n",
       "      <td>10000.000000</td>\n",
       "      <td>2037.000000</td>\n",
       "      <td>7963.000000</td>\n",
       "    </tr>\n",
       "    <tr>\n",
       "      <th>mean</th>\n",
       "      <td>100090.239881</td>\n",
       "      <td>101465.677531</td>\n",
       "      <td>99738.391772</td>\n",
       "    </tr>\n",
       "    <tr>\n",
       "      <th>std</th>\n",
       "      <td>57510.492818</td>\n",
       "      <td>57912.418071</td>\n",
       "      <td>57405.586966</td>\n",
       "    </tr>\n",
       "    <tr>\n",
       "      <th>min</th>\n",
       "      <td>11.580000</td>\n",
       "      <td>11.580000</td>\n",
       "      <td>90.070000</td>\n",
       "    </tr>\n",
       "    <tr>\n",
       "      <th>25%</th>\n",
       "      <td>51002.110000</td>\n",
       "      <td>51907.720000</td>\n",
       "      <td>50783.490000</td>\n",
       "    </tr>\n",
       "    <tr>\n",
       "      <th>50%</th>\n",
       "      <td>100193.915000</td>\n",
       "      <td>102460.840000</td>\n",
       "      <td>99645.040000</td>\n",
       "    </tr>\n",
       "    <tr>\n",
       "      <th>75%</th>\n",
       "      <td>149388.247500</td>\n",
       "      <td>152422.910000</td>\n",
       "      <td>148609.955000</td>\n",
       "    </tr>\n",
       "    <tr>\n",
       "      <th>max</th>\n",
       "      <td>199992.480000</td>\n",
       "      <td>199808.100000</td>\n",
       "      <td>199992.480000</td>\n",
       "    </tr>\n",
       "  </tbody>\n",
       "</table>\n",
       "</div>"
      ],
      "text/plain": [
       "               total         exited      remaining\n",
       "count   10000.000000    2037.000000    7963.000000\n",
       "mean   100090.239881  101465.677531   99738.391772\n",
       "std     57510.492818   57912.418071   57405.586966\n",
       "min        11.580000      11.580000      90.070000\n",
       "25%     51002.110000   51907.720000   50783.490000\n",
       "50%    100193.915000  102460.840000   99645.040000\n",
       "75%    149388.247500  152422.910000  148609.955000\n",
       "max    199992.480000  199808.100000  199992.480000"
      ]
     },
     "execution_count": 26,
     "metadata": {},
     "output_type": "execute_result"
    }
   ],
   "source": [
    "salary = pd.DataFrame()\n",
    "salary['total'] = describe_total['estimated_salary']\n",
    "salary['exited'] = describe_exited['estimated_salary']\n",
    "salary['remaining'] = describe_remaining['estimated_salary']\n",
    "salary"
   ]
  },
  {
   "cell_type": "markdown",
   "metadata": {},
   "source": [
    "Различия в уровне зарплат есть но оно несущественно. Более высокое значение уровня доходов ушедших клиентов может быть обусловленно возрастными различиями. С годами люди, как правило, зарабатывают больше. "
   ]
  },
  {
   "cell_type": "code",
   "execution_count": 27,
   "metadata": {},
   "outputs": [
    {
     "data": {
      "text/plain": [
       "Index(['customer_id', 'credit_score', 'geography', 'gender', 'age', 'tenure',\n",
       "       'balance', 'num_of_products', 'has_cr_card', 'is_active_member',\n",
       "       'estimated_salary', 'exited'],\n",
       "      dtype='object')"
      ]
     },
     "execution_count": 27,
     "metadata": {},
     "output_type": "execute_result"
    }
   ],
   "source": [
    "df.columns"
   ]
  },
  {
   "cell_type": "code",
   "execution_count": 28,
   "metadata": {},
   "outputs": [
    {
     "data": {
      "text/plain": [
       "France     5014\n",
       "Germany    2509\n",
       "Spain      2477\n",
       "Name: geography, dtype: int64"
      ]
     },
     "execution_count": 28,
     "metadata": {},
     "output_type": "execute_result"
    }
   ],
   "source": [
    "count_countries = df['geography'].value_counts()\n",
    "count_countries"
   ]
  },
  {
   "cell_type": "code",
   "execution_count": 29,
   "metadata": {},
   "outputs": [
    {
     "data": {
      "text/plain": [
       "geography\n",
       "France     810.0\n",
       "Germany    814.0\n",
       "Spain      413.0\n",
       "Name: exited, dtype: float64"
      ]
     },
     "execution_count": 29,
     "metadata": {},
     "output_type": "execute_result"
    }
   ],
   "source": [
    "geography = (df.groupby('geography')['exited'].agg('sum'))\n",
    "geography"
   ]
  },
  {
   "cell_type": "code",
   "execution_count": 30,
   "metadata": {},
   "outputs": [
    {
     "data": {
      "text/plain": [
       "geography\n",
       "France     0.161548\n",
       "Germany    0.324432\n",
       "Spain      0.166734\n",
       "dtype: float64"
      ]
     },
     "execution_count": 30,
     "metadata": {},
     "output_type": "execute_result"
    }
   ],
   "source": [
    "geography = geography/count_countries\n",
    "geography"
   ]
  },
  {
   "cell_type": "markdown",
   "metadata": {},
   "source": [
    "Среди немецких клиентов доля, клиентов ушедших из банка превышает среднее значение по выборке и в два раза превышает churn rate среди французких и испанских клиентов. "
   ]
  },
  {
   "cell_type": "code",
   "execution_count": 31,
   "metadata": {},
   "outputs": [
    {
     "data": {
      "text/plain": [
       "Male      5457\n",
       "Female    4543\n",
       "Name: gender, dtype: int64"
      ]
     },
     "execution_count": 31,
     "metadata": {},
     "output_type": "execute_result"
    }
   ],
   "source": [
    "count_gender = df['gender'].value_counts()\n",
    "count_gender"
   ]
  },
  {
   "cell_type": "code",
   "execution_count": 32,
   "metadata": {},
   "outputs": [
    {
     "data": {
      "text/plain": [
       "gender\n",
       "Female    1139.0\n",
       "Male       898.0\n",
       "Name: exited, dtype: float64"
      ]
     },
     "execution_count": 32,
     "metadata": {},
     "output_type": "execute_result"
    }
   ],
   "source": [
    "gender = df.groupby('gender')['exited'].agg('sum')\n",
    "gender"
   ]
  },
  {
   "cell_type": "code",
   "execution_count": 33,
   "metadata": {},
   "outputs": [
    {
     "data": {
      "text/plain": [
       "Female    0.250715\n",
       "Male      0.164559\n",
       "dtype: float64"
      ]
     },
     "execution_count": 33,
     "metadata": {},
     "output_type": "execute_result"
    }
   ],
   "source": [
    "gender = gender/count_gender\n",
    "gender"
   ]
  },
  {
   "cell_type": "markdown",
   "metadata": {},
   "source": [
    "Churn rate среди женщин выше чем среди мужчин. Однако различия не столь существенны как при распределении по странам. А что с Германией?"
   ]
  },
  {
   "cell_type": "code",
   "execution_count": 34,
   "metadata": {},
   "outputs": [
    {
     "data": {
      "text/plain": [
       "Male      1316\n",
       "Female    1193\n",
       "Name: gender, dtype: int64"
      ]
     },
     "execution_count": 34,
     "metadata": {},
     "output_type": "execute_result"
    }
   ],
   "source": [
    "gender_germany = df.query('geography ==\"Germany\"')['gender'].value_counts()\n",
    "gender_germany"
   ]
  },
  {
   "cell_type": "code",
   "execution_count": 35,
   "metadata": {},
   "outputs": [
    {
     "data": {
      "text/plain": [
       "Female    0.375524\n",
       "Male      0.278116\n",
       "Name: gender, dtype: float64"
      ]
     },
     "execution_count": 35,
     "metadata": {},
     "output_type": "execute_result"
    }
   ],
   "source": [
    "gender_germany_exit = df.query('geography ==\"Germany\" and exited==1')['gender'].value_counts()\n",
    "gender_germany_exit/gender_germany\n"
   ]
  },
  {
   "cell_type": "markdown",
   "metadata": {},
   "source": [
    "Немецкие женщины голосуют ногами. 37% churn rate - среди одной специфической страты! Возможно что-то не так с восприятием банка среди женщин, особенно немецких. "
   ]
  },
  {
   "cell_type": "code",
   "execution_count": 36,
   "metadata": {
    "scrolled": true
   },
   "outputs": [
    {
     "data": {
      "text/plain": [
       "1    5084\n",
       "2    4590\n",
       "3     266\n",
       "4      60\n",
       "Name: num_of_products, dtype: int64"
      ]
     },
     "execution_count": 36,
     "metadata": {},
     "output_type": "execute_result"
    }
   ],
   "source": [
    "#распределение по количеству продуктов\n",
    "df['num_of_products'].value_counts()"
   ]
  },
  {
   "cell_type": "code",
   "execution_count": 37,
   "metadata": {},
   "outputs": [
    {
     "data": {
      "text/plain": [
       "num_of_products\n",
       "1    0.277144\n",
       "2    0.075817\n",
       "3    0.827068\n",
       "4    1.000000\n",
       "dtype: float64"
      ]
     },
     "execution_count": 37,
     "metadata": {},
     "output_type": "execute_result"
    }
   ],
   "source": [
    "products_number = (df.groupby('num_of_products')['exited'].agg('sum'))/(df['num_of_products'].value_counts())\n",
    "products_number"
   ]
  },
  {
   "cell_type": "markdown",
   "metadata": {},
   "source": [
    "Клиентов с 3 и 4 продуктами немного, но по ним churn_rate очень высокий. Самыми лояльными оказались клиенты с двумя продуктами - среди таких клиентов всего 7.5% отказников. \n"
   ]
  },
  {
   "cell_type": "code",
   "execution_count": 38,
   "metadata": {},
   "outputs": [
    {
     "data": {
      "text/plain": [
       "8     1842\n",
       "1      952\n",
       "2      950\n",
       "3      928\n",
       "5      927\n",
       "7      925\n",
       "4      885\n",
       "9      882\n",
       "6      881\n",
       "10     446\n",
       "0      382\n",
       "Name: tenure, dtype: int64"
      ]
     },
     "execution_count": 38,
     "metadata": {},
     "output_type": "execute_result"
    }
   ],
   "source": [
    "#распределение по сроку обуслуживания \n",
    "df['tenure'].value_counts()"
   ]
  },
  {
   "cell_type": "code",
   "execution_count": 39,
   "metadata": {},
   "outputs": [
    {
     "data": {
      "text/plain": [
       "0     0.235602\n",
       "1     0.223739\n",
       "2     0.194737\n",
       "3     0.213362\n",
       "4     0.207910\n",
       "5     0.201726\n",
       "6     0.200908\n",
       "7     0.172973\n",
       "8     0.193811\n",
       "9     0.219955\n",
       "10    0.206278\n",
       "dtype: float64"
      ]
     },
     "execution_count": 39,
     "metadata": {},
     "output_type": "execute_result"
    }
   ],
   "source": [
    "tenure_group = (df.groupby('tenure')['exited'].agg('sum'))/(df['tenure'].value_counts())\n",
    "tenure_group"
   ]
  },
  {
   "cell_type": "markdown",
   "metadata": {},
   "source": [
    "Явных выбросов churn rate в зависимости от срока обслуживания не обнаружено. "
   ]
  },
  {
   "cell_type": "code",
   "execution_count": 40,
   "metadata": {},
   "outputs": [
    {
     "data": {
      "text/plain": [
       "1    7055\n",
       "0    2945\n",
       "Name: has_cr_card, dtype: int64"
      ]
     },
     "execution_count": 40,
     "metadata": {},
     "output_type": "execute_result"
    }
   ],
   "source": [
    "# в зависимости от наличия крединой карты 'has_cr_card'\n",
    "df['has_cr_card'].value_counts()"
   ]
  },
  {
   "cell_type": "code",
   "execution_count": 41,
   "metadata": {},
   "outputs": [
    {
     "data": {
      "text/plain": [
       "0    0.208149\n",
       "1    0.201843\n",
       "dtype: float64"
      ]
     },
     "execution_count": 41,
     "metadata": {},
     "output_type": "execute_result"
    }
   ],
   "source": [
    "credit_card = (df.groupby('has_cr_card')['exited'].agg('sum'))/(df['has_cr_card'].value_counts())\n",
    "credit_card"
   ]
  },
  {
   "cell_type": "markdown",
   "metadata": {},
   "source": [
    "Churn rate клиентов с кредитным картами и без кредитных карт отличается несущественно. "
   ]
  },
  {
   "cell_type": "code",
   "execution_count": 42,
   "metadata": {},
   "outputs": [
    {
     "data": {
      "text/plain": [
       "1    5151\n",
       "0    4849\n",
       "Name: is_active_member, dtype: int64"
      ]
     },
     "execution_count": 42,
     "metadata": {},
     "output_type": "execute_result"
    }
   ],
   "source": [
    "# в зависимость от активности 'is_active_member'\n",
    "df['is_active_member'].value_counts()\n"
   ]
  },
  {
   "cell_type": "code",
   "execution_count": 43,
   "metadata": {},
   "outputs": [
    {
     "data": {
      "text/plain": [
       "0    0.268509\n",
       "1    0.142691\n",
       "dtype: float64"
      ]
     },
     "execution_count": 43,
     "metadata": {},
     "output_type": "execute_result"
    }
   ],
   "source": [
    "active_member = (df.groupby('is_active_member')['exited'].agg('sum'))/(df['is_active_member'].value_counts())\n",
    "active_member"
   ]
  },
  {
   "cell_type": "code",
   "execution_count": 44,
   "metadata": {},
   "outputs": [
    {
     "data": {
      "text/html": [
       "<div>\n",
       "<style scoped>\n",
       "    .dataframe tbody tr th:only-of-type {\n",
       "        vertical-align: middle;\n",
       "    }\n",
       "\n",
       "    .dataframe tbody tr th {\n",
       "        vertical-align: top;\n",
       "    }\n",
       "\n",
       "    .dataframe thead th {\n",
       "        text-align: right;\n",
       "    }\n",
       "</style>\n",
       "<table border=\"1\" class=\"dataframe\">\n",
       "  <thead>\n",
       "    <tr style=\"text-align: right;\">\n",
       "      <th></th>\n",
       "      <th>customer_id</th>\n",
       "      <th>credit_score</th>\n",
       "      <th>geography</th>\n",
       "      <th>gender</th>\n",
       "      <th>age</th>\n",
       "      <th>tenure</th>\n",
       "      <th>balance</th>\n",
       "      <th>num_of_products</th>\n",
       "      <th>has_cr_card</th>\n",
       "      <th>is_active_member</th>\n",
       "      <th>estimated_salary</th>\n",
       "      <th>exited</th>\n",
       "    </tr>\n",
       "  </thead>\n",
       "  <tbody>\n",
       "    <tr>\n",
       "      <th>0</th>\n",
       "      <td>15634602</td>\n",
       "      <td>619</td>\n",
       "      <td>France</td>\n",
       "      <td>Female</td>\n",
       "      <td>42</td>\n",
       "      <td>2</td>\n",
       "      <td>0.00</td>\n",
       "      <td>1</td>\n",
       "      <td>1</td>\n",
       "      <td>1</td>\n",
       "      <td>101348.88</td>\n",
       "      <td>1</td>\n",
       "    </tr>\n",
       "    <tr>\n",
       "      <th>1</th>\n",
       "      <td>15647311</td>\n",
       "      <td>608</td>\n",
       "      <td>Spain</td>\n",
       "      <td>Female</td>\n",
       "      <td>41</td>\n",
       "      <td>1</td>\n",
       "      <td>83807.86</td>\n",
       "      <td>1</td>\n",
       "      <td>0</td>\n",
       "      <td>1</td>\n",
       "      <td>112542.58</td>\n",
       "      <td>0</td>\n",
       "    </tr>\n",
       "    <tr>\n",
       "      <th>2</th>\n",
       "      <td>15619304</td>\n",
       "      <td>502</td>\n",
       "      <td>France</td>\n",
       "      <td>Female</td>\n",
       "      <td>42</td>\n",
       "      <td>8</td>\n",
       "      <td>159660.80</td>\n",
       "      <td>3</td>\n",
       "      <td>1</td>\n",
       "      <td>0</td>\n",
       "      <td>113931.57</td>\n",
       "      <td>1</td>\n",
       "    </tr>\n",
       "    <tr>\n",
       "      <th>3</th>\n",
       "      <td>15701354</td>\n",
       "      <td>699</td>\n",
       "      <td>France</td>\n",
       "      <td>Female</td>\n",
       "      <td>39</td>\n",
       "      <td>1</td>\n",
       "      <td>0.00</td>\n",
       "      <td>2</td>\n",
       "      <td>0</td>\n",
       "      <td>0</td>\n",
       "      <td>93826.63</td>\n",
       "      <td>0</td>\n",
       "    </tr>\n",
       "    <tr>\n",
       "      <th>4</th>\n",
       "      <td>15737888</td>\n",
       "      <td>850</td>\n",
       "      <td>Spain</td>\n",
       "      <td>Female</td>\n",
       "      <td>43</td>\n",
       "      <td>2</td>\n",
       "      <td>125510.82</td>\n",
       "      <td>1</td>\n",
       "      <td>1</td>\n",
       "      <td>1</td>\n",
       "      <td>79084.10</td>\n",
       "      <td>0</td>\n",
       "    </tr>\n",
       "  </tbody>\n",
       "</table>\n",
       "</div>"
      ],
      "text/plain": [
       "   customer_id  credit_score geography  gender  age  tenure    balance  \\\n",
       "0     15634602           619    France  Female   42       2       0.00   \n",
       "1     15647311           608     Spain  Female   41       1   83807.86   \n",
       "2     15619304           502    France  Female   42       8  159660.80   \n",
       "3     15701354           699    France  Female   39       1       0.00   \n",
       "4     15737888           850     Spain  Female   43       2  125510.82   \n",
       "\n",
       "   num_of_products  has_cr_card  is_active_member  estimated_salary  exited  \n",
       "0                1            1                 1         101348.88       1  \n",
       "1                1            0                 1         112542.58       0  \n",
       "2                3            1                 0         113931.57       1  \n",
       "3                2            0                 0          93826.63       0  \n",
       "4                1            1                 1          79084.10       0  "
      ]
     },
     "execution_count": 44,
     "metadata": {},
     "output_type": "execute_result"
    }
   ],
   "source": [
    "df.head()"
   ]
  },
  {
   "cell_type": "markdown",
   "metadata": {},
   "source": [
    "Churn rate среди активных клиентов существенно ниже чем среди неактивных клиентов."
   ]
  },
  {
   "cell_type": "markdown",
   "metadata": {},
   "source": [
    "##### Вывод\n",
    "\n",
    "* Больший процент уходящих клиентов обнаружен:\n",
    "- среди немецких клиентов,\n",
    "- среди женщин, \n",
    "- людей среднего возраста,\n",
    "- неактивных клиентов, \n",
    "- пользующихся либо одним, либо 3-4 продуктами, \n",
    "- клиентов с бОльшими отстатками на счетах. \n",
    "\n",
    "* В то же время, уровень кредитного рейтинга, срок обслуживания, наличие кредитной карты и уровень зарплаты не оказывает материального влияния на лояльность клиентов.\n",
    "\n",
    "С учетом полученных результатов построим модели для полного датасета, включающего данные всех столбцов, и для среза, включающего данные столбцов, данные которых имеют выраженные различия для ушедших и оставшихся клиентов. В срез войдут следующие столбцы:\n",
    "'geography', 'gender', 'age', 'balance', 'num_of_products',  'is_active_member','estimated_salary', 'exited'. \n",
    "\n",
    "\n",
    "\n",
    "*  Имеет место существенный дисбаланс - на долю клиентов, покинувших банк приходится 20% датасета. \n",
    "*  В двух столбцах имеются категориальные переменные в формате object, их необходимо перевести в числовой формат. Речь идет о следующих столбцах: \n",
    "- geography\n",
    "- gender\n",
    "\n"
   ]
  },
  {
   "cell_type": "markdown",
   "metadata": {},
   "source": [
    "##### Подготовка данных для работы\n",
    "\n",
    "###### Преобразование категориальных данных \n",
    "\n",
    "Преобразуем категориальные переменные в формате objects в числовые методом прямого кодирования. Метод порядкового кодирования не подойдет для модели логистической регрессии.\n",
    "\n",
    "Перед тем, как перейти к преобразованиям, обратим внимание, что столбец 'customer_id' не содержит данных, влияющих на результат. Имеет смысл сохранить данные из этого столбца в качестве индекса. "
   ]
  },
  {
   "cell_type": "code",
   "execution_count": 45,
   "metadata": {},
   "outputs": [],
   "source": [
    "df.set_index('customer_id', inplace=True)"
   ]
  },
  {
   "cell_type": "code",
   "execution_count": 46,
   "metadata": {},
   "outputs": [
    {
     "data": {
      "text/html": [
       "<div>\n",
       "<style scoped>\n",
       "    .dataframe tbody tr th:only-of-type {\n",
       "        vertical-align: middle;\n",
       "    }\n",
       "\n",
       "    .dataframe tbody tr th {\n",
       "        vertical-align: top;\n",
       "    }\n",
       "\n",
       "    .dataframe thead th {\n",
       "        text-align: right;\n",
       "    }\n",
       "</style>\n",
       "<table border=\"1\" class=\"dataframe\">\n",
       "  <thead>\n",
       "    <tr style=\"text-align: right;\">\n",
       "      <th></th>\n",
       "      <th>credit_score</th>\n",
       "      <th>geography</th>\n",
       "      <th>gender</th>\n",
       "      <th>age</th>\n",
       "      <th>tenure</th>\n",
       "      <th>balance</th>\n",
       "      <th>num_of_products</th>\n",
       "      <th>has_cr_card</th>\n",
       "      <th>is_active_member</th>\n",
       "      <th>estimated_salary</th>\n",
       "      <th>exited</th>\n",
       "    </tr>\n",
       "    <tr>\n",
       "      <th>customer_id</th>\n",
       "      <th></th>\n",
       "      <th></th>\n",
       "      <th></th>\n",
       "      <th></th>\n",
       "      <th></th>\n",
       "      <th></th>\n",
       "      <th></th>\n",
       "      <th></th>\n",
       "      <th></th>\n",
       "      <th></th>\n",
       "      <th></th>\n",
       "    </tr>\n",
       "  </thead>\n",
       "  <tbody>\n",
       "    <tr>\n",
       "      <th>15634602</th>\n",
       "      <td>619</td>\n",
       "      <td>France</td>\n",
       "      <td>Female</td>\n",
       "      <td>42</td>\n",
       "      <td>2</td>\n",
       "      <td>0.00</td>\n",
       "      <td>1</td>\n",
       "      <td>1</td>\n",
       "      <td>1</td>\n",
       "      <td>101348.88</td>\n",
       "      <td>1</td>\n",
       "    </tr>\n",
       "    <tr>\n",
       "      <th>15647311</th>\n",
       "      <td>608</td>\n",
       "      <td>Spain</td>\n",
       "      <td>Female</td>\n",
       "      <td>41</td>\n",
       "      <td>1</td>\n",
       "      <td>83807.86</td>\n",
       "      <td>1</td>\n",
       "      <td>0</td>\n",
       "      <td>1</td>\n",
       "      <td>112542.58</td>\n",
       "      <td>0</td>\n",
       "    </tr>\n",
       "    <tr>\n",
       "      <th>15619304</th>\n",
       "      <td>502</td>\n",
       "      <td>France</td>\n",
       "      <td>Female</td>\n",
       "      <td>42</td>\n",
       "      <td>8</td>\n",
       "      <td>159660.80</td>\n",
       "      <td>3</td>\n",
       "      <td>1</td>\n",
       "      <td>0</td>\n",
       "      <td>113931.57</td>\n",
       "      <td>1</td>\n",
       "    </tr>\n",
       "    <tr>\n",
       "      <th>15701354</th>\n",
       "      <td>699</td>\n",
       "      <td>France</td>\n",
       "      <td>Female</td>\n",
       "      <td>39</td>\n",
       "      <td>1</td>\n",
       "      <td>0.00</td>\n",
       "      <td>2</td>\n",
       "      <td>0</td>\n",
       "      <td>0</td>\n",
       "      <td>93826.63</td>\n",
       "      <td>0</td>\n",
       "    </tr>\n",
       "    <tr>\n",
       "      <th>15737888</th>\n",
       "      <td>850</td>\n",
       "      <td>Spain</td>\n",
       "      <td>Female</td>\n",
       "      <td>43</td>\n",
       "      <td>2</td>\n",
       "      <td>125510.82</td>\n",
       "      <td>1</td>\n",
       "      <td>1</td>\n",
       "      <td>1</td>\n",
       "      <td>79084.10</td>\n",
       "      <td>0</td>\n",
       "    </tr>\n",
       "  </tbody>\n",
       "</table>\n",
       "</div>"
      ],
      "text/plain": [
       "             credit_score geography  gender  age  tenure    balance  \\\n",
       "customer_id                                                           \n",
       "15634602              619    France  Female   42       2       0.00   \n",
       "15647311              608     Spain  Female   41       1   83807.86   \n",
       "15619304              502    France  Female   42       8  159660.80   \n",
       "15701354              699    France  Female   39       1       0.00   \n",
       "15737888              850     Spain  Female   43       2  125510.82   \n",
       "\n",
       "             num_of_products  has_cr_card  is_active_member  estimated_salary  \\\n",
       "customer_id                                                                     \n",
       "15634602                   1            1                 1         101348.88   \n",
       "15647311                   1            0                 1         112542.58   \n",
       "15619304                   3            1                 0         113931.57   \n",
       "15701354                   2            0                 0          93826.63   \n",
       "15737888                   1            1                 1          79084.10   \n",
       "\n",
       "             exited  \n",
       "customer_id          \n",
       "15634602          1  \n",
       "15647311          0  \n",
       "15619304          1  \n",
       "15701354          0  \n",
       "15737888          0  "
      ]
     },
     "execution_count": 46,
     "metadata": {},
     "output_type": "execute_result"
    }
   ],
   "source": [
    "df.head()"
   ]
  },
  {
   "cell_type": "code",
   "execution_count": 47,
   "metadata": {},
   "outputs": [
    {
     "data": {
      "text/html": [
       "<div>\n",
       "<style scoped>\n",
       "    .dataframe tbody tr th:only-of-type {\n",
       "        vertical-align: middle;\n",
       "    }\n",
       "\n",
       "    .dataframe tbody tr th {\n",
       "        vertical-align: top;\n",
       "    }\n",
       "\n",
       "    .dataframe thead th {\n",
       "        text-align: right;\n",
       "    }\n",
       "</style>\n",
       "<table border=\"1\" class=\"dataframe\">\n",
       "  <thead>\n",
       "    <tr style=\"text-align: right;\">\n",
       "      <th></th>\n",
       "      <th>credit_score</th>\n",
       "      <th>age</th>\n",
       "      <th>tenure</th>\n",
       "      <th>balance</th>\n",
       "      <th>num_of_products</th>\n",
       "      <th>has_cr_card</th>\n",
       "      <th>is_active_member</th>\n",
       "      <th>estimated_salary</th>\n",
       "      <th>exited</th>\n",
       "      <th>geography_Germany</th>\n",
       "      <th>geography_Spain</th>\n",
       "      <th>gender_Male</th>\n",
       "    </tr>\n",
       "    <tr>\n",
       "      <th>customer_id</th>\n",
       "      <th></th>\n",
       "      <th></th>\n",
       "      <th></th>\n",
       "      <th></th>\n",
       "      <th></th>\n",
       "      <th></th>\n",
       "      <th></th>\n",
       "      <th></th>\n",
       "      <th></th>\n",
       "      <th></th>\n",
       "      <th></th>\n",
       "      <th></th>\n",
       "    </tr>\n",
       "  </thead>\n",
       "  <tbody>\n",
       "    <tr>\n",
       "      <th>15634602</th>\n",
       "      <td>619</td>\n",
       "      <td>42</td>\n",
       "      <td>2</td>\n",
       "      <td>0.00</td>\n",
       "      <td>1</td>\n",
       "      <td>1</td>\n",
       "      <td>1</td>\n",
       "      <td>101348.88</td>\n",
       "      <td>1</td>\n",
       "      <td>0</td>\n",
       "      <td>0</td>\n",
       "      <td>0</td>\n",
       "    </tr>\n",
       "    <tr>\n",
       "      <th>15647311</th>\n",
       "      <td>608</td>\n",
       "      <td>41</td>\n",
       "      <td>1</td>\n",
       "      <td>83807.86</td>\n",
       "      <td>1</td>\n",
       "      <td>0</td>\n",
       "      <td>1</td>\n",
       "      <td>112542.58</td>\n",
       "      <td>0</td>\n",
       "      <td>0</td>\n",
       "      <td>1</td>\n",
       "      <td>0</td>\n",
       "    </tr>\n",
       "    <tr>\n",
       "      <th>15619304</th>\n",
       "      <td>502</td>\n",
       "      <td>42</td>\n",
       "      <td>8</td>\n",
       "      <td>159660.80</td>\n",
       "      <td>3</td>\n",
       "      <td>1</td>\n",
       "      <td>0</td>\n",
       "      <td>113931.57</td>\n",
       "      <td>1</td>\n",
       "      <td>0</td>\n",
       "      <td>0</td>\n",
       "      <td>0</td>\n",
       "    </tr>\n",
       "    <tr>\n",
       "      <th>15701354</th>\n",
       "      <td>699</td>\n",
       "      <td>39</td>\n",
       "      <td>1</td>\n",
       "      <td>0.00</td>\n",
       "      <td>2</td>\n",
       "      <td>0</td>\n",
       "      <td>0</td>\n",
       "      <td>93826.63</td>\n",
       "      <td>0</td>\n",
       "      <td>0</td>\n",
       "      <td>0</td>\n",
       "      <td>0</td>\n",
       "    </tr>\n",
       "    <tr>\n",
       "      <th>15737888</th>\n",
       "      <td>850</td>\n",
       "      <td>43</td>\n",
       "      <td>2</td>\n",
       "      <td>125510.82</td>\n",
       "      <td>1</td>\n",
       "      <td>1</td>\n",
       "      <td>1</td>\n",
       "      <td>79084.10</td>\n",
       "      <td>0</td>\n",
       "      <td>0</td>\n",
       "      <td>1</td>\n",
       "      <td>0</td>\n",
       "    </tr>\n",
       "  </tbody>\n",
       "</table>\n",
       "</div>"
      ],
      "text/plain": [
       "             credit_score  age  tenure    balance  num_of_products  \\\n",
       "customer_id                                                          \n",
       "15634602              619   42       2       0.00                1   \n",
       "15647311              608   41       1   83807.86                1   \n",
       "15619304              502   42       8  159660.80                3   \n",
       "15701354              699   39       1       0.00                2   \n",
       "15737888              850   43       2  125510.82                1   \n",
       "\n",
       "             has_cr_card  is_active_member  estimated_salary  exited  \\\n",
       "customer_id                                                            \n",
       "15634602               1                 1         101348.88       1   \n",
       "15647311               0                 1         112542.58       0   \n",
       "15619304               1                 0         113931.57       1   \n",
       "15701354               0                 0          93826.63       0   \n",
       "15737888               1                 1          79084.10       0   \n",
       "\n",
       "             geography_Germany  geography_Spain  gender_Male  \n",
       "customer_id                                                   \n",
       "15634602                     0                0            0  \n",
       "15647311                     0                1            0  \n",
       "15619304                     0                0            0  \n",
       "15701354                     0                0            0  \n",
       "15737888                     0                1            0  "
      ]
     },
     "execution_count": 47,
     "metadata": {},
     "output_type": "execute_result"
    }
   ],
   "source": [
    "#Преобразование категориальных данных методом прямого кодирования\n",
    "df_adjusted = pd.get_dummies(df, drop_first=True)\n",
    "df_adjusted.head()"
   ]
  },
  {
   "cell_type": "markdown",
   "metadata": {},
   "source": [
    "###### Стандратизация данных \n",
    "Проведем стандартизацию данных в столбцах:'credit_score', 'age', 'tenure','balance', 'num_of_products','estimated_salary'. "
   ]
  },
  {
   "cell_type": "code",
   "execution_count": 48,
   "metadata": {},
   "outputs": [],
   "source": [
    "#scaler = StandardScaler()\n",
    "#scaler.fit(df_adjusted[['credit_score',\n",
    "                        #'age', 'tenure',\n",
    "                        #'balance', 'num_of_products',\n",
    "                        #'estimated_salary']])"
   ]
  },
  {
   "cell_type": "code",
   "execution_count": 49,
   "metadata": {},
   "outputs": [],
   "source": [
    "#df_adjusted[['credit_score', 'age', \n",
    "             #'tenure','balance', \n",
    "             #'num_of_products',\n",
    "             #'estimated_salary']] = scaler.transform(df_adjusted[['credit_score', \n",
    "                                                                  #'age', \n",
    "                                                                  #'tenure',\n",
    "                                                                  #'balance', \n",
    "                                                                  #'num_of_products',\n",
    "                                                                  #'estimated_salary']])"
   ]
  },
  {
   "cell_type": "code",
   "execution_count": 50,
   "metadata": {},
   "outputs": [],
   "source": [
    "#df_adjusted.head()"
   ]
  },
  {
   "cell_type": "markdown",
   "metadata": {},
   "source": [
    "Создаем срез, содержащий столбцы, оказывающие наибольшее влияние на результат. "
   ]
  },
  {
   "cell_type": "code",
   "execution_count": 51,
   "metadata": {},
   "outputs": [],
   "source": [
    "df_adjusted_short = df_adjusted[['age', 'balance', 'num_of_products',\n",
    "                                 'is_active_member', 'exited',\n",
    "                                 'geography_Germany', 'geography_Spain', \n",
    "                                 'gender_Male']]"
   ]
  },
  {
   "cell_type": "markdown",
   "metadata": {},
   "source": [
    "###### Вывод\n",
    "Таким образом созданы два датасета - полный датасет, включающий все столбцы первоначального датасета, и сокращенный датасет, включающий только столбцы со значимой информацией, влияющей на целевой показатель. "
   ]
  },
  {
   "cell_type": "markdown",
   "metadata": {},
   "source": [
    "#### Подготовка обучающей, валидационной и тестовой выборок. \n",
    "\n",
    "Разделим датасеты  df_adjusted и df_adjusted_short на три выборки: обучающую, валидационную и тестовую в пропорции 60:20:20. Для этого сначала выделяем тестовую выборку, и из отсавшихся данных выделяем обучающую и валидационную выборки. Для первой итерации параметр test_size - 0.2, для второй - 0.25. В датасете присутсвует значительный дисбаланс, для сохранения пропорции диспаланса целевых данных во всех выборках используем аргумент stratify. "
   ]
  },
  {
   "cell_type": "code",
   "execution_count": 56,
   "metadata": {},
   "outputs": [],
   "source": [
    "df_remaining, df_test = train_test_split(\n",
    "    df_adjusted, test_size=0.20, \n",
    "    random_state=12345, stratify=df_adjusted['exited'])"
   ]
  },
  {
   "cell_type": "code",
   "execution_count": 58,
   "metadata": {},
   "outputs": [],
   "source": [
    "df_train, df_valid = train_test_split(\n",
    "    df_remaining, test_size=0.25, \n",
    "    random_state=12345, stratify=df_remaining['exited'])"
   ]
  },
  {
   "cell_type": "code",
   "execution_count": 59,
   "metadata": {},
   "outputs": [],
   "source": [
    "df_remaining_short, df_test_short = train_test_split(\n",
    "    df_adjusted_short, test_size=0.20, \n",
    "    random_state=12345, stratify=df_adjusted_short['exited'])"
   ]
  },
  {
   "cell_type": "code",
   "execution_count": 61,
   "metadata": {},
   "outputs": [],
   "source": [
    "df_train_short, df_valid_short = train_test_split(\n",
    "    df_remaining_short, test_size=0.25, \n",
    "    random_state=12345, stratify=df_remaining_short['exited'])"
   ]
  },
  {
   "cell_type": "markdown",
   "metadata": {},
   "source": [
    "Проверяем размер выборок методом shape"
   ]
  },
  {
   "cell_type": "code",
   "execution_count": 62,
   "metadata": {},
   "outputs": [
    {
     "data": {
      "text/plain": [
       "(6000, 12)"
      ]
     },
     "execution_count": 62,
     "metadata": {},
     "output_type": "execute_result"
    }
   ],
   "source": [
    "df_train.shape"
   ]
  },
  {
   "cell_type": "code",
   "execution_count": 63,
   "metadata": {},
   "outputs": [
    {
     "data": {
      "text/plain": [
       "(2000, 12)"
      ]
     },
     "execution_count": 63,
     "metadata": {},
     "output_type": "execute_result"
    }
   ],
   "source": [
    "df_valid.shape"
   ]
  },
  {
   "cell_type": "code",
   "execution_count": 64,
   "metadata": {
    "scrolled": false
   },
   "outputs": [
    {
     "data": {
      "text/plain": [
       "(2000, 12)"
      ]
     },
     "execution_count": 64,
     "metadata": {},
     "output_type": "execute_result"
    }
   ],
   "source": [
    "df_test.shape"
   ]
  },
  {
   "cell_type": "code",
   "execution_count": 65,
   "metadata": {},
   "outputs": [
    {
     "data": {
      "text/plain": [
       "(6000, 8)"
      ]
     },
     "execution_count": 65,
     "metadata": {},
     "output_type": "execute_result"
    }
   ],
   "source": [
    "df_train_short.shape"
   ]
  },
  {
   "cell_type": "code",
   "execution_count": 66,
   "metadata": {},
   "outputs": [
    {
     "data": {
      "text/plain": [
       "(2000, 8)"
      ]
     },
     "execution_count": 66,
     "metadata": {},
     "output_type": "execute_result"
    }
   ],
   "source": [
    "df_valid_short.shape"
   ]
  },
  {
   "cell_type": "code",
   "execution_count": 67,
   "metadata": {
    "scrolled": false
   },
   "outputs": [
    {
     "data": {
      "text/plain": [
       "(2000, 8)"
      ]
     },
     "execution_count": 67,
     "metadata": {},
     "output_type": "execute_result"
    }
   ],
   "source": [
    "df_test_short.shape"
   ]
  },
  {
   "cell_type": "markdown",
   "metadata": {},
   "source": [
    "###### Стандратизация данных \n",
    "Проведем стандартизацию данных в столбцах:'credit_score', 'age', 'tenure','balance', 'num_of_products','estimated_salary'. "
   ]
  },
  {
   "cell_type": "code",
   "execution_count": 68,
   "metadata": {},
   "outputs": [
    {
     "data": {
      "text/plain": [
       "StandardScaler()"
      ]
     },
     "execution_count": 68,
     "metadata": {},
     "output_type": "execute_result"
    }
   ],
   "source": [
    "scaler = StandardScaler()\n",
    "scaler.fit(df_train[['credit_score',\n",
    "                      'age', 'tenure',\n",
    "                      'balance', 'num_of_products',\n",
    "                      'estimated_salary']])"
   ]
  },
  {
   "cell_type": "code",
   "execution_count": 69,
   "metadata": {},
   "outputs": [
    {
     "name": "stderr",
     "output_type": "stream",
     "text": [
      "/tmp/ipykernel_66/2900308946.py:1: SettingWithCopyWarning: \n",
      "A value is trying to be set on a copy of a slice from a DataFrame.\n",
      "Try using .loc[row_indexer,col_indexer] = value instead\n",
      "\n",
      "See the caveats in the documentation: https://pandas.pydata.org/pandas-docs/stable/user_guide/indexing.html#returning-a-view-versus-a-copy\n",
      "  df_train[['credit_score',\n",
      "/opt/conda/lib/python3.9/site-packages/pandas/core/indexing.py:1738: SettingWithCopyWarning: \n",
      "A value is trying to be set on a copy of a slice from a DataFrame.\n",
      "Try using .loc[row_indexer,col_indexer] = value instead\n",
      "\n",
      "See the caveats in the documentation: https://pandas.pydata.org/pandas-docs/stable/user_guide/indexing.html#returning-a-view-versus-a-copy\n",
      "  self._setitem_single_column(loc, value[:, i].tolist(), pi)\n"
     ]
    }
   ],
   "source": [
    "df_train[['credit_score',\n",
    "          'age', \n",
    "          'tenure',\n",
    "          'balance', \n",
    "          'num_of_products',\n",
    "          'estimated_salary']] = scaler.transform(df_train[['credit_score',\n",
    "                                                            'age', \n",
    "                                                            'tenure',\n",
    "                                                            'balance', \n",
    "                                                            'num_of_products',\n",
    "                                                            'estimated_salary']])"
   ]
  },
  {
   "cell_type": "code",
   "execution_count": 70,
   "metadata": {
    "scrolled": true
   },
   "outputs": [
    {
     "name": "stderr",
     "output_type": "stream",
     "text": [
      "/tmp/ipykernel_66/503532141.py:1: SettingWithCopyWarning: \n",
      "A value is trying to be set on a copy of a slice from a DataFrame.\n",
      "Try using .loc[row_indexer,col_indexer] = value instead\n",
      "\n",
      "See the caveats in the documentation: https://pandas.pydata.org/pandas-docs/stable/user_guide/indexing.html#returning-a-view-versus-a-copy\n",
      "  df_valid[['credit_score',\n",
      "/opt/conda/lib/python3.9/site-packages/pandas/core/indexing.py:1738: SettingWithCopyWarning: \n",
      "A value is trying to be set on a copy of a slice from a DataFrame.\n",
      "Try using .loc[row_indexer,col_indexer] = value instead\n",
      "\n",
      "See the caveats in the documentation: https://pandas.pydata.org/pandas-docs/stable/user_guide/indexing.html#returning-a-view-versus-a-copy\n",
      "  self._setitem_single_column(loc, value[:, i].tolist(), pi)\n"
     ]
    }
   ],
   "source": [
    "df_valid[['credit_score',\n",
    "          'age', \n",
    "          'tenure',\n",
    "          'balance', \n",
    "          'num_of_products',\n",
    "          'estimated_salary']] = scaler.transform(df_valid[['credit_score',\n",
    "                                                            'age', \n",
    "                                                            'tenure',\n",
    "                                                            'balance', \n",
    "                                                            'num_of_products',\n",
    "                                                            'estimated_salary']]) "
   ]
  },
  {
   "cell_type": "code",
   "execution_count": 71,
   "metadata": {},
   "outputs": [
    {
     "name": "stderr",
     "output_type": "stream",
     "text": [
      "/tmp/ipykernel_66/645325727.py:1: SettingWithCopyWarning: \n",
      "A value is trying to be set on a copy of a slice from a DataFrame.\n",
      "Try using .loc[row_indexer,col_indexer] = value instead\n",
      "\n",
      "See the caveats in the documentation: https://pandas.pydata.org/pandas-docs/stable/user_guide/indexing.html#returning-a-view-versus-a-copy\n",
      "  df_test[['credit_score',\n",
      "/opt/conda/lib/python3.9/site-packages/pandas/core/indexing.py:1738: SettingWithCopyWarning: \n",
      "A value is trying to be set on a copy of a slice from a DataFrame.\n",
      "Try using .loc[row_indexer,col_indexer] = value instead\n",
      "\n",
      "See the caveats in the documentation: https://pandas.pydata.org/pandas-docs/stable/user_guide/indexing.html#returning-a-view-versus-a-copy\n",
      "  self._setitem_single_column(loc, value[:, i].tolist(), pi)\n"
     ]
    }
   ],
   "source": [
    "df_test[['credit_score',\n",
    "         'age', \n",
    "         'tenure',\n",
    "         'balance', \n",
    "         'num_of_products',\n",
    "         'estimated_salary']] = scaler.transform(df_test[['credit_score',\n",
    "                                                          'age', \n",
    "                                                          'tenure',\n",
    "                                                          'balance', \n",
    "                                                          'num_of_products',\n",
    "                                                          'estimated_salary']])"
   ]
  },
  {
   "cell_type": "code",
   "execution_count": 72,
   "metadata": {},
   "outputs": [
    {
     "data": {
      "text/plain": [
       "StandardScaler()"
      ]
     },
     "execution_count": 72,
     "metadata": {},
     "output_type": "execute_result"
    }
   ],
   "source": [
    "scaler.fit(df_train_short[['age', 'balance', 'num_of_products']])"
   ]
  },
  {
   "cell_type": "code",
   "execution_count": 73,
   "metadata": {},
   "outputs": [
    {
     "name": "stderr",
     "output_type": "stream",
     "text": [
      "/tmp/ipykernel_66/3738895595.py:1: SettingWithCopyWarning: \n",
      "A value is trying to be set on a copy of a slice from a DataFrame.\n",
      "Try using .loc[row_indexer,col_indexer] = value instead\n",
      "\n",
      "See the caveats in the documentation: https://pandas.pydata.org/pandas-docs/stable/user_guide/indexing.html#returning-a-view-versus-a-copy\n",
      "  df_train_short[['age',\n",
      "/opt/conda/lib/python3.9/site-packages/pandas/core/indexing.py:1738: SettingWithCopyWarning: \n",
      "A value is trying to be set on a copy of a slice from a DataFrame.\n",
      "Try using .loc[row_indexer,col_indexer] = value instead\n",
      "\n",
      "See the caveats in the documentation: https://pandas.pydata.org/pandas-docs/stable/user_guide/indexing.html#returning-a-view-versus-a-copy\n",
      "  self._setitem_single_column(loc, value[:, i].tolist(), pi)\n"
     ]
    }
   ],
   "source": [
    "df_train_short[['age', \n",
    "                'balance', \n",
    "                'num_of_products']] = scaler.transform(df_train_short[['age', \n",
    "                                                                       'balance', \n",
    "                                                                       'num_of_products']])"
   ]
  },
  {
   "cell_type": "code",
   "execution_count": 74,
   "metadata": {},
   "outputs": [
    {
     "name": "stderr",
     "output_type": "stream",
     "text": [
      "/tmp/ipykernel_66/1424445143.py:1: SettingWithCopyWarning: \n",
      "A value is trying to be set on a copy of a slice from a DataFrame.\n",
      "Try using .loc[row_indexer,col_indexer] = value instead\n",
      "\n",
      "See the caveats in the documentation: https://pandas.pydata.org/pandas-docs/stable/user_guide/indexing.html#returning-a-view-versus-a-copy\n",
      "  df_valid_short[['age',\n",
      "/opt/conda/lib/python3.9/site-packages/pandas/core/indexing.py:1738: SettingWithCopyWarning: \n",
      "A value is trying to be set on a copy of a slice from a DataFrame.\n",
      "Try using .loc[row_indexer,col_indexer] = value instead\n",
      "\n",
      "See the caveats in the documentation: https://pandas.pydata.org/pandas-docs/stable/user_guide/indexing.html#returning-a-view-versus-a-copy\n",
      "  self._setitem_single_column(loc, value[:, i].tolist(), pi)\n"
     ]
    }
   ],
   "source": [
    "df_valid_short[['age', \n",
    "                'balance', \n",
    "                'num_of_products']] = scaler.transform(df_valid_short[['age', \n",
    "                                                                       'balance', \n",
    "                                                                       'num_of_products']])"
   ]
  },
  {
   "cell_type": "code",
   "execution_count": 75,
   "metadata": {},
   "outputs": [
    {
     "name": "stderr",
     "output_type": "stream",
     "text": [
      "/tmp/ipykernel_66/2964538424.py:1: SettingWithCopyWarning: \n",
      "A value is trying to be set on a copy of a slice from a DataFrame.\n",
      "Try using .loc[row_indexer,col_indexer] = value instead\n",
      "\n",
      "See the caveats in the documentation: https://pandas.pydata.org/pandas-docs/stable/user_guide/indexing.html#returning-a-view-versus-a-copy\n",
      "  df_test_short[['age',\n",
      "/opt/conda/lib/python3.9/site-packages/pandas/core/indexing.py:1738: SettingWithCopyWarning: \n",
      "A value is trying to be set on a copy of a slice from a DataFrame.\n",
      "Try using .loc[row_indexer,col_indexer] = value instead\n",
      "\n",
      "See the caveats in the documentation: https://pandas.pydata.org/pandas-docs/stable/user_guide/indexing.html#returning-a-view-versus-a-copy\n",
      "  self._setitem_single_column(loc, value[:, i].tolist(), pi)\n"
     ]
    }
   ],
   "source": [
    "df_test_short[['age', \n",
    "               'balance', \n",
    "               'num_of_products']] = scaler.transform(df_test_short[['age', \n",
    "                                                                     'balance', \n",
    "                                                                      'num_of_products']])"
   ]
  },
  {
   "cell_type": "code",
   "execution_count": 76,
   "metadata": {},
   "outputs": [
    {
     "data": {
      "text/html": [
       "<div>\n",
       "<style scoped>\n",
       "    .dataframe tbody tr th:only-of-type {\n",
       "        vertical-align: middle;\n",
       "    }\n",
       "\n",
       "    .dataframe tbody tr th {\n",
       "        vertical-align: top;\n",
       "    }\n",
       "\n",
       "    .dataframe thead th {\n",
       "        text-align: right;\n",
       "    }\n",
       "</style>\n",
       "<table border=\"1\" class=\"dataframe\">\n",
       "  <thead>\n",
       "    <tr style=\"text-align: right;\">\n",
       "      <th></th>\n",
       "      <th>credit_score</th>\n",
       "      <th>age</th>\n",
       "      <th>tenure</th>\n",
       "      <th>balance</th>\n",
       "      <th>num_of_products</th>\n",
       "      <th>has_cr_card</th>\n",
       "      <th>is_active_member</th>\n",
       "      <th>estimated_salary</th>\n",
       "      <th>exited</th>\n",
       "      <th>geography_Germany</th>\n",
       "      <th>geography_Spain</th>\n",
       "      <th>gender_Male</th>\n",
       "    </tr>\n",
       "    <tr>\n",
       "      <th>customer_id</th>\n",
       "      <th></th>\n",
       "      <th></th>\n",
       "      <th></th>\n",
       "      <th></th>\n",
       "      <th></th>\n",
       "      <th></th>\n",
       "      <th></th>\n",
       "      <th></th>\n",
       "      <th></th>\n",
       "      <th></th>\n",
       "      <th></th>\n",
       "      <th></th>\n",
       "    </tr>\n",
       "  </thead>\n",
       "  <tbody>\n",
       "    <tr>\n",
       "      <th>15795878</th>\n",
       "      <td>-0.143332</td>\n",
       "      <td>0.577533</td>\n",
       "      <td>0.941049</td>\n",
       "      <td>-1.220573</td>\n",
       "      <td>0.797767</td>\n",
       "      <td>1</td>\n",
       "      <td>1</td>\n",
       "      <td>1.029613</td>\n",
       "      <td>0</td>\n",
       "      <td>0</td>\n",
       "      <td>1</td>\n",
       "      <td>1</td>\n",
       "    </tr>\n",
       "    <tr>\n",
       "      <th>15703354</th>\n",
       "      <td>1.632702</td>\n",
       "      <td>-0.564119</td>\n",
       "      <td>-1.139384</td>\n",
       "      <td>0.435807</td>\n",
       "      <td>-0.916018</td>\n",
       "      <td>1</td>\n",
       "      <td>0</td>\n",
       "      <td>0.237986</td>\n",
       "      <td>0</td>\n",
       "      <td>0</td>\n",
       "      <td>0</td>\n",
       "      <td>0</td>\n",
       "    </tr>\n",
       "    <tr>\n",
       "      <th>15815660</th>\n",
       "      <td>1.116413</td>\n",
       "      <td>-0.468981</td>\n",
       "      <td>-1.486123</td>\n",
       "      <td>1.245822</td>\n",
       "      <td>-0.916018</td>\n",
       "      <td>1</td>\n",
       "      <td>1</td>\n",
       "      <td>-0.686104</td>\n",
       "      <td>0</td>\n",
       "      <td>0</td>\n",
       "      <td>0</td>\n",
       "      <td>0</td>\n",
       "    </tr>\n",
       "    <tr>\n",
       "      <th>15813911</th>\n",
       "      <td>1.643028</td>\n",
       "      <td>0.006707</td>\n",
       "      <td>-0.099167</td>\n",
       "      <td>-1.220573</td>\n",
       "      <td>-0.916018</td>\n",
       "      <td>1</td>\n",
       "      <td>0</td>\n",
       "      <td>-0.391097</td>\n",
       "      <td>0</td>\n",
       "      <td>0</td>\n",
       "      <td>0</td>\n",
       "      <td>0</td>\n",
       "    </tr>\n",
       "    <tr>\n",
       "      <th>15723064</th>\n",
       "      <td>-0.484083</td>\n",
       "      <td>-1.420358</td>\n",
       "      <td>-1.486123</td>\n",
       "      <td>1.421989</td>\n",
       "      <td>0.797767</td>\n",
       "      <td>1</td>\n",
       "      <td>0</td>\n",
       "      <td>-1.361559</td>\n",
       "      <td>0</td>\n",
       "      <td>0</td>\n",
       "      <td>1</td>\n",
       "      <td>1</td>\n",
       "    </tr>\n",
       "  </tbody>\n",
       "</table>\n",
       "</div>"
      ],
      "text/plain": [
       "             credit_score       age    tenure   balance  num_of_products  \\\n",
       "customer_id                                                                \n",
       "15795878        -0.143332  0.577533  0.941049 -1.220573         0.797767   \n",
       "15703354         1.632702 -0.564119 -1.139384  0.435807        -0.916018   \n",
       "15815660         1.116413 -0.468981 -1.486123  1.245822        -0.916018   \n",
       "15813911         1.643028  0.006707 -0.099167 -1.220573        -0.916018   \n",
       "15723064        -0.484083 -1.420358 -1.486123  1.421989         0.797767   \n",
       "\n",
       "             has_cr_card  is_active_member  estimated_salary  exited  \\\n",
       "customer_id                                                            \n",
       "15795878               1                 1          1.029613       0   \n",
       "15703354               1                 0          0.237986       0   \n",
       "15815660               1                 1         -0.686104       0   \n",
       "15813911               1                 0         -0.391097       0   \n",
       "15723064               1                 0         -1.361559       0   \n",
       "\n",
       "             geography_Germany  geography_Spain  gender_Male  \n",
       "customer_id                                                   \n",
       "15795878                     0                1            1  \n",
       "15703354                     0                0            0  \n",
       "15815660                     0                0            0  \n",
       "15813911                     0                0            0  \n",
       "15723064                     0                1            1  "
      ]
     },
     "execution_count": 76,
     "metadata": {},
     "output_type": "execute_result"
    }
   ],
   "source": [
    "df_train.head()"
   ]
  },
  {
   "cell_type": "code",
   "execution_count": 77,
   "metadata": {},
   "outputs": [
    {
     "data": {
      "text/html": [
       "<div>\n",
       "<style scoped>\n",
       "    .dataframe tbody tr th:only-of-type {\n",
       "        vertical-align: middle;\n",
       "    }\n",
       "\n",
       "    .dataframe tbody tr th {\n",
       "        vertical-align: top;\n",
       "    }\n",
       "\n",
       "    .dataframe thead th {\n",
       "        text-align: right;\n",
       "    }\n",
       "</style>\n",
       "<table border=\"1\" class=\"dataframe\">\n",
       "  <thead>\n",
       "    <tr style=\"text-align: right;\">\n",
       "      <th></th>\n",
       "      <th>age</th>\n",
       "      <th>balance</th>\n",
       "      <th>num_of_products</th>\n",
       "      <th>is_active_member</th>\n",
       "      <th>exited</th>\n",
       "      <th>geography_Germany</th>\n",
       "      <th>geography_Spain</th>\n",
       "      <th>gender_Male</th>\n",
       "    </tr>\n",
       "    <tr>\n",
       "      <th>customer_id</th>\n",
       "      <th></th>\n",
       "      <th></th>\n",
       "      <th></th>\n",
       "      <th></th>\n",
       "      <th></th>\n",
       "      <th></th>\n",
       "      <th></th>\n",
       "      <th></th>\n",
       "    </tr>\n",
       "  </thead>\n",
       "  <tbody>\n",
       "    <tr>\n",
       "      <th>15795878</th>\n",
       "      <td>0.577533</td>\n",
       "      <td>-1.220573</td>\n",
       "      <td>0.797767</td>\n",
       "      <td>1</td>\n",
       "      <td>0</td>\n",
       "      <td>0</td>\n",
       "      <td>1</td>\n",
       "      <td>1</td>\n",
       "    </tr>\n",
       "    <tr>\n",
       "      <th>15703354</th>\n",
       "      <td>-0.564119</td>\n",
       "      <td>0.435807</td>\n",
       "      <td>-0.916018</td>\n",
       "      <td>0</td>\n",
       "      <td>0</td>\n",
       "      <td>0</td>\n",
       "      <td>0</td>\n",
       "      <td>0</td>\n",
       "    </tr>\n",
       "    <tr>\n",
       "      <th>15815660</th>\n",
       "      <td>-0.468981</td>\n",
       "      <td>1.245822</td>\n",
       "      <td>-0.916018</td>\n",
       "      <td>1</td>\n",
       "      <td>0</td>\n",
       "      <td>0</td>\n",
       "      <td>0</td>\n",
       "      <td>0</td>\n",
       "    </tr>\n",
       "    <tr>\n",
       "      <th>15813911</th>\n",
       "      <td>0.006707</td>\n",
       "      <td>-1.220573</td>\n",
       "      <td>-0.916018</td>\n",
       "      <td>0</td>\n",
       "      <td>0</td>\n",
       "      <td>0</td>\n",
       "      <td>0</td>\n",
       "      <td>0</td>\n",
       "    </tr>\n",
       "    <tr>\n",
       "      <th>15723064</th>\n",
       "      <td>-1.420358</td>\n",
       "      <td>1.421989</td>\n",
       "      <td>0.797767</td>\n",
       "      <td>0</td>\n",
       "      <td>0</td>\n",
       "      <td>0</td>\n",
       "      <td>1</td>\n",
       "      <td>1</td>\n",
       "    </tr>\n",
       "  </tbody>\n",
       "</table>\n",
       "</div>"
      ],
      "text/plain": [
       "                  age   balance  num_of_products  is_active_member  exited  \\\n",
       "customer_id                                                                  \n",
       "15795878     0.577533 -1.220573         0.797767                 1       0   \n",
       "15703354    -0.564119  0.435807        -0.916018                 0       0   \n",
       "15815660    -0.468981  1.245822        -0.916018                 1       0   \n",
       "15813911     0.006707 -1.220573        -0.916018                 0       0   \n",
       "15723064    -1.420358  1.421989         0.797767                 0       0   \n",
       "\n",
       "             geography_Germany  geography_Spain  gender_Male  \n",
       "customer_id                                                   \n",
       "15795878                     0                1            1  \n",
       "15703354                     0                0            0  \n",
       "15815660                     0                0            0  \n",
       "15813911                     0                0            0  \n",
       "15723064                     0                1            1  "
      ]
     },
     "execution_count": 77,
     "metadata": {},
     "output_type": "execute_result"
    }
   ],
   "source": [
    "df_train_short.head()"
   ]
  },
  {
   "cell_type": "markdown",
   "metadata": {},
   "source": [
    "Формируем обучающие, валидационные и тестовые датасеты. Целевым признаком является параметр 'exited', соответственно датасеты target будут содержать этот столбец, а features - все прочие столбцы."
   ]
  },
  {
   "cell_type": "code",
   "execution_count": 78,
   "metadata": {},
   "outputs": [],
   "source": [
    "# Обучающие датасеты\n",
    "features_train = df_train.drop(['exited'],axis=1)\n",
    "target_train = df_train['exited']\n",
    "features_train_short = df_train_short.drop(['exited'],axis=1)\n",
    "target_train_short = df_train_short['exited']\n"
   ]
  },
  {
   "cell_type": "code",
   "execution_count": 79,
   "metadata": {},
   "outputs": [],
   "source": [
    "# Валидационные датасеты\n",
    "features_valid = df_valid.drop(['exited'],axis=1)\n",
    "target_valid = df_valid['exited']\n",
    "features_valid_short = df_valid_short.drop(['exited'],axis=1)\n",
    "target_valid_short = df_valid_short['exited']\n"
   ]
  },
  {
   "cell_type": "code",
   "execution_count": 80,
   "metadata": {},
   "outputs": [],
   "source": [
    "# Тестовые датасеты\n",
    "features_test = df_test.drop(['exited'],axis=1)\n",
    "target_test = df_test['exited']\n",
    "features_test_short = df_test_short.drop(['exited'],axis=1)\n",
    "target_test_short = df_test_short['exited']\n"
   ]
  },
  {
   "cell_type": "markdown",
   "metadata": {},
   "source": [
    "###### Вывод\n",
    "\n",
    "Создано шесть групп датасетов по три для полного датасета и три для сокращенного: обучающих - 6000 записей, валидационных - 2000 записей и тестовых - 2000 записей. "
   ]
  },
  {
   "cell_type": "markdown",
   "metadata": {},
   "source": [
    "#### Создание и обучение моделей\n",
    "\n",
    "На этом этапе рассмотрим три типа моделей: \n",
    "- решающее дерево, \n",
    "- случайный лес\n",
    "- логистическая регрессия. \n",
    "\n"
   ]
  },
  {
   "cell_type": "markdown",
   "metadata": {},
   "source": [
    "####  Модель с решающим деревом\n",
    "\n",
    "С помощью цикла подберем гиперпараметры для модели решающего дерева сначала для полной выборки, а затем для сокращенной.\n",
    "\n",
    "##### Модель с решающим деревом для полной  выборки"
   ]
  },
  {
   "cell_type": "code",
   "execution_count": 81,
   "metadata": {},
   "outputs": [
    {
     "data": {
      "text/html": [
       "<div>\n",
       "<style scoped>\n",
       "    .dataframe tbody tr th:only-of-type {\n",
       "        vertical-align: middle;\n",
       "    }\n",
       "\n",
       "    .dataframe tbody tr th {\n",
       "        vertical-align: top;\n",
       "    }\n",
       "\n",
       "    .dataframe thead th {\n",
       "        text-align: right;\n",
       "    }\n",
       "</style>\n",
       "<table border=\"1\" class=\"dataframe\">\n",
       "  <thead>\n",
       "    <tr style=\"text-align: right;\">\n",
       "      <th></th>\n",
       "      <th>accuracy_valid</th>\n",
       "      <th>accuracy_train</th>\n",
       "    </tr>\n",
       "  </thead>\n",
       "  <tbody>\n",
       "    <tr>\n",
       "      <th>1</th>\n",
       "      <td>0.7965</td>\n",
       "      <td>0.796167</td>\n",
       "    </tr>\n",
       "    <tr>\n",
       "      <th>2</th>\n",
       "      <td>0.8360</td>\n",
       "      <td>0.835500</td>\n",
       "    </tr>\n",
       "    <tr>\n",
       "      <th>3</th>\n",
       "      <td>0.8350</td>\n",
       "      <td>0.844000</td>\n",
       "    </tr>\n",
       "    <tr>\n",
       "      <th>4</th>\n",
       "      <td>0.8495</td>\n",
       "      <td>0.854167</td>\n",
       "    </tr>\n",
       "    <tr>\n",
       "      <th>5</th>\n",
       "      <td>0.8470</td>\n",
       "      <td>0.859500</td>\n",
       "    </tr>\n",
       "    <tr>\n",
       "      <th>6</th>\n",
       "      <td>0.8545</td>\n",
       "      <td>0.867833</td>\n",
       "    </tr>\n",
       "    <tr>\n",
       "      <th>7</th>\n",
       "      <td>0.8550</td>\n",
       "      <td>0.873000</td>\n",
       "    </tr>\n",
       "    <tr>\n",
       "      <th>8</th>\n",
       "      <td>0.8530</td>\n",
       "      <td>0.884500</td>\n",
       "    </tr>\n",
       "    <tr>\n",
       "      <th>9</th>\n",
       "      <td>0.8490</td>\n",
       "      <td>0.896833</td>\n",
       "    </tr>\n",
       "    <tr>\n",
       "      <th>10</th>\n",
       "      <td>0.8370</td>\n",
       "      <td>0.909000</td>\n",
       "    </tr>\n",
       "    <tr>\n",
       "      <th>11</th>\n",
       "      <td>0.8325</td>\n",
       "      <td>0.923000</td>\n",
       "    </tr>\n",
       "    <tr>\n",
       "      <th>12</th>\n",
       "      <td>0.8175</td>\n",
       "      <td>0.938333</td>\n",
       "    </tr>\n",
       "    <tr>\n",
       "      <th>13</th>\n",
       "      <td>0.8105</td>\n",
       "      <td>0.951833</td>\n",
       "    </tr>\n",
       "    <tr>\n",
       "      <th>14</th>\n",
       "      <td>0.8040</td>\n",
       "      <td>0.965167</td>\n",
       "    </tr>\n",
       "    <tr>\n",
       "      <th>15</th>\n",
       "      <td>0.7980</td>\n",
       "      <td>0.975500</td>\n",
       "    </tr>\n",
       "    <tr>\n",
       "      <th>16</th>\n",
       "      <td>0.7990</td>\n",
       "      <td>0.983667</td>\n",
       "    </tr>\n",
       "    <tr>\n",
       "      <th>17</th>\n",
       "      <td>0.7955</td>\n",
       "      <td>0.989000</td>\n",
       "    </tr>\n",
       "    <tr>\n",
       "      <th>18</th>\n",
       "      <td>0.7935</td>\n",
       "      <td>0.992167</td>\n",
       "    </tr>\n",
       "    <tr>\n",
       "      <th>19</th>\n",
       "      <td>0.7875</td>\n",
       "      <td>0.994833</td>\n",
       "    </tr>\n",
       "  </tbody>\n",
       "</table>\n",
       "</div>"
      ],
      "text/plain": [
       "    accuracy_valid  accuracy_train\n",
       "1           0.7965        0.796167\n",
       "2           0.8360        0.835500\n",
       "3           0.8350        0.844000\n",
       "4           0.8495        0.854167\n",
       "5           0.8470        0.859500\n",
       "6           0.8545        0.867833\n",
       "7           0.8550        0.873000\n",
       "8           0.8530        0.884500\n",
       "9           0.8490        0.896833\n",
       "10          0.8370        0.909000\n",
       "11          0.8325        0.923000\n",
       "12          0.8175        0.938333\n",
       "13          0.8105        0.951833\n",
       "14          0.8040        0.965167\n",
       "15          0.7980        0.975500\n",
       "16          0.7990        0.983667\n",
       "17          0.7955        0.989000\n",
       "18          0.7935        0.992167\n",
       "19          0.7875        0.994833"
      ]
     },
     "metadata": {},
     "output_type": "display_data"
    },
    {
     "data": {
      "text/plain": [
       "'Accuracy лучшей модели:'"
      ]
     },
     "metadata": {},
     "output_type": "display_data"
    },
    {
     "data": {
      "text/plain": [
       "0.855"
      ]
     },
     "metadata": {},
     "output_type": "display_data"
    },
    {
     "data": {
      "text/plain": [
       "7"
      ]
     },
     "metadata": {},
     "output_type": "display_data"
    }
   ],
   "source": [
    "best_model_tree  = None\n",
    "best_result_tree = 0\n",
    "tree_results_train = []\n",
    "tree_results_valid = []\n",
    "tree_depth = []\n",
    "\n",
    "for depth in range(1, 20):\n",
    "    model_tree = DecisionTreeClassifier(random_state=12345, max_depth= depth) \n",
    "    model_tree.fit(features_train, target_train)\n",
    "    predictions_tree_train = model_tree.predict(features_train)\n",
    "    result_tree_train = accuracy_score(target_train,predictions_tree_train) \n",
    "    predictions_tree_valid = model_tree.predict(features_valid) \n",
    "    result_tree_valid = accuracy_score(target_valid,predictions_tree_valid) \n",
    "    tree_depth.append(depth)\n",
    "    tree_results_train.append(result_tree_train)\n",
    "    tree_results_valid.append(result_tree_valid)\n",
    "    \n",
    "     \n",
    "    if result_tree_valid > best_result_tree:\n",
    "        best_model_tree = model_tree\n",
    "        best_result_tree = result_tree_valid\n",
    "tree_outcome = pd.DataFrame(tree_results_valid, \n",
    "                            tree_depth, columns=['accuracy_valid']) \n",
    "tree_outcome_train = pd.DataFrame(tree_results_train, \n",
    "                                  tree_depth,columns=['accuracy_train']) \n",
    "tree_outcome['accuracy_train'] = tree_outcome_train['accuracy_train']\n",
    "display(tree_outcome)\n",
    "\n",
    "display (\"Accuracy лучшей модели:\", best_result_tree, tree_outcome['accuracy_valid'].idxmax())\n",
    "    "
   ]
  },
  {
   "cell_type": "code",
   "execution_count": 82,
   "metadata": {},
   "outputs": [
    {
     "data": {
      "image/png": "[encoded data removed]",
      "text/plain": [
       "<Figure size 576x432 with 1 Axes>"
      ]
     },
     "metadata": {
      "needs_background": "light"
     },
     "output_type": "display_data"
    }
   ],
   "source": [
    "tree_outcome.plot(figsize = (8,6), grid=True, \n",
    "                  title=\"Зависимость качества модели решающего дерева от глубины\")\n",
    "plt.show()"
   ]
  },
  {
   "cell_type": "markdown",
   "metadata": {},
   "source": [
    "Лучшая метрика accuracy получена для модели решающего дерева при глубине 7. Проверим показатели метрики F1 для данной модели. "
   ]
  },
  {
   "cell_type": "code",
   "execution_count": 83,
   "metadata": {},
   "outputs": [
    {
     "data": {
      "text/plain": [
       "0.5496894409937888"
      ]
     },
     "execution_count": 83,
     "metadata": {},
     "output_type": "execute_result"
    }
   ],
   "source": [
    "best_model_tree\n",
    "predicted_valid = best_model_tree.predict(features_valid)\n",
    "f1_score(target_valid, predicted_valid)"
   ]
  },
  {
   "cell_type": "markdown",
   "metadata": {},
   "source": [
    "На этом этапе показатель f1 для модели решающего дерева не дотягивает до проходного бала. "
   ]
  },
  {
   "cell_type": "markdown",
   "metadata": {},
   "source": [
    "##### Модель решающего дерева для сокращенной выборки"
   ]
  },
  {
   "cell_type": "code",
   "execution_count": 84,
   "metadata": {},
   "outputs": [
    {
     "data": {
      "text/html": [
       "<div>\n",
       "<style scoped>\n",
       "    .dataframe tbody tr th:only-of-type {\n",
       "        vertical-align: middle;\n",
       "    }\n",
       "\n",
       "    .dataframe tbody tr th {\n",
       "        vertical-align: top;\n",
       "    }\n",
       "\n",
       "    .dataframe thead th {\n",
       "        text-align: right;\n",
       "    }\n",
       "</style>\n",
       "<table border=\"1\" class=\"dataframe\">\n",
       "  <thead>\n",
       "    <tr style=\"text-align: right;\">\n",
       "      <th></th>\n",
       "      <th>accuracy_valid</th>\n",
       "      <th>accuracy_train</th>\n",
       "    </tr>\n",
       "  </thead>\n",
       "  <tbody>\n",
       "    <tr>\n",
       "      <th>1</th>\n",
       "      <td>0.7965</td>\n",
       "      <td>0.796167</td>\n",
       "    </tr>\n",
       "    <tr>\n",
       "      <th>2</th>\n",
       "      <td>0.8360</td>\n",
       "      <td>0.835500</td>\n",
       "    </tr>\n",
       "    <tr>\n",
       "      <th>3</th>\n",
       "      <td>0.8350</td>\n",
       "      <td>0.844000</td>\n",
       "    </tr>\n",
       "    <tr>\n",
       "      <th>4</th>\n",
       "      <td>0.8505</td>\n",
       "      <td>0.853500</td>\n",
       "    </tr>\n",
       "    <tr>\n",
       "      <th>5</th>\n",
       "      <td>0.8470</td>\n",
       "      <td>0.859000</td>\n",
       "    </tr>\n",
       "    <tr>\n",
       "      <th>6</th>\n",
       "      <td>0.8570</td>\n",
       "      <td>0.865833</td>\n",
       "    </tr>\n",
       "    <tr>\n",
       "      <th>7</th>\n",
       "      <td>0.8600</td>\n",
       "      <td>0.872000</td>\n",
       "    </tr>\n",
       "    <tr>\n",
       "      <th>8</th>\n",
       "      <td>0.8620</td>\n",
       "      <td>0.879333</td>\n",
       "    </tr>\n",
       "    <tr>\n",
       "      <th>9</th>\n",
       "      <td>0.8575</td>\n",
       "      <td>0.887667</td>\n",
       "    </tr>\n",
       "    <tr>\n",
       "      <th>10</th>\n",
       "      <td>0.8535</td>\n",
       "      <td>0.898167</td>\n",
       "    </tr>\n",
       "    <tr>\n",
       "      <th>11</th>\n",
       "      <td>0.8440</td>\n",
       "      <td>0.906833</td>\n",
       "    </tr>\n",
       "    <tr>\n",
       "      <th>12</th>\n",
       "      <td>0.8345</td>\n",
       "      <td>0.917667</td>\n",
       "    </tr>\n",
       "    <tr>\n",
       "      <th>13</th>\n",
       "      <td>0.8310</td>\n",
       "      <td>0.930833</td>\n",
       "    </tr>\n",
       "    <tr>\n",
       "      <th>14</th>\n",
       "      <td>0.8250</td>\n",
       "      <td>0.942167</td>\n",
       "    </tr>\n",
       "    <tr>\n",
       "      <th>15</th>\n",
       "      <td>0.8230</td>\n",
       "      <td>0.952167</td>\n",
       "    </tr>\n",
       "    <tr>\n",
       "      <th>16</th>\n",
       "      <td>0.8230</td>\n",
       "      <td>0.959167</td>\n",
       "    </tr>\n",
       "    <tr>\n",
       "      <th>17</th>\n",
       "      <td>0.8225</td>\n",
       "      <td>0.965667</td>\n",
       "    </tr>\n",
       "    <tr>\n",
       "      <th>18</th>\n",
       "      <td>0.8150</td>\n",
       "      <td>0.969000</td>\n",
       "    </tr>\n",
       "    <tr>\n",
       "      <th>19</th>\n",
       "      <td>0.8095</td>\n",
       "      <td>0.972667</td>\n",
       "    </tr>\n",
       "  </tbody>\n",
       "</table>\n",
       "</div>"
      ],
      "text/plain": [
       "    accuracy_valid  accuracy_train\n",
       "1           0.7965        0.796167\n",
       "2           0.8360        0.835500\n",
       "3           0.8350        0.844000\n",
       "4           0.8505        0.853500\n",
       "5           0.8470        0.859000\n",
       "6           0.8570        0.865833\n",
       "7           0.8600        0.872000\n",
       "8           0.8620        0.879333\n",
       "9           0.8575        0.887667\n",
       "10          0.8535        0.898167\n",
       "11          0.8440        0.906833\n",
       "12          0.8345        0.917667\n",
       "13          0.8310        0.930833\n",
       "14          0.8250        0.942167\n",
       "15          0.8230        0.952167\n",
       "16          0.8230        0.959167\n",
       "17          0.8225        0.965667\n",
       "18          0.8150        0.969000\n",
       "19          0.8095        0.972667"
      ]
     },
     "metadata": {},
     "output_type": "display_data"
    },
    {
     "data": {
      "text/plain": [
       "'Accuracy лучшей модели:'"
      ]
     },
     "metadata": {},
     "output_type": "display_data"
    },
    {
     "data": {
      "text/plain": [
       "0.862"
      ]
     },
     "metadata": {},
     "output_type": "display_data"
    },
    {
     "data": {
      "text/plain": [
       "8"
      ]
     },
     "metadata": {},
     "output_type": "display_data"
    }
   ],
   "source": [
    "best_model_tree_short  = None\n",
    "best_result_tree_short = 0\n",
    "tree_results_train_short = []\n",
    "tree_results_valid_short = []\n",
    "tree_depth_short = []\n",
    "\n",
    "for depth in range(1, 20):\n",
    "    model_tree_short = DecisionTreeClassifier(random_state=12345, max_depth= depth) \n",
    "    model_tree_short.fit(features_train_short, target_train_short)\n",
    "    predictions_tree_train_short = model_tree_short.predict(features_train_short)\n",
    "    result_tree_train_short = accuracy_score(target_train_short,predictions_tree_train_short) \n",
    "    predictions_tree_valid_short = model_tree_short.predict(features_valid_short) \n",
    "    result_tree_valid_short = accuracy_score(target_valid_short,predictions_tree_valid_short) \n",
    "    tree_depth_short.append(depth)\n",
    "    tree_results_train_short.append(result_tree_train_short)\n",
    "    tree_results_valid_short.append(result_tree_valid_short)\n",
    "    \n",
    "     \n",
    "    if result_tree_valid_short > best_result_tree_short:\n",
    "        best_model_tree_short = model_tree_short\n",
    "        best_result_tree_short = result_tree_valid_short\n",
    "tree_outcome_short = pd.DataFrame(tree_results_valid_short, \n",
    "                            tree_depth_short, columns=['accuracy_valid']) \n",
    "tree_outcome_train_short = pd.DataFrame(tree_results_train_short, \n",
    "                                  tree_depth_short,columns=['accuracy_train']) \n",
    "tree_outcome_short['accuracy_train'] = tree_outcome_train_short['accuracy_train']\n",
    "display(tree_outcome_short)\n",
    "\n",
    "display (\"Accuracy лучшей модели:\", best_result_tree_short, tree_outcome_short['accuracy_valid'].idxmax())\n",
    "    "
   ]
  },
  {
   "cell_type": "code",
   "execution_count": 85,
   "metadata": {},
   "outputs": [
    {
     "data": {
      "image/png": "[encoded data removed]",
      "text/plain": [
       "<Figure size 576x432 with 1 Axes>"
      ]
     },
     "metadata": {
      "needs_background": "light"
     },
     "output_type": "display_data"
    }
   ],
   "source": [
    "tree_outcome_short.plot(figsize = (8,6),grid=True, \n",
    "                  title=\"Зависимость качества модели решающего дерева от глубины\")\n",
    "plt.show()"
   ]
  },
  {
   "cell_type": "markdown",
   "metadata": {},
   "source": [
    "Для сокращенного датасета лучшая метрика accuracy получена для модели решающего дерева  при глубине 8. Проверим показатели метрики F1 для данной модели. "
   ]
  },
  {
   "cell_type": "code",
   "execution_count": 86,
   "metadata": {},
   "outputs": [
    {
     "data": {
      "text/plain": [
       "0.6045845272206305"
      ]
     },
     "execution_count": 86,
     "metadata": {},
     "output_type": "execute_result"
    }
   ],
   "source": [
    "best_model_tree_short\n",
    "predicted_valid_short = best_model_tree_short.predict(features_valid_short)\n",
    "f1_score(target_valid_short, predicted_valid_short)"
   ]
  },
  {
   "cell_type": "markdown",
   "metadata": {},
   "source": [
    "###### Вывод\n",
    "\n",
    "Модель решающего дерева для сокращенной выборки показывает удовлетворительные результаты. Для сокращенной выборки удалось добиться лучшего результата как по метрике accuracy, так и по метрике F1. "
   ]
  },
  {
   "cell_type": "markdown",
   "metadata": {},
   "source": [
    "#### Модель случайного леса\n",
    "\n",
    "Для выбора гиперпараметров модели случайного леса используем функционал GridSearchCV. Сначала выберем модель для полной выборки. "
   ]
  },
  {
   "cell_type": "markdown",
   "metadata": {},
   "source": [
    "##### Поиск лучшей модели для общей выборки. "
   ]
  },
  {
   "cell_type": "code",
   "execution_count": 87,
   "metadata": {},
   "outputs": [
    {
     "name": "stdout",
     "output_type": "stream",
     "text": [
      "CPU times: user 20min 51s, sys: 4.08 s, total: 20min 55s\n",
      "Wall time: 20min 55s\n"
     ]
    },
    {
     "data": {
      "text/plain": [
       "GridSearchCV(cv=4, estimator=RandomForestClassifier(random_state=12345),\n",
       "             param_grid={'max_depth': range(1, 50),\n",
       "                         'n_estimators': range(1, 50)},\n",
       "             scoring='f1')"
      ]
     },
     "execution_count": 87,
     "metadata": {},
     "output_type": "execute_result"
    }
   ],
   "source": [
    "%%time\n",
    "model_random_forest = RandomForestClassifier(random_state=12345) \n",
    "parametrs = {'n_estimators': range (1, 50, 1), 'max_depth': range (1, 50, 1)} \n",
    "grid = GridSearchCV(model_random_forest, parametrs, cv=4,scoring='f1') \n",
    "#grid.fit(df_remaining.drop(['exited'],axis=1), df_remaining['exited'])\n",
    "grid.fit(features_train, target_train)"
   ]
  },
  {
   "cell_type": "markdown",
   "metadata": {},
   "source": [
    "Гиперпараметры лучшей модели:"
   ]
  },
  {
   "cell_type": "code",
   "execution_count": 88,
   "metadata": {},
   "outputs": [
    {
     "data": {
      "text/plain": [
       "{'max_depth': 24, 'n_estimators': 43}"
      ]
     },
     "execution_count": 88,
     "metadata": {},
     "output_type": "execute_result"
    }
   ],
   "source": [
    "grid.best_params_\n"
   ]
  },
  {
   "cell_type": "code",
   "execution_count": 89,
   "metadata": {
    "scrolled": true
   },
   "outputs": [
    {
     "data": {
      "text/plain": [
       "RandomForestClassifier(max_depth=24, n_estimators=43, random_state=12345)"
      ]
     },
     "execution_count": 89,
     "metadata": {},
     "output_type": "execute_result"
    }
   ],
   "source": [
    "grid.best_estimator_"
   ]
  },
  {
   "cell_type": "code",
   "execution_count": 90,
   "metadata": {},
   "outputs": [
    {
     "data": {
      "text/plain": [
       "0.5739991445476229"
      ]
     },
     "execution_count": 90,
     "metadata": {},
     "output_type": "execute_result"
    }
   ],
   "source": [
    "grid.best_score_"
   ]
  },
  {
   "cell_type": "code",
   "execution_count": 91,
   "metadata": {},
   "outputs": [],
   "source": [
    "best_model_random_forest = grid.best_estimator_"
   ]
  },
  {
   "cell_type": "markdown",
   "metadata": {},
   "source": [
    "Оценка F1 меры для валидационной выборки. "
   ]
  },
  {
   "cell_type": "code",
   "execution_count": 92,
   "metadata": {},
   "outputs": [
    {
     "data": {
      "text/plain": [
       "0.5823170731707317"
      ]
     },
     "execution_count": 92,
     "metadata": {},
     "output_type": "execute_result"
    }
   ],
   "source": [
    "predicted_valid = best_model_random_forest.predict(features_valid)\n",
    "f1_score(target_valid, predicted_valid)"
   ]
  },
  {
   "cell_type": "markdown",
   "metadata": {},
   "source": [
    "\n",
    "Результаты для валидационной выборки неудовлетворительные, F1 мера 0,5067. "
   ]
  },
  {
   "cell_type": "markdown",
   "metadata": {},
   "source": [
    "##### Модель случайного леса для сокращенной выборки\n",
    "\n",
    "Результаты для общей выборки далеки от требуемых парамтров F1. Попробуем найти лучшие гиперпараметры для сокращенной выборки. "
   ]
  },
  {
   "cell_type": "code",
   "execution_count": 93,
   "metadata": {},
   "outputs": [
    {
     "name": "stdout",
     "output_type": "stream",
     "text": [
      "CPU times: user 13min 49s, sys: 7.13 s, total: 13min 57s\n",
      "Wall time: 13min 57s\n"
     ]
    },
    {
     "data": {
      "text/plain": [
       "GridSearchCV(cv=4, estimator=RandomForestClassifier(random_state=12345),\n",
       "             param_grid={'max_depth': range(1, 50),\n",
       "                         'n_estimators': range(1, 50)},\n",
       "             scoring='f1')"
      ]
     },
     "execution_count": 93,
     "metadata": {},
     "output_type": "execute_result"
    }
   ],
   "source": [
    "%%time\n",
    "model_random_forest = RandomForestClassifier(random_state=12345) \n",
    "parametrs = {'n_estimators': range (1, 50, 1), 'max_depth': range (1, 50, 1)} \n",
    "grid = GridSearchCV(model_random_forest, parametrs, cv=4,scoring='f1') \n",
    "#grid.fit(df_remaining.drop(['exited'],axis=1), df_remaining['exited'])\n",
    "grid.fit(features_train_short, target_train_short)\n"
   ]
  },
  {
   "cell_type": "code",
   "execution_count": 94,
   "metadata": {},
   "outputs": [
    {
     "data": {
      "text/plain": [
       "{'max_depth': 14, 'n_estimators': 45}"
      ]
     },
     "execution_count": 94,
     "metadata": {},
     "output_type": "execute_result"
    }
   ],
   "source": [
    "grid.best_params_\n"
   ]
  },
  {
   "cell_type": "code",
   "execution_count": 95,
   "metadata": {},
   "outputs": [],
   "source": [
    "best_model_random_forest_short = grid.best_estimator_"
   ]
  },
  {
   "cell_type": "code",
   "execution_count": 96,
   "metadata": {},
   "outputs": [
    {
     "data": {
      "text/plain": [
       "0.5865921787709497"
      ]
     },
     "execution_count": 96,
     "metadata": {},
     "output_type": "execute_result"
    }
   ],
   "source": [
    "predicted_valid_short = best_model_random_forest_short.predict(features_valid_short)\n",
    "f1_score(target_valid_short, predicted_valid_short)"
   ]
  },
  {
   "cell_type": "markdown",
   "metadata": {},
   "source": [
    "Для сокращенной выборки модель случайного леса тоже дала неудовлетвориттельный результат - F1 = 0,5866. \n",
    "Попробуем найти гиперпараметры, обеспечивающие максимальный показатель F1 для валидационной выборки перебором гиперпараметров в цикле. Поиск проведем сразу для сокращенного датасета. \n"
   ]
  },
  {
   "cell_type": "code",
   "execution_count": 97,
   "metadata": {},
   "outputs": [
    {
     "data": {
      "text/html": [
       "<div>\n",
       "<style scoped>\n",
       "    .dataframe tbody tr th:only-of-type {\n",
       "        vertical-align: middle;\n",
       "    }\n",
       "\n",
       "    .dataframe tbody tr th {\n",
       "        vertical-align: top;\n",
       "    }\n",
       "\n",
       "    .dataframe thead th {\n",
       "        text-align: right;\n",
       "    }\n",
       "</style>\n",
       "<table border=\"1\" class=\"dataframe\">\n",
       "  <thead>\n",
       "    <tr style=\"text-align: right;\">\n",
       "      <th></th>\n",
       "      <th>1</th>\n",
       "      <th>2</th>\n",
       "      <th>3</th>\n",
       "      <th>4</th>\n",
       "      <th>5</th>\n",
       "      <th>6</th>\n",
       "      <th>7</th>\n",
       "      <th>8</th>\n",
       "      <th>9</th>\n",
       "      <th>10</th>\n",
       "      <th>...</th>\n",
       "      <th>40</th>\n",
       "      <th>41</th>\n",
       "      <th>42</th>\n",
       "      <th>43</th>\n",
       "      <th>44</th>\n",
       "      <th>45</th>\n",
       "      <th>46</th>\n",
       "      <th>47</th>\n",
       "      <th>48</th>\n",
       "      <th>49</th>\n",
       "    </tr>\n",
       "  </thead>\n",
       "  <tbody>\n",
       "    <tr>\n",
       "      <th>1</th>\n",
       "      <td>0.217021</td>\n",
       "      <td>0.217021</td>\n",
       "      <td>0.217021</td>\n",
       "      <td>0.202586</td>\n",
       "      <td>0.409253</td>\n",
       "      <td>0.390071</td>\n",
       "      <td>0.535769</td>\n",
       "      <td>0.528804</td>\n",
       "      <td>0.526012</td>\n",
       "      <td>0.492221</td>\n",
       "      <td>...</td>\n",
       "      <td>0.517024</td>\n",
       "      <td>0.517024</td>\n",
       "      <td>0.517024</td>\n",
       "      <td>0.517024</td>\n",
       "      <td>0.517024</td>\n",
       "      <td>0.517024</td>\n",
       "      <td>0.517024</td>\n",
       "      <td>0.517024</td>\n",
       "      <td>0.517024</td>\n",
       "      <td>0.517024</td>\n",
       "    </tr>\n",
       "    <tr>\n",
       "      <th>2</th>\n",
       "      <td>0.217021</td>\n",
       "      <td>0.206452</td>\n",
       "      <td>0.289738</td>\n",
       "      <td>0.236786</td>\n",
       "      <td>0.465517</td>\n",
       "      <td>0.447917</td>\n",
       "      <td>0.479592</td>\n",
       "      <td>0.535988</td>\n",
       "      <td>0.514286</td>\n",
       "      <td>0.518934</td>\n",
       "      <td>...</td>\n",
       "      <td>0.492582</td>\n",
       "      <td>0.492582</td>\n",
       "      <td>0.492582</td>\n",
       "      <td>0.492582</td>\n",
       "      <td>0.492582</td>\n",
       "      <td>0.492582</td>\n",
       "      <td>0.492582</td>\n",
       "      <td>0.492582</td>\n",
       "      <td>0.492582</td>\n",
       "      <td>0.492582</td>\n",
       "    </tr>\n",
       "    <tr>\n",
       "      <th>3</th>\n",
       "      <td>0.084706</td>\n",
       "      <td>0.167770</td>\n",
       "      <td>0.391941</td>\n",
       "      <td>0.447140</td>\n",
       "      <td>0.458904</td>\n",
       "      <td>0.476190</td>\n",
       "      <td>0.526144</td>\n",
       "      <td>0.558140</td>\n",
       "      <td>0.555556</td>\n",
       "      <td>0.572271</td>\n",
       "      <td>...</td>\n",
       "      <td>0.538071</td>\n",
       "      <td>0.538071</td>\n",
       "      <td>0.538071</td>\n",
       "      <td>0.538071</td>\n",
       "      <td>0.538071</td>\n",
       "      <td>0.538071</td>\n",
       "      <td>0.538071</td>\n",
       "      <td>0.538071</td>\n",
       "      <td>0.538071</td>\n",
       "      <td>0.538071</td>\n",
       "    </tr>\n",
       "    <tr>\n",
       "      <th>4</th>\n",
       "      <td>0.217021</td>\n",
       "      <td>0.183406</td>\n",
       "      <td>0.265010</td>\n",
       "      <td>0.374046</td>\n",
       "      <td>0.477816</td>\n",
       "      <td>0.477663</td>\n",
       "      <td>0.519393</td>\n",
       "      <td>0.561622</td>\n",
       "      <td>0.567939</td>\n",
       "      <td>0.572280</td>\n",
       "      <td>...</td>\n",
       "      <td>0.526163</td>\n",
       "      <td>0.526163</td>\n",
       "      <td>0.526163</td>\n",
       "      <td>0.526163</td>\n",
       "      <td>0.526163</td>\n",
       "      <td>0.526163</td>\n",
       "      <td>0.526163</td>\n",
       "      <td>0.526163</td>\n",
       "      <td>0.526163</td>\n",
       "      <td>0.526163</td>\n",
       "    </tr>\n",
       "    <tr>\n",
       "      <th>5</th>\n",
       "      <td>0.084706</td>\n",
       "      <td>0.210300</td>\n",
       "      <td>0.165179</td>\n",
       "      <td>0.373333</td>\n",
       "      <td>0.453901</td>\n",
       "      <td>0.468531</td>\n",
       "      <td>0.523649</td>\n",
       "      <td>0.567353</td>\n",
       "      <td>0.567026</td>\n",
       "      <td>0.583333</td>\n",
       "      <td>...</td>\n",
       "      <td>0.547368</td>\n",
       "      <td>0.547368</td>\n",
       "      <td>0.547368</td>\n",
       "      <td>0.547368</td>\n",
       "      <td>0.547368</td>\n",
       "      <td>0.547368</td>\n",
       "      <td>0.547368</td>\n",
       "      <td>0.547368</td>\n",
       "      <td>0.547368</td>\n",
       "      <td>0.547368</td>\n",
       "    </tr>\n",
       "  </tbody>\n",
       "</table>\n",
       "<p>5 rows × 49 columns</p>\n",
       "</div>"
      ],
      "text/plain": [
       "         1         2         3         4         5         6         7   \\\n",
       "1  0.217021  0.217021  0.217021  0.202586  0.409253  0.390071  0.535769   \n",
       "2  0.217021  0.206452  0.289738  0.236786  0.465517  0.447917  0.479592   \n",
       "3  0.084706  0.167770  0.391941  0.447140  0.458904  0.476190  0.526144   \n",
       "4  0.217021  0.183406  0.265010  0.374046  0.477816  0.477663  0.519393   \n",
       "5  0.084706  0.210300  0.165179  0.373333  0.453901  0.468531  0.523649   \n",
       "\n",
       "         8         9         10  ...        40        41        42        43  \\\n",
       "1  0.528804  0.526012  0.492221  ...  0.517024  0.517024  0.517024  0.517024   \n",
       "2  0.535988  0.514286  0.518934  ...  0.492582  0.492582  0.492582  0.492582   \n",
       "3  0.558140  0.555556  0.572271  ...  0.538071  0.538071  0.538071  0.538071   \n",
       "4  0.561622  0.567939  0.572280  ...  0.526163  0.526163  0.526163  0.526163   \n",
       "5  0.567353  0.567026  0.583333  ...  0.547368  0.547368  0.547368  0.547368   \n",
       "\n",
       "         44        45        46        47        48        49  \n",
       "1  0.517024  0.517024  0.517024  0.517024  0.517024  0.517024  \n",
       "2  0.492582  0.492582  0.492582  0.492582  0.492582  0.492582  \n",
       "3  0.538071  0.538071  0.538071  0.538071  0.538071  0.538071  \n",
       "4  0.526163  0.526163  0.526163  0.526163  0.526163  0.526163  \n",
       "5  0.547368  0.547368  0.547368  0.547368  0.547368  0.547368  \n",
       "\n",
       "[5 rows x 49 columns]"
      ]
     },
     "metadata": {},
     "output_type": "display_data"
    }
   ],
   "source": [
    "best_model_forest = None\n",
    "best_result_tree_short = 0\n",
    "random_forest = pd.DataFrame()\n",
    "for i in range(1, 50):\n",
    "    for j in range(1, 50):\n",
    "        \n",
    "        model_forest = RandomForestClassifier(random_state=12345, \n",
    "                                          n_estimators=i,\n",
    "                                          max_depth=j) \n",
    "        model_forest.fit(features_train_short, target_train_short) \n",
    "        predicted_valid_short = model_forest.predict(features_valid_short)\n",
    "        result_forest = f1_score(target_valid_short, predicted_valid_short)\n",
    "        \n",
    "        random_forest.loc[i,j] = result_forest\n",
    "        if result_forest > best_result_tree_short:\n",
    "            best_random_forest_short = model_forest\n",
    "            best_result_tree_short = result_forest\n",
    "display(random_forest.head()) \n",
    "\n",
    "    "
   ]
  },
  {
   "cell_type": "code",
   "execution_count": 98,
   "metadata": {},
   "outputs": [
    {
     "data": {
      "text/plain": [
       "0.6002886002886002"
      ]
     },
     "execution_count": 98,
     "metadata": {},
     "output_type": "execute_result"
    }
   ],
   "source": [
    "best_result_tree_short"
   ]
  },
  {
   "cell_type": "markdown",
   "metadata": {},
   "source": [
    "F1 валидационной выборки 0,6002 - удовлетворяет минимальному требованию, установленному заданием, но нескольку хуже результата модели решающего дерева. "
   ]
  },
  {
   "cell_type": "code",
   "execution_count": 99,
   "metadata": {},
   "outputs": [
    {
     "data": {
      "text/plain": [
       "12"
      ]
     },
     "execution_count": 99,
     "metadata": {},
     "output_type": "execute_result"
    }
   ],
   "source": [
    "random_forest.max().idxmax()\n"
   ]
  },
  {
   "cell_type": "code",
   "execution_count": 100,
   "metadata": {},
   "outputs": [
    {
     "data": {
      "text/plain": [
       "39"
      ]
     },
     "execution_count": 100,
     "metadata": {},
     "output_type": "execute_result"
    }
   ],
   "source": [
    "random_forest.max(axis=1).idxmax()"
   ]
  },
  {
   "cell_type": "code",
   "execution_count": 101,
   "metadata": {},
   "outputs": [
    {
     "data": {
      "text/plain": [
       "0.6002886002886002"
      ]
     },
     "execution_count": 101,
     "metadata": {},
     "output_type": "execute_result"
    }
   ],
   "source": [
    "random_forest.loc[39,12]"
   ]
  },
  {
   "cell_type": "code",
   "execution_count": 102,
   "metadata": {},
   "outputs": [
    {
     "data": {
      "text/plain": [
       "0.6002886002886002"
      ]
     },
     "execution_count": 102,
     "metadata": {},
     "output_type": "execute_result"
    }
   ],
   "source": [
    "predicted_valid_short = best_random_forest_short.predict(features_valid_short)\n",
    "f1_score(target_valid_short, predicted_valid_short)"
   ]
  },
  {
   "cell_type": "code",
   "execution_count": 103,
   "metadata": {},
   "outputs": [
    {
     "data": {
      "text/plain": [
       "0.8095"
      ]
     },
     "execution_count": 103,
     "metadata": {},
     "output_type": "execute_result"
    }
   ],
   "source": [
    "accuracy_score(target_valid_short,predictions_tree_valid_short)"
   ]
  },
  {
   "cell_type": "markdown",
   "metadata": {},
   "source": [
    "##### Модель логистической регрессии"
   ]
  },
  {
   "cell_type": "code",
   "execution_count": 104,
   "metadata": {},
   "outputs": [
    {
     "data": {
      "text/plain": [
       "0.819"
      ]
     },
     "execution_count": 104,
     "metadata": {},
     "output_type": "execute_result"
    }
   ],
   "source": [
    "logistic_regression_model = LogisticRegression(random_state=12345, solver='liblinear', max_iter=200)\n",
    "logistic_regression_model.fit(features_train_short, target_train_short)\n",
    "predictions_logistic_regression= logistic_regression_model.predict(features_valid_short) \n",
    "result_logistic_regression = accuracy_score(target_valid_short,predictions_logistic_regression) \n",
    "result_logistic_regression"
   ]
  },
  {
   "cell_type": "code",
   "execution_count": 105,
   "metadata": {},
   "outputs": [
    {
     "data": {
      "text/plain": [
       "0.31439393939393945"
      ]
     },
     "execution_count": 105,
     "metadata": {},
     "output_type": "execute_result"
    }
   ],
   "source": [
    "predicted_valid = logistic_regression_model.predict(features_valid_short)\n",
    "f1_score(target_valid_short, predicted_valid)"
   ]
  },
  {
   "cell_type": "markdown",
   "metadata": {},
   "source": [
    "Результат метрики F1 очень далек от идеала и от порогового значения, установленного заданием.\n"
   ]
  },
  {
   "cell_type": "markdown",
   "metadata": {},
   "source": [
    "###### Вывод\n",
    "\n",
    "Было проведено моделирование с ипользованием трех методов:\n",
    "- Решающего дерева, \n",
    "- Случайного леса и \n",
    "- Логистической регрессии. \n",
    "\n",
    "При этом использовались два датасета  - полный, содержащий все значимые столбцы пероначального датафрейма, и сокращненный, содержащий столбцы с данными, оказывающими значимое влияние на результат. Сокращенный датафрейм позволил получить модели с лучшими показателями. \n",
    "\n",
    "Среди трех типов моделей на первоначальном этапе удалось получить удовлетворительные результаты на моделях решающего дерева и случайного леса. Логистическая регрессия имеет самые слабые метрики поэтому от этой модели имеет смысл отказаться.\n",
    "\n",
    "Имеется существенный дисбаланс данных, возможно на следующем этапе удастся улучшить метрики моделей, устранив влияние дисбаланса на модели. "
   ]
  },
  {
   "cell_type": "markdown",
   "metadata": {},
   "source": [
    "## Борьба с дисбалансом"
   ]
  },
  {
   "cell_type": "markdown",
   "metadata": {},
   "source": [
    "Для преодоления влияния дасбаланса воспользуемся следущими методами:\n",
    "- взвешивание классов, \n",
    "- увеличение выборки, \n",
    "- уменьшение выборки. \n",
    "\n",
    "Моделировние будем проводить на соращенной выборке, поскольку она дает лучшие результаты. \n",
    "\n",
    "#### Взвешивание классов\n",
    "\n",
    "Соотношение ушедших и оставшихся клиентов составляет примерно 1:4. Добавим в соотвествующие функции моделей признак class_weight='balanced'"
   ]
  },
  {
   "cell_type": "markdown",
   "metadata": {},
   "source": [
    "##### Модель решающего дерева (взвешивание классов)"
   ]
  },
  {
   "cell_type": "markdown",
   "metadata": {},
   "source": [
    "Сначала добавим аргумент class_weight в модель с выбранным гиперпараметром. "
   ]
  },
  {
   "cell_type": "code",
   "execution_count": 106,
   "metadata": {},
   "outputs": [
    {
     "data": {
      "text/plain": [
       "0.7515"
      ]
     },
     "execution_count": 106,
     "metadata": {},
     "output_type": "execute_result"
    }
   ],
   "source": [
    "model_tree_short = DecisionTreeClassifier(random_state=12345, max_depth= 8, class_weight='balanced')\n",
    "model_tree_short.fit(features_train_short, target_train_short)\n",
    "predictions_model_tree= model_tree_short.predict(features_valid_short) \n",
    "accuracy_model_tree = accuracy_score(target_valid_short,predictions_model_tree) \n",
    "accuracy_model_tree"
   ]
  },
  {
   "cell_type": "code",
   "execution_count": 107,
   "metadata": {},
   "outputs": [
    {
     "data": {
      "text/plain": [
       "0.5461187214611872"
      ]
     },
     "execution_count": 107,
     "metadata": {},
     "output_type": "execute_result"
    }
   ],
   "source": [
    "f1_score(target_valid_short, predictions_model_tree)"
   ]
  },
  {
   "cell_type": "markdown",
   "metadata": {},
   "source": [
    "В результате использования аргумента class_weight результат модели с глубиной 8 ухудшился. Попробуем повторить выбор гиперпараметров для модели решающего с аргументом class_weight='balanced'. Выбор модели проведем по макисмальному показателю f1. "
   ]
  },
  {
   "cell_type": "code",
   "execution_count": 108,
   "metadata": {},
   "outputs": [
    {
     "data": {
      "text/html": [
       "<div>\n",
       "<style scoped>\n",
       "    .dataframe tbody tr th:only-of-type {\n",
       "        vertical-align: middle;\n",
       "    }\n",
       "\n",
       "    .dataframe tbody tr th {\n",
       "        vertical-align: top;\n",
       "    }\n",
       "\n",
       "    .dataframe thead th {\n",
       "        text-align: right;\n",
       "    }\n",
       "</style>\n",
       "<table border=\"1\" class=\"dataframe\">\n",
       "  <thead>\n",
       "    <tr style=\"text-align: right;\">\n",
       "      <th></th>\n",
       "      <th>f1_valid</th>\n",
       "      <th>f1_train</th>\n",
       "    </tr>\n",
       "  </thead>\n",
       "  <tbody>\n",
       "    <tr>\n",
       "      <th>1</th>\n",
       "      <td>0.499165</td>\n",
       "      <td>0.465708</td>\n",
       "    </tr>\n",
       "    <tr>\n",
       "      <th>2</th>\n",
       "      <td>0.507414</td>\n",
       "      <td>0.486047</td>\n",
       "    </tr>\n",
       "    <tr>\n",
       "      <th>3</th>\n",
       "      <td>0.533654</td>\n",
       "      <td>0.529101</td>\n",
       "    </tr>\n",
       "    <tr>\n",
       "      <th>4</th>\n",
       "      <td>0.542259</td>\n",
       "      <td>0.536252</td>\n",
       "    </tr>\n",
       "    <tr>\n",
       "      <th>5</th>\n",
       "      <td>0.559862</td>\n",
       "      <td>0.567393</td>\n",
       "    </tr>\n",
       "    <tr>\n",
       "      <th>6</th>\n",
       "      <td>0.578097</td>\n",
       "      <td>0.596330</td>\n",
       "    </tr>\n",
       "    <tr>\n",
       "      <th>7</th>\n",
       "      <td>0.571686</td>\n",
       "      <td>0.614957</td>\n",
       "    </tr>\n",
       "    <tr>\n",
       "      <th>8</th>\n",
       "      <td>0.546119</td>\n",
       "      <td>0.629117</td>\n",
       "    </tr>\n",
       "    <tr>\n",
       "      <th>9</th>\n",
       "      <td>0.557915</td>\n",
       "      <td>0.672307</td>\n",
       "    </tr>\n",
       "    <tr>\n",
       "      <th>10</th>\n",
       "      <td>0.567829</td>\n",
       "      <td>0.695738</td>\n",
       "    </tr>\n",
       "    <tr>\n",
       "      <th>11</th>\n",
       "      <td>0.560561</td>\n",
       "      <td>0.721053</td>\n",
       "    </tr>\n",
       "    <tr>\n",
       "      <th>12</th>\n",
       "      <td>0.553719</td>\n",
       "      <td>0.753132</td>\n",
       "    </tr>\n",
       "    <tr>\n",
       "      <th>13</th>\n",
       "      <td>0.530095</td>\n",
       "      <td>0.784300</td>\n",
       "    </tr>\n",
       "    <tr>\n",
       "      <th>14</th>\n",
       "      <td>0.534502</td>\n",
       "      <td>0.819130</td>\n",
       "    </tr>\n",
       "    <tr>\n",
       "      <th>15</th>\n",
       "      <td>0.520788</td>\n",
       "      <td>0.837209</td>\n",
       "    </tr>\n",
       "    <tr>\n",
       "      <th>16</th>\n",
       "      <td>0.532584</td>\n",
       "      <td>0.856202</td>\n",
       "    </tr>\n",
       "    <tr>\n",
       "      <th>17</th>\n",
       "      <td>0.531646</td>\n",
       "      <td>0.870144</td>\n",
       "    </tr>\n",
       "    <tr>\n",
       "      <th>18</th>\n",
       "      <td>0.537835</td>\n",
       "      <td>0.883146</td>\n",
       "    </tr>\n",
       "    <tr>\n",
       "      <th>19</th>\n",
       "      <td>0.534279</td>\n",
       "      <td>0.896997</td>\n",
       "    </tr>\n",
       "  </tbody>\n",
       "</table>\n",
       "</div>"
      ],
      "text/plain": [
       "    f1_valid  f1_train\n",
       "1   0.499165  0.465708\n",
       "2   0.507414  0.486047\n",
       "3   0.533654  0.529101\n",
       "4   0.542259  0.536252\n",
       "5   0.559862  0.567393\n",
       "6   0.578097  0.596330\n",
       "7   0.571686  0.614957\n",
       "8   0.546119  0.629117\n",
       "9   0.557915  0.672307\n",
       "10  0.567829  0.695738\n",
       "11  0.560561  0.721053\n",
       "12  0.553719  0.753132\n",
       "13  0.530095  0.784300\n",
       "14  0.534502  0.819130\n",
       "15  0.520788  0.837209\n",
       "16  0.532584  0.856202\n",
       "17  0.531646  0.870144\n",
       "18  0.537835  0.883146\n",
       "19  0.534279  0.896997"
      ]
     },
     "metadata": {},
     "output_type": "display_data"
    },
    {
     "data": {
      "text/plain": [
       "'f1 лучшей модели:'"
      ]
     },
     "metadata": {},
     "output_type": "display_data"
    },
    {
     "data": {
      "text/plain": [
       "0.578096947935368"
      ]
     },
     "metadata": {},
     "output_type": "display_data"
    },
    {
     "data": {
      "text/plain": [
       "6"
      ]
     },
     "metadata": {},
     "output_type": "display_data"
    }
   ],
   "source": [
    "#проведем выбор модели по максимальному показателю f1\n",
    "best_model_tree  = None\n",
    "best_result_tree = 0\n",
    "tree_results_train = []\n",
    "tree_results_valid = []\n",
    "tree_depth = []\n",
    "\n",
    "for depth in range(1, 20):\n",
    "    model_tree = DecisionTreeClassifier(random_state=12345, max_depth= depth,class_weight='balanced') \n",
    "    model_tree.fit(features_train_short, target_train_short)\n",
    "    predictions_tree_train = model_tree.predict(features_train_short)\n",
    "    result_tree_train = f1_score(target_train_short,predictions_tree_train) \n",
    "    predictions_tree_valid = model_tree.predict(features_valid_short) \n",
    "    result_tree_valid = f1_score(target_valid_short,predictions_tree_valid) \n",
    "    tree_depth.append(depth)\n",
    "    tree_results_train.append(result_tree_train)\n",
    "    tree_results_valid.append(result_tree_valid)\n",
    "    \n",
    "     \n",
    "    if result_tree_valid > best_result_tree:\n",
    "        best_model_tree = model_tree\n",
    "        best_result_tree = result_tree_valid\n",
    "tree_outcome = pd.DataFrame(tree_results_valid, \n",
    "                            tree_depth, columns=['f1_valid']) \n",
    "tree_outcome_train = pd.DataFrame(tree_results_train, \n",
    "                                  tree_depth,columns=['f1_train']) \n",
    "tree_outcome['f1_train'] = tree_outcome_train['f1_train']\n",
    "display(tree_outcome)\n",
    "\n",
    "display (\"f1 лучшей модели:\", best_result_tree, tree_outcome['f1_valid'].idxmax())\n",
    "    "
   ]
  },
  {
   "cell_type": "markdown",
   "metadata": {},
   "source": [
    "Улучшить результат для модели решующего дерева  с помощью взвешивания классов не удалось. "
   ]
  },
  {
   "cell_type": "markdown",
   "metadata": {},
   "source": [
    "##### Модель случайного леса\n",
    "\n",
    "Проведем поиск модели с лучшей метрикой  f1 c помощью цикла."
   ]
  },
  {
   "cell_type": "code",
   "execution_count": 109,
   "metadata": {},
   "outputs": [
    {
     "data": {
      "text/plain": [
       "'F1 метрика:'"
      ]
     },
     "metadata": {},
     "output_type": "display_data"
    },
    {
     "data": {
      "text/plain": [
       "0.6276923076923077"
      ]
     },
     "metadata": {},
     "output_type": "display_data"
    },
    {
     "data": {
      "text/plain": [
       "'Accuracy:'"
      ]
     },
     "metadata": {},
     "output_type": "display_data"
    },
    {
     "data": {
      "text/plain": [
       "0.833"
      ]
     },
     "metadata": {},
     "output_type": "display_data"
    },
    {
     "data": {
      "text/html": [
       "<div>\n",
       "<style scoped>\n",
       "    .dataframe tbody tr th:only-of-type {\n",
       "        vertical-align: middle;\n",
       "    }\n",
       "\n",
       "    .dataframe tbody tr th {\n",
       "        vertical-align: top;\n",
       "    }\n",
       "\n",
       "    .dataframe thead th {\n",
       "        text-align: right;\n",
       "    }\n",
       "</style>\n",
       "<table border=\"1\" class=\"dataframe\">\n",
       "  <thead>\n",
       "    <tr style=\"text-align: right;\">\n",
       "      <th></th>\n",
       "      <th>1</th>\n",
       "      <th>2</th>\n",
       "      <th>3</th>\n",
       "      <th>4</th>\n",
       "      <th>5</th>\n",
       "      <th>6</th>\n",
       "      <th>7</th>\n",
       "      <th>8</th>\n",
       "      <th>9</th>\n",
       "      <th>10</th>\n",
       "      <th>...</th>\n",
       "      <th>40</th>\n",
       "      <th>41</th>\n",
       "      <th>42</th>\n",
       "      <th>43</th>\n",
       "      <th>44</th>\n",
       "      <th>45</th>\n",
       "      <th>46</th>\n",
       "      <th>47</th>\n",
       "      <th>48</th>\n",
       "      <th>49</th>\n",
       "    </tr>\n",
       "  </thead>\n",
       "  <tbody>\n",
       "    <tr>\n",
       "      <th>1</th>\n",
       "      <td>0.499165</td>\n",
       "      <td>0.499165</td>\n",
       "      <td>0.515206</td>\n",
       "      <td>0.505788</td>\n",
       "      <td>0.497289</td>\n",
       "      <td>0.568841</td>\n",
       "      <td>0.538160</td>\n",
       "      <td>0.542373</td>\n",
       "      <td>0.548592</td>\n",
       "      <td>0.525194</td>\n",
       "      <td>...</td>\n",
       "      <td>0.517533</td>\n",
       "      <td>0.517533</td>\n",
       "      <td>0.517533</td>\n",
       "      <td>0.517533</td>\n",
       "      <td>0.517533</td>\n",
       "      <td>0.517533</td>\n",
       "      <td>0.517533</td>\n",
       "      <td>0.517533</td>\n",
       "      <td>0.517533</td>\n",
       "      <td>0.517533</td>\n",
       "    </tr>\n",
       "    <tr>\n",
       "      <th>2</th>\n",
       "      <td>0.499165</td>\n",
       "      <td>0.532319</td>\n",
       "      <td>0.533575</td>\n",
       "      <td>0.528070</td>\n",
       "      <td>0.569002</td>\n",
       "      <td>0.585413</td>\n",
       "      <td>0.560694</td>\n",
       "      <td>0.555556</td>\n",
       "      <td>0.561798</td>\n",
       "      <td>0.533755</td>\n",
       "      <td>...</td>\n",
       "      <td>0.492041</td>\n",
       "      <td>0.492041</td>\n",
       "      <td>0.492041</td>\n",
       "      <td>0.492041</td>\n",
       "      <td>0.492041</td>\n",
       "      <td>0.492041</td>\n",
       "      <td>0.492041</td>\n",
       "      <td>0.492041</td>\n",
       "      <td>0.492041</td>\n",
       "      <td>0.492041</td>\n",
       "    </tr>\n",
       "    <tr>\n",
       "      <th>3</th>\n",
       "      <td>0.489139</td>\n",
       "      <td>0.515235</td>\n",
       "      <td>0.515907</td>\n",
       "      <td>0.542024</td>\n",
       "      <td>0.587755</td>\n",
       "      <td>0.574388</td>\n",
       "      <td>0.578579</td>\n",
       "      <td>0.585315</td>\n",
       "      <td>0.576065</td>\n",
       "      <td>0.579399</td>\n",
       "      <td>...</td>\n",
       "      <td>0.543837</td>\n",
       "      <td>0.543837</td>\n",
       "      <td>0.543837</td>\n",
       "      <td>0.543837</td>\n",
       "      <td>0.543837</td>\n",
       "      <td>0.543837</td>\n",
       "      <td>0.543837</td>\n",
       "      <td>0.543837</td>\n",
       "      <td>0.543837</td>\n",
       "      <td>0.543837</td>\n",
       "    </tr>\n",
       "    <tr>\n",
       "      <th>4</th>\n",
       "      <td>0.494400</td>\n",
       "      <td>0.546093</td>\n",
       "      <td>0.544681</td>\n",
       "      <td>0.575646</td>\n",
       "      <td>0.587786</td>\n",
       "      <td>0.580167</td>\n",
       "      <td>0.572854</td>\n",
       "      <td>0.598326</td>\n",
       "      <td>0.595213</td>\n",
       "      <td>0.587852</td>\n",
       "      <td>...</td>\n",
       "      <td>0.515950</td>\n",
       "      <td>0.515950</td>\n",
       "      <td>0.515950</td>\n",
       "      <td>0.515950</td>\n",
       "      <td>0.515950</td>\n",
       "      <td>0.515950</td>\n",
       "      <td>0.515950</td>\n",
       "      <td>0.515950</td>\n",
       "      <td>0.515950</td>\n",
       "      <td>0.515950</td>\n",
       "    </tr>\n",
       "    <tr>\n",
       "      <th>5</th>\n",
       "      <td>0.494400</td>\n",
       "      <td>0.554192</td>\n",
       "      <td>0.576147</td>\n",
       "      <td>0.584038</td>\n",
       "      <td>0.601824</td>\n",
       "      <td>0.586895</td>\n",
       "      <td>0.586528</td>\n",
       "      <td>0.603774</td>\n",
       "      <td>0.590336</td>\n",
       "      <td>0.594360</td>\n",
       "      <td>...</td>\n",
       "      <td>0.562421</td>\n",
       "      <td>0.562421</td>\n",
       "      <td>0.562421</td>\n",
       "      <td>0.562421</td>\n",
       "      <td>0.562421</td>\n",
       "      <td>0.562421</td>\n",
       "      <td>0.562421</td>\n",
       "      <td>0.562421</td>\n",
       "      <td>0.562421</td>\n",
       "      <td>0.562421</td>\n",
       "    </tr>\n",
       "  </tbody>\n",
       "</table>\n",
       "<p>5 rows × 49 columns</p>\n",
       "</div>"
      ],
      "text/plain": [
       "         1         2         3         4         5         6         7   \\\n",
       "1  0.499165  0.499165  0.515206  0.505788  0.497289  0.568841  0.538160   \n",
       "2  0.499165  0.532319  0.533575  0.528070  0.569002  0.585413  0.560694   \n",
       "3  0.489139  0.515235  0.515907  0.542024  0.587755  0.574388  0.578579   \n",
       "4  0.494400  0.546093  0.544681  0.575646  0.587786  0.580167  0.572854   \n",
       "5  0.494400  0.554192  0.576147  0.584038  0.601824  0.586895  0.586528   \n",
       "\n",
       "         8         9         10  ...        40        41        42        43  \\\n",
       "1  0.542373  0.548592  0.525194  ...  0.517533  0.517533  0.517533  0.517533   \n",
       "2  0.555556  0.561798  0.533755  ...  0.492041  0.492041  0.492041  0.492041   \n",
       "3  0.585315  0.576065  0.579399  ...  0.543837  0.543837  0.543837  0.543837   \n",
       "4  0.598326  0.595213  0.587852  ...  0.515950  0.515950  0.515950  0.515950   \n",
       "5  0.603774  0.590336  0.594360  ...  0.562421  0.562421  0.562421  0.562421   \n",
       "\n",
       "         44        45        46        47        48        49  \n",
       "1  0.517533  0.517533  0.517533  0.517533  0.517533  0.517533  \n",
       "2  0.492041  0.492041  0.492041  0.492041  0.492041  0.492041  \n",
       "3  0.543837  0.543837  0.543837  0.543837  0.543837  0.543837  \n",
       "4  0.515950  0.515950  0.515950  0.515950  0.515950  0.515950  \n",
       "5  0.562421  0.562421  0.562421  0.562421  0.562421  0.562421  \n",
       "\n",
       "[5 rows x 49 columns]"
      ]
     },
     "metadata": {},
     "output_type": "display_data"
    }
   ],
   "source": [
    "best_model_forest = None\n",
    "best_result_tree_short = 0\n",
    "random_forest = pd.DataFrame()\n",
    "for i in range(1, 50):\n",
    "    for j in range(1, 50):\n",
    "        \n",
    "        model_forest = RandomForestClassifier(random_state=12345, \n",
    "                                          n_estimators=i,\n",
    "                                          max_depth=j, class_weight='balanced') \n",
    "        model_forest.fit(features_train_short, target_train_short) \n",
    "        predicted_valid_short = model_forest.predict(features_valid_short)\n",
    "        result_forest = f1_score(target_valid_short, predicted_valid_short)\n",
    "        \n",
    "        random_forest.loc[i,j] = result_forest\n",
    "        if result_forest > best_result_tree_short:\n",
    "            best_random_forest_short_weighted_class = model_forest\n",
    "            best_result_tree_short = result_forest\n",
    "display ('F1 метрика:', best_result_tree_short)\n",
    "display ('Accuracy:', accuracy_score(target_valid_short, predicted_valid_short))\n",
    "display(random_forest.head()) \n",
    "\n",
    "    "
   ]
  },
  {
   "cell_type": "code",
   "execution_count": 110,
   "metadata": {},
   "outputs": [
    {
     "data": {
      "text/plain": [
       "RandomForestClassifier(class_weight='balanced', max_depth=6, n_estimators=40,\n",
       "                       random_state=12345)"
      ]
     },
     "execution_count": 110,
     "metadata": {},
     "output_type": "execute_result"
    }
   ],
   "source": [
    " best_random_forest_short_weighted_class"
   ]
  },
  {
   "cell_type": "code",
   "execution_count": 111,
   "metadata": {},
   "outputs": [
    {
     "data": {
      "text/plain": [
       "0.8733155343324835"
      ]
     },
     "execution_count": 111,
     "metadata": {},
     "output_type": "execute_result"
    }
   ],
   "source": [
    "probabilities_valid = best_random_forest_short_weighted_class.predict_proba(features_valid_short)\n",
    "probabilities_one_valid = probabilities_valid[:, 1]\n",
    "\n",
    "auc_roc = roc_auc_score(target_valid_short, probabilities_one_valid)\n",
    "auc_roc"
   ]
  },
  {
   "cell_type": "markdown",
   "metadata": {},
   "source": [
    "Модель случайного леса дает удовлетворительные результаты с гиперпараметрами: \n",
    "- n_estimators=40\n",
    "- max_depth=6.\n",
    "\n",
    "При этом модель имеет следующие метрики:\n",
    "\n",
    "- Accuracy - 0,832;\n",
    "- F1 - 0.6277;\n",
    "- AUC-ROC - 0,8734;"
   ]
  },
  {
   "cell_type": "markdown",
   "metadata": {},
   "source": [
    "###### Вывод\n",
    "\n",
    "Взвешивание классов позволило увеличить f1 метрику модели случайного леса Дальнейшие эксперименты с утсранением дисбалансов будем проводить для модели решающего дерева и модели случайного леса. Применение взвешивания классов не привело к улучшению метрик модели решающего дерева, однако до применения метода эта модель показала лучшие результаты, кроме того она сильно превосходит модель случайного леса в скорости, поэтому в дальнейшем рассмтрим обе указанные модели. "
   ]
  },
  {
   "cell_type": "markdown",
   "metadata": {},
   "source": [
    "#### Увеличение выборки\n",
    "\n",
    "Создаем функцию для увеличения выборки. "
   ]
  },
  {
   "cell_type": "code",
   "execution_count": 114,
   "metadata": {},
   "outputs": [],
   "source": [
    "def upsample(features, target, repeat):\n",
    "    features_zeros = features[target == 0]\n",
    "    features_ones = features[target == 1]\n",
    "    target_zeros = target[target == 0]\n",
    "    target_ones = target[target == 1]\n",
    "\n",
    "    features_upsampled = pd.concat([features_zeros] + [features_ones] * repeat)\n",
    "    target_upsampled = pd.concat([target_zeros] + [target_ones] * repeat)\n",
    "    \n",
    "    features_upsampled, target_upsampled = shuffle(\n",
    "        features_upsampled, target_upsampled, random_state=12345)\n",
    "    \n",
    "    return features_upsampled, target_upsampled"
   ]
  },
  {
   "cell_type": "code",
   "execution_count": 115,
   "metadata": {},
   "outputs": [],
   "source": [
    "features_upsampled, target_upsampled = upsample(features_train_short, target_train_short, 4)"
   ]
  },
  {
   "cell_type": "code",
   "execution_count": 116,
   "metadata": {},
   "outputs": [
    {
     "data": {
      "text/html": [
       "<div>\n",
       "<style scoped>\n",
       "    .dataframe tbody tr th:only-of-type {\n",
       "        vertical-align: middle;\n",
       "    }\n",
       "\n",
       "    .dataframe tbody tr th {\n",
       "        vertical-align: top;\n",
       "    }\n",
       "\n",
       "    .dataframe thead th {\n",
       "        text-align: right;\n",
       "    }\n",
       "</style>\n",
       "<table border=\"1\" class=\"dataframe\">\n",
       "  <thead>\n",
       "    <tr style=\"text-align: right;\">\n",
       "      <th></th>\n",
       "      <th>age</th>\n",
       "      <th>balance</th>\n",
       "      <th>num_of_products</th>\n",
       "      <th>is_active_member</th>\n",
       "      <th>geography_Germany</th>\n",
       "      <th>geography_Spain</th>\n",
       "      <th>gender_Male</th>\n",
       "    </tr>\n",
       "    <tr>\n",
       "      <th>customer_id</th>\n",
       "      <th></th>\n",
       "      <th></th>\n",
       "      <th></th>\n",
       "      <th></th>\n",
       "      <th></th>\n",
       "      <th></th>\n",
       "      <th></th>\n",
       "    </tr>\n",
       "  </thead>\n",
       "  <tbody>\n",
       "    <tr>\n",
       "      <th>15739847</th>\n",
       "      <td>-0.088430</td>\n",
       "      <td>1.127690</td>\n",
       "      <td>-0.916018</td>\n",
       "      <td>0</td>\n",
       "      <td>1</td>\n",
       "      <td>0</td>\n",
       "      <td>1</td>\n",
       "    </tr>\n",
       "    <tr>\n",
       "      <th>15699446</th>\n",
       "      <td>-1.325220</td>\n",
       "      <td>1.185273</td>\n",
       "      <td>0.797767</td>\n",
       "      <td>1</td>\n",
       "      <td>1</td>\n",
       "      <td>0</td>\n",
       "      <td>0</td>\n",
       "    </tr>\n",
       "    <tr>\n",
       "      <th>15646726</th>\n",
       "      <td>0.387258</td>\n",
       "      <td>-1.220573</td>\n",
       "      <td>-0.916018</td>\n",
       "      <td>0</td>\n",
       "      <td>0</td>\n",
       "      <td>0</td>\n",
       "      <td>1</td>\n",
       "    </tr>\n",
       "    <tr>\n",
       "      <th>15640407</th>\n",
       "      <td>0.577533</td>\n",
       "      <td>0.952809</td>\n",
       "      <td>0.797767</td>\n",
       "      <td>1</td>\n",
       "      <td>1</td>\n",
       "      <td>0</td>\n",
       "      <td>1</td>\n",
       "    </tr>\n",
       "    <tr>\n",
       "      <th>15734765</th>\n",
       "      <td>-1.800909</td>\n",
       "      <td>0.920385</td>\n",
       "      <td>-0.916018</td>\n",
       "      <td>1</td>\n",
       "      <td>0</td>\n",
       "      <td>0</td>\n",
       "      <td>0</td>\n",
       "    </tr>\n",
       "  </tbody>\n",
       "</table>\n",
       "</div>"
      ],
      "text/plain": [
       "                  age   balance  num_of_products  is_active_member  \\\n",
       "customer_id                                                          \n",
       "15739847    -0.088430  1.127690        -0.916018                 0   \n",
       "15699446    -1.325220  1.185273         0.797767                 1   \n",
       "15646726     0.387258 -1.220573        -0.916018                 0   \n",
       "15640407     0.577533  0.952809         0.797767                 1   \n",
       "15734765    -1.800909  0.920385        -0.916018                 1   \n",
       "\n",
       "             geography_Germany  geography_Spain  gender_Male  \n",
       "customer_id                                                   \n",
       "15739847                     1                0            1  \n",
       "15699446                     1                0            0  \n",
       "15646726                     0                0            1  \n",
       "15640407                     1                0            1  \n",
       "15734765                     0                0            0  "
      ]
     },
     "execution_count": 116,
     "metadata": {},
     "output_type": "execute_result"
    }
   ],
   "source": [
    "features_upsampled.head()"
   ]
  },
  {
   "cell_type": "code",
   "execution_count": 117,
   "metadata": {},
   "outputs": [
    {
     "data": {
      "text/plain": [
       "customer_id\n",
       "15739847    0\n",
       "15699446    0\n",
       "15646726    0\n",
       "15640407    0\n",
       "15734765    0\n",
       "Name: exited, dtype: int8"
      ]
     },
     "execution_count": 117,
     "metadata": {},
     "output_type": "execute_result"
    }
   ],
   "source": [
    "target_upsampled.head()"
   ]
  },
  {
   "cell_type": "markdown",
   "metadata": {},
   "source": [
    "##### Модель решающего дерева\n"
   ]
  },
  {
   "cell_type": "code",
   "execution_count": 118,
   "metadata": {
    "scrolled": true
   },
   "outputs": [
    {
     "data": {
      "text/html": [
       "<div>\n",
       "<style scoped>\n",
       "    .dataframe tbody tr th:only-of-type {\n",
       "        vertical-align: middle;\n",
       "    }\n",
       "\n",
       "    .dataframe tbody tr th {\n",
       "        vertical-align: top;\n",
       "    }\n",
       "\n",
       "    .dataframe thead th {\n",
       "        text-align: right;\n",
       "    }\n",
       "</style>\n",
       "<table border=\"1\" class=\"dataframe\">\n",
       "  <thead>\n",
       "    <tr style=\"text-align: right;\">\n",
       "      <th></th>\n",
       "      <th>f1_valid</th>\n",
       "      <th>f1_train</th>\n",
       "    </tr>\n",
       "  </thead>\n",
       "  <tbody>\n",
       "    <tr>\n",
       "      <th>1</th>\n",
       "      <td>0.499165</td>\n",
       "      <td>0.686576</td>\n",
       "    </tr>\n",
       "    <tr>\n",
       "      <th>2</th>\n",
       "      <td>0.507414</td>\n",
       "      <td>0.713959</td>\n",
       "    </tr>\n",
       "    <tr>\n",
       "      <th>3</th>\n",
       "      <td>0.507414</td>\n",
       "      <td>0.713959</td>\n",
       "    </tr>\n",
       "    <tr>\n",
       "      <th>4</th>\n",
       "      <td>0.542259</td>\n",
       "      <td>0.753270</td>\n",
       "    </tr>\n",
       "    <tr>\n",
       "      <th>5</th>\n",
       "      <td>0.561856</td>\n",
       "      <td>0.774815</td>\n",
       "    </tr>\n",
       "    <tr>\n",
       "      <th>6</th>\n",
       "      <td>0.580703</td>\n",
       "      <td>0.790504</td>\n",
       "    </tr>\n",
       "    <tr>\n",
       "      <th>7</th>\n",
       "      <td>0.572719</td>\n",
       "      <td>0.806158</td>\n",
       "    </tr>\n",
       "    <tr>\n",
       "      <th>8</th>\n",
       "      <td>0.542751</td>\n",
       "      <td>0.818237</td>\n",
       "    </tr>\n",
       "    <tr>\n",
       "      <th>9</th>\n",
       "      <td>0.559615</td>\n",
       "      <td>0.843171</td>\n",
       "    </tr>\n",
       "    <tr>\n",
       "      <th>10</th>\n",
       "      <td>0.564299</td>\n",
       "      <td>0.857229</td>\n",
       "    </tr>\n",
       "    <tr>\n",
       "      <th>11</th>\n",
       "      <td>0.559356</td>\n",
       "      <td>0.877657</td>\n",
       "    </tr>\n",
       "    <tr>\n",
       "      <th>12</th>\n",
       "      <td>0.550155</td>\n",
       "      <td>0.894146</td>\n",
       "    </tr>\n",
       "    <tr>\n",
       "      <th>13</th>\n",
       "      <td>0.529349</td>\n",
       "      <td>0.911474</td>\n",
       "    </tr>\n",
       "    <tr>\n",
       "      <th>14</th>\n",
       "      <td>0.531111</td>\n",
       "      <td>0.924639</td>\n",
       "    </tr>\n",
       "    <tr>\n",
       "      <th>15</th>\n",
       "      <td>0.531422</td>\n",
       "      <td>0.939333</td>\n",
       "    </tr>\n",
       "    <tr>\n",
       "      <th>16</th>\n",
       "      <td>0.528944</td>\n",
       "      <td>0.945455</td>\n",
       "    </tr>\n",
       "    <tr>\n",
       "      <th>17</th>\n",
       "      <td>0.533792</td>\n",
       "      <td>0.951474</td>\n",
       "    </tr>\n",
       "    <tr>\n",
       "      <th>18</th>\n",
       "      <td>0.529755</td>\n",
       "      <td>0.956953</td>\n",
       "    </tr>\n",
       "    <tr>\n",
       "      <th>19</th>\n",
       "      <td>0.529894</td>\n",
       "      <td>0.961527</td>\n",
       "    </tr>\n",
       "  </tbody>\n",
       "</table>\n",
       "</div>"
      ],
      "text/plain": [
       "    f1_valid  f1_train\n",
       "1   0.499165  0.686576\n",
       "2   0.507414  0.713959\n",
       "3   0.507414  0.713959\n",
       "4   0.542259  0.753270\n",
       "5   0.561856  0.774815\n",
       "6   0.580703  0.790504\n",
       "7   0.572719  0.806158\n",
       "8   0.542751  0.818237\n",
       "9   0.559615  0.843171\n",
       "10  0.564299  0.857229\n",
       "11  0.559356  0.877657\n",
       "12  0.550155  0.894146\n",
       "13  0.529349  0.911474\n",
       "14  0.531111  0.924639\n",
       "15  0.531422  0.939333\n",
       "16  0.528944  0.945455\n",
       "17  0.533792  0.951474\n",
       "18  0.529755  0.956953\n",
       "19  0.529894  0.961527"
      ]
     },
     "metadata": {},
     "output_type": "display_data"
    },
    {
     "data": {
      "text/plain": [
       "'f1 лучшей модели:'"
      ]
     },
     "metadata": {},
     "output_type": "display_data"
    },
    {
     "data": {
      "text/plain": [
       "0.5807033363390441"
      ]
     },
     "metadata": {},
     "output_type": "display_data"
    },
    {
     "data": {
      "text/plain": [
       "6"
      ]
     },
     "metadata": {},
     "output_type": "display_data"
    }
   ],
   "source": [
    "#проведем выбор модели по максимальному показателю f1\n",
    "best_model_tree  = None\n",
    "best_result_tree = 0\n",
    "tree_results_train = []\n",
    "tree_results_valid = []\n",
    "tree_depth = []\n",
    "\n",
    "for depth in range(1, 20):\n",
    "    model_tree = DecisionTreeClassifier(random_state=12345, max_depth= depth) \n",
    "    model_tree.fit(features_upsampled, target_upsampled)\n",
    "    predictions_tree_train = model_tree.predict(features_upsampled)\n",
    "    result_tree_train = f1_score(target_upsampled,predictions_tree_train) \n",
    "    predictions_tree_valid = model_tree.predict(features_valid_short) \n",
    "    result_tree_valid = f1_score(target_valid_short,predictions_tree_valid) \n",
    "    tree_depth.append(depth)\n",
    "    tree_results_train.append(result_tree_train)\n",
    "    tree_results_valid.append(result_tree_valid)\n",
    "    \n",
    "     \n",
    "    if result_tree_valid > best_result_tree:\n",
    "        best_model_tree = model_tree\n",
    "        best_result_tree = result_tree_valid\n",
    "tree_outcome = pd.DataFrame(tree_results_valid, \n",
    "                            tree_depth, columns=['f1_valid']) \n",
    "tree_outcome_train = pd.DataFrame(tree_results_train, \n",
    "                                  tree_depth,columns=['f1_train']) \n",
    "tree_outcome['f1_train'] = tree_outcome_train['f1_train']\n",
    "display(tree_outcome)\n",
    "\n",
    "display (\"f1 лучшей модели:\", best_result_tree, tree_outcome['f1_valid'].idxmax())\n",
    "    "
   ]
  },
  {
   "cell_type": "markdown",
   "metadata": {},
   "source": [
    "Результат оказался несколько лучше, чем при устранении дисбаланса методом взвешивания классов, но он остается ниже искомого уровня. "
   ]
  },
  {
   "cell_type": "markdown",
   "metadata": {},
   "source": [
    "##### Модель случайного леса (увеличение выборки) "
   ]
  },
  {
   "cell_type": "code",
   "execution_count": 119,
   "metadata": {},
   "outputs": [
    {
     "data": {
      "text/plain": [
       "'F1 метрика:'"
      ]
     },
     "metadata": {},
     "output_type": "display_data"
    },
    {
     "data": {
      "text/plain": [
       "0.6206896551724138"
      ]
     },
     "metadata": {},
     "output_type": "display_data"
    },
    {
     "data": {
      "text/plain": [
       "'Accuracy:'"
      ]
     },
     "metadata": {},
     "output_type": "display_data"
    },
    {
     "data": {
      "text/plain": [
       "0.8075"
      ]
     },
     "metadata": {},
     "output_type": "display_data"
    }
   ],
   "source": [
    "best_model_forest = None\n",
    "best_result_tree_short = 0\n",
    "random_forest = pd.DataFrame()\n",
    "for i in range(1, 50):\n",
    "    for j in range(1, 50):\n",
    "        \n",
    "        model_forest = RandomForestClassifier(random_state=12345, \n",
    "                                          n_estimators=i,\n",
    "                                          max_depth=j) \n",
    "        model_forest.fit(features_upsampled, target_upsampled) \n",
    "        predicted_valid_short = model_forest.predict(features_valid_short)\n",
    "        result_forest = f1_score(target_valid_short, predicted_valid_short)\n",
    "        \n",
    "        random_forest.loc[i,j] = result_forest\n",
    "        if result_forest > best_result_tree_short:\n",
    "            best_random_forest_short_sample_expansion = model_forest\n",
    "            best_result_tree_short = result_forest\n",
    "display ('F1 метрика:', best_result_tree_short)\n",
    "display ('Accuracy:', accuracy_score(target_valid_short, predicted_valid_short))\n",
    "#display(random_forest.head()) \n",
    "\n",
    "    "
   ]
  },
  {
   "cell_type": "code",
   "execution_count": 120,
   "metadata": {},
   "outputs": [
    {
     "data": {
      "text/plain": [
       "RandomForestClassifier(max_depth=7, n_estimators=4, random_state=12345)"
      ]
     },
     "execution_count": 120,
     "metadata": {},
     "output_type": "execute_result"
    }
   ],
   "source": [
    "best_random_forest_short_sample_expansion\n"
   ]
  },
  {
   "cell_type": "code",
   "execution_count": 121,
   "metadata": {},
   "outputs": [
    {
     "data": {
      "text/plain": [
       "0.8649234750929666"
      ]
     },
     "execution_count": 121,
     "metadata": {},
     "output_type": "execute_result"
    }
   ],
   "source": [
    "probabilities_valid = best_random_forest_short_sample_expansion.predict_proba(features_valid_short)\n",
    "probabilities_one_valid = probabilities_valid[:, 1]\n",
    "\n",
    "auc_roc = roc_auc_score(target_valid_short, probabilities_one_valid)\n",
    "auc_roc"
   ]
  },
  {
   "cell_type": "markdown",
   "metadata": {},
   "source": [
    "Модель случайного леса дает удовлетворительные результаты с гиперпараметрами: \n",
    "- n_estimators=4\n",
    "- max_depth=7.\n",
    "\n",
    "Accuracy - 0,8075\n",
    "F1 - 0.6209\n",
    "AUC-ROC - 0,8649\n",
    "Однако метод взвешивания классов позволил добиться несколько лучших результатов. "
   ]
  },
  {
   "cell_type": "markdown",
   "metadata": {},
   "source": [
    "###### Вывод\n",
    "\n",
    "Модель случайного леса снова оказалась лучше модели решающего дерева, при этом метод взвешивания классов позволил получить несколько лучшие результаты на валидационной выборке. "
   ]
  },
  {
   "cell_type": "markdown",
   "metadata": {},
   "source": [
    "#### Уменьшение  выборки\n",
    "\n",
    "Создаем функцию для уменьшения выборки "
   ]
  },
  {
   "cell_type": "code",
   "execution_count": 122,
   "metadata": {},
   "outputs": [],
   "source": [
    "# Уменьшение выборки\n",
    "def downsample(features, target, fraction):\n",
    "    features_zeros = features[target == 0]\n",
    "    features_ones = features[target == 1]\n",
    "    target_zeros = target[target == 0]\n",
    "    target_ones = target[target == 1]\n",
    "\n",
    "    features_downsampled = pd.concat(\n",
    "        [features_zeros.sample(frac=fraction, random_state=12345)] + [features_ones])\n",
    "    target_downsampled = pd.concat([target_zeros.sample(frac=fraction, random_state=12345)] + [target_ones])\n",
    "    \n",
    "    features_downsampled, target_downsampled = shuffle(\n",
    "        features_downsampled, target_downsampled, random_state=12345)\n",
    "    \n",
    "    return features_downsampled, target_downsampled\n"
   ]
  },
  {
   "cell_type": "code",
   "execution_count": 123,
   "metadata": {},
   "outputs": [],
   "source": [
    "features_downsampled, target_downsampled = downsample(features_train_short,\n",
    "                                                      target_train_short, 0.25)\n"
   ]
  },
  {
   "cell_type": "code",
   "execution_count": 124,
   "metadata": {},
   "outputs": [
    {
     "data": {
      "text/html": [
       "<div>\n",
       "<style scoped>\n",
       "    .dataframe tbody tr th:only-of-type {\n",
       "        vertical-align: middle;\n",
       "    }\n",
       "\n",
       "    .dataframe tbody tr th {\n",
       "        vertical-align: top;\n",
       "    }\n",
       "\n",
       "    .dataframe thead th {\n",
       "        text-align: right;\n",
       "    }\n",
       "</style>\n",
       "<table border=\"1\" class=\"dataframe\">\n",
       "  <thead>\n",
       "    <tr style=\"text-align: right;\">\n",
       "      <th></th>\n",
       "      <th>age</th>\n",
       "      <th>balance</th>\n",
       "      <th>num_of_products</th>\n",
       "      <th>is_active_member</th>\n",
       "      <th>geography_Germany</th>\n",
       "      <th>geography_Spain</th>\n",
       "      <th>gender_Male</th>\n",
       "    </tr>\n",
       "    <tr>\n",
       "      <th>customer_id</th>\n",
       "      <th></th>\n",
       "      <th></th>\n",
       "      <th></th>\n",
       "      <th></th>\n",
       "      <th></th>\n",
       "      <th></th>\n",
       "      <th></th>\n",
       "    </tr>\n",
       "  </thead>\n",
       "  <tbody>\n",
       "    <tr>\n",
       "      <th>15761294</th>\n",
       "      <td>1.624048</td>\n",
       "      <td>0.978998</td>\n",
       "      <td>-0.916018</td>\n",
       "      <td>0</td>\n",
       "      <td>1</td>\n",
       "      <td>0</td>\n",
       "      <td>0</td>\n",
       "    </tr>\n",
       "    <tr>\n",
       "      <th>15689886</th>\n",
       "      <td>0.006707</td>\n",
       "      <td>0.896175</td>\n",
       "      <td>2.511553</td>\n",
       "      <td>1</td>\n",
       "      <td>1</td>\n",
       "      <td>0</td>\n",
       "      <td>1</td>\n",
       "    </tr>\n",
       "    <tr>\n",
       "      <th>15687626</th>\n",
       "      <td>0.006707</td>\n",
       "      <td>-1.220573</td>\n",
       "      <td>0.797767</td>\n",
       "      <td>0</td>\n",
       "      <td>0</td>\n",
       "      <td>0</td>\n",
       "      <td>1</td>\n",
       "    </tr>\n",
       "    <tr>\n",
       "      <th>15653306</th>\n",
       "      <td>-0.659257</td>\n",
       "      <td>0.192882</td>\n",
       "      <td>-0.916018</td>\n",
       "      <td>0</td>\n",
       "      <td>1</td>\n",
       "      <td>0</td>\n",
       "      <td>0</td>\n",
       "    </tr>\n",
       "    <tr>\n",
       "      <th>15664754</th>\n",
       "      <td>0.006707</td>\n",
       "      <td>0.885284</td>\n",
       "      <td>4.225338</td>\n",
       "      <td>1</td>\n",
       "      <td>1</td>\n",
       "      <td>0</td>\n",
       "      <td>1</td>\n",
       "    </tr>\n",
       "  </tbody>\n",
       "</table>\n",
       "</div>"
      ],
      "text/plain": [
       "                  age   balance  num_of_products  is_active_member  \\\n",
       "customer_id                                                          \n",
       "15761294     1.624048  0.978998        -0.916018                 0   \n",
       "15689886     0.006707  0.896175         2.511553                 1   \n",
       "15687626     0.006707 -1.220573         0.797767                 0   \n",
       "15653306    -0.659257  0.192882        -0.916018                 0   \n",
       "15664754     0.006707  0.885284         4.225338                 1   \n",
       "\n",
       "             geography_Germany  geography_Spain  gender_Male  \n",
       "customer_id                                                   \n",
       "15761294                     1                0            0  \n",
       "15689886                     1                0            1  \n",
       "15687626                     0                0            1  \n",
       "15653306                     1                0            0  \n",
       "15664754                     1                0            1  "
      ]
     },
     "execution_count": 124,
     "metadata": {},
     "output_type": "execute_result"
    }
   ],
   "source": [
    "features_downsampled.head()"
   ]
  },
  {
   "cell_type": "code",
   "execution_count": 125,
   "metadata": {},
   "outputs": [
    {
     "data": {
      "text/plain": [
       "customer_id\n",
       "15761294    1\n",
       "15689886    1\n",
       "15687626    1\n",
       "15653306    0\n",
       "15664754    1\n",
       "Name: exited, dtype: int8"
      ]
     },
     "execution_count": 125,
     "metadata": {},
     "output_type": "execute_result"
    }
   ],
   "source": [
    "target_downsampled.head()"
   ]
  },
  {
   "cell_type": "markdown",
   "metadata": {},
   "source": [
    "##### Модель решающего дерева (уменьшение выборки)"
   ]
  },
  {
   "cell_type": "code",
   "execution_count": 126,
   "metadata": {},
   "outputs": [
    {
     "data": {
      "text/html": [
       "<div>\n",
       "<style scoped>\n",
       "    .dataframe tbody tr th:only-of-type {\n",
       "        vertical-align: middle;\n",
       "    }\n",
       "\n",
       "    .dataframe tbody tr th {\n",
       "        vertical-align: top;\n",
       "    }\n",
       "\n",
       "    .dataframe thead th {\n",
       "        text-align: right;\n",
       "    }\n",
       "</style>\n",
       "<table border=\"1\" class=\"dataframe\">\n",
       "  <thead>\n",
       "    <tr style=\"text-align: right;\">\n",
       "      <th></th>\n",
       "      <th>f1_valid</th>\n",
       "      <th>f1_train</th>\n",
       "    </tr>\n",
       "  </thead>\n",
       "  <tbody>\n",
       "    <tr>\n",
       "      <th>1</th>\n",
       "      <td>0.480438</td>\n",
       "      <td>0.693023</td>\n",
       "    </tr>\n",
       "    <tr>\n",
       "      <th>2</th>\n",
       "      <td>0.486068</td>\n",
       "      <td>0.714829</td>\n",
       "    </tr>\n",
       "    <tr>\n",
       "      <th>3</th>\n",
       "      <td>0.515982</td>\n",
       "      <td>0.651275</td>\n",
       "    </tr>\n",
       "    <tr>\n",
       "      <th>4</th>\n",
       "      <td>0.522855</td>\n",
       "      <td>0.749611</td>\n",
       "    </tr>\n",
       "    <tr>\n",
       "      <th>5</th>\n",
       "      <td>0.554455</td>\n",
       "      <td>0.772137</td>\n",
       "    </tr>\n",
       "    <tr>\n",
       "      <th>6</th>\n",
       "      <td>0.585227</td>\n",
       "      <td>0.774084</td>\n",
       "    </tr>\n",
       "    <tr>\n",
       "      <th>7</th>\n",
       "      <td>0.561983</td>\n",
       "      <td>0.799503</td>\n",
       "    </tr>\n",
       "    <tr>\n",
       "      <th>8</th>\n",
       "      <td>0.575727</td>\n",
       "      <td>0.810061</td>\n",
       "    </tr>\n",
       "    <tr>\n",
       "      <th>9</th>\n",
       "      <td>0.527875</td>\n",
       "      <td>0.845719</td>\n",
       "    </tr>\n",
       "    <tr>\n",
       "      <th>10</th>\n",
       "      <td>0.528571</td>\n",
       "      <td>0.863785</td>\n",
       "    </tr>\n",
       "    <tr>\n",
       "      <th>11</th>\n",
       "      <td>0.509091</td>\n",
       "      <td>0.880267</td>\n",
       "    </tr>\n",
       "    <tr>\n",
       "      <th>12</th>\n",
       "      <td>0.508803</td>\n",
       "      <td>0.902349</td>\n",
       "    </tr>\n",
       "    <tr>\n",
       "      <th>13</th>\n",
       "      <td>0.504744</td>\n",
       "      <td>0.914556</td>\n",
       "    </tr>\n",
       "    <tr>\n",
       "      <th>14</th>\n",
       "      <td>0.506690</td>\n",
       "      <td>0.930963</td>\n",
       "    </tr>\n",
       "    <tr>\n",
       "      <th>15</th>\n",
       "      <td>0.509946</td>\n",
       "      <td>0.941325</td>\n",
       "    </tr>\n",
       "    <tr>\n",
       "      <th>16</th>\n",
       "      <td>0.505415</td>\n",
       "      <td>0.951701</td>\n",
       "    </tr>\n",
       "    <tr>\n",
       "      <th>17</th>\n",
       "      <td>0.494160</td>\n",
       "      <td>0.956195</td>\n",
       "    </tr>\n",
       "    <tr>\n",
       "      <th>18</th>\n",
       "      <td>0.502250</td>\n",
       "      <td>0.963987</td>\n",
       "    </tr>\n",
       "    <tr>\n",
       "      <th>19</th>\n",
       "      <td>0.499551</td>\n",
       "      <td>0.964824</td>\n",
       "    </tr>\n",
       "  </tbody>\n",
       "</table>\n",
       "</div>"
      ],
      "text/plain": [
       "    f1_valid  f1_train\n",
       "1   0.480438  0.693023\n",
       "2   0.486068  0.714829\n",
       "3   0.515982  0.651275\n",
       "4   0.522855  0.749611\n",
       "5   0.554455  0.772137\n",
       "6   0.585227  0.774084\n",
       "7   0.561983  0.799503\n",
       "8   0.575727  0.810061\n",
       "9   0.527875  0.845719\n",
       "10  0.528571  0.863785\n",
       "11  0.509091  0.880267\n",
       "12  0.508803  0.902349\n",
       "13  0.504744  0.914556\n",
       "14  0.506690  0.930963\n",
       "15  0.509946  0.941325\n",
       "16  0.505415  0.951701\n",
       "17  0.494160  0.956195\n",
       "18  0.502250  0.963987\n",
       "19  0.499551  0.964824"
      ]
     },
     "metadata": {},
     "output_type": "display_data"
    },
    {
     "data": {
      "text/plain": [
       "'f1 лучшей модели:'"
      ]
     },
     "metadata": {},
     "output_type": "display_data"
    },
    {
     "data": {
      "text/plain": [
       "0.5852272727272727"
      ]
     },
     "metadata": {},
     "output_type": "display_data"
    },
    {
     "data": {
      "text/plain": [
       "6"
      ]
     },
     "metadata": {},
     "output_type": "display_data"
    }
   ],
   "source": [
    "#проведем выбор модели по максимальному показателю f1\n",
    "best_model_tree  = None\n",
    "best_result_tree = 0\n",
    "tree_results_train = []\n",
    "tree_results_valid = []\n",
    "tree_depth = []\n",
    "\n",
    "for depth in range(1, 20):\n",
    "    model_tree = DecisionTreeClassifier(random_state=12345, max_depth= depth) \n",
    "    model_tree.fit(features_downsampled, target_downsampled)\n",
    "    predictions_tree_train = model_tree.predict(features_downsampled)\n",
    "    result_tree_train = f1_score(target_downsampled,predictions_tree_train) \n",
    "    predictions_tree_valid = model_tree.predict(features_valid_short) \n",
    "    result_tree_valid = f1_score(target_valid_short,predictions_tree_valid) \n",
    "    tree_depth.append(depth)\n",
    "    tree_results_train.append(result_tree_train)\n",
    "    tree_results_valid.append(result_tree_valid)\n",
    "    \n",
    "     \n",
    "    if result_tree_valid > best_result_tree:\n",
    "        best_model_tree = model_tree\n",
    "        best_result_tree = result_tree_valid\n",
    "tree_outcome = pd.DataFrame(tree_results_valid, \n",
    "                            tree_depth, columns=['f1_valid']) \n",
    "tree_outcome_train = pd.DataFrame(tree_results_train, \n",
    "                                  tree_depth,columns=['f1_train']) \n",
    "tree_outcome['f1_train'] = tree_outcome_train['f1_train']\n",
    "display(tree_outcome)\n",
    "\n",
    "display (\"f1 лучшей модели:\", best_result_tree, tree_outcome['f1_valid'].idxmax())\n",
    "    "
   ]
  },
  {
   "cell_type": "markdown",
   "metadata": {},
   "source": [
    "Добиться искомого результата с моделью решающего дерева так и не удалось. "
   ]
  },
  {
   "cell_type": "markdown",
   "metadata": {},
   "source": [
    "##### Модель случайного леса (уменьшение выборки) "
   ]
  },
  {
   "cell_type": "code",
   "execution_count": 127,
   "metadata": {},
   "outputs": [
    {
     "data": {
      "text/plain": [
       "'F1 метрика:'"
      ]
     },
     "metadata": {},
     "output_type": "display_data"
    },
    {
     "data": {
      "text/plain": [
       "0.6197458455522972"
      ]
     },
     "metadata": {},
     "output_type": "display_data"
    },
    {
     "data": {
      "text/plain": [
       "'Accuracy:'"
      ]
     },
     "metadata": {},
     "output_type": "display_data"
    },
    {
     "data": {
      "text/plain": [
       "0.744"
      ]
     },
     "metadata": {},
     "output_type": "display_data"
    }
   ],
   "source": [
    "best_model_forest = None\n",
    "best_result_tree_short = 0\n",
    "random_forest = pd.DataFrame()\n",
    "for i in range(1, 50):\n",
    "    for j in range(1, 50):\n",
    "        \n",
    "        model_forest = RandomForestClassifier(random_state=12345, \n",
    "                                          n_estimators=i,\n",
    "                                          max_depth=j) \n",
    "        model_forest.fit(features_downsampled, target_downsampled) \n",
    "        predicted_valid_short = model_forest.predict(features_valid_short)\n",
    "        result_forest = f1_score(target_valid_short, predicted_valid_short)\n",
    "        \n",
    "        random_forest.loc[i,j] = result_forest\n",
    "        if result_forest > best_result_tree_short:\n",
    "            best_random_forest_short_sample_reduction = model_forest\n",
    "            best_result_tree_short = result_forest\n",
    "display ('F1 метрика:', best_result_tree_short)\n",
    "display ('Accuracy:', accuracy_score(target_valid_short, predicted_valid_short))\n",
    "#display(random_forest.head()) \n",
    "\n",
    "    "
   ]
  },
  {
   "cell_type": "code",
   "execution_count": 128,
   "metadata": {},
   "outputs": [
    {
     "data": {
      "text/plain": [
       "RandomForestClassifier(max_depth=6, n_estimators=25, random_state=12345)"
      ]
     },
     "execution_count": 128,
     "metadata": {},
     "output_type": "execute_result"
    }
   ],
   "source": [
    "best_random_forest_short_sample_reduction\n"
   ]
  },
  {
   "cell_type": "code",
   "execution_count": 129,
   "metadata": {},
   "outputs": [
    {
     "data": {
      "text/plain": [
       "0.8792536758638454"
      ]
     },
     "execution_count": 129,
     "metadata": {},
     "output_type": "execute_result"
    }
   ],
   "source": [
    "probabilities_valid = best_random_forest_short_sample_reduction.predict_proba(features_valid_short)\n",
    "probabilities_one_valid = probabilities_valid[:, 1]\n",
    "\n",
    "auc_roc = roc_auc_score(target_valid_short, probabilities_one_valid)\n",
    "auc_roc"
   ]
  },
  {
   "cell_type": "markdown",
   "metadata": {},
   "source": [
    "Модель случайного леса дает удовлетворительные результаты с гиперпараметрами: \n",
    "- n_estimators=40\n",
    "- max_depth=6.\n",
    "\n",
    "Accuracy - 0,742\n",
    "F1 - 0.6209\n",
    "AUC-ROC - 8793\n",
    "Однако данный метод дал самые слабые результаты, особенно ухудшилась метрика Accuracy. "
   ]
  },
  {
   "cell_type": "markdown",
   "metadata": {},
   "source": [
    "##### Вывод\n",
    "Для выбранных моделей были использованы три метода борьбы с дисбалансом:\n",
    "- взвешивание классов, \n",
    "- увеличение выборки, \n",
    "- уменьшение выборки. \n",
    "\n",
    "Единственный тип модели с которым удалось добиться удовлетворительных метрик на валидационной выборке - модель случайного леса. Лучший результат для модели случайного леса получен с использованием метода взвешивания классов. Были получены следующие значения метрик для валидационной выборки:\n",
    "- Accuracy - 0,832;\n",
    "- F1 - 0.6277;\n",
    "- AUC-ROC - 0,8734;\n",
    "\n",
    "Данную модель будем использовать для тестирования. "
   ]
  },
  {
   "cell_type": "markdown",
   "metadata": {},
   "source": [
    "## Тестирование модели"
   ]
  },
  {
   "cell_type": "code",
   "execution_count": 134,
   "metadata": {},
   "outputs": [
    {
     "data": {
      "text/plain": [
       "RandomForestClassifier(class_weight='balanced', max_depth=6, n_estimators=40,\n",
       "                       random_state=12345)"
      ]
     },
     "execution_count": 134,
     "metadata": {},
     "output_type": "execute_result"
    }
   ],
   "source": [
    "best_random_forest_short_weighted_class"
   ]
  },
  {
   "cell_type": "code",
   "execution_count": 135,
   "metadata": {},
   "outputs": [
    {
     "data": {
      "text/plain": [
       "0.6307053941908713"
      ]
     },
     "execution_count": 135,
     "metadata": {},
     "output_type": "execute_result"
    }
   ],
   "source": [
    "predicted_test_short = best_random_forest_short_weighted_class.predict(features_test_short)\n",
    "f1_score(target_test_short, predicted_test_short)"
   ]
  },
  {
   "cell_type": "code",
   "execution_count": 136,
   "metadata": {},
   "outputs": [
    {
     "data": {
      "text/plain": [
       "0.822"
      ]
     },
     "execution_count": 136,
     "metadata": {},
     "output_type": "execute_result"
    }
   ],
   "source": [
    "accuracy_score(target_test_short, predicted_test_short)"
   ]
  },
  {
   "cell_type": "code",
   "execution_count": 137,
   "metadata": {},
   "outputs": [
    {
     "data": {
      "text/plain": [
       "0.868285080149487"
      ]
     },
     "execution_count": 137,
     "metadata": {},
     "output_type": "execute_result"
    }
   ],
   "source": [
    "probabilities_test = best_random_forest_short_weighted_class.predict_proba(features_test_short)\n",
    "probabilities_one_test = probabilities_test[:, 1]\n",
    "\n",
    "auc_roc = roc_auc_score(target_test_short, probabilities_one_test)\n",
    "auc_roc"
   ]
  },
  {
   "cell_type": "code",
   "execution_count": 138,
   "metadata": {},
   "outputs": [
    {
     "data": {
      "image/png": "[encoded data removed]",
      "text/plain": [
       "<Figure size 432x432 with 1 Axes>"
      ]
     },
     "metadata": {
      "needs_background": "light"
     },
     "output_type": "display_data"
    }
   ],
   "source": [
    "fpr, tpr, thresholds = roc_curve(target_test_short, probabilities_one_test)\n",
    "#Строим график \n",
    "plt.figure(figsize=(6,6))\n",
    "plt.plot(fpr, tpr)\n",
    "plt.plot([0, 1], [0, 1], linestyle='--')\n",
    "plt.ylim([0.0, 1.0])\n",
    "plt.xlim([0.0, 1.0])\n",
    "plt.xlabel('False Positive Rate')\n",
    "plt.ylabel('True Positive Rate')\n",
    "plt.title('ROC-кривая')\n",
    "plt.show()"
   ]
  },
  {
   "cell_type": "markdown",
   "metadata": {},
   "source": [
    "###### Вывод\n",
    "Таким образом, был исследован предоставленный датасет и выделенны данные, влияющие на целевое значение (клиент покидает банк или нет). \n",
    "\n",
    "Для моделировния были рассмотрены три типа моделей: \n",
    "- модель решающего дерева,\n",
    "- модель случайного леса и \n",
    "- модель логистической регрессии. \n",
    "\n",
    "На моделе логистической регрессии не удалось добиться приемлемых значений метрики f1, модель решающего дерева показала приемлемые результаты на несбалансированнх данный, однако после балансировки данных лушие показатели удалось добиться для модели случайного леса. \n",
    "\n",
    "Мы рассмотрели три метода балансировки данных:\n",
    "- взвешивание классов, \n",
    "- уменьшение выборки, \n",
    "- увеличение выборки. \n",
    "\n",
    "Лучшие результаты показала модель случаного леса для данных сбаланированнх методом взвешивания классов. \n",
    "\n",
    "Выбранная модель успешно прошла тестирование. На тестовой выборке получены следующие метрики: \n",
    "- Accuracy - 0,822;\n",
    "- F1 - 0.6307;\n",
    "- AUC-ROC - 0,8683;\n",
    "\n",
    "Таким образом удалось добиться значения F1 меры более 0.59\n",
    "\n",
    "Модель случайного леса существенно медленнее двух других типов моделей, исследуемых в данной работе, однако только на этой модели удалось добиться необходмого результата. "
   ]
  }
 ],
 "metadata": {
  "ExecuteTimeLog": [
   {
    "duration": 1620,
    "start_time": "2022-09-05T07:33:29.339Z"
   },
   {
    "duration": 146,
    "start_time": "2022-09-05T07:50:06.419Z"
   },
   {
    "duration": 16,
    "start_time": "2022-09-05T07:50:38.341Z"
   },
   {
    "duration": 55,
    "start_time": "2022-09-05T07:53:34.713Z"
   },
   {
    "duration": 16,
    "start_time": "2022-09-05T07:54:01.416Z"
   },
   {
    "duration": 15,
    "start_time": "2022-09-05T07:54:07.676Z"
   },
   {
    "duration": 20,
    "start_time": "2022-09-05T08:06:14.648Z"
   },
   {
    "duration": 1724,
    "start_time": "2022-09-05T08:25:44.800Z"
   },
   {
    "duration": 1899,
    "start_time": "2022-09-05T08:26:55.077Z"
   },
   {
    "duration": 12,
    "start_time": "2022-09-05T08:27:40.372Z"
   },
   {
    "duration": 1664,
    "start_time": "2022-09-05T08:27:43.932Z"
   },
   {
    "duration": 15,
    "start_time": "2022-09-05T08:34:55.626Z"
   },
   {
    "duration": 19,
    "start_time": "2022-09-05T08:34:59.840Z"
   },
   {
    "duration": 79,
    "start_time": "2022-09-05T08:47:03.940Z"
   },
   {
    "duration": 39,
    "start_time": "2022-09-05T08:47:15.878Z"
   },
   {
    "duration": 24,
    "start_time": "2022-09-05T08:47:16.437Z"
   },
   {
    "duration": 4,
    "start_time": "2022-09-05T08:52:12.603Z"
   },
   {
    "duration": 13,
    "start_time": "2022-09-05T08:53:13.508Z"
   },
   {
    "duration": 13,
    "start_time": "2022-09-05T08:58:35.771Z"
   },
   {
    "duration": 14,
    "start_time": "2022-09-05T08:58:42.832Z"
   },
   {
    "duration": 14,
    "start_time": "2022-09-05T09:06:16.370Z"
   },
   {
    "duration": 46,
    "start_time": "2022-09-05T09:07:25.224Z"
   },
   {
    "duration": 13,
    "start_time": "2022-09-05T11:26:32.939Z"
   },
   {
    "duration": 15,
    "start_time": "2022-09-05T11:29:04.395Z"
   },
   {
    "duration": 5,
    "start_time": "2022-09-05T11:29:07.302Z"
   },
   {
    "duration": 3,
    "start_time": "2022-09-05T11:31:34.134Z"
   },
   {
    "duration": 13,
    "start_time": "2022-09-05T11:31:40.888Z"
   },
   {
    "duration": 4,
    "start_time": "2022-09-05T11:32:00.360Z"
   },
   {
    "duration": 13,
    "start_time": "2022-09-05T11:32:00.977Z"
   },
   {
    "duration": 43,
    "start_time": "2022-09-05T11:48:14.594Z"
   },
   {
    "duration": 41,
    "start_time": "2022-09-05T11:49:14.252Z"
   },
   {
    "duration": 5,
    "start_time": "2022-09-05T12:08:20.692Z"
   },
   {
    "duration": 9,
    "start_time": "2022-09-05T12:09:30.421Z"
   },
   {
    "duration": 5,
    "start_time": "2022-09-05T12:27:52.883Z"
   },
   {
    "duration": 12,
    "start_time": "2022-09-05T12:28:13.748Z"
   },
   {
    "duration": 63,
    "start_time": "2022-09-05T12:41:50.332Z"
   },
   {
    "duration": 63,
    "start_time": "2022-09-05T12:42:12.373Z"
   },
   {
    "duration": 17,
    "start_time": "2022-09-05T12:48:59.428Z"
   },
   {
    "duration": 4,
    "start_time": "2022-09-05T12:49:21.876Z"
   },
   {
    "duration": 61,
    "start_time": "2022-09-05T12:49:21.883Z"
   },
   {
    "duration": 3,
    "start_time": "2022-09-05T12:49:21.946Z"
   },
   {
    "duration": 26,
    "start_time": "2022-09-05T12:49:21.950Z"
   },
   {
    "duration": 28,
    "start_time": "2022-09-05T12:49:21.980Z"
   },
   {
    "duration": 65,
    "start_time": "2022-09-05T12:49:22.010Z"
   },
   {
    "duration": 4,
    "start_time": "2022-09-05T12:49:22.077Z"
   },
   {
    "duration": 4,
    "start_time": "2022-09-05T12:49:22.158Z"
   },
   {
    "duration": 308,
    "start_time": "2022-09-05T12:49:22.164Z"
   },
   {
    "duration": 0,
    "start_time": "2022-09-05T12:49:22.474Z"
   },
   {
    "duration": 0,
    "start_time": "2022-09-05T12:49:22.476Z"
   },
   {
    "duration": 0,
    "start_time": "2022-09-05T12:49:22.477Z"
   },
   {
    "duration": 0,
    "start_time": "2022-09-05T12:49:22.479Z"
   },
   {
    "duration": 0,
    "start_time": "2022-09-05T12:49:22.481Z"
   },
   {
    "duration": 0,
    "start_time": "2022-09-05T12:49:22.483Z"
   },
   {
    "duration": 22,
    "start_time": "2022-09-05T12:49:31.515Z"
   },
   {
    "duration": 4,
    "start_time": "2022-09-05T12:49:48.819Z"
   },
   {
    "duration": 53,
    "start_time": "2022-09-05T12:49:48.825Z"
   },
   {
    "duration": 5,
    "start_time": "2022-09-05T12:49:48.879Z"
   },
   {
    "duration": 27,
    "start_time": "2022-09-05T12:49:48.886Z"
   },
   {
    "duration": 40,
    "start_time": "2022-09-05T12:49:48.915Z"
   },
   {
    "duration": 56,
    "start_time": "2022-09-05T12:49:48.957Z"
   },
   {
    "duration": 10,
    "start_time": "2022-09-05T12:49:49.016Z"
   },
   {
    "duration": 21,
    "start_time": "2022-09-05T12:49:49.028Z"
   },
   {
    "duration": 446,
    "start_time": "2022-09-05T12:49:49.053Z"
   },
   {
    "duration": 0,
    "start_time": "2022-09-05T12:49:49.501Z"
   },
   {
    "duration": 0,
    "start_time": "2022-09-05T12:49:49.504Z"
   },
   {
    "duration": 0,
    "start_time": "2022-09-05T12:49:49.505Z"
   },
   {
    "duration": 0,
    "start_time": "2022-09-05T12:49:49.506Z"
   },
   {
    "duration": 0,
    "start_time": "2022-09-05T12:49:49.508Z"
   },
   {
    "duration": 0,
    "start_time": "2022-09-05T12:49:49.510Z"
   },
   {
    "duration": 3,
    "start_time": "2022-09-05T12:50:06.655Z"
   },
   {
    "duration": 3,
    "start_time": "2022-09-05T12:50:11.793Z"
   },
   {
    "duration": 13,
    "start_time": "2022-09-05T12:50:14.749Z"
   },
   {
    "duration": 60,
    "start_time": "2022-09-05T12:50:24.959Z"
   },
   {
    "duration": 6,
    "start_time": "2022-09-05T12:50:28.079Z"
   },
   {
    "duration": 16,
    "start_time": "2022-09-05T12:50:29.018Z"
   },
   {
    "duration": 4,
    "start_time": "2022-09-05T12:50:31.683Z"
   },
   {
    "duration": 12,
    "start_time": "2022-09-05T12:50:33.146Z"
   },
   {
    "duration": 5,
    "start_time": "2022-09-05T12:54:57.884Z"
   },
   {
    "duration": 5,
    "start_time": "2022-09-05T12:55:45.167Z"
   },
   {
    "duration": 9,
    "start_time": "2022-09-05T12:58:09.245Z"
   },
   {
    "duration": 7,
    "start_time": "2022-09-05T12:58:37.418Z"
   },
   {
    "duration": 6,
    "start_time": "2022-09-05T12:59:31.823Z"
   },
   {
    "duration": 15,
    "start_time": "2022-09-05T12:59:44.634Z"
   },
   {
    "duration": 11,
    "start_time": "2022-09-05T13:08:11.492Z"
   },
   {
    "duration": 14,
    "start_time": "2022-09-05T13:13:08.452Z"
   },
   {
    "duration": 50,
    "start_time": "2022-09-05T16:37:05.155Z"
   },
   {
    "duration": 1604,
    "start_time": "2022-09-05T16:37:09.441Z"
   },
   {
    "duration": 164,
    "start_time": "2022-09-05T16:37:11.048Z"
   },
   {
    "duration": 4,
    "start_time": "2022-09-05T16:37:11.214Z"
   },
   {
    "duration": 17,
    "start_time": "2022-09-05T16:37:11.220Z"
   },
   {
    "duration": 14,
    "start_time": "2022-09-05T16:37:11.239Z"
   },
   {
    "duration": 49,
    "start_time": "2022-09-05T16:37:11.254Z"
   },
   {
    "duration": 4,
    "start_time": "2022-09-05T16:37:11.305Z"
   },
   {
    "duration": 8,
    "start_time": "2022-09-05T16:37:11.310Z"
   },
   {
    "duration": 7,
    "start_time": "2022-09-05T16:37:11.319Z"
   },
   {
    "duration": 15,
    "start_time": "2022-09-05T16:37:11.328Z"
   },
   {
    "duration": 54,
    "start_time": "2022-09-05T16:37:11.345Z"
   },
   {
    "duration": 3,
    "start_time": "2022-09-05T16:37:11.401Z"
   },
   {
    "duration": 10,
    "start_time": "2022-09-05T16:37:11.406Z"
   },
   {
    "duration": 4,
    "start_time": "2022-09-05T16:37:11.417Z"
   },
   {
    "duration": 12,
    "start_time": "2022-09-05T16:37:11.423Z"
   },
   {
    "duration": 6,
    "start_time": "2022-09-05T16:37:11.437Z"
   },
   {
    "duration": 47,
    "start_time": "2022-09-05T16:37:11.445Z"
   },
   {
    "duration": 12,
    "start_time": "2022-09-05T16:37:11.494Z"
   },
   {
    "duration": 140,
    "start_time": "2022-09-05T16:37:11.507Z"
   },
   {
    "duration": 0,
    "start_time": "2022-09-05T16:37:11.649Z"
   },
   {
    "duration": 5,
    "start_time": "2022-09-05T16:37:20.904Z"
   },
   {
    "duration": 76,
    "start_time": "2022-09-05T16:38:02.205Z"
   },
   {
    "duration": 7,
    "start_time": "2022-09-05T16:38:08.315Z"
   },
   {
    "duration": 9,
    "start_time": "2022-09-05T16:41:07.774Z"
   },
   {
    "duration": 10,
    "start_time": "2022-09-05T16:41:21.476Z"
   },
   {
    "duration": 11,
    "start_time": "2022-09-05T16:50:55.632Z"
   },
   {
    "duration": 8,
    "start_time": "2022-09-05T16:53:22.496Z"
   },
   {
    "duration": 7,
    "start_time": "2022-09-05T16:53:32.331Z"
   },
   {
    "duration": 9,
    "start_time": "2022-09-05T16:53:49.942Z"
   },
   {
    "duration": 6,
    "start_time": "2022-09-05T16:54:27.919Z"
   },
   {
    "duration": 10,
    "start_time": "2022-09-05T16:54:42.493Z"
   },
   {
    "duration": 6,
    "start_time": "2022-09-05T16:54:55.668Z"
   },
   {
    "duration": 12,
    "start_time": "2022-09-05T16:55:24.768Z"
   },
   {
    "duration": 12,
    "start_time": "2022-09-05T16:55:32.604Z"
   },
   {
    "duration": 4,
    "start_time": "2022-09-05T16:55:47.145Z"
   },
   {
    "duration": 8,
    "start_time": "2022-09-05T16:56:00.087Z"
   },
   {
    "duration": 5,
    "start_time": "2022-09-05T16:57:19.643Z"
   },
   {
    "duration": 310,
    "start_time": "2022-09-05T16:57:33.802Z"
   },
   {
    "duration": 300,
    "start_time": "2022-09-05T16:58:00.692Z"
   },
   {
    "duration": 13,
    "start_time": "2022-09-05T16:58:52.383Z"
   },
   {
    "duration": 16,
    "start_time": "2022-09-05T16:59:23.819Z"
   },
   {
    "duration": 9,
    "start_time": "2022-09-05T16:59:30.317Z"
   },
   {
    "duration": 13,
    "start_time": "2022-09-05T20:12:21.236Z"
   },
   {
    "duration": 7,
    "start_time": "2022-09-05T20:12:32.119Z"
   },
   {
    "duration": 12,
    "start_time": "2022-09-05T20:13:34.358Z"
   },
   {
    "duration": 6,
    "start_time": "2022-09-05T20:13:40.378Z"
   },
   {
    "duration": 8,
    "start_time": "2022-09-05T20:13:40.942Z"
   },
   {
    "duration": 7,
    "start_time": "2022-09-05T20:14:18.235Z"
   },
   {
    "duration": 2104,
    "start_time": "2022-09-05T20:19:11.940Z"
   },
   {
    "duration": 8,
    "start_time": "2022-09-05T20:19:37.236Z"
   },
   {
    "duration": 9,
    "start_time": "2022-09-05T20:20:23.140Z"
   },
   {
    "duration": 14,
    "start_time": "2022-09-05T20:23:25.805Z"
   },
   {
    "duration": 8,
    "start_time": "2022-09-05T20:23:52.347Z"
   },
   {
    "duration": 5,
    "start_time": "2022-09-05T20:24:18.165Z"
   },
   {
    "duration": 11,
    "start_time": "2022-09-05T20:24:31.198Z"
   },
   {
    "duration": 11,
    "start_time": "2022-09-05T20:40:19.783Z"
   },
   {
    "duration": 9,
    "start_time": "2022-09-05T20:40:32.128Z"
   },
   {
    "duration": 7,
    "start_time": "2022-09-05T20:48:32.858Z"
   },
   {
    "duration": 10,
    "start_time": "2022-09-05T20:51:28.921Z"
   },
   {
    "duration": 6,
    "start_time": "2022-09-05T20:57:22.160Z"
   },
   {
    "duration": 7,
    "start_time": "2022-09-05T20:58:40.927Z"
   },
   {
    "duration": 43,
    "start_time": "2022-09-06T08:25:49.857Z"
   },
   {
    "duration": 1492,
    "start_time": "2022-09-06T08:25:54.543Z"
   },
   {
    "duration": 82,
    "start_time": "2022-09-06T08:25:56.038Z"
   },
   {
    "duration": 3,
    "start_time": "2022-09-06T08:25:56.122Z"
   },
   {
    "duration": 25,
    "start_time": "2022-09-06T08:25:56.126Z"
   },
   {
    "duration": 11,
    "start_time": "2022-09-06T08:25:56.153Z"
   },
   {
    "duration": 38,
    "start_time": "2022-09-06T08:25:56.166Z"
   },
   {
    "duration": 3,
    "start_time": "2022-09-06T08:25:56.206Z"
   },
   {
    "duration": 10,
    "start_time": "2022-09-06T08:25:56.211Z"
   },
   {
    "duration": 9,
    "start_time": "2022-09-06T08:25:56.222Z"
   },
   {
    "duration": 14,
    "start_time": "2022-09-06T08:25:56.232Z"
   },
   {
    "duration": 34,
    "start_time": "2022-09-06T08:25:56.248Z"
   },
   {
    "duration": 5,
    "start_time": "2022-09-06T08:25:56.283Z"
   },
   {
    "duration": 21,
    "start_time": "2022-09-06T08:25:56.289Z"
   },
   {
    "duration": 8,
    "start_time": "2022-09-06T08:25:56.313Z"
   },
   {
    "duration": 16,
    "start_time": "2022-09-06T08:25:56.322Z"
   },
   {
    "duration": 6,
    "start_time": "2022-09-06T08:25:56.339Z"
   },
   {
    "duration": 13,
    "start_time": "2022-09-06T08:25:56.346Z"
   },
   {
    "duration": 11,
    "start_time": "2022-09-06T08:25:56.361Z"
   },
   {
    "duration": 4,
    "start_time": "2022-09-06T08:25:56.373Z"
   },
   {
    "duration": 6,
    "start_time": "2022-09-06T08:25:56.409Z"
   },
   {
    "duration": 10,
    "start_time": "2022-09-06T08:25:56.417Z"
   },
   {
    "duration": 6,
    "start_time": "2022-09-06T08:25:56.428Z"
   },
   {
    "duration": 9,
    "start_time": "2022-09-06T08:25:56.436Z"
   },
   {
    "duration": 9,
    "start_time": "2022-09-06T08:25:56.447Z"
   },
   {
    "duration": 15,
    "start_time": "2022-09-06T08:25:56.458Z"
   },
   {
    "duration": 18,
    "start_time": "2022-09-06T08:25:56.474Z"
   },
   {
    "duration": 19,
    "start_time": "2022-09-06T08:25:56.494Z"
   },
   {
    "duration": 8,
    "start_time": "2022-09-06T08:25:56.515Z"
   },
   {
    "duration": 12,
    "start_time": "2022-09-06T08:25:56.524Z"
   },
   {
    "duration": 6,
    "start_time": "2022-09-06T08:28:49.770Z"
   },
   {
    "duration": 9,
    "start_time": "2022-09-06T08:29:11.537Z"
   },
   {
    "duration": 1807,
    "start_time": "2022-09-06T08:37:09.232Z"
   },
   {
    "duration": 9,
    "start_time": "2022-09-06T08:37:20.038Z"
   },
   {
    "duration": 12,
    "start_time": "2022-09-06T08:37:27.238Z"
   },
   {
    "duration": 4,
    "start_time": "2022-09-06T08:37:31.071Z"
   },
   {
    "duration": 5,
    "start_time": "2022-09-06T08:39:00.394Z"
   },
   {
    "duration": 7,
    "start_time": "2022-09-06T08:41:23.157Z"
   },
   {
    "duration": 15,
    "start_time": "2022-09-06T08:50:40.053Z"
   },
   {
    "duration": 778,
    "start_time": "2022-09-06T08:50:50.081Z"
   },
   {
    "duration": 47,
    "start_time": "2022-09-06T08:51:09.638Z"
   },
   {
    "duration": 936,
    "start_time": "2022-09-06T08:51:21.049Z"
   },
   {
    "duration": 3,
    "start_time": "2022-09-06T08:51:26.909Z"
   },
   {
    "duration": 3,
    "start_time": "2022-09-06T08:51:30.545Z"
   },
   {
    "duration": 8,
    "start_time": "2022-09-06T08:51:35.297Z"
   },
   {
    "duration": 3,
    "start_time": "2022-09-06T08:51:42.139Z"
   },
   {
    "duration": 8,
    "start_time": "2022-09-06T08:51:42.616Z"
   },
   {
    "duration": 10,
    "start_time": "2022-09-06T08:52:13.267Z"
   },
   {
    "duration": 11,
    "start_time": "2022-09-06T08:52:19.246Z"
   },
   {
    "duration": 60,
    "start_time": "2022-09-06T08:53:40.153Z"
   },
   {
    "duration": 4,
    "start_time": "2022-09-06T08:53:51.300Z"
   },
   {
    "duration": 4,
    "start_time": "2022-09-06T08:53:53.831Z"
   },
   {
    "duration": 7,
    "start_time": "2022-09-06T08:53:54.351Z"
   },
   {
    "duration": 5,
    "start_time": "2022-09-06T09:05:18.539Z"
   },
   {
    "duration": 8,
    "start_time": "2022-09-06T09:06:20.099Z"
   },
   {
    "duration": 7,
    "start_time": "2022-09-06T09:34:02.787Z"
   },
   {
    "duration": 8,
    "start_time": "2022-09-06T09:35:06.934Z"
   },
   {
    "duration": 8,
    "start_time": "2022-09-06T09:35:41.450Z"
   },
   {
    "duration": 15,
    "start_time": "2022-09-06T09:53:09.504Z"
   },
   {
    "duration": 12,
    "start_time": "2022-09-06T09:53:18.690Z"
   },
   {
    "duration": 11,
    "start_time": "2022-09-06T09:53:43.098Z"
   },
   {
    "duration": 7,
    "start_time": "2022-09-06T09:53:54.643Z"
   },
   {
    "duration": 9,
    "start_time": "2022-09-06T09:56:45.069Z"
   },
   {
    "duration": 4,
    "start_time": "2022-09-06T09:58:53.247Z"
   },
   {
    "duration": 5,
    "start_time": "2022-09-06T09:59:12.114Z"
   },
   {
    "duration": 5,
    "start_time": "2022-09-06T09:59:25.942Z"
   },
   {
    "duration": 7,
    "start_time": "2022-09-06T09:59:28.754Z"
   },
   {
    "duration": 6,
    "start_time": "2022-09-06T10:00:25.236Z"
   },
   {
    "duration": 7,
    "start_time": "2022-09-06T10:00:38.135Z"
   },
   {
    "duration": 5,
    "start_time": "2022-09-06T10:00:51.876Z"
   },
   {
    "duration": 6,
    "start_time": "2022-09-06T10:01:13.585Z"
   },
   {
    "duration": 9,
    "start_time": "2022-09-06T10:01:21.614Z"
   },
   {
    "duration": 6,
    "start_time": "2022-09-06T10:01:32.529Z"
   },
   {
    "duration": 4,
    "start_time": "2022-09-06T10:01:54.835Z"
   },
   {
    "duration": 5,
    "start_time": "2022-09-06T10:01:55.725Z"
   },
   {
    "duration": 10,
    "start_time": "2022-09-06T10:03:10.112Z"
   },
   {
    "duration": 5,
    "start_time": "2022-09-06T10:03:15.735Z"
   },
   {
    "duration": 69,
    "start_time": "2022-09-06T10:03:55.206Z"
   },
   {
    "duration": 12,
    "start_time": "2022-09-06T10:03:59.408Z"
   },
   {
    "duration": 7,
    "start_time": "2022-09-06T10:04:07.338Z"
   },
   {
    "duration": 9,
    "start_time": "2022-09-06T10:06:02.410Z"
   },
   {
    "duration": 12,
    "start_time": "2022-09-06T10:06:09.404Z"
   },
   {
    "duration": 14,
    "start_time": "2022-09-06T10:10:17.379Z"
   },
   {
    "duration": 12,
    "start_time": "2022-09-06T10:10:55.884Z"
   },
   {
    "duration": 11,
    "start_time": "2022-09-06T10:11:04.273Z"
   },
   {
    "duration": 11,
    "start_time": "2022-09-06T10:11:11.574Z"
   },
   {
    "duration": 12,
    "start_time": "2022-09-06T10:11:34.138Z"
   },
   {
    "duration": 4,
    "start_time": "2022-09-06T12:43:46.509Z"
   },
   {
    "duration": 8,
    "start_time": "2022-09-06T12:44:13.311Z"
   },
   {
    "duration": 10,
    "start_time": "2022-09-06T12:48:58.418Z"
   },
   {
    "duration": 10,
    "start_time": "2022-09-06T12:49:33.215Z"
   },
   {
    "duration": 4,
    "start_time": "2022-09-06T12:50:58.527Z"
   },
   {
    "duration": 6,
    "start_time": "2022-09-06T12:51:26.152Z"
   },
   {
    "duration": 45,
    "start_time": "2022-09-06T12:57:59.529Z"
   },
   {
    "duration": 10,
    "start_time": "2022-09-06T12:58:11.767Z"
   },
   {
    "duration": 6,
    "start_time": "2022-09-06T13:00:47.143Z"
   },
   {
    "duration": 7,
    "start_time": "2022-09-06T13:01:02.352Z"
   },
   {
    "duration": 49,
    "start_time": "2022-09-07T06:08:40.479Z"
   },
   {
    "duration": 1425,
    "start_time": "2022-09-07T06:08:46.325Z"
   },
   {
    "duration": 80,
    "start_time": "2022-09-07T06:08:47.752Z"
   },
   {
    "duration": 3,
    "start_time": "2022-09-07T06:08:47.834Z"
   },
   {
    "duration": 17,
    "start_time": "2022-09-07T06:08:47.839Z"
   },
   {
    "duration": 12,
    "start_time": "2022-09-07T06:08:47.858Z"
   },
   {
    "duration": 38,
    "start_time": "2022-09-07T06:08:47.871Z"
   },
   {
    "duration": 3,
    "start_time": "2022-09-07T06:08:47.911Z"
   },
   {
    "duration": 6,
    "start_time": "2022-09-07T06:08:47.915Z"
   },
   {
    "duration": 3,
    "start_time": "2022-09-07T06:08:47.923Z"
   },
   {
    "duration": 36,
    "start_time": "2022-09-07T06:08:47.928Z"
   },
   {
    "duration": 37,
    "start_time": "2022-09-07T06:08:47.966Z"
   },
   {
    "duration": 4,
    "start_time": "2022-09-07T06:08:48.005Z"
   },
   {
    "duration": 12,
    "start_time": "2022-09-07T06:08:48.011Z"
   },
   {
    "duration": 27,
    "start_time": "2022-09-07T06:08:48.025Z"
   },
   {
    "duration": 12,
    "start_time": "2022-09-07T06:08:48.054Z"
   },
   {
    "duration": 8,
    "start_time": "2022-09-07T06:08:48.068Z"
   },
   {
    "duration": 10,
    "start_time": "2022-09-07T06:08:48.077Z"
   },
   {
    "duration": 11,
    "start_time": "2022-09-07T06:08:48.089Z"
   },
   {
    "duration": 6,
    "start_time": "2022-09-07T06:08:50.750Z"
   },
   {
    "duration": 36,
    "start_time": "2022-09-07T06:09:21.135Z"
   },
   {
    "duration": 49,
    "start_time": "2022-09-07T06:10:56.222Z"
   },
   {
    "duration": 4,
    "start_time": "2022-09-07T06:11:13.401Z"
   },
   {
    "duration": 77,
    "start_time": "2022-09-07T06:13:36.913Z"
   },
   {
    "duration": 4,
    "start_time": "2022-09-07T06:13:51.800Z"
   },
   {
    "duration": 8,
    "start_time": "2022-09-07T06:14:04.136Z"
   },
   {
    "duration": 9,
    "start_time": "2022-09-07T06:20:07.636Z"
   },
   {
    "duration": 11,
    "start_time": "2022-09-07T06:20:41.789Z"
   },
   {
    "duration": 4,
    "start_time": "2022-09-07T06:20:42.343Z"
   },
   {
    "duration": 49,
    "start_time": "2022-09-07T06:20:57.873Z"
   },
   {
    "duration": 8,
    "start_time": "2022-09-07T06:21:03.215Z"
   },
   {
    "duration": 9,
    "start_time": "2022-09-07T06:21:10.436Z"
   },
   {
    "duration": 5,
    "start_time": "2022-09-07T06:21:11.908Z"
   },
   {
    "duration": 10,
    "start_time": "2022-09-07T06:21:37.351Z"
   },
   {
    "duration": 6,
    "start_time": "2022-09-07T06:21:42.776Z"
   },
   {
    "duration": 9,
    "start_time": "2022-09-07T06:21:52.706Z"
   },
   {
    "duration": 37,
    "start_time": "2022-09-07T06:32:59.481Z"
   },
   {
    "duration": 34,
    "start_time": "2022-09-07T06:33:30.131Z"
   },
   {
    "duration": 4,
    "start_time": "2022-09-07T06:33:30.714Z"
   },
   {
    "duration": 35,
    "start_time": "2022-09-07T06:33:57.022Z"
   },
   {
    "duration": 36,
    "start_time": "2022-09-07T06:34:13.869Z"
   },
   {
    "duration": 47,
    "start_time": "2022-09-07T06:34:31.304Z"
   },
   {
    "duration": 49,
    "start_time": "2022-09-07T06:34:47.381Z"
   },
   {
    "duration": 36,
    "start_time": "2022-09-07T06:35:06.869Z"
   },
   {
    "duration": 72,
    "start_time": "2022-09-07T06:35:12.926Z"
   },
   {
    "duration": 72,
    "start_time": "2022-09-07T06:35:17.413Z"
   },
   {
    "duration": 11,
    "start_time": "2022-09-07T06:35:53.030Z"
   },
   {
    "duration": 16,
    "start_time": "2022-09-07T06:41:50.754Z"
   },
   {
    "duration": 947,
    "start_time": "2022-09-07T06:50:10.861Z"
   },
   {
    "duration": 1088,
    "start_time": "2022-09-07T06:50:25.568Z"
   },
   {
    "duration": 10,
    "start_time": "2022-09-07T06:51:29.130Z"
   },
   {
    "duration": 11,
    "start_time": "2022-09-07T07:08:30.644Z"
   },
   {
    "duration": 10,
    "start_time": "2022-09-07T07:10:02.174Z"
   },
   {
    "duration": 6,
    "start_time": "2022-09-07T07:10:11.293Z"
   },
   {
    "duration": 9,
    "start_time": "2022-09-07T07:10:11.954Z"
   },
   {
    "duration": 10,
    "start_time": "2022-09-07T07:10:22.096Z"
   },
   {
    "duration": 10,
    "start_time": "2022-09-07T07:10:26.287Z"
   },
   {
    "duration": 7,
    "start_time": "2022-09-07T07:10:54.402Z"
   },
   {
    "duration": 6,
    "start_time": "2022-09-07T07:11:02.248Z"
   },
   {
    "duration": 8,
    "start_time": "2022-09-07T07:12:10.114Z"
   },
   {
    "duration": 13,
    "start_time": "2022-09-07T07:13:01.049Z"
   },
   {
    "duration": 20,
    "start_time": "2022-09-07T07:13:07.357Z"
   },
   {
    "duration": 7,
    "start_time": "2022-09-07T07:13:10.218Z"
   },
   {
    "duration": 9,
    "start_time": "2022-09-07T07:13:10.749Z"
   },
   {
    "duration": 8,
    "start_time": "2022-09-07T07:13:17.177Z"
   },
   {
    "duration": 8,
    "start_time": "2022-09-07T07:13:17.673Z"
   },
   {
    "duration": 6,
    "start_time": "2022-09-07T07:13:18.293Z"
   },
   {
    "duration": 12,
    "start_time": "2022-09-07T07:27:03.759Z"
   },
   {
    "duration": 8,
    "start_time": "2022-09-07T07:27:10.543Z"
   },
   {
    "duration": 10,
    "start_time": "2022-09-07T07:27:18.774Z"
   },
   {
    "duration": 11,
    "start_time": "2022-09-07T07:27:31.153Z"
   },
   {
    "duration": 27,
    "start_time": "2022-09-07T07:28:46.570Z"
   },
   {
    "duration": 9,
    "start_time": "2022-09-07T07:30:06.659Z"
   },
   {
    "duration": 10,
    "start_time": "2022-09-07T07:30:34.645Z"
   },
   {
    "duration": 42,
    "start_time": "2022-09-07T07:32:22.746Z"
   },
   {
    "duration": 7,
    "start_time": "2022-09-07T07:32:53.481Z"
   },
   {
    "duration": 8,
    "start_time": "2022-09-07T07:33:12.051Z"
   },
   {
    "duration": 10,
    "start_time": "2022-09-07T07:34:20.643Z"
   },
   {
    "duration": 11,
    "start_time": "2022-09-07T07:47:02.247Z"
   },
   {
    "duration": 12,
    "start_time": "2022-09-07T07:47:03.651Z"
   },
   {
    "duration": 9,
    "start_time": "2022-09-07T07:47:57.905Z"
   },
   {
    "duration": 10,
    "start_time": "2022-09-07T07:47:58.556Z"
   },
   {
    "duration": 17,
    "start_time": "2022-09-07T11:38:27.881Z"
   },
   {
    "duration": 12,
    "start_time": "2022-09-07T11:38:44.824Z"
   },
   {
    "duration": 18,
    "start_time": "2022-09-07T11:39:16.558Z"
   },
   {
    "duration": 13,
    "start_time": "2022-09-07T11:39:20.329Z"
   },
   {
    "duration": 13,
    "start_time": "2022-09-07T11:39:33.744Z"
   },
   {
    "duration": 3,
    "start_time": "2022-09-07T11:39:48.279Z"
   },
   {
    "duration": 42,
    "start_time": "2022-09-07T11:39:48.284Z"
   },
   {
    "duration": 3,
    "start_time": "2022-09-07T11:39:48.327Z"
   },
   {
    "duration": 16,
    "start_time": "2022-09-07T11:39:48.331Z"
   },
   {
    "duration": 19,
    "start_time": "2022-09-07T11:39:48.349Z"
   },
   {
    "duration": 43,
    "start_time": "2022-09-07T11:39:48.378Z"
   },
   {
    "duration": 12,
    "start_time": "2022-09-07T11:39:48.638Z"
   },
   {
    "duration": 7,
    "start_time": "2022-09-07T11:39:48.654Z"
   },
   {
    "duration": 254,
    "start_time": "2022-09-07T11:39:48.665Z"
   },
   {
    "duration": 0,
    "start_time": "2022-09-07T11:39:48.921Z"
   },
   {
    "duration": 0,
    "start_time": "2022-09-07T11:39:48.922Z"
   },
   {
    "duration": 0,
    "start_time": "2022-09-07T11:39:48.923Z"
   },
   {
    "duration": 0,
    "start_time": "2022-09-07T11:39:48.924Z"
   },
   {
    "duration": 0,
    "start_time": "2022-09-07T11:39:48.925Z"
   },
   {
    "duration": 0,
    "start_time": "2022-09-07T11:39:48.926Z"
   },
   {
    "duration": 0,
    "start_time": "2022-09-07T11:39:48.927Z"
   },
   {
    "duration": 0,
    "start_time": "2022-09-07T11:39:48.928Z"
   },
   {
    "duration": 0,
    "start_time": "2022-09-07T11:39:48.929Z"
   },
   {
    "duration": 37,
    "start_time": "2022-09-07T11:39:49.032Z"
   },
   {
    "duration": 0,
    "start_time": "2022-09-07T11:39:49.071Z"
   },
   {
    "duration": 11,
    "start_time": "2022-09-07T11:39:49.181Z"
   },
   {
    "duration": 10,
    "start_time": "2022-09-07T11:39:49.443Z"
   },
   {
    "duration": 11,
    "start_time": "2022-09-07T11:39:49.736Z"
   },
   {
    "duration": 11,
    "start_time": "2022-09-07T11:39:50.079Z"
   },
   {
    "duration": 4,
    "start_time": "2022-09-07T11:39:50.286Z"
   },
   {
    "duration": 1520,
    "start_time": "2022-09-07T11:39:50.292Z"
   },
   {
    "duration": 0,
    "start_time": "2022-09-07T11:39:51.815Z"
   },
   {
    "duration": 0,
    "start_time": "2022-09-07T11:39:51.816Z"
   },
   {
    "duration": 0,
    "start_time": "2022-09-07T11:39:51.817Z"
   },
   {
    "duration": 0,
    "start_time": "2022-09-07T11:39:51.818Z"
   },
   {
    "duration": 0,
    "start_time": "2022-09-07T11:39:51.819Z"
   },
   {
    "duration": 0,
    "start_time": "2022-09-07T11:39:51.821Z"
   },
   {
    "duration": 0,
    "start_time": "2022-09-07T11:39:51.822Z"
   },
   {
    "duration": 0,
    "start_time": "2022-09-07T11:39:51.823Z"
   },
   {
    "duration": 0,
    "start_time": "2022-09-07T11:39:51.824Z"
   },
   {
    "duration": 0,
    "start_time": "2022-09-07T11:39:51.825Z"
   },
   {
    "duration": 0,
    "start_time": "2022-09-07T11:39:51.826Z"
   },
   {
    "duration": 0,
    "start_time": "2022-09-07T11:39:51.827Z"
   },
   {
    "duration": 0,
    "start_time": "2022-09-07T11:39:51.829Z"
   },
   {
    "duration": 0,
    "start_time": "2022-09-07T11:39:51.829Z"
   },
   {
    "duration": 0,
    "start_time": "2022-09-07T11:39:51.830Z"
   },
   {
    "duration": 13,
    "start_time": "2022-09-07T11:40:01.107Z"
   },
   {
    "duration": 3,
    "start_time": "2022-09-07T11:40:14.084Z"
   },
   {
    "duration": 41,
    "start_time": "2022-09-07T11:40:14.982Z"
   },
   {
    "duration": 3,
    "start_time": "2022-09-07T11:40:15.940Z"
   },
   {
    "duration": 14,
    "start_time": "2022-09-07T11:40:16.870Z"
   },
   {
    "duration": 12,
    "start_time": "2022-09-07T11:40:17.516Z"
   },
   {
    "duration": 39,
    "start_time": "2022-09-07T11:40:18.095Z"
   },
   {
    "duration": 12,
    "start_time": "2022-09-07T11:40:24.621Z"
   },
   {
    "duration": 12,
    "start_time": "2022-09-07T11:40:30.385Z"
   },
   {
    "duration": 4,
    "start_time": "2022-09-07T11:40:37.678Z"
   },
   {
    "duration": 14,
    "start_time": "2022-09-07T11:40:56.416Z"
   },
   {
    "duration": 12,
    "start_time": "2022-09-07T11:41:00.882Z"
   },
   {
    "duration": 12,
    "start_time": "2022-09-07T11:41:28.786Z"
   },
   {
    "duration": 12,
    "start_time": "2022-09-07T11:41:35.919Z"
   },
   {
    "duration": 9,
    "start_time": "2022-09-07T11:41:46.256Z"
   },
   {
    "duration": 42,
    "start_time": "2022-09-07T11:41:46.596Z"
   },
   {
    "duration": 3,
    "start_time": "2022-09-07T11:41:46.937Z"
   },
   {
    "duration": 13,
    "start_time": "2022-09-07T11:41:47.631Z"
   },
   {
    "duration": 12,
    "start_time": "2022-09-07T11:41:48.117Z"
   },
   {
    "duration": 38,
    "start_time": "2022-09-07T11:41:48.682Z"
   },
   {
    "duration": 7,
    "start_time": "2022-09-07T11:41:52.684Z"
   },
   {
    "duration": 4,
    "start_time": "2022-09-07T11:42:04.680Z"
   },
   {
    "duration": 3,
    "start_time": "2022-09-07T11:42:14.830Z"
   },
   {
    "duration": 12,
    "start_time": "2022-09-07T11:42:18.179Z"
   },
   {
    "duration": 71,
    "start_time": "2022-09-07T11:42:28.690Z"
   },
   {
    "duration": 5,
    "start_time": "2022-09-07T11:42:32.432Z"
   },
   {
    "duration": 6,
    "start_time": "2022-09-07T11:42:50.249Z"
   },
   {
    "duration": 11,
    "start_time": "2022-09-07T11:43:15.989Z"
   },
   {
    "duration": 5,
    "start_time": "2022-09-07T11:44:37.493Z"
   },
   {
    "duration": 11,
    "start_time": "2022-09-07T11:44:38.082Z"
   },
   {
    "duration": 12,
    "start_time": "2022-09-07T11:45:54.716Z"
   },
   {
    "duration": 8,
    "start_time": "2022-09-07T11:45:58.448Z"
   },
   {
    "duration": 11,
    "start_time": "2022-09-07T11:45:58.930Z"
   },
   {
    "duration": 15,
    "start_time": "2022-09-07T11:46:14.053Z"
   },
   {
    "duration": 11,
    "start_time": "2022-09-07T11:46:15.016Z"
   },
   {
    "duration": 15,
    "start_time": "2022-09-07T11:46:16.415Z"
   },
   {
    "duration": 6,
    "start_time": "2022-09-07T11:47:12.320Z"
   },
   {
    "duration": 9,
    "start_time": "2022-09-07T11:47:12.981Z"
   },
   {
    "duration": 11,
    "start_time": "2022-09-07T11:47:14.283Z"
   },
   {
    "duration": 4,
    "start_time": "2022-09-07T12:12:59.411Z"
   },
   {
    "duration": 3,
    "start_time": "2022-09-07T12:47:05.472Z"
   },
   {
    "duration": 11,
    "start_time": "2022-09-07T12:49:43.060Z"
   },
   {
    "duration": 24,
    "start_time": "2022-09-07T12:49:51.887Z"
   },
   {
    "duration": 23,
    "start_time": "2022-09-07T13:00:24.624Z"
   },
   {
    "duration": 52,
    "start_time": "2022-09-07T13:00:34.035Z"
   },
   {
    "duration": 4,
    "start_time": "2022-09-07T13:01:05.138Z"
   },
   {
    "duration": 42,
    "start_time": "2022-09-07T13:01:05.145Z"
   },
   {
    "duration": 3,
    "start_time": "2022-09-07T13:01:05.189Z"
   },
   {
    "duration": 21,
    "start_time": "2022-09-07T13:01:05.194Z"
   },
   {
    "duration": 19,
    "start_time": "2022-09-07T13:01:05.217Z"
   },
   {
    "duration": 48,
    "start_time": "2022-09-07T13:01:05.237Z"
   },
   {
    "duration": 7,
    "start_time": "2022-09-07T13:01:05.287Z"
   },
   {
    "duration": 9,
    "start_time": "2022-09-07T13:01:05.296Z"
   },
   {
    "duration": 7,
    "start_time": "2022-09-07T13:01:05.307Z"
   },
   {
    "duration": 18,
    "start_time": "2022-09-07T13:01:05.316Z"
   },
   {
    "duration": 64,
    "start_time": "2022-09-07T13:01:05.337Z"
   },
   {
    "duration": 5,
    "start_time": "2022-09-07T13:01:05.403Z"
   },
   {
    "duration": 21,
    "start_time": "2022-09-07T13:01:05.410Z"
   },
   {
    "duration": 26,
    "start_time": "2022-09-07T13:01:05.433Z"
   },
   {
    "duration": 12,
    "start_time": "2022-09-07T13:01:05.461Z"
   },
   {
    "duration": 8,
    "start_time": "2022-09-07T13:01:05.476Z"
   },
   {
    "duration": 15,
    "start_time": "2022-09-07T13:01:05.485Z"
   },
   {
    "duration": 12,
    "start_time": "2022-09-07T13:01:05.502Z"
   },
   {
    "duration": 106,
    "start_time": "2022-09-07T13:01:05.516Z"
   },
   {
    "duration": 5,
    "start_time": "2022-09-07T13:01:05.625Z"
   },
   {
    "duration": 26,
    "start_time": "2022-09-07T13:01:05.632Z"
   },
   {
    "duration": 16,
    "start_time": "2022-09-07T13:01:05.660Z"
   },
   {
    "duration": 26,
    "start_time": "2022-09-07T13:01:05.677Z"
   },
   {
    "duration": 25,
    "start_time": "2022-09-07T13:01:05.705Z"
   },
   {
    "duration": 8,
    "start_time": "2022-09-07T13:01:05.732Z"
   },
   {
    "duration": 17,
    "start_time": "2022-09-07T13:01:05.742Z"
   },
   {
    "duration": 11,
    "start_time": "2022-09-07T13:01:05.761Z"
   },
   {
    "duration": 7,
    "start_time": "2022-09-07T13:01:05.774Z"
   },
   {
    "duration": 8,
    "start_time": "2022-09-07T13:01:05.783Z"
   },
   {
    "duration": 8,
    "start_time": "2022-09-07T13:01:05.794Z"
   },
   {
    "duration": 7,
    "start_time": "2022-09-07T13:01:05.803Z"
   },
   {
    "duration": 13,
    "start_time": "2022-09-07T13:01:05.812Z"
   },
   {
    "duration": 10,
    "start_time": "2022-09-07T13:01:05.857Z"
   },
   {
    "duration": 8,
    "start_time": "2022-09-07T13:01:05.869Z"
   },
   {
    "duration": 8,
    "start_time": "2022-09-07T13:01:05.878Z"
   },
   {
    "duration": 5,
    "start_time": "2022-09-07T13:01:05.888Z"
   },
   {
    "duration": 13,
    "start_time": "2022-09-07T13:01:05.894Z"
   },
   {
    "duration": 5,
    "start_time": "2022-09-07T13:01:05.909Z"
   },
   {
    "duration": 13,
    "start_time": "2022-09-07T13:01:05.915Z"
   },
   {
    "duration": 5,
    "start_time": "2022-09-07T13:01:05.957Z"
   },
   {
    "duration": 11,
    "start_time": "2022-09-07T13:01:05.963Z"
   },
   {
    "duration": 38,
    "start_time": "2022-09-07T13:01:05.976Z"
   },
   {
    "duration": 37,
    "start_time": "2022-09-07T13:02:36.952Z"
   },
   {
    "duration": 45,
    "start_time": "2022-09-07T17:08:37.298Z"
   },
   {
    "duration": 6,
    "start_time": "2022-09-07T17:08:41.673Z"
   },
   {
    "duration": 6,
    "start_time": "2022-09-07T17:08:45.347Z"
   },
   {
    "duration": 1438,
    "start_time": "2022-09-07T17:08:49.443Z"
   },
   {
    "duration": 79,
    "start_time": "2022-09-07T17:08:50.883Z"
   },
   {
    "duration": 4,
    "start_time": "2022-09-07T17:08:50.964Z"
   },
   {
    "duration": 17,
    "start_time": "2022-09-07T17:08:50.970Z"
   },
   {
    "duration": 15,
    "start_time": "2022-09-07T17:08:50.989Z"
   },
   {
    "duration": 41,
    "start_time": "2022-09-07T17:08:51.005Z"
   },
   {
    "duration": 5,
    "start_time": "2022-09-07T17:08:51.047Z"
   },
   {
    "duration": 10,
    "start_time": "2022-09-07T17:08:51.054Z"
   },
   {
    "duration": 24,
    "start_time": "2022-09-07T17:08:51.065Z"
   },
   {
    "duration": 17,
    "start_time": "2022-09-07T17:08:51.091Z"
   },
   {
    "duration": 36,
    "start_time": "2022-09-07T17:08:51.110Z"
   },
   {
    "duration": 4,
    "start_time": "2022-09-07T17:08:51.147Z"
   },
   {
    "duration": 9,
    "start_time": "2022-09-07T17:08:51.152Z"
   },
   {
    "duration": 25,
    "start_time": "2022-09-07T17:08:51.162Z"
   },
   {
    "duration": 11,
    "start_time": "2022-09-07T17:08:51.188Z"
   },
   {
    "duration": 7,
    "start_time": "2022-09-07T17:08:51.200Z"
   },
   {
    "duration": 12,
    "start_time": "2022-09-07T17:08:51.208Z"
   },
   {
    "duration": 10,
    "start_time": "2022-09-07T17:08:51.222Z"
   },
   {
    "duration": 92,
    "start_time": "2022-09-07T17:08:51.234Z"
   },
   {
    "duration": 4,
    "start_time": "2022-09-07T17:08:51.327Z"
   },
   {
    "duration": 11,
    "start_time": "2022-09-07T17:08:51.333Z"
   },
   {
    "duration": 12,
    "start_time": "2022-09-07T17:08:51.346Z"
   },
   {
    "duration": 30,
    "start_time": "2022-09-07T17:08:51.360Z"
   },
   {
    "duration": 14,
    "start_time": "2022-09-07T17:08:51.391Z"
   },
   {
    "duration": 9,
    "start_time": "2022-09-07T17:08:51.406Z"
   },
   {
    "duration": 13,
    "start_time": "2022-09-07T17:08:51.416Z"
   },
   {
    "duration": 11,
    "start_time": "2022-09-07T17:08:51.430Z"
   },
   {
    "duration": 10,
    "start_time": "2022-09-07T17:08:51.444Z"
   },
   {
    "duration": 11,
    "start_time": "2022-09-07T17:08:51.456Z"
   },
   {
    "duration": 18,
    "start_time": "2022-09-07T17:08:51.469Z"
   },
   {
    "duration": 6,
    "start_time": "2022-09-07T17:08:51.489Z"
   },
   {
    "duration": 9,
    "start_time": "2022-09-07T17:08:51.496Z"
   },
   {
    "duration": 9,
    "start_time": "2022-09-07T17:08:51.507Z"
   },
   {
    "duration": 6,
    "start_time": "2022-09-07T17:08:51.518Z"
   },
   {
    "duration": 21,
    "start_time": "2022-09-07T17:08:51.526Z"
   },
   {
    "duration": 12,
    "start_time": "2022-09-07T17:08:51.548Z"
   },
   {
    "duration": 28,
    "start_time": "2022-09-07T17:08:51.561Z"
   },
   {
    "duration": 14,
    "start_time": "2022-09-07T17:08:51.591Z"
   },
   {
    "duration": 27,
    "start_time": "2022-09-07T17:08:51.606Z"
   },
   {
    "duration": 16,
    "start_time": "2022-09-07T17:08:51.635Z"
   },
   {
    "duration": 21,
    "start_time": "2022-09-07T17:08:51.653Z"
   },
   {
    "duration": 102,
    "start_time": "2022-09-07T17:08:51.675Z"
   },
   {
    "duration": 29,
    "start_time": "2022-09-07T17:08:57.712Z"
   },
   {
    "duration": 4,
    "start_time": "2022-09-07T17:09:08.807Z"
   },
   {
    "duration": 41,
    "start_time": "2022-09-07T17:09:11.497Z"
   },
   {
    "duration": 3,
    "start_time": "2022-09-07T17:09:12.243Z"
   },
   {
    "duration": 12,
    "start_time": "2022-09-07T17:09:12.875Z"
   },
   {
    "duration": 11,
    "start_time": "2022-09-07T17:09:13.197Z"
   },
   {
    "duration": 38,
    "start_time": "2022-09-07T17:09:13.605Z"
   },
   {
    "duration": 6,
    "start_time": "2022-09-07T17:09:15.336Z"
   },
   {
    "duration": 4,
    "start_time": "2022-09-07T17:09:16.139Z"
   },
   {
    "duration": 3,
    "start_time": "2022-09-07T17:09:16.662Z"
   },
   {
    "duration": 10,
    "start_time": "2022-09-07T17:09:17.306Z"
   },
   {
    "duration": 32,
    "start_time": "2022-09-07T17:09:20.870Z"
   },
   {
    "duration": 4,
    "start_time": "2022-09-07T17:09:22.486Z"
   },
   {
    "duration": 8,
    "start_time": "2022-09-07T17:09:23.009Z"
   },
   {
    "duration": 5,
    "start_time": "2022-09-07T17:09:24.021Z"
   },
   {
    "duration": 12,
    "start_time": "2022-09-07T17:09:24.518Z"
   },
   {
    "duration": 8,
    "start_time": "2022-09-07T17:09:25.962Z"
   },
   {
    "duration": 11,
    "start_time": "2022-09-07T17:09:26.484Z"
   },
   {
    "duration": 12,
    "start_time": "2022-09-07T17:09:28.057Z"
   },
   {
    "duration": 68,
    "start_time": "2022-09-07T17:09:31.229Z"
   },
   {
    "duration": 4,
    "start_time": "2022-09-07T17:09:31.975Z"
   },
   {
    "duration": 12,
    "start_time": "2022-09-07T17:09:33.414Z"
   },
   {
    "duration": 10,
    "start_time": "2022-09-07T17:09:34.623Z"
   },
   {
    "duration": 11,
    "start_time": "2022-09-07T17:09:38.626Z"
   },
   {
    "duration": 10,
    "start_time": "2022-09-07T17:09:39.824Z"
   },
   {
    "duration": 4,
    "start_time": "2022-09-07T17:09:41.618Z"
   },
   {
    "duration": 6,
    "start_time": "2022-09-07T17:09:42.179Z"
   },
   {
    "duration": 7,
    "start_time": "2022-09-07T17:09:43.323Z"
   },
   {
    "duration": 5,
    "start_time": "2022-09-07T17:09:45.065Z"
   },
   {
    "duration": 8,
    "start_time": "2022-09-07T17:09:46.012Z"
   },
   {
    "duration": 9,
    "start_time": "2022-09-07T17:09:46.455Z"
   },
   {
    "duration": 6,
    "start_time": "2022-09-07T17:09:46.823Z"
   },
   {
    "duration": 8,
    "start_time": "2022-09-07T17:09:47.673Z"
   },
   {
    "duration": 9,
    "start_time": "2022-09-07T17:09:48.387Z"
   },
   {
    "duration": 6,
    "start_time": "2022-09-07T17:09:49.445Z"
   },
   {
    "duration": 7,
    "start_time": "2022-09-07T17:09:49.925Z"
   },
   {
    "duration": 6,
    "start_time": "2022-09-07T17:09:52.376Z"
   },
   {
    "duration": 8,
    "start_time": "2022-09-07T17:09:52.982Z"
   },
   {
    "duration": 5,
    "start_time": "2022-09-07T17:09:54.423Z"
   },
   {
    "duration": 9,
    "start_time": "2022-09-07T17:09:54.890Z"
   },
   {
    "duration": 5,
    "start_time": "2022-09-07T17:09:55.641Z"
   },
   {
    "duration": 9,
    "start_time": "2022-09-07T17:09:56.012Z"
   },
   {
    "duration": 30,
    "start_time": "2022-09-07T17:09:58.968Z"
   },
   {
    "duration": 46,
    "start_time": "2022-09-07T17:10:07.609Z"
   },
   {
    "duration": 35,
    "start_time": "2022-09-07T17:10:15.164Z"
   },
   {
    "duration": 6,
    "start_time": "2022-09-07T17:11:54.125Z"
   },
   {
    "duration": 8,
    "start_time": "2022-09-07T17:12:32.683Z"
   },
   {
    "duration": 7,
    "start_time": "2022-09-07T18:00:00.983Z"
   },
   {
    "duration": 8,
    "start_time": "2022-09-07T18:00:49.024Z"
   },
   {
    "duration": 11,
    "start_time": "2022-09-07T18:04:10.771Z"
   },
   {
    "duration": 10,
    "start_time": "2022-09-07T18:15:36.603Z"
   },
   {
    "duration": 7,
    "start_time": "2022-09-07T18:18:22.913Z"
   },
   {
    "duration": 7,
    "start_time": "2022-09-07T18:18:57.409Z"
   },
   {
    "duration": 16,
    "start_time": "2022-09-07T18:19:17.445Z"
   },
   {
    "duration": 44,
    "start_time": "2022-09-07T18:19:46.999Z"
   },
   {
    "duration": 19,
    "start_time": "2022-09-07T18:59:34.697Z"
   },
   {
    "duration": 7,
    "start_time": "2022-09-07T19:16:41.538Z"
   },
   {
    "duration": 8,
    "start_time": "2022-09-07T19:17:39.027Z"
   },
   {
    "duration": 12,
    "start_time": "2022-09-07T19:17:54.066Z"
   },
   {
    "duration": 10,
    "start_time": "2022-09-07T19:18:04.391Z"
   },
   {
    "duration": 11,
    "start_time": "2022-09-07T19:18:04.892Z"
   },
   {
    "duration": 9,
    "start_time": "2022-09-07T19:18:18.866Z"
   },
   {
    "duration": 7,
    "start_time": "2022-09-07T19:18:21.671Z"
   },
   {
    "duration": 8,
    "start_time": "2022-09-07T19:18:22.639Z"
   },
   {
    "duration": 4,
    "start_time": "2022-09-07T19:18:31.547Z"
   },
   {
    "duration": 4,
    "start_time": "2022-09-07T19:19:25.640Z"
   },
   {
    "duration": 4,
    "start_time": "2022-09-07T19:19:43.315Z"
   },
   {
    "duration": 7,
    "start_time": "2022-09-07T19:28:49.566Z"
   },
   {
    "duration": 4,
    "start_time": "2022-09-07T19:28:50.568Z"
   },
   {
    "duration": 4,
    "start_time": "2022-09-07T19:28:51.168Z"
   },
   {
    "duration": 4,
    "start_time": "2022-09-07T19:28:51.802Z"
   },
   {
    "duration": 5,
    "start_time": "2022-09-07T19:29:08.079Z"
   },
   {
    "duration": 4,
    "start_time": "2022-09-07T19:29:46.555Z"
   },
   {
    "duration": 15,
    "start_time": "2022-09-07T19:31:01.093Z"
   },
   {
    "duration": 4,
    "start_time": "2022-09-07T19:42:28.377Z"
   },
   {
    "duration": 15,
    "start_time": "2022-09-07T19:42:40.435Z"
   },
   {
    "duration": 8,
    "start_time": "2022-09-07T19:42:52.286Z"
   },
   {
    "duration": 7,
    "start_time": "2022-09-07T19:42:52.776Z"
   },
   {
    "duration": 3,
    "start_time": "2022-09-07T19:42:53.715Z"
   },
   {
    "duration": 4,
    "start_time": "2022-09-07T19:42:54.189Z"
   },
   {
    "duration": 4,
    "start_time": "2022-09-07T19:42:54.750Z"
   },
   {
    "duration": 4,
    "start_time": "2022-09-07T19:42:57.123Z"
   },
   {
    "duration": 4,
    "start_time": "2022-09-07T19:42:57.726Z"
   },
   {
    "duration": 17,
    "start_time": "2022-09-07T19:42:58.059Z"
   },
   {
    "duration": 6,
    "start_time": "2022-09-07T19:43:16.342Z"
   },
   {
    "duration": 6,
    "start_time": "2022-09-07T19:44:34.474Z"
   },
   {
    "duration": 4,
    "start_time": "2022-09-07T19:44:49.478Z"
   },
   {
    "duration": 916,
    "start_time": "2022-09-07T19:46:56.531Z"
   },
   {
    "duration": 0,
    "start_time": "2022-09-07T19:46:57.449Z"
   },
   {
    "duration": 748,
    "start_time": "2022-09-07T19:47:52.587Z"
   },
   {
    "duration": 876,
    "start_time": "2022-09-07T19:48:29.234Z"
   },
   {
    "duration": 962,
    "start_time": "2022-09-07T19:48:56.751Z"
   },
   {
    "duration": 971,
    "start_time": "2022-09-07T19:49:01.668Z"
   },
   {
    "duration": 5,
    "start_time": "2022-09-07T19:49:14.762Z"
   },
   {
    "duration": 67,
    "start_time": "2022-09-07T19:49:14.769Z"
   },
   {
    "duration": 4,
    "start_time": "2022-09-07T19:49:14.839Z"
   },
   {
    "duration": 24,
    "start_time": "2022-09-07T19:49:14.845Z"
   },
   {
    "duration": 33,
    "start_time": "2022-09-07T19:49:14.872Z"
   },
   {
    "duration": 43,
    "start_time": "2022-09-07T19:49:14.907Z"
   },
   {
    "duration": 6,
    "start_time": "2022-09-07T19:49:14.951Z"
   },
   {
    "duration": 29,
    "start_time": "2022-09-07T19:49:14.959Z"
   },
   {
    "duration": 28,
    "start_time": "2022-09-07T19:49:14.990Z"
   },
   {
    "duration": 45,
    "start_time": "2022-09-07T19:49:15.021Z"
   },
   {
    "duration": 37,
    "start_time": "2022-09-07T19:49:15.069Z"
   },
   {
    "duration": 7,
    "start_time": "2022-09-07T19:49:15.108Z"
   },
   {
    "duration": 22,
    "start_time": "2022-09-07T19:49:15.117Z"
   },
   {
    "duration": 19,
    "start_time": "2022-09-07T19:49:15.140Z"
   },
   {
    "duration": 30,
    "start_time": "2022-09-07T19:49:15.161Z"
   },
   {
    "duration": 13,
    "start_time": "2022-09-07T19:49:15.193Z"
   },
   {
    "duration": 19,
    "start_time": "2022-09-07T19:49:15.207Z"
   },
   {
    "duration": 12,
    "start_time": "2022-09-07T19:49:15.229Z"
   },
   {
    "duration": 75,
    "start_time": "2022-09-07T19:49:15.243Z"
   },
   {
    "duration": 4,
    "start_time": "2022-09-07T19:49:15.320Z"
   },
   {
    "duration": 13,
    "start_time": "2022-09-07T19:49:15.326Z"
   },
   {
    "duration": 16,
    "start_time": "2022-09-07T19:49:15.341Z"
   },
   {
    "duration": 32,
    "start_time": "2022-09-07T19:49:15.359Z"
   },
   {
    "duration": 20,
    "start_time": "2022-09-07T19:49:15.394Z"
   },
   {
    "duration": 7,
    "start_time": "2022-09-07T19:49:15.416Z"
   },
   {
    "duration": 10,
    "start_time": "2022-09-07T19:49:15.425Z"
   },
   {
    "duration": 11,
    "start_time": "2022-09-07T19:49:15.437Z"
   },
   {
    "duration": 7,
    "start_time": "2022-09-07T19:49:15.450Z"
   },
   {
    "duration": 6,
    "start_time": "2022-09-07T19:49:15.488Z"
   },
   {
    "duration": 10,
    "start_time": "2022-09-07T19:49:15.495Z"
   },
   {
    "duration": 8,
    "start_time": "2022-09-07T19:49:15.507Z"
   },
   {
    "duration": 14,
    "start_time": "2022-09-07T19:49:15.517Z"
   },
   {
    "duration": 12,
    "start_time": "2022-09-07T19:49:15.533Z"
   },
   {
    "duration": 40,
    "start_time": "2022-09-07T19:49:15.547Z"
   },
   {
    "duration": 8,
    "start_time": "2022-09-07T19:49:15.588Z"
   },
   {
    "duration": 5,
    "start_time": "2022-09-07T19:49:15.598Z"
   },
   {
    "duration": 10,
    "start_time": "2022-09-07T19:49:15.604Z"
   },
   {
    "duration": 7,
    "start_time": "2022-09-07T19:49:15.615Z"
   },
   {
    "duration": 12,
    "start_time": "2022-09-07T19:49:15.624Z"
   },
   {
    "duration": 9,
    "start_time": "2022-09-07T19:49:15.638Z"
   },
   {
    "duration": 16,
    "start_time": "2022-09-07T19:49:15.648Z"
   },
   {
    "duration": 37,
    "start_time": "2022-09-07T19:49:15.687Z"
   },
   {
    "duration": 6,
    "start_time": "2022-09-07T19:49:15.726Z"
   },
   {
    "duration": 7,
    "start_time": "2022-09-07T19:49:15.733Z"
   },
   {
    "duration": 11,
    "start_time": "2022-09-07T19:49:15.741Z"
   },
   {
    "duration": 34,
    "start_time": "2022-09-07T19:49:15.754Z"
   },
   {
    "duration": 21,
    "start_time": "2022-09-07T19:49:15.792Z"
   },
   {
    "duration": 9,
    "start_time": "2022-09-07T19:49:15.815Z"
   },
   {
    "duration": 19,
    "start_time": "2022-09-07T19:49:15.825Z"
   },
   {
    "duration": 14,
    "start_time": "2022-09-07T19:49:16.025Z"
   },
   {
    "duration": 9,
    "start_time": "2022-09-07T19:49:19.983Z"
   },
   {
    "duration": 4,
    "start_time": "2022-09-07T19:49:31.925Z"
   },
   {
    "duration": 21,
    "start_time": "2022-09-07T19:49:32.869Z"
   },
   {
    "duration": 1488,
    "start_time": "2022-09-07T19:51:25.730Z"
   },
   {
    "duration": 438,
    "start_time": "2022-09-07T19:53:35.207Z"
   },
   {
    "duration": 154,
    "start_time": "2022-09-07T19:53:41.249Z"
   },
   {
    "duration": 5,
    "start_time": "2022-09-07T19:56:58.596Z"
   },
   {
    "duration": 9,
    "start_time": "2022-09-07T20:04:02.117Z"
   },
   {
    "duration": 11,
    "start_time": "2022-09-08T05:57:23.326Z"
   },
   {
    "duration": 4,
    "start_time": "2022-09-08T06:00:35.738Z"
   },
   {
    "duration": 0,
    "start_time": "2022-09-08T06:03:51.189Z"
   },
   {
    "duration": 0,
    "start_time": "2022-09-08T06:03:51.190Z"
   },
   {
    "duration": 0,
    "start_time": "2022-09-08T06:03:51.191Z"
   },
   {
    "duration": 0,
    "start_time": "2022-09-08T06:03:51.192Z"
   },
   {
    "duration": 0,
    "start_time": "2022-09-08T06:03:51.193Z"
   },
   {
    "duration": 0,
    "start_time": "2022-09-08T06:03:51.194Z"
   },
   {
    "duration": 0,
    "start_time": "2022-09-08T06:03:51.195Z"
   },
   {
    "duration": 0,
    "start_time": "2022-09-08T06:03:51.196Z"
   },
   {
    "duration": 0,
    "start_time": "2022-09-08T06:03:51.196Z"
   },
   {
    "duration": 0,
    "start_time": "2022-09-08T06:03:51.197Z"
   },
   {
    "duration": 0,
    "start_time": "2022-09-08T06:03:51.198Z"
   },
   {
    "duration": 0,
    "start_time": "2022-09-08T06:03:51.199Z"
   },
   {
    "duration": 0,
    "start_time": "2022-09-08T06:03:51.200Z"
   },
   {
    "duration": 0,
    "start_time": "2022-09-08T06:03:51.201Z"
   },
   {
    "duration": 0,
    "start_time": "2022-09-08T06:03:51.202Z"
   },
   {
    "duration": 0,
    "start_time": "2022-09-08T06:03:51.203Z"
   },
   {
    "duration": 0,
    "start_time": "2022-09-08T06:03:51.204Z"
   },
   {
    "duration": 0,
    "start_time": "2022-09-08T06:03:51.205Z"
   },
   {
    "duration": 0,
    "start_time": "2022-09-08T06:03:51.206Z"
   },
   {
    "duration": 0,
    "start_time": "2022-09-08T06:03:51.207Z"
   },
   {
    "duration": 0,
    "start_time": "2022-09-08T06:03:51.208Z"
   },
   {
    "duration": 0,
    "start_time": "2022-09-08T06:03:51.209Z"
   },
   {
    "duration": 0,
    "start_time": "2022-09-08T06:03:51.210Z"
   },
   {
    "duration": 0,
    "start_time": "2022-09-08T06:03:51.211Z"
   },
   {
    "duration": 0,
    "start_time": "2022-09-08T06:03:51.212Z"
   },
   {
    "duration": 0,
    "start_time": "2022-09-08T06:03:51.213Z"
   },
   {
    "duration": 0,
    "start_time": "2022-09-08T06:03:51.214Z"
   },
   {
    "duration": 0,
    "start_time": "2022-09-08T06:03:51.215Z"
   },
   {
    "duration": 0,
    "start_time": "2022-09-08T06:03:51.216Z"
   },
   {
    "duration": 0,
    "start_time": "2022-09-08T06:03:51.217Z"
   },
   {
    "duration": 0,
    "start_time": "2022-09-08T06:03:51.218Z"
   },
   {
    "duration": 0,
    "start_time": "2022-09-08T06:03:51.219Z"
   },
   {
    "duration": 0,
    "start_time": "2022-09-08T06:03:51.220Z"
   },
   {
    "duration": 0,
    "start_time": "2022-09-08T06:03:51.221Z"
   },
   {
    "duration": 0,
    "start_time": "2022-09-08T06:03:51.222Z"
   },
   {
    "duration": 0,
    "start_time": "2022-09-08T06:03:51.223Z"
   },
   {
    "duration": 0,
    "start_time": "2022-09-08T06:03:51.224Z"
   },
   {
    "duration": 0,
    "start_time": "2022-09-08T06:03:51.224Z"
   },
   {
    "duration": 0,
    "start_time": "2022-09-08T06:03:51.225Z"
   },
   {
    "duration": 0,
    "start_time": "2022-09-08T06:03:51.287Z"
   },
   {
    "duration": 0,
    "start_time": "2022-09-08T06:03:51.288Z"
   },
   {
    "duration": 0,
    "start_time": "2022-09-08T06:03:51.289Z"
   },
   {
    "duration": 0,
    "start_time": "2022-09-08T06:03:51.290Z"
   },
   {
    "duration": 0,
    "start_time": "2022-09-08T06:03:51.291Z"
   },
   {
    "duration": 0,
    "start_time": "2022-09-08T06:03:51.291Z"
   },
   {
    "duration": 0,
    "start_time": "2022-09-08T06:03:51.292Z"
   },
   {
    "duration": 0,
    "start_time": "2022-09-08T06:03:51.293Z"
   },
   {
    "duration": 0,
    "start_time": "2022-09-08T06:03:51.294Z"
   },
   {
    "duration": 0,
    "start_time": "2022-09-08T06:03:51.296Z"
   },
   {
    "duration": 0,
    "start_time": "2022-09-08T06:03:51.296Z"
   },
   {
    "duration": 0,
    "start_time": "2022-09-08T06:03:51.298Z"
   },
   {
    "duration": 0,
    "start_time": "2022-09-08T06:03:51.298Z"
   },
   {
    "duration": 0,
    "start_time": "2022-09-08T06:03:51.300Z"
   },
   {
    "duration": 0,
    "start_time": "2022-09-08T06:03:51.300Z"
   },
   {
    "duration": 0,
    "start_time": "2022-09-08T06:03:51.301Z"
   },
   {
    "duration": 0,
    "start_time": "2022-09-08T06:03:51.302Z"
   },
   {
    "duration": 0,
    "start_time": "2022-09-08T06:03:51.303Z"
   },
   {
    "duration": 0,
    "start_time": "2022-09-08T06:03:51.304Z"
   },
   {
    "duration": 0,
    "start_time": "2022-09-08T06:03:51.305Z"
   },
   {
    "duration": 0,
    "start_time": "2022-09-08T06:03:51.307Z"
   },
   {
    "duration": 0,
    "start_time": "2022-09-08T06:03:51.307Z"
   },
   {
    "duration": 0,
    "start_time": "2022-09-08T06:03:51.308Z"
   },
   {
    "duration": 0,
    "start_time": "2022-09-08T06:03:51.310Z"
   },
   {
    "duration": 0,
    "start_time": "2022-09-08T06:03:51.311Z"
   },
   {
    "duration": 87820,
    "start_time": "2022-09-08T06:05:43.773Z"
   },
   {
    "duration": 0,
    "start_time": "2022-09-08T06:07:11.597Z"
   },
   {
    "duration": 0,
    "start_time": "2022-09-08T06:07:11.598Z"
   },
   {
    "duration": 8121,
    "start_time": "2022-09-08T06:08:47.017Z"
   },
   {
    "duration": 9,
    "start_time": "2022-09-08T06:09:23.495Z"
   },
   {
    "duration": 8224,
    "start_time": "2022-09-08T06:15:20.717Z"
   },
   {
    "duration": 4,
    "start_time": "2022-09-08T06:15:37.658Z"
   },
   {
    "duration": 80,
    "start_time": "2022-09-08T06:16:19.556Z"
   },
   {
    "duration": 129,
    "start_time": "2022-09-08T06:16:46.460Z"
   },
   {
    "duration": 95,
    "start_time": "2022-09-08T06:31:59.256Z"
   },
   {
    "duration": 8044,
    "start_time": "2022-09-08T06:32:26.457Z"
   },
   {
    "duration": 15807,
    "start_time": "2022-09-08T06:34:44.472Z"
   },
   {
    "duration": 0,
    "start_time": "2022-09-08T06:35:00.287Z"
   },
   {
    "duration": 5,
    "start_time": "2022-09-08T06:35:29.044Z"
   },
   {
    "duration": 15,
    "start_time": "2022-09-08T06:39:05.282Z"
   },
   {
    "duration": 17609,
    "start_time": "2022-09-08T06:39:25.900Z"
   },
   {
    "duration": 0,
    "start_time": "2022-09-08T06:39:43.512Z"
   },
   {
    "duration": 9166,
    "start_time": "2022-09-08T06:40:38.630Z"
   },
   {
    "duration": 0,
    "start_time": "2022-09-08T06:40:47.799Z"
   },
   {
    "duration": 4,
    "start_time": "2022-09-08T06:40:50.514Z"
   },
   {
    "duration": 53,
    "start_time": "2022-09-08T06:40:50.520Z"
   },
   {
    "duration": 3,
    "start_time": "2022-09-08T06:40:50.575Z"
   },
   {
    "duration": 15,
    "start_time": "2022-09-08T06:40:50.579Z"
   },
   {
    "duration": 14,
    "start_time": "2022-09-08T06:40:50.596Z"
   },
   {
    "duration": 38,
    "start_time": "2022-09-08T06:40:50.611Z"
   },
   {
    "duration": 6,
    "start_time": "2022-09-08T06:40:50.651Z"
   },
   {
    "duration": 8,
    "start_time": "2022-09-08T06:40:50.659Z"
   },
   {
    "duration": 4,
    "start_time": "2022-09-08T06:40:50.687Z"
   },
   {
    "duration": 15,
    "start_time": "2022-09-08T06:40:50.693Z"
   },
   {
    "duration": 36,
    "start_time": "2022-09-08T06:40:50.711Z"
   },
   {
    "duration": 38,
    "start_time": "2022-09-08T06:40:50.749Z"
   },
   {
    "duration": 8,
    "start_time": "2022-09-08T06:40:50.789Z"
   },
   {
    "duration": 9,
    "start_time": "2022-09-08T06:40:50.799Z"
   },
   {
    "duration": 11,
    "start_time": "2022-09-08T06:40:50.810Z"
   },
   {
    "duration": 8,
    "start_time": "2022-09-08T06:40:50.822Z"
   },
   {
    "duration": 12,
    "start_time": "2022-09-08T06:40:50.831Z"
   },
   {
    "duration": 11,
    "start_time": "2022-09-08T06:40:50.844Z"
   },
   {
    "duration": 66,
    "start_time": "2022-09-08T06:40:50.886Z"
   },
   {
    "duration": 4,
    "start_time": "2022-09-08T06:40:50.954Z"
   },
   {
    "duration": 29,
    "start_time": "2022-09-08T06:40:50.959Z"
   },
   {
    "duration": 12,
    "start_time": "2022-09-08T06:40:50.989Z"
   },
   {
    "duration": 28,
    "start_time": "2022-09-08T06:40:51.002Z"
   },
   {
    "duration": 16,
    "start_time": "2022-09-08T06:40:51.031Z"
   },
   {
    "duration": 8,
    "start_time": "2022-09-08T06:40:51.049Z"
   },
   {
    "duration": 18,
    "start_time": "2022-09-08T06:40:51.059Z"
   },
   {
    "duration": 17,
    "start_time": "2022-09-08T06:40:51.079Z"
   },
   {
    "duration": 9,
    "start_time": "2022-09-08T06:40:51.097Z"
   },
   {
    "duration": 11,
    "start_time": "2022-09-08T06:40:51.110Z"
   },
   {
    "duration": 12,
    "start_time": "2022-09-08T06:40:51.122Z"
   },
   {
    "duration": 14,
    "start_time": "2022-09-08T06:40:51.135Z"
   },
   {
    "duration": 39,
    "start_time": "2022-09-08T06:40:51.151Z"
   },
   {
    "duration": 12,
    "start_time": "2022-09-08T06:40:51.192Z"
   },
   {
    "duration": 7,
    "start_time": "2022-09-08T06:40:51.205Z"
   },
   {
    "duration": 11,
    "start_time": "2022-09-08T06:40:51.213Z"
   },
   {
    "duration": 5,
    "start_time": "2022-09-08T06:40:51.226Z"
   },
   {
    "duration": 11,
    "start_time": "2022-09-08T06:40:51.232Z"
   },
   {
    "duration": 9,
    "start_time": "2022-09-08T06:40:51.244Z"
   },
   {
    "duration": 8,
    "start_time": "2022-09-08T06:40:51.254Z"
   },
   {
    "duration": 6,
    "start_time": "2022-09-08T06:40:51.264Z"
   },
   {
    "duration": 11,
    "start_time": "2022-09-08T06:40:51.286Z"
   },
   {
    "duration": 35,
    "start_time": "2022-09-08T06:40:51.299Z"
   },
   {
    "duration": 5,
    "start_time": "2022-09-08T06:40:51.336Z"
   },
   {
    "duration": 6,
    "start_time": "2022-09-08T06:40:51.343Z"
   },
   {
    "duration": 8,
    "start_time": "2022-09-08T06:40:51.351Z"
   },
   {
    "duration": 30,
    "start_time": "2022-09-08T06:40:51.361Z"
   },
   {
    "duration": 18,
    "start_time": "2022-09-08T06:40:51.392Z"
   },
   {
    "duration": 10,
    "start_time": "2022-09-08T06:40:51.412Z"
   },
   {
    "duration": 23,
    "start_time": "2022-09-08T06:40:51.423Z"
   },
   {
    "duration": 7,
    "start_time": "2022-09-08T06:40:51.448Z"
   },
   {
    "duration": 17,
    "start_time": "2022-09-08T06:40:51.456Z"
   },
   {
    "duration": 12,
    "start_time": "2022-09-08T06:40:51.475Z"
   },
   {
    "duration": 7,
    "start_time": "2022-09-08T06:40:51.489Z"
   },
   {
    "duration": 6,
    "start_time": "2022-09-08T06:40:51.498Z"
   },
   {
    "duration": 5,
    "start_time": "2022-09-08T06:40:51.506Z"
   },
   {
    "duration": 5,
    "start_time": "2022-09-08T06:40:51.512Z"
   },
   {
    "duration": 7,
    "start_time": "2022-09-08T06:40:51.518Z"
   },
   {
    "duration": 5,
    "start_time": "2022-09-08T06:40:51.526Z"
   },
   {
    "duration": 7,
    "start_time": "2022-09-08T06:40:51.533Z"
   },
   {
    "duration": 464,
    "start_time": "2022-09-08T06:40:51.542Z"
   },
   {
    "duration": 168,
    "start_time": "2022-09-08T06:40:52.008Z"
   },
   {
    "duration": 8,
    "start_time": "2022-09-08T06:40:52.186Z"
   },
   {
    "duration": 10,
    "start_time": "2022-09-08T06:46:44.451Z"
   },
   {
    "duration": 9,
    "start_time": "2022-09-08T06:55:36.920Z"
   },
   {
    "duration": 174791,
    "start_time": "2022-09-08T06:55:36.931Z"
   },
   {
    "duration": 0,
    "start_time": "2022-09-08T08:08:58.741Z"
   },
   {
    "duration": 0,
    "start_time": "2022-09-08T08:08:58.742Z"
   },
   {
    "duration": 4,
    "start_time": "2022-09-08T08:13:07.536Z"
   },
   {
    "duration": 4,
    "start_time": "2022-09-08T08:13:56.151Z"
   },
   {
    "duration": 21,
    "start_time": "2022-09-08T08:16:50.839Z"
   },
   {
    "duration": 0,
    "start_time": "2022-09-08T08:55:27.266Z"
   },
   {
    "duration": 0,
    "start_time": "2022-09-08T08:55:27.268Z"
   },
   {
    "duration": 0,
    "start_time": "2022-09-08T08:55:27.270Z"
   },
   {
    "duration": 0,
    "start_time": "2022-09-08T08:55:27.287Z"
   },
   {
    "duration": 0,
    "start_time": "2022-09-08T08:55:27.288Z"
   },
   {
    "duration": 0,
    "start_time": "2022-09-08T08:55:27.290Z"
   },
   {
    "duration": 0,
    "start_time": "2022-09-08T08:55:27.292Z"
   },
   {
    "duration": 0,
    "start_time": "2022-09-08T08:55:27.294Z"
   },
   {
    "duration": 0,
    "start_time": "2022-09-08T08:55:27.296Z"
   },
   {
    "duration": 0,
    "start_time": "2022-09-08T08:55:27.298Z"
   },
   {
    "duration": 0,
    "start_time": "2022-09-08T08:55:27.300Z"
   },
   {
    "duration": 0,
    "start_time": "2022-09-08T08:55:27.302Z"
   },
   {
    "duration": 0,
    "start_time": "2022-09-08T08:55:27.304Z"
   },
   {
    "duration": 0,
    "start_time": "2022-09-08T08:55:27.306Z"
   },
   {
    "duration": 0,
    "start_time": "2022-09-08T08:55:27.308Z"
   },
   {
    "duration": 0,
    "start_time": "2022-09-08T08:55:27.310Z"
   },
   {
    "duration": 0,
    "start_time": "2022-09-08T08:55:27.312Z"
   },
   {
    "duration": 0,
    "start_time": "2022-09-08T08:55:27.314Z"
   },
   {
    "duration": 0,
    "start_time": "2022-09-08T08:55:27.316Z"
   },
   {
    "duration": 0,
    "start_time": "2022-09-08T08:55:27.318Z"
   },
   {
    "duration": 0,
    "start_time": "2022-09-08T08:55:27.320Z"
   },
   {
    "duration": 0,
    "start_time": "2022-09-08T08:55:27.321Z"
   },
   {
    "duration": 0,
    "start_time": "2022-09-08T08:55:27.323Z"
   },
   {
    "duration": 0,
    "start_time": "2022-09-08T08:55:27.387Z"
   },
   {
    "duration": 0,
    "start_time": "2022-09-08T08:55:27.389Z"
   },
   {
    "duration": 0,
    "start_time": "2022-09-08T08:55:27.391Z"
   },
   {
    "duration": 0,
    "start_time": "2022-09-08T08:55:27.393Z"
   },
   {
    "duration": 0,
    "start_time": "2022-09-08T08:55:27.395Z"
   },
   {
    "duration": 0,
    "start_time": "2022-09-08T08:55:27.397Z"
   },
   {
    "duration": 0,
    "start_time": "2022-09-08T08:55:27.399Z"
   },
   {
    "duration": 0,
    "start_time": "2022-09-08T08:55:27.401Z"
   },
   {
    "duration": 0,
    "start_time": "2022-09-08T08:55:27.403Z"
   },
   {
    "duration": 0,
    "start_time": "2022-09-08T08:55:27.405Z"
   },
   {
    "duration": 0,
    "start_time": "2022-09-08T08:55:27.407Z"
   },
   {
    "duration": 0,
    "start_time": "2022-09-08T08:55:27.409Z"
   },
   {
    "duration": 0,
    "start_time": "2022-09-08T08:55:27.411Z"
   },
   {
    "duration": 0,
    "start_time": "2022-09-08T08:55:27.413Z"
   },
   {
    "duration": 0,
    "start_time": "2022-09-08T08:55:27.415Z"
   },
   {
    "duration": 0,
    "start_time": "2022-09-08T08:55:27.417Z"
   },
   {
    "duration": 0,
    "start_time": "2022-09-08T08:55:27.418Z"
   },
   {
    "duration": 0,
    "start_time": "2022-09-08T08:55:27.420Z"
   },
   {
    "duration": 0,
    "start_time": "2022-09-08T08:55:27.422Z"
   },
   {
    "duration": 0,
    "start_time": "2022-09-08T08:55:27.486Z"
   },
   {
    "duration": 0,
    "start_time": "2022-09-08T08:55:27.489Z"
   },
   {
    "duration": 0,
    "start_time": "2022-09-08T08:55:27.490Z"
   },
   {
    "duration": 0,
    "start_time": "2022-09-08T08:55:27.492Z"
   },
   {
    "duration": 0,
    "start_time": "2022-09-08T08:55:27.493Z"
   },
   {
    "duration": 0,
    "start_time": "2022-09-08T08:55:27.495Z"
   },
   {
    "duration": 0,
    "start_time": "2022-09-08T08:55:27.498Z"
   },
   {
    "duration": 0,
    "start_time": "2022-09-08T08:55:27.499Z"
   },
   {
    "duration": 0,
    "start_time": "2022-09-08T08:55:27.501Z"
   },
   {
    "duration": 0,
    "start_time": "2022-09-08T08:55:27.503Z"
   },
   {
    "duration": 0,
    "start_time": "2022-09-08T08:55:27.505Z"
   },
   {
    "duration": 0,
    "start_time": "2022-09-08T08:55:27.507Z"
   },
   {
    "duration": 0,
    "start_time": "2022-09-08T08:55:27.509Z"
   },
   {
    "duration": 0,
    "start_time": "2022-09-08T08:55:27.510Z"
   },
   {
    "duration": 0,
    "start_time": "2022-09-08T08:55:27.513Z"
   },
   {
    "duration": 0,
    "start_time": "2022-09-08T08:55:27.514Z"
   },
   {
    "duration": 0,
    "start_time": "2022-09-08T08:55:27.517Z"
   },
   {
    "duration": 0,
    "start_time": "2022-09-08T08:55:27.519Z"
   },
   {
    "duration": 0,
    "start_time": "2022-09-08T08:55:27.521Z"
   },
   {
    "duration": 0,
    "start_time": "2022-09-08T08:55:27.523Z"
   },
   {
    "duration": 0,
    "start_time": "2022-09-08T08:55:27.588Z"
   },
   {
    "duration": 0,
    "start_time": "2022-09-08T08:55:27.590Z"
   },
   {
    "duration": 0,
    "start_time": "2022-09-08T08:55:27.592Z"
   },
   {
    "duration": 0,
    "start_time": "2022-09-08T08:55:27.594Z"
   },
   {
    "duration": 11,
    "start_time": "2022-09-08T09:52:17.234Z"
   },
   {
    "duration": 6,
    "start_time": "2022-09-08T09:52:21.430Z"
   },
   {
    "duration": 30,
    "start_time": "2022-09-08T09:52:25.368Z"
   },
   {
    "duration": 225838,
    "start_time": "2022-09-08T09:52:48.478Z"
   },
   {
    "duration": 7,
    "start_time": "2022-09-08T09:56:34.333Z"
   },
   {
    "duration": 16,
    "start_time": "2022-09-08T09:56:34.347Z"
   },
   {
    "duration": 4,
    "start_time": "2022-09-08T09:56:34.364Z"
   },
   {
    "duration": 5,
    "start_time": "2022-09-08T09:58:04.195Z"
   },
   {
    "duration": 16,
    "start_time": "2022-09-08T09:58:05.035Z"
   },
   {
    "duration": 121864,
    "start_time": "2022-09-08T09:58:15.157Z"
   },
   {
    "duration": 3,
    "start_time": "2022-09-08T10:00:23.302Z"
   },
   {
    "duration": 4,
    "start_time": "2022-09-08T10:00:27.165Z"
   },
   {
    "duration": 16,
    "start_time": "2022-09-08T10:00:29.310Z"
   },
   {
    "duration": 331150,
    "start_time": "2022-09-08T10:00:39.349Z"
   },
   {
    "duration": 4,
    "start_time": "2022-09-08T10:49:19.065Z"
   },
   {
    "duration": 4,
    "start_time": "2022-09-08T10:49:21.493Z"
   },
   {
    "duration": 16,
    "start_time": "2022-09-08T10:49:22.567Z"
   },
   {
    "duration": 226719,
    "start_time": "2022-09-08T10:52:10.543Z"
   },
   {
    "duration": 4,
    "start_time": "2022-09-08T11:02:35.643Z"
   },
   {
    "duration": 4,
    "start_time": "2022-09-08T11:02:40.275Z"
   },
   {
    "duration": 17,
    "start_time": "2022-09-08T11:02:40.906Z"
   },
   {
    "duration": 122743,
    "start_time": "2022-09-08T11:02:53.279Z"
   },
   {
    "duration": 4,
    "start_time": "2022-09-08T11:11:28.650Z"
   },
   {
    "duration": 4,
    "start_time": "2022-09-08T11:11:31.277Z"
   },
   {
    "duration": 4,
    "start_time": "2022-09-08T11:11:31.987Z"
   },
   {
    "duration": 20,
    "start_time": "2022-09-08T11:11:32.602Z"
   },
   {
    "duration": 488156,
    "start_time": "2022-09-08T11:11:44.983Z"
   },
   {
    "duration": 4,
    "start_time": "2022-09-08T11:21:41.983Z"
   },
   {
    "duration": 4,
    "start_time": "2022-09-08T11:21:44.112Z"
   },
   {
    "duration": 18,
    "start_time": "2022-09-08T11:21:44.989Z"
   },
   {
    "duration": 23,
    "start_time": "2022-09-08T11:37:04.326Z"
   },
   {
    "duration": 5,
    "start_time": "2022-09-08T11:37:21.135Z"
   },
   {
    "duration": 54,
    "start_time": "2022-09-08T11:37:21.142Z"
   },
   {
    "duration": 5,
    "start_time": "2022-09-08T11:37:21.198Z"
   },
   {
    "duration": 16,
    "start_time": "2022-09-08T11:37:21.205Z"
   },
   {
    "duration": 17,
    "start_time": "2022-09-08T11:37:21.223Z"
   },
   {
    "duration": 41,
    "start_time": "2022-09-08T11:37:21.242Z"
   },
   {
    "duration": 7,
    "start_time": "2022-09-08T11:37:21.285Z"
   },
   {
    "duration": 26,
    "start_time": "2022-09-08T11:37:21.294Z"
   },
   {
    "duration": 21,
    "start_time": "2022-09-08T11:37:21.323Z"
   },
   {
    "duration": 23,
    "start_time": "2022-09-08T11:37:21.346Z"
   },
   {
    "duration": 43,
    "start_time": "2022-09-08T11:37:21.373Z"
   },
   {
    "duration": 4,
    "start_time": "2022-09-08T11:37:21.418Z"
   },
   {
    "duration": 37,
    "start_time": "2022-09-08T11:37:21.424Z"
   },
   {
    "duration": 8,
    "start_time": "2022-09-08T11:37:21.463Z"
   },
   {
    "duration": 22,
    "start_time": "2022-09-08T11:37:21.473Z"
   },
   {
    "duration": 7,
    "start_time": "2022-09-08T11:37:21.497Z"
   },
   {
    "duration": 19,
    "start_time": "2022-09-08T11:37:21.506Z"
   },
   {
    "duration": 31,
    "start_time": "2022-09-08T11:37:21.527Z"
   },
   {
    "duration": 73,
    "start_time": "2022-09-08T11:37:21.560Z"
   },
   {
    "duration": 14,
    "start_time": "2022-09-08T11:37:21.635Z"
   },
   {
    "duration": 18,
    "start_time": "2022-09-08T11:37:21.651Z"
   },
   {
    "duration": 13,
    "start_time": "2022-09-08T11:37:21.670Z"
   },
   {
    "duration": 17,
    "start_time": "2022-09-08T11:37:21.685Z"
   },
   {
    "duration": 15,
    "start_time": "2022-09-08T11:37:21.703Z"
   },
   {
    "duration": 7,
    "start_time": "2022-09-08T11:37:21.720Z"
   },
   {
    "duration": 25,
    "start_time": "2022-09-08T11:37:21.729Z"
   },
   {
    "duration": 13,
    "start_time": "2022-09-08T11:37:21.756Z"
   },
   {
    "duration": 6,
    "start_time": "2022-09-08T11:37:21.771Z"
   },
   {
    "duration": 9,
    "start_time": "2022-09-08T11:37:21.781Z"
   },
   {
    "duration": 13,
    "start_time": "2022-09-08T11:37:21.792Z"
   },
   {
    "duration": 7,
    "start_time": "2022-09-08T11:37:21.806Z"
   },
   {
    "duration": 39,
    "start_time": "2022-09-08T11:37:21.814Z"
   },
   {
    "duration": 22,
    "start_time": "2022-09-08T11:37:21.855Z"
   },
   {
    "duration": 14,
    "start_time": "2022-09-08T11:37:21.879Z"
   },
   {
    "duration": 12,
    "start_time": "2022-09-08T11:37:21.895Z"
   },
   {
    "duration": 11,
    "start_time": "2022-09-08T11:37:21.909Z"
   },
   {
    "duration": 10,
    "start_time": "2022-09-08T11:37:21.921Z"
   },
   {
    "duration": 6,
    "start_time": "2022-09-08T11:37:21.933Z"
   },
   {
    "duration": 12,
    "start_time": "2022-09-08T11:37:21.940Z"
   },
   {
    "duration": 5,
    "start_time": "2022-09-08T11:37:21.954Z"
   },
   {
    "duration": 11,
    "start_time": "2022-09-08T11:37:21.960Z"
   },
   {
    "duration": 37,
    "start_time": "2022-09-08T11:37:21.973Z"
   },
   {
    "duration": 5,
    "start_time": "2022-09-08T11:37:22.012Z"
   },
   {
    "duration": 7,
    "start_time": "2022-09-08T11:37:22.047Z"
   },
   {
    "duration": 11,
    "start_time": "2022-09-08T11:37:22.055Z"
   },
   {
    "duration": 26,
    "start_time": "2022-09-08T11:37:22.068Z"
   },
   {
    "duration": 21,
    "start_time": "2022-09-08T11:37:22.096Z"
   },
   {
    "duration": 13,
    "start_time": "2022-09-08T11:37:22.119Z"
   },
   {
    "duration": 21,
    "start_time": "2022-09-08T11:37:22.134Z"
   },
   {
    "duration": 26,
    "start_time": "2022-09-08T11:37:22.157Z"
   },
   {
    "duration": 18,
    "start_time": "2022-09-08T11:37:22.185Z"
   },
   {
    "duration": 12,
    "start_time": "2022-09-08T11:37:22.205Z"
   },
   {
    "duration": 8,
    "start_time": "2022-09-08T11:37:22.219Z"
   },
   {
    "duration": 7,
    "start_time": "2022-09-08T11:37:22.229Z"
   },
   {
    "duration": 24,
    "start_time": "2022-09-08T11:37:22.237Z"
   },
   {
    "duration": 15,
    "start_time": "2022-09-08T11:37:22.263Z"
   },
   {
    "duration": 25,
    "start_time": "2022-09-08T11:37:22.280Z"
   },
   {
    "duration": 23,
    "start_time": "2022-09-08T11:37:22.307Z"
   },
   {
    "duration": 24,
    "start_time": "2022-09-08T11:37:22.332Z"
   },
   {
    "duration": 472,
    "start_time": "2022-09-08T11:37:22.358Z"
   },
   {
    "duration": 161,
    "start_time": "2022-09-08T11:37:22.831Z"
   },
   {
    "duration": 22,
    "start_time": "2022-09-08T11:37:34.483Z"
   },
   {
    "duration": 19,
    "start_time": "2022-09-08T11:37:43.427Z"
   },
   {
    "duration": 487823,
    "start_time": "2022-09-08T11:38:21.445Z"
   },
   {
    "duration": 3,
    "start_time": "2022-09-08T11:46:29.270Z"
   },
   {
    "duration": 7,
    "start_time": "2022-09-08T11:46:29.275Z"
   },
   {
    "duration": 22,
    "start_time": "2022-09-08T11:46:29.284Z"
   },
   {
    "duration": 19,
    "start_time": "2022-09-08T11:46:29.308Z"
   },
   {
    "duration": 3,
    "start_time": "2022-09-08T11:47:29.890Z"
   },
   {
    "duration": 4,
    "start_time": "2022-09-08T11:47:30.534Z"
   },
   {
    "duration": 19,
    "start_time": "2022-09-08T11:47:31.544Z"
   },
   {
    "duration": 18,
    "start_time": "2022-09-08T11:47:32.373Z"
   },
   {
    "duration": 225947,
    "start_time": "2022-09-08T11:48:06.476Z"
   },
   {
    "duration": 3,
    "start_time": "2022-09-08T11:51:52.425Z"
   },
   {
    "duration": 8,
    "start_time": "2022-09-08T11:51:52.430Z"
   },
   {
    "duration": 16,
    "start_time": "2022-09-08T11:51:52.446Z"
   },
   {
    "duration": 20,
    "start_time": "2022-09-08T11:51:52.464Z"
   },
   {
    "duration": 4,
    "start_time": "2022-09-08T11:52:39.161Z"
   },
   {
    "duration": 4,
    "start_time": "2022-09-08T11:52:41.631Z"
   },
   {
    "duration": 17,
    "start_time": "2022-09-08T11:52:42.798Z"
   },
   {
    "duration": 15,
    "start_time": "2022-09-08T11:52:44.503Z"
   },
   {
    "duration": 4,
    "start_time": "2022-09-08T12:08:43.363Z"
   },
   {
    "duration": 27,
    "start_time": "2022-09-08T12:08:43.369Z"
   },
   {
    "duration": 28,
    "start_time": "2022-09-08T12:08:43.398Z"
   },
   {
    "duration": 36,
    "start_time": "2022-09-08T12:08:43.428Z"
   },
   {
    "duration": 228472,
    "start_time": "2022-09-08T12:12:32.238Z"
   },
   {
    "duration": 4,
    "start_time": "2022-09-08T12:16:20.711Z"
   },
   {
    "duration": 9,
    "start_time": "2022-09-08T12:16:20.716Z"
   },
   {
    "duration": 25,
    "start_time": "2022-09-08T12:16:20.727Z"
   },
   {
    "duration": 15,
    "start_time": "2022-09-08T12:16:20.753Z"
   },
   {
    "duration": 228194,
    "start_time": "2022-09-08T13:03:21.815Z"
   },
   {
    "duration": 4,
    "start_time": "2022-09-08T13:10:38.934Z"
   },
   {
    "duration": 4,
    "start_time": "2022-09-08T13:10:39.545Z"
   },
   {
    "duration": 19,
    "start_time": "2022-09-08T13:10:40.483Z"
   },
   {
    "duration": 19,
    "start_time": "2022-09-08T13:10:43.902Z"
   },
   {
    "duration": 32,
    "start_time": "2022-09-08T13:13:50.195Z"
   },
   {
    "duration": 331870,
    "start_time": "2022-09-08T13:20:44.150Z"
   },
   {
    "duration": 1451,
    "start_time": "2022-09-10T10:20:34.268Z"
   },
   {
    "duration": 4,
    "start_time": "2022-09-10T10:20:38.280Z"
   },
   {
    "duration": 89,
    "start_time": "2022-09-10T10:20:38.286Z"
   },
   {
    "duration": 3,
    "start_time": "2022-09-10T10:20:38.377Z"
   },
   {
    "duration": 19,
    "start_time": "2022-09-10T10:20:38.382Z"
   },
   {
    "duration": 13,
    "start_time": "2022-09-10T10:20:38.404Z"
   },
   {
    "duration": 44,
    "start_time": "2022-09-10T10:20:38.419Z"
   },
   {
    "duration": 5,
    "start_time": "2022-09-10T10:20:38.465Z"
   },
   {
    "duration": 20,
    "start_time": "2022-09-10T10:20:38.472Z"
   },
   {
    "duration": 8,
    "start_time": "2022-09-10T10:20:38.493Z"
   },
   {
    "duration": 18,
    "start_time": "2022-09-10T10:20:38.502Z"
   },
   {
    "duration": 52,
    "start_time": "2022-09-10T10:20:38.523Z"
   },
   {
    "duration": 4,
    "start_time": "2022-09-10T10:20:38.577Z"
   },
   {
    "duration": 18,
    "start_time": "2022-09-10T10:20:38.583Z"
   },
   {
    "duration": 15,
    "start_time": "2022-09-10T10:20:38.603Z"
   },
   {
    "duration": 31,
    "start_time": "2022-09-10T10:20:38.620Z"
   },
   {
    "duration": 7,
    "start_time": "2022-09-10T10:20:38.653Z"
   },
   {
    "duration": 16,
    "start_time": "2022-09-10T10:20:38.662Z"
   },
   {
    "duration": 20,
    "start_time": "2022-09-10T10:20:38.679Z"
   },
   {
    "duration": 88,
    "start_time": "2022-09-10T10:20:38.700Z"
   },
   {
    "duration": 4,
    "start_time": "2022-09-10T10:20:38.789Z"
   },
   {
    "duration": 17,
    "start_time": "2022-09-10T10:20:38.795Z"
   },
   {
    "duration": 24,
    "start_time": "2022-09-10T10:20:38.814Z"
   },
   {
    "duration": 11,
    "start_time": "2022-09-10T10:20:38.840Z"
   },
   {
    "duration": 13,
    "start_time": "2022-09-10T10:20:38.853Z"
   },
   {
    "duration": 8,
    "start_time": "2022-09-10T10:20:38.867Z"
   },
   {
    "duration": 8,
    "start_time": "2022-09-10T10:20:38.877Z"
   },
   {
    "duration": 13,
    "start_time": "2022-09-10T10:20:38.886Z"
   },
   {
    "duration": 4,
    "start_time": "2022-09-10T10:20:38.901Z"
   },
   {
    "duration": 31,
    "start_time": "2022-09-10T10:20:38.909Z"
   },
   {
    "duration": 11,
    "start_time": "2022-09-10T10:20:38.942Z"
   },
   {
    "duration": 17,
    "start_time": "2022-09-10T10:20:38.955Z"
   },
   {
    "duration": 12,
    "start_time": "2022-09-10T10:20:38.974Z"
   },
   {
    "duration": 9,
    "start_time": "2022-09-10T10:20:38.988Z"
   },
   {
    "duration": 5,
    "start_time": "2022-09-10T10:20:38.999Z"
   },
   {
    "duration": 18,
    "start_time": "2022-09-10T10:20:39.005Z"
   },
   {
    "duration": 14,
    "start_time": "2022-09-10T10:20:39.024Z"
   },
   {
    "duration": 16,
    "start_time": "2022-09-10T10:20:39.039Z"
   },
   {
    "duration": 8,
    "start_time": "2022-09-10T10:20:39.056Z"
   },
   {
    "duration": 16,
    "start_time": "2022-09-10T10:20:39.065Z"
   },
   {
    "duration": 11,
    "start_time": "2022-09-10T10:20:39.083Z"
   },
   {
    "duration": 31,
    "start_time": "2022-09-10T10:20:39.096Z"
   },
   {
    "duration": 52,
    "start_time": "2022-09-10T10:20:39.129Z"
   },
   {
    "duration": 5,
    "start_time": "2022-09-10T10:20:39.183Z"
   },
   {
    "duration": 12,
    "start_time": "2022-09-10T10:20:39.189Z"
   },
   {
    "duration": 10,
    "start_time": "2022-09-10T10:20:39.203Z"
   },
   {
    "duration": 7,
    "start_time": "2022-09-10T10:20:39.215Z"
   },
   {
    "duration": 16,
    "start_time": "2022-09-10T10:20:39.224Z"
   },
   {
    "duration": 8,
    "start_time": "2022-09-10T10:20:39.242Z"
   },
   {
    "duration": 20,
    "start_time": "2022-09-10T10:20:39.252Z"
   },
   {
    "duration": 15,
    "start_time": "2022-09-10T10:20:39.273Z"
   },
   {
    "duration": 17,
    "start_time": "2022-09-10T10:20:39.289Z"
   },
   {
    "duration": 12,
    "start_time": "2022-09-10T10:20:39.307Z"
   },
   {
    "duration": 7,
    "start_time": "2022-09-10T10:20:39.320Z"
   },
   {
    "duration": 4,
    "start_time": "2022-09-10T10:20:39.336Z"
   },
   {
    "duration": 6,
    "start_time": "2022-09-10T10:20:39.341Z"
   },
   {
    "duration": 11,
    "start_time": "2022-09-10T10:20:39.348Z"
   },
   {
    "duration": 14,
    "start_time": "2022-09-10T10:20:39.360Z"
   },
   {
    "duration": 11,
    "start_time": "2022-09-10T10:20:39.375Z"
   },
   {
    "duration": 37,
    "start_time": "2022-09-10T10:20:39.387Z"
   },
   {
    "duration": 464,
    "start_time": "2022-09-10T10:20:39.426Z"
   },
   {
    "duration": 177,
    "start_time": "2022-09-10T10:20:39.892Z"
   },
   {
    "duration": 8,
    "start_time": "2022-09-10T10:20:40.071Z"
   },
   {
    "duration": 324066,
    "start_time": "2022-09-10T10:20:40.080Z"
   },
   {
    "duration": 4,
    "start_time": "2022-09-10T10:26:04.148Z"
   },
   {
    "duration": 12,
    "start_time": "2022-09-10T10:26:04.154Z"
   },
   {
    "duration": 25,
    "start_time": "2022-09-10T10:26:04.171Z"
   },
   {
    "duration": 39,
    "start_time": "2022-09-10T10:26:04.199Z"
   },
   {
    "duration": 35,
    "start_time": "2022-09-10T10:26:04.240Z"
   },
   {
    "duration": 253622,
    "start_time": "2022-09-10T10:44:54.669Z"
   },
   {
    "duration": 3,
    "start_time": "2022-09-10T10:59:16.205Z"
   },
   {
    "duration": 4,
    "start_time": "2022-09-10T10:59:17.860Z"
   },
   {
    "duration": 18,
    "start_time": "2022-09-10T10:59:19.676Z"
   },
   {
    "duration": 19,
    "start_time": "2022-09-10T10:59:25.247Z"
   },
   {
    "duration": 31,
    "start_time": "2022-09-10T10:59:26.173Z"
   },
   {
    "duration": 31,
    "start_time": "2022-09-10T10:59:35.256Z"
   },
   {
    "duration": 113,
    "start_time": "2022-09-10T11:12:02.882Z"
   },
   {
    "duration": 4,
    "start_time": "2022-09-10T11:12:05.783Z"
   },
   {
    "duration": 9,
    "start_time": "2022-09-10T11:12:06.473Z"
   },
   {
    "duration": 274,
    "start_time": "2022-09-10T11:13:57.212Z"
   },
   {
    "duration": 25,
    "start_time": "2022-09-10T11:25:08.809Z"
   },
   {
    "duration": 378080,
    "start_time": "2022-09-10T11:26:03.136Z"
   },
   {
    "duration": 4,
    "start_time": "2022-09-10T11:34:09.310Z"
   },
   {
    "duration": 4,
    "start_time": "2022-09-10T11:34:10.798Z"
   },
   {
    "duration": 16,
    "start_time": "2022-09-10T11:34:12.469Z"
   },
   {
    "duration": 18,
    "start_time": "2022-09-10T11:34:21.558Z"
   },
   {
    "duration": 33,
    "start_time": "2022-09-10T11:34:21.577Z"
   },
   {
    "duration": 4,
    "start_time": "2022-09-10T11:34:22.692Z"
   },
   {
    "duration": 8,
    "start_time": "2022-09-10T11:34:25.721Z"
   },
   {
    "duration": 186,
    "start_time": "2022-09-10T11:34:26.232Z"
   },
   {
    "duration": 139653,
    "start_time": "2022-09-10T11:34:43.065Z"
   },
   {
    "duration": 4,
    "start_time": "2022-09-10T11:37:10.186Z"
   },
   {
    "duration": 4,
    "start_time": "2022-09-10T11:37:11.179Z"
   },
   {
    "duration": 21,
    "start_time": "2022-09-10T11:37:13.159Z"
   },
   {
    "duration": 21,
    "start_time": "2022-09-10T11:37:17.747Z"
   },
   {
    "duration": 33,
    "start_time": "2022-09-10T11:37:19.693Z"
   },
   {
    "duration": 6,
    "start_time": "2022-09-10T11:37:27.147Z"
   },
   {
    "duration": 9,
    "start_time": "2022-09-10T11:37:27.606Z"
   },
   {
    "duration": 260,
    "start_time": "2022-09-10T11:37:28.103Z"
   },
   {
    "duration": 4,
    "start_time": "2022-09-10T11:56:17.939Z"
   },
   {
    "duration": 15,
    "start_time": "2022-09-10T11:56:17.945Z"
   },
   {
    "duration": 21,
    "start_time": "2022-09-10T11:56:17.961Z"
   },
   {
    "duration": 16,
    "start_time": "2022-09-10T11:56:17.984Z"
   },
   {
    "duration": 43,
    "start_time": "2022-09-10T11:56:18.002Z"
   },
   {
    "duration": 529526,
    "start_time": "2022-09-10T12:14:10.446Z"
   },
   {
    "duration": 522568,
    "start_time": "2022-09-10T12:31:44.730Z"
   },
   {
    "duration": 21,
    "start_time": "2022-09-10T12:40:27.300Z"
   },
   {
    "duration": 31,
    "start_time": "2022-09-10T12:40:27.323Z"
   },
   {
    "duration": 22,
    "start_time": "2022-09-10T12:40:27.378Z"
   },
   {
    "duration": 45,
    "start_time": "2022-09-10T12:40:27.403Z"
   },
   {
    "duration": 30,
    "start_time": "2022-09-10T12:40:27.449Z"
   },
   {
    "duration": 6,
    "start_time": "2022-09-10T12:40:27.481Z"
   },
   {
    "duration": 24,
    "start_time": "2022-09-10T12:40:27.488Z"
   },
   {
    "duration": 17,
    "start_time": "2022-09-10T21:59:51.709Z"
   },
   {
    "duration": 17,
    "start_time": "2022-09-10T21:59:53.476Z"
   },
   {
    "duration": 355081,
    "start_time": "2022-09-10T22:00:37.354Z"
   },
   {
    "duration": 354595,
    "start_time": "2022-09-10T22:06:32.437Z"
   },
   {
    "duration": 15,
    "start_time": "2022-09-11T06:48:11.202Z"
   },
   {
    "duration": 16,
    "start_time": "2022-09-11T06:48:13.155Z"
   },
   {
    "duration": 17,
    "start_time": "2022-09-11T06:48:25.934Z"
   },
   {
    "duration": 17,
    "start_time": "2022-09-11T06:48:28.329Z"
   },
   {
    "duration": 27,
    "start_time": "2022-09-11T06:48:29.493Z"
   },
   {
    "duration": 1498,
    "start_time": "2022-09-12T06:00:14.631Z"
   },
   {
    "duration": 162,
    "start_time": "2022-09-12T06:00:16.131Z"
   },
   {
    "duration": 3,
    "start_time": "2022-09-12T06:00:16.295Z"
   },
   {
    "duration": 58,
    "start_time": "2022-09-12T06:00:16.301Z"
   },
   {
    "duration": 24,
    "start_time": "2022-09-12T06:00:16.361Z"
   },
   {
    "duration": 55,
    "start_time": "2022-09-12T06:00:16.387Z"
   },
   {
    "duration": 5,
    "start_time": "2022-09-12T06:00:16.444Z"
   },
   {
    "duration": 18,
    "start_time": "2022-09-12T06:00:16.450Z"
   },
   {
    "duration": 20,
    "start_time": "2022-09-12T06:00:16.469Z"
   },
   {
    "duration": 30,
    "start_time": "2022-09-12T06:00:16.492Z"
   },
   {
    "duration": 31,
    "start_time": "2022-09-12T06:00:16.524Z"
   },
   {
    "duration": 3,
    "start_time": "2022-09-12T06:00:16.556Z"
   },
   {
    "duration": 17,
    "start_time": "2022-09-12T06:00:16.561Z"
   },
   {
    "duration": 6,
    "start_time": "2022-09-12T06:00:16.579Z"
   },
   {
    "duration": 25,
    "start_time": "2022-09-12T06:00:16.586Z"
   },
   {
    "duration": 8,
    "start_time": "2022-09-12T06:00:16.612Z"
   },
   {
    "duration": 25,
    "start_time": "2022-09-12T06:00:16.621Z"
   },
   {
    "duration": 10,
    "start_time": "2022-09-12T06:00:16.648Z"
   },
   {
    "duration": 80,
    "start_time": "2022-09-12T06:00:16.659Z"
   },
   {
    "duration": 4,
    "start_time": "2022-09-12T06:00:16.740Z"
   },
   {
    "duration": 21,
    "start_time": "2022-09-12T06:00:16.746Z"
   },
   {
    "duration": 15,
    "start_time": "2022-09-12T06:00:16.768Z"
   },
   {
    "duration": 15,
    "start_time": "2022-09-12T06:00:16.784Z"
   },
   {
    "duration": 10,
    "start_time": "2022-09-12T06:00:16.801Z"
   },
   {
    "duration": 7,
    "start_time": "2022-09-12T06:00:16.813Z"
   },
   {
    "duration": 8,
    "start_time": "2022-09-12T06:00:16.822Z"
   },
   {
    "duration": 8,
    "start_time": "2022-09-12T06:00:16.831Z"
   },
   {
    "duration": 4,
    "start_time": "2022-09-12T06:00:16.858Z"
   },
   {
    "duration": 9,
    "start_time": "2022-09-12T06:00:16.863Z"
   },
   {
    "duration": 8,
    "start_time": "2022-09-12T06:00:16.874Z"
   },
   {
    "duration": 5,
    "start_time": "2022-09-12T06:00:16.883Z"
   },
   {
    "duration": 8,
    "start_time": "2022-09-12T06:00:16.889Z"
   },
   {
    "duration": 8,
    "start_time": "2022-09-12T06:00:16.898Z"
   },
   {
    "duration": 4,
    "start_time": "2022-09-12T06:00:16.907Z"
   },
   {
    "duration": 6,
    "start_time": "2022-09-12T06:00:16.912Z"
   },
   {
    "duration": 38,
    "start_time": "2022-09-12T06:00:16.919Z"
   },
   {
    "duration": 6,
    "start_time": "2022-09-12T06:00:16.959Z"
   },
   {
    "duration": 4,
    "start_time": "2022-09-12T06:00:16.967Z"
   },
   {
    "duration": 7,
    "start_time": "2022-09-12T06:00:16.972Z"
   },
   {
    "duration": 4,
    "start_time": "2022-09-12T06:00:16.981Z"
   },
   {
    "duration": 9,
    "start_time": "2022-09-12T06:00:16.987Z"
   },
   {
    "duration": 61,
    "start_time": "2022-09-12T06:00:16.998Z"
   },
   {
    "duration": 5,
    "start_time": "2022-09-12T06:00:17.060Z"
   },
   {
    "duration": 8,
    "start_time": "2022-09-12T06:00:17.067Z"
   },
   {
    "duration": 10,
    "start_time": "2022-09-12T06:00:17.077Z"
   },
   {
    "duration": 10,
    "start_time": "2022-09-12T06:00:17.088Z"
   },
   {
    "duration": 11,
    "start_time": "2022-09-12T06:00:17.099Z"
   },
   {
    "duration": 9,
    "start_time": "2022-09-12T06:00:17.111Z"
   },
   {
    "duration": 34,
    "start_time": "2022-09-12T06:00:17.121Z"
   },
   {
    "duration": 3,
    "start_time": "2022-09-12T06:00:17.156Z"
   },
   {
    "duration": 17,
    "start_time": "2022-09-12T06:00:17.160Z"
   },
   {
    "duration": 9,
    "start_time": "2022-09-12T06:00:17.178Z"
   },
   {
    "duration": 6,
    "start_time": "2022-09-12T06:00:17.188Z"
   },
   {
    "duration": 4,
    "start_time": "2022-09-12T06:00:17.195Z"
   },
   {
    "duration": 4,
    "start_time": "2022-09-12T06:00:17.200Z"
   },
   {
    "duration": 5,
    "start_time": "2022-09-12T06:00:17.206Z"
   },
   {
    "duration": 5,
    "start_time": "2022-09-12T06:00:17.213Z"
   },
   {
    "duration": 5,
    "start_time": "2022-09-12T06:00:17.219Z"
   },
   {
    "duration": 30,
    "start_time": "2022-09-12T06:00:17.225Z"
   },
   {
    "duration": 446,
    "start_time": "2022-09-12T06:00:17.256Z"
   },
   {
    "duration": 162,
    "start_time": "2022-09-12T06:00:17.703Z"
   },
   {
    "duration": 8,
    "start_time": "2022-09-12T06:00:17.867Z"
   },
   {
    "duration": 161,
    "start_time": "2022-09-12T06:00:17.876Z"
   },
   {
    "duration": 8,
    "start_time": "2022-09-12T06:00:18.039Z"
   },
   {
    "duration": 0,
    "start_time": "2022-09-12T06:00:18.049Z"
   },
   {
    "duration": 0,
    "start_time": "2022-09-12T06:00:18.050Z"
   },
   {
    "duration": 0,
    "start_time": "2022-09-12T06:00:18.051Z"
   },
   {
    "duration": 0,
    "start_time": "2022-09-12T06:00:18.052Z"
   },
   {
    "duration": 0,
    "start_time": "2022-09-12T06:00:18.053Z"
   },
   {
    "duration": 0,
    "start_time": "2022-09-12T06:00:18.054Z"
   },
   {
    "duration": 0,
    "start_time": "2022-09-12T06:00:18.054Z"
   },
   {
    "duration": 0,
    "start_time": "2022-09-12T06:00:18.055Z"
   },
   {
    "duration": 0,
    "start_time": "2022-09-12T06:00:18.057Z"
   },
   {
    "duration": 0,
    "start_time": "2022-09-12T06:00:18.058Z"
   },
   {
    "duration": 4,
    "start_time": "2022-09-12T06:00:28.712Z"
   },
   {
    "duration": 41,
    "start_time": "2022-09-12T06:00:28.719Z"
   },
   {
    "duration": 3,
    "start_time": "2022-09-12T06:00:29.032Z"
   },
   {
    "duration": 16,
    "start_time": "2022-09-12T06:00:29.036Z"
   },
   {
    "duration": 20,
    "start_time": "2022-09-12T06:00:29.054Z"
   },
   {
    "duration": 41,
    "start_time": "2022-09-12T06:00:29.076Z"
   },
   {
    "duration": 5,
    "start_time": "2022-09-12T06:00:29.119Z"
   },
   {
    "duration": 5,
    "start_time": "2022-09-12T06:00:29.125Z"
   },
   {
    "duration": 4,
    "start_time": "2022-09-12T06:00:29.132Z"
   },
   {
    "duration": 24,
    "start_time": "2022-09-12T06:00:29.138Z"
   },
   {
    "duration": 40,
    "start_time": "2022-09-12T06:00:29.164Z"
   },
   {
    "duration": 4,
    "start_time": "2022-09-12T06:00:29.205Z"
   },
   {
    "duration": 9,
    "start_time": "2022-09-12T06:00:29.210Z"
   },
   {
    "duration": 3,
    "start_time": "2022-09-12T06:00:29.220Z"
   },
   {
    "duration": 10,
    "start_time": "2022-09-12T06:00:29.225Z"
   },
   {
    "duration": 9,
    "start_time": "2022-09-12T06:00:29.257Z"
   },
   {
    "duration": 13,
    "start_time": "2022-09-12T06:00:29.268Z"
   },
   {
    "duration": 15,
    "start_time": "2022-09-12T06:00:29.283Z"
   },
   {
    "duration": 81,
    "start_time": "2022-09-12T06:00:29.299Z"
   },
   {
    "duration": 4,
    "start_time": "2022-09-12T06:00:29.381Z"
   },
   {
    "duration": 14,
    "start_time": "2022-09-12T06:00:29.386Z"
   },
   {
    "duration": 13,
    "start_time": "2022-09-12T06:00:29.401Z"
   },
   {
    "duration": 11,
    "start_time": "2022-09-12T06:00:29.415Z"
   },
   {
    "duration": 30,
    "start_time": "2022-09-12T06:00:29.427Z"
   },
   {
    "duration": 7,
    "start_time": "2022-09-12T06:00:29.458Z"
   },
   {
    "duration": 8,
    "start_time": "2022-09-12T06:00:29.466Z"
   },
   {
    "duration": 9,
    "start_time": "2022-09-12T06:00:29.475Z"
   },
   {
    "duration": 6,
    "start_time": "2022-09-12T06:00:29.486Z"
   },
   {
    "duration": 8,
    "start_time": "2022-09-12T06:00:29.493Z"
   },
   {
    "duration": 8,
    "start_time": "2022-09-12T06:00:29.502Z"
   },
   {
    "duration": 6,
    "start_time": "2022-09-12T06:00:29.512Z"
   },
   {
    "duration": 10,
    "start_time": "2022-09-12T06:00:29.556Z"
   },
   {
    "duration": 12,
    "start_time": "2022-09-12T06:00:29.568Z"
   },
   {
    "duration": 5,
    "start_time": "2022-09-12T06:00:29.582Z"
   },
   {
    "duration": 8,
    "start_time": "2022-09-12T06:00:29.589Z"
   },
   {
    "duration": 6,
    "start_time": "2022-09-12T06:00:29.598Z"
   },
   {
    "duration": 13,
    "start_time": "2022-09-12T06:00:29.605Z"
   },
   {
    "duration": 6,
    "start_time": "2022-09-12T06:00:29.654Z"
   },
   {
    "duration": 9,
    "start_time": "2022-09-12T06:00:29.662Z"
   },
   {
    "duration": 5,
    "start_time": "2022-09-12T06:00:29.672Z"
   },
   {
    "duration": 10,
    "start_time": "2022-09-12T06:00:29.679Z"
   },
   {
    "duration": 35,
    "start_time": "2022-09-12T06:00:29.691Z"
   },
   {
    "duration": 29,
    "start_time": "2022-09-12T06:00:29.730Z"
   },
   {
    "duration": 14,
    "start_time": "2022-09-12T06:00:29.761Z"
   },
   {
    "duration": 8,
    "start_time": "2022-09-12T06:00:29.777Z"
   },
   {
    "duration": 8,
    "start_time": "2022-09-12T06:00:29.786Z"
   },
   {
    "duration": 18,
    "start_time": "2022-09-12T06:00:29.796Z"
   },
   {
    "duration": 8,
    "start_time": "2022-09-12T06:00:29.816Z"
   },
   {
    "duration": 15,
    "start_time": "2022-09-12T06:00:29.826Z"
   },
   {
    "duration": 4,
    "start_time": "2022-09-12T06:00:29.855Z"
   },
   {
    "duration": 16,
    "start_time": "2022-09-12T06:00:29.860Z"
   },
   {
    "duration": 11,
    "start_time": "2022-09-12T06:00:29.878Z"
   },
   {
    "duration": 14,
    "start_time": "2022-09-12T06:00:29.890Z"
   },
   {
    "duration": 3,
    "start_time": "2022-09-12T06:00:29.906Z"
   },
   {
    "duration": 4,
    "start_time": "2022-09-12T06:00:29.910Z"
   },
   {
    "duration": 8,
    "start_time": "2022-09-12T06:00:29.915Z"
   },
   {
    "duration": 6,
    "start_time": "2022-09-12T06:00:29.925Z"
   },
   {
    "duration": 6,
    "start_time": "2022-09-12T06:00:29.932Z"
   },
   {
    "duration": 4,
    "start_time": "2022-09-12T06:00:29.954Z"
   },
   {
    "duration": 426,
    "start_time": "2022-09-12T06:00:29.960Z"
   },
   {
    "duration": 147,
    "start_time": "2022-09-12T06:00:30.388Z"
   },
   {
    "duration": 19,
    "start_time": "2022-09-12T06:00:30.537Z"
   },
   {
    "duration": 104,
    "start_time": "2022-09-12T06:00:30.557Z"
   },
   {
    "duration": 8,
    "start_time": "2022-09-12T06:00:30.662Z"
   },
   {
    "duration": 0,
    "start_time": "2022-09-12T06:00:30.672Z"
   },
   {
    "duration": 0,
    "start_time": "2022-09-12T06:00:30.674Z"
   },
   {
    "duration": 0,
    "start_time": "2022-09-12T06:00:30.675Z"
   },
   {
    "duration": 0,
    "start_time": "2022-09-12T06:00:30.676Z"
   },
   {
    "duration": 0,
    "start_time": "2022-09-12T06:00:30.678Z"
   },
   {
    "duration": 0,
    "start_time": "2022-09-12T06:00:30.679Z"
   },
   {
    "duration": 0,
    "start_time": "2022-09-12T06:00:30.680Z"
   },
   {
    "duration": 0,
    "start_time": "2022-09-12T06:00:30.681Z"
   },
   {
    "duration": 0,
    "start_time": "2022-09-12T06:00:30.683Z"
   },
   {
    "duration": 0,
    "start_time": "2022-09-12T06:00:30.684Z"
   },
   {
    "duration": 3,
    "start_time": "2022-09-12T06:33:41.379Z"
   },
   {
    "duration": 23,
    "start_time": "2022-09-12T06:40:39.148Z"
   },
   {
    "duration": 17,
    "start_time": "2022-09-12T06:40:46.346Z"
   },
   {
    "duration": 9,
    "start_time": "2022-09-12T06:52:16.396Z"
   },
   {
    "duration": 15,
    "start_time": "2022-09-12T06:52:17.112Z"
   },
   {
    "duration": 19,
    "start_time": "2022-09-12T06:52:18.159Z"
   },
   {
    "duration": 7,
    "start_time": "2022-09-12T06:52:21.322Z"
   },
   {
    "duration": 7,
    "start_time": "2022-09-12T06:52:22.664Z"
   },
   {
    "duration": 14,
    "start_time": "2022-09-12T06:52:23.164Z"
   },
   {
    "duration": 10,
    "start_time": "2022-09-12T06:53:24.617Z"
   },
   {
    "duration": 9,
    "start_time": "2022-09-12T06:53:37.940Z"
   },
   {
    "duration": 14,
    "start_time": "2022-09-12T06:53:38.631Z"
   },
   {
    "duration": 4,
    "start_time": "2022-09-12T06:54:20.361Z"
   },
   {
    "duration": 43,
    "start_time": "2022-09-12T06:54:20.368Z"
   },
   {
    "duration": 4,
    "start_time": "2022-09-12T06:54:20.413Z"
   },
   {
    "duration": 41,
    "start_time": "2022-09-12T06:54:20.419Z"
   },
   {
    "duration": 15,
    "start_time": "2022-09-12T06:54:20.462Z"
   },
   {
    "duration": 36,
    "start_time": "2022-09-12T06:54:20.479Z"
   },
   {
    "duration": 5,
    "start_time": "2022-09-12T06:54:20.517Z"
   },
   {
    "duration": 12,
    "start_time": "2022-09-12T06:54:20.524Z"
   },
   {
    "duration": 7,
    "start_time": "2022-09-12T06:54:20.556Z"
   },
   {
    "duration": 14,
    "start_time": "2022-09-12T06:54:20.565Z"
   },
   {
    "duration": 33,
    "start_time": "2022-09-12T06:54:20.582Z"
   },
   {
    "duration": 3,
    "start_time": "2022-09-12T06:54:20.617Z"
   },
   {
    "duration": 13,
    "start_time": "2022-09-12T06:54:20.622Z"
   },
   {
    "duration": 18,
    "start_time": "2022-09-12T06:54:20.637Z"
   },
   {
    "duration": 10,
    "start_time": "2022-09-12T06:54:20.657Z"
   },
   {
    "duration": 7,
    "start_time": "2022-09-12T06:54:20.669Z"
   },
   {
    "duration": 10,
    "start_time": "2022-09-12T06:54:20.677Z"
   },
   {
    "duration": 10,
    "start_time": "2022-09-12T06:54:20.688Z"
   },
   {
    "duration": 109,
    "start_time": "2022-09-12T06:54:20.699Z"
   },
   {
    "duration": 4,
    "start_time": "2022-09-12T06:54:20.810Z"
   },
   {
    "duration": 13,
    "start_time": "2022-09-12T06:54:20.816Z"
   },
   {
    "duration": 26,
    "start_time": "2022-09-12T06:54:20.831Z"
   },
   {
    "duration": 13,
    "start_time": "2022-09-12T06:54:20.858Z"
   },
   {
    "duration": 12,
    "start_time": "2022-09-12T06:54:20.873Z"
   },
   {
    "duration": 9,
    "start_time": "2022-09-12T06:54:20.888Z"
   },
   {
    "duration": 8,
    "start_time": "2022-09-12T06:54:20.898Z"
   },
   {
    "duration": 11,
    "start_time": "2022-09-12T06:54:20.908Z"
   },
   {
    "duration": 36,
    "start_time": "2022-09-12T06:54:20.920Z"
   },
   {
    "duration": 9,
    "start_time": "2022-09-12T06:54:20.958Z"
   },
   {
    "duration": 11,
    "start_time": "2022-09-12T06:54:20.969Z"
   },
   {
    "duration": 8,
    "start_time": "2022-09-12T06:54:20.982Z"
   },
   {
    "duration": 10,
    "start_time": "2022-09-12T06:54:20.992Z"
   },
   {
    "duration": 21,
    "start_time": "2022-09-12T06:54:21.004Z"
   },
   {
    "duration": 29,
    "start_time": "2022-09-12T06:54:21.026Z"
   },
   {
    "duration": 9,
    "start_time": "2022-09-12T06:54:21.056Z"
   },
   {
    "duration": 6,
    "start_time": "2022-09-12T06:54:21.066Z"
   },
   {
    "duration": 10,
    "start_time": "2022-09-12T06:54:21.073Z"
   },
   {
    "duration": 5,
    "start_time": "2022-09-12T06:54:21.085Z"
   },
   {
    "duration": 8,
    "start_time": "2022-09-12T06:54:21.093Z"
   },
   {
    "duration": 5,
    "start_time": "2022-09-12T06:54:21.103Z"
   },
   {
    "duration": 47,
    "start_time": "2022-09-12T06:54:21.109Z"
   },
   {
    "duration": 4,
    "start_time": "2022-09-12T06:54:21.158Z"
   },
   {
    "duration": 16,
    "start_time": "2022-09-12T06:54:21.633Z"
   },
   {
    "duration": 41,
    "start_time": "2022-09-12T06:54:21.650Z"
   },
   {
    "duration": 9,
    "start_time": "2022-09-12T06:54:21.693Z"
   },
   {
    "duration": 21,
    "start_time": "2022-09-12T06:54:21.704Z"
   },
   {
    "duration": 31,
    "start_time": "2022-09-12T06:54:21.726Z"
   },
   {
    "duration": 17,
    "start_time": "2022-09-12T06:54:21.758Z"
   },
   {
    "duration": 7,
    "start_time": "2022-09-12T06:54:21.777Z"
   },
   {
    "duration": 14,
    "start_time": "2022-09-12T06:54:21.785Z"
   },
   {
    "duration": 13,
    "start_time": "2022-09-12T06:54:21.801Z"
   },
   {
    "duration": 13,
    "start_time": "2022-09-12T06:54:21.816Z"
   },
   {
    "duration": 10,
    "start_time": "2022-09-12T06:57:36.544Z"
   },
   {
    "duration": 13,
    "start_time": "2022-09-12T06:57:51.508Z"
   },
   {
    "duration": 4,
    "start_time": "2022-09-12T06:58:05.470Z"
   },
   {
    "duration": 44,
    "start_time": "2022-09-12T06:58:05.476Z"
   },
   {
    "duration": 4,
    "start_time": "2022-09-12T06:58:05.522Z"
   },
   {
    "duration": 13,
    "start_time": "2022-09-12T06:58:05.527Z"
   },
   {
    "duration": 11,
    "start_time": "2022-09-12T06:58:05.541Z"
   },
   {
    "duration": 34,
    "start_time": "2022-09-12T06:58:05.553Z"
   },
   {
    "duration": 5,
    "start_time": "2022-09-12T06:58:05.588Z"
   },
   {
    "duration": 7,
    "start_time": "2022-09-12T06:58:05.595Z"
   },
   {
    "duration": 6,
    "start_time": "2022-09-12T06:58:05.603Z"
   },
   {
    "duration": 12,
    "start_time": "2022-09-12T06:58:05.610Z"
   },
   {
    "duration": 56,
    "start_time": "2022-09-12T06:58:05.623Z"
   },
   {
    "duration": 4,
    "start_time": "2022-09-12T06:58:05.680Z"
   },
   {
    "duration": 8,
    "start_time": "2022-09-12T06:58:05.686Z"
   },
   {
    "duration": 4,
    "start_time": "2022-09-12T06:58:05.696Z"
   },
   {
    "duration": 13,
    "start_time": "2022-09-12T06:58:05.701Z"
   },
   {
    "duration": 7,
    "start_time": "2022-09-12T06:58:05.715Z"
   },
   {
    "duration": 37,
    "start_time": "2022-09-12T06:58:05.724Z"
   },
   {
    "duration": 11,
    "start_time": "2022-09-12T06:58:05.762Z"
   },
   {
    "duration": 93,
    "start_time": "2022-09-12T06:58:05.774Z"
   },
   {
    "duration": 4,
    "start_time": "2022-09-12T06:58:05.869Z"
   },
   {
    "duration": 15,
    "start_time": "2022-09-12T06:58:05.874Z"
   },
   {
    "duration": 14,
    "start_time": "2022-09-12T06:58:05.891Z"
   },
   {
    "duration": 10,
    "start_time": "2022-09-12T06:58:05.908Z"
   },
   {
    "duration": 10,
    "start_time": "2022-09-12T06:58:05.920Z"
   },
   {
    "duration": 5,
    "start_time": "2022-09-12T06:58:05.955Z"
   },
   {
    "duration": 8,
    "start_time": "2022-09-12T06:58:05.961Z"
   },
   {
    "duration": 8,
    "start_time": "2022-09-12T06:58:05.970Z"
   },
   {
    "duration": 5,
    "start_time": "2022-09-12T06:58:05.979Z"
   },
   {
    "duration": 8,
    "start_time": "2022-09-12T06:58:05.985Z"
   },
   {
    "duration": 8,
    "start_time": "2022-09-12T06:58:05.994Z"
   },
   {
    "duration": 5,
    "start_time": "2022-09-12T06:58:06.003Z"
   },
   {
    "duration": 9,
    "start_time": "2022-09-12T06:58:06.009Z"
   },
   {
    "duration": 38,
    "start_time": "2022-09-12T06:58:06.019Z"
   },
   {
    "duration": 5,
    "start_time": "2022-09-12T06:58:06.059Z"
   },
   {
    "duration": 12,
    "start_time": "2022-09-12T06:58:06.065Z"
   },
   {
    "duration": 8,
    "start_time": "2022-09-12T06:58:06.078Z"
   },
   {
    "duration": 21,
    "start_time": "2022-09-12T06:58:06.088Z"
   },
   {
    "duration": 13,
    "start_time": "2022-09-12T06:58:06.111Z"
   },
   {
    "duration": 30,
    "start_time": "2022-09-12T06:58:06.126Z"
   },
   {
    "duration": 5,
    "start_time": "2022-09-12T06:58:06.157Z"
   },
   {
    "duration": 11,
    "start_time": "2022-09-12T06:58:06.165Z"
   },
   {
    "duration": 5,
    "start_time": "2022-09-12T06:58:06.177Z"
   },
   {
    "duration": 18,
    "start_time": "2022-09-12T06:58:06.183Z"
   },
   {
    "duration": 68,
    "start_time": "2022-09-12T06:58:06.202Z"
   },
   {
    "duration": 8,
    "start_time": "2022-09-12T06:58:06.271Z"
   },
   {
    "duration": 16,
    "start_time": "2022-09-12T06:58:06.280Z"
   },
   {
    "duration": 11,
    "start_time": "2022-09-12T06:58:06.297Z"
   },
   {
    "duration": 10,
    "start_time": "2022-09-12T06:58:06.309Z"
   },
   {
    "duration": 48,
    "start_time": "2022-09-12T06:58:06.320Z"
   },
   {
    "duration": 26,
    "start_time": "2022-09-12T06:58:06.370Z"
   },
   {
    "duration": 13,
    "start_time": "2022-09-12T06:58:12.449Z"
   },
   {
    "duration": 5,
    "start_time": "2022-09-12T07:00:43.446Z"
   },
   {
    "duration": 9,
    "start_time": "2022-09-12T07:00:43.642Z"
   },
   {
    "duration": 10,
    "start_time": "2022-09-12T07:00:44.083Z"
   },
   {
    "duration": 63,
    "start_time": "2022-09-12T07:00:44.739Z"
   },
   {
    "duration": 4,
    "start_time": "2022-09-12T07:00:44.925Z"
   },
   {
    "duration": 10,
    "start_time": "2022-09-12T07:00:45.302Z"
   },
   {
    "duration": 10,
    "start_time": "2022-09-12T07:00:45.839Z"
   },
   {
    "duration": 10,
    "start_time": "2022-09-12T07:00:46.900Z"
   },
   {
    "duration": 10,
    "start_time": "2022-09-12T07:00:48.723Z"
   },
   {
    "duration": 5,
    "start_time": "2022-09-12T07:00:49.243Z"
   },
   {
    "duration": 5,
    "start_time": "2022-09-12T07:00:49.432Z"
   },
   {
    "duration": 7,
    "start_time": "2022-09-12T07:00:49.616Z"
   },
   {
    "duration": 4,
    "start_time": "2022-09-12T07:00:49.797Z"
   },
   {
    "duration": 7,
    "start_time": "2022-09-12T07:00:50.155Z"
   },
   {
    "duration": 7,
    "start_time": "2022-09-12T07:00:50.333Z"
   },
   {
    "duration": 6,
    "start_time": "2022-09-12T07:00:50.513Z"
   },
   {
    "duration": 8,
    "start_time": "2022-09-12T07:00:50.883Z"
   },
   {
    "duration": 9,
    "start_time": "2022-09-12T07:00:51.050Z"
   },
   {
    "duration": 5,
    "start_time": "2022-09-12T07:00:51.388Z"
   },
   {
    "duration": 7,
    "start_time": "2022-09-12T07:00:51.559Z"
   },
   {
    "duration": 7,
    "start_time": "2022-09-12T07:00:51.926Z"
   },
   {
    "duration": 8,
    "start_time": "2022-09-12T07:00:52.105Z"
   },
   {
    "duration": 4,
    "start_time": "2022-09-12T07:00:52.454Z"
   },
   {
    "duration": 8,
    "start_time": "2022-09-12T07:00:52.640Z"
   },
   {
    "duration": 5,
    "start_time": "2022-09-12T07:00:52.960Z"
   },
   {
    "duration": 7,
    "start_time": "2022-09-12T07:00:53.132Z"
   },
   {
    "duration": 3,
    "start_time": "2022-09-12T07:00:53.308Z"
   },
   {
    "duration": 18,
    "start_time": "2022-09-12T07:00:54.025Z"
   },
   {
    "duration": 34,
    "start_time": "2022-09-12T07:00:54.207Z"
   },
   {
    "duration": 9,
    "start_time": "2022-09-12T07:00:54.554Z"
   },
   {
    "duration": 15,
    "start_time": "2022-09-12T07:00:54.726Z"
   },
   {
    "duration": 11,
    "start_time": "2022-09-12T07:00:54.907Z"
   },
   {
    "duration": 9,
    "start_time": "2022-09-12T07:00:55.069Z"
   },
   {
    "duration": 6,
    "start_time": "2022-09-12T07:00:55.233Z"
   },
   {
    "duration": 13,
    "start_time": "2022-09-12T07:00:55.405Z"
   },
   {
    "duration": 13,
    "start_time": "2022-09-12T07:00:59.951Z"
   },
   {
    "duration": 13,
    "start_time": "2022-09-12T07:01:02.204Z"
   },
   {
    "duration": 14,
    "start_time": "2022-09-12T07:01:10.798Z"
   },
   {
    "duration": 4,
    "start_time": "2022-09-12T07:14:25.381Z"
   },
   {
    "duration": 39,
    "start_time": "2022-09-12T07:14:25.391Z"
   },
   {
    "duration": 2,
    "start_time": "2022-09-12T07:14:25.432Z"
   },
   {
    "duration": 15,
    "start_time": "2022-09-12T07:14:25.436Z"
   },
   {
    "duration": 15,
    "start_time": "2022-09-12T07:14:25.452Z"
   },
   {
    "duration": 34,
    "start_time": "2022-09-12T07:14:25.468Z"
   },
   {
    "duration": 5,
    "start_time": "2022-09-12T07:14:25.704Z"
   },
   {
    "duration": 7,
    "start_time": "2022-09-12T07:14:25.711Z"
   },
   {
    "duration": 4,
    "start_time": "2022-09-12T07:14:25.719Z"
   },
   {
    "duration": 12,
    "start_time": "2022-09-12T07:14:25.725Z"
   },
   {
    "duration": 31,
    "start_time": "2022-09-12T07:14:25.738Z"
   },
   {
    "duration": 3,
    "start_time": "2022-09-12T07:14:25.770Z"
   },
   {
    "duration": 7,
    "start_time": "2022-09-12T07:14:25.775Z"
   },
   {
    "duration": 3,
    "start_time": "2022-09-12T07:14:25.784Z"
   },
   {
    "duration": 11,
    "start_time": "2022-09-12T07:14:25.788Z"
   },
   {
    "duration": 6,
    "start_time": "2022-09-12T07:14:25.800Z"
   },
   {
    "duration": 8,
    "start_time": "2022-09-12T07:14:25.808Z"
   },
   {
    "duration": 41,
    "start_time": "2022-09-12T07:14:25.818Z"
   },
   {
    "duration": 63,
    "start_time": "2022-09-12T07:14:25.860Z"
   },
   {
    "duration": 4,
    "start_time": "2022-09-12T07:14:25.925Z"
   },
   {
    "duration": 34,
    "start_time": "2022-09-12T07:14:25.930Z"
   },
   {
    "duration": 9,
    "start_time": "2022-09-12T07:14:25.966Z"
   },
   {
    "duration": 11,
    "start_time": "2022-09-12T07:14:25.977Z"
   },
   {
    "duration": 10,
    "start_time": "2022-09-12T07:14:25.989Z"
   },
   {
    "duration": 6,
    "start_time": "2022-09-12T07:14:26.001Z"
   },
   {
    "duration": 8,
    "start_time": "2022-09-12T07:14:26.008Z"
   },
   {
    "duration": 9,
    "start_time": "2022-09-12T07:14:26.017Z"
   },
   {
    "duration": 28,
    "start_time": "2022-09-12T07:14:26.028Z"
   },
   {
    "duration": 5,
    "start_time": "2022-09-12T07:14:26.057Z"
   },
   {
    "duration": 11,
    "start_time": "2022-09-12T07:14:26.063Z"
   },
   {
    "duration": 5,
    "start_time": "2022-09-12T07:14:26.075Z"
   },
   {
    "duration": 11,
    "start_time": "2022-09-12T07:14:26.081Z"
   },
   {
    "duration": 8,
    "start_time": "2022-09-12T07:14:26.093Z"
   },
   {
    "duration": 11,
    "start_time": "2022-09-12T07:14:26.102Z"
   },
   {
    "duration": 14,
    "start_time": "2022-09-12T07:14:26.114Z"
   },
   {
    "duration": 27,
    "start_time": "2022-09-12T07:14:26.129Z"
   },
   {
    "duration": 9,
    "start_time": "2022-09-12T07:14:26.159Z"
   },
   {
    "duration": 4,
    "start_time": "2022-09-12T07:14:26.170Z"
   },
   {
    "duration": 12,
    "start_time": "2022-09-12T07:14:26.176Z"
   },
   {
    "duration": 4,
    "start_time": "2022-09-12T07:14:26.190Z"
   },
   {
    "duration": 8,
    "start_time": "2022-09-12T07:14:26.195Z"
   },
   {
    "duration": 4,
    "start_time": "2022-09-12T07:14:26.204Z"
   },
   {
    "duration": 17,
    "start_time": "2022-09-12T07:14:26.209Z"
   },
   {
    "duration": 60,
    "start_time": "2022-09-12T07:14:26.227Z"
   },
   {
    "duration": 7,
    "start_time": "2022-09-12T07:14:26.288Z"
   },
   {
    "duration": 17,
    "start_time": "2022-09-12T07:14:26.296Z"
   },
   {
    "duration": 10,
    "start_time": "2022-09-12T07:14:26.314Z"
   },
   {
    "duration": 35,
    "start_time": "2022-09-12T07:14:26.325Z"
   },
   {
    "duration": 7,
    "start_time": "2022-09-12T07:14:26.361Z"
   },
   {
    "duration": 18,
    "start_time": "2022-09-12T07:14:26.369Z"
   },
   {
    "duration": 14,
    "start_time": "2022-09-12T07:14:26.389Z"
   },
   {
    "duration": 12,
    "start_time": "2022-09-12T07:14:26.404Z"
   },
   {
    "duration": 8,
    "start_time": "2022-09-12T07:14:26.417Z"
   },
   {
    "duration": 28,
    "start_time": "2022-09-12T07:14:26.427Z"
   },
   {
    "duration": 3,
    "start_time": "2022-09-12T07:14:26.457Z"
   },
   {
    "duration": 5,
    "start_time": "2022-09-12T07:14:26.461Z"
   },
   {
    "duration": 5,
    "start_time": "2022-09-12T07:14:26.467Z"
   },
   {
    "duration": 4,
    "start_time": "2022-09-12T07:14:26.473Z"
   },
   {
    "duration": 7,
    "start_time": "2022-09-12T07:14:26.479Z"
   },
   {
    "duration": 5,
    "start_time": "2022-09-12T07:14:26.487Z"
   },
   {
    "duration": 448,
    "start_time": "2022-09-12T07:14:26.494Z"
   },
   {
    "duration": 156,
    "start_time": "2022-09-12T07:14:26.943Z"
   },
   {
    "duration": 9,
    "start_time": "2022-09-12T07:14:27.103Z"
   },
   {
    "duration": 120,
    "start_time": "2022-09-12T07:14:27.113Z"
   },
   {
    "duration": 7,
    "start_time": "2022-09-12T07:14:27.235Z"
   },
   {
    "duration": 0,
    "start_time": "2022-09-12T07:14:27.243Z"
   },
   {
    "duration": 0,
    "start_time": "2022-09-12T07:14:27.244Z"
   },
   {
    "duration": 0,
    "start_time": "2022-09-12T07:14:27.245Z"
   },
   {
    "duration": 0,
    "start_time": "2022-09-12T07:14:27.246Z"
   },
   {
    "duration": 0,
    "start_time": "2022-09-12T07:14:27.247Z"
   },
   {
    "duration": 0,
    "start_time": "2022-09-12T07:14:27.248Z"
   },
   {
    "duration": 0,
    "start_time": "2022-09-12T07:14:27.249Z"
   },
   {
    "duration": 0,
    "start_time": "2022-09-12T07:14:27.250Z"
   },
   {
    "duration": 0,
    "start_time": "2022-09-12T07:14:27.251Z"
   },
   {
    "duration": 0,
    "start_time": "2022-09-12T07:14:27.252Z"
   },
   {
    "duration": 10,
    "start_time": "2022-09-12T07:16:43.307Z"
   },
   {
    "duration": 9,
    "start_time": "2022-09-12T07:16:45.261Z"
   },
   {
    "duration": 10,
    "start_time": "2022-09-12T07:16:48.387Z"
   },
   {
    "duration": 62,
    "start_time": "2022-09-12T07:16:49.885Z"
   },
   {
    "duration": 4,
    "start_time": "2022-09-12T07:16:50.068Z"
   },
   {
    "duration": 10,
    "start_time": "2022-09-12T07:16:50.408Z"
   },
   {
    "duration": 10,
    "start_time": "2022-09-12T07:16:50.920Z"
   },
   {
    "duration": 10,
    "start_time": "2022-09-12T07:16:51.456Z"
   },
   {
    "duration": 10,
    "start_time": "2022-09-12T07:16:51.995Z"
   },
   {
    "duration": 4,
    "start_time": "2022-09-12T07:16:52.355Z"
   },
   {
    "duration": 6,
    "start_time": "2022-09-12T07:16:52.521Z"
   },
   {
    "duration": 6,
    "start_time": "2022-09-12T07:16:52.721Z"
   },
   {
    "duration": 5,
    "start_time": "2022-09-12T07:16:52.899Z"
   },
   {
    "duration": 5,
    "start_time": "2022-09-12T07:16:53.266Z"
   },
   {
    "duration": 6,
    "start_time": "2022-09-12T07:16:53.453Z"
   },
   {
    "duration": 6,
    "start_time": "2022-09-12T07:16:53.642Z"
   },
   {
    "duration": 7,
    "start_time": "2022-09-12T07:16:54.004Z"
   },
   {
    "duration": 8,
    "start_time": "2022-09-12T07:16:54.174Z"
   },
   {
    "duration": 5,
    "start_time": "2022-09-12T07:16:54.559Z"
   },
   {
    "duration": 7,
    "start_time": "2022-09-12T07:16:54.752Z"
   },
   {
    "duration": 5,
    "start_time": "2022-09-12T07:16:55.126Z"
   },
   {
    "duration": 7,
    "start_time": "2022-09-12T07:16:55.311Z"
   },
   {
    "duration": 5,
    "start_time": "2022-09-12T07:16:55.703Z"
   },
   {
    "duration": 76,
    "start_time": "2022-09-12T07:16:55.887Z"
   },
   {
    "duration": 5,
    "start_time": "2022-09-12T07:16:56.246Z"
   },
   {
    "duration": 7,
    "start_time": "2022-09-12T07:16:56.429Z"
   },
   {
    "duration": 3,
    "start_time": "2022-09-12T07:16:56.632Z"
   },
   {
    "duration": 19,
    "start_time": "2022-09-12T07:16:57.385Z"
   },
   {
    "duration": 31,
    "start_time": "2022-09-12T07:16:57.584Z"
   },
   {
    "duration": 8,
    "start_time": "2022-09-12T07:16:57.975Z"
   },
   {
    "duration": 15,
    "start_time": "2022-09-12T07:16:58.171Z"
   },
   {
    "duration": 10,
    "start_time": "2022-09-12T07:16:58.370Z"
   },
   {
    "duration": 9,
    "start_time": "2022-09-12T07:16:58.584Z"
   },
   {
    "duration": 7,
    "start_time": "2022-09-12T07:16:58.766Z"
   },
   {
    "duration": 13,
    "start_time": "2022-09-12T07:16:58.965Z"
   },
   {
    "duration": 11,
    "start_time": "2022-09-12T07:17:58.258Z"
   },
   {
    "duration": 18,
    "start_time": "2022-09-12T07:18:23.519Z"
   },
   {
    "duration": 31,
    "start_time": "2022-09-12T07:18:25.361Z"
   },
   {
    "duration": 3,
    "start_time": "2022-09-12T07:24:43.746Z"
   },
   {
    "duration": 10,
    "start_time": "2022-09-12T07:24:52.289Z"
   },
   {
    "duration": 16,
    "start_time": "2022-09-12T07:25:03.256Z"
   },
   {
    "duration": 10,
    "start_time": "2022-09-12T07:33:02.918Z"
   },
   {
    "duration": 16,
    "start_time": "2022-09-12T07:33:04.463Z"
   },
   {
    "duration": 28,
    "start_time": "2022-09-12T07:33:05.946Z"
   },
   {
    "duration": 3,
    "start_time": "2022-09-12T07:33:29.935Z"
   },
   {
    "duration": 51,
    "start_time": "2022-09-12T07:33:29.941Z"
   },
   {
    "duration": 3,
    "start_time": "2022-09-12T07:33:29.994Z"
   },
   {
    "duration": 22,
    "start_time": "2022-09-12T07:33:29.998Z"
   },
   {
    "duration": 23,
    "start_time": "2022-09-12T07:33:30.023Z"
   },
   {
    "duration": 37,
    "start_time": "2022-09-12T07:33:30.048Z"
   },
   {
    "duration": 5,
    "start_time": "2022-09-12T07:33:30.086Z"
   },
   {
    "duration": 12,
    "start_time": "2022-09-12T07:33:30.092Z"
   },
   {
    "duration": 5,
    "start_time": "2022-09-12T07:33:30.106Z"
   },
   {
    "duration": 23,
    "start_time": "2022-09-12T07:33:30.113Z"
   },
   {
    "duration": 49,
    "start_time": "2022-09-12T07:33:30.139Z"
   },
   {
    "duration": 4,
    "start_time": "2022-09-12T07:33:30.190Z"
   },
   {
    "duration": 17,
    "start_time": "2022-09-12T07:33:30.195Z"
   },
   {
    "duration": 16,
    "start_time": "2022-09-12T07:33:30.214Z"
   },
   {
    "duration": 15,
    "start_time": "2022-09-12T07:33:30.231Z"
   },
   {
    "duration": 10,
    "start_time": "2022-09-12T07:33:30.248Z"
   },
   {
    "duration": 26,
    "start_time": "2022-09-12T07:33:30.259Z"
   },
   {
    "duration": 76,
    "start_time": "2022-09-12T07:33:30.286Z"
   },
   {
    "duration": 4,
    "start_time": "2022-09-12T07:33:30.364Z"
   },
   {
    "duration": 42,
    "start_time": "2022-09-12T07:33:30.369Z"
   },
   {
    "duration": 29,
    "start_time": "2022-09-12T07:33:30.413Z"
   },
   {
    "duration": 33,
    "start_time": "2022-09-12T07:33:30.444Z"
   },
   {
    "duration": 32,
    "start_time": "2022-09-12T07:33:30.478Z"
   },
   {
    "duration": 13,
    "start_time": "2022-09-12T07:33:30.512Z"
   },
   {
    "duration": 15,
    "start_time": "2022-09-12T07:33:30.526Z"
   },
   {
    "duration": 23,
    "start_time": "2022-09-12T07:33:30.542Z"
   },
   {
    "duration": 7,
    "start_time": "2022-09-12T07:33:30.567Z"
   },
   {
    "duration": 8,
    "start_time": "2022-09-12T07:33:30.576Z"
   },
   {
    "duration": 45,
    "start_time": "2022-09-12T07:33:30.587Z"
   },
   {
    "duration": 16,
    "start_time": "2022-09-12T07:33:30.633Z"
   },
   {
    "duration": 14,
    "start_time": "2022-09-12T07:33:30.651Z"
   },
   {
    "duration": 10,
    "start_time": "2022-09-12T07:33:30.666Z"
   },
   {
    "duration": 12,
    "start_time": "2022-09-12T07:33:30.677Z"
   },
   {
    "duration": 19,
    "start_time": "2022-09-12T07:33:30.690Z"
   },
   {
    "duration": 5,
    "start_time": "2022-09-12T07:33:30.711Z"
   },
   {
    "duration": 12,
    "start_time": "2022-09-12T07:33:30.717Z"
   },
   {
    "duration": 9,
    "start_time": "2022-09-12T07:33:30.730Z"
   },
   {
    "duration": 20,
    "start_time": "2022-09-12T07:33:30.741Z"
   },
   {
    "duration": 16,
    "start_time": "2022-09-12T07:33:30.762Z"
   },
   {
    "duration": 9,
    "start_time": "2022-09-12T07:33:30.779Z"
   },
   {
    "duration": 14,
    "start_time": "2022-09-12T07:33:30.789Z"
   },
   {
    "duration": 5,
    "start_time": "2022-09-12T07:33:30.804Z"
   },
   {
    "duration": 15,
    "start_time": "2022-09-12T07:33:30.810Z"
   },
   {
    "duration": 30,
    "start_time": "2022-09-12T07:33:30.827Z"
   },
   {
    "duration": 30,
    "start_time": "2022-09-12T07:34:14.244Z"
   },
   {
    "duration": 4,
    "start_time": "2022-09-12T07:41:35.836Z"
   },
   {
    "duration": 23,
    "start_time": "2022-09-12T07:42:14.323Z"
   },
   {
    "duration": 39,
    "start_time": "2022-09-12T07:42:29.806Z"
   },
   {
    "duration": 10,
    "start_time": "2022-09-12T07:44:11.223Z"
   },
   {
    "duration": 22,
    "start_time": "2022-09-12T07:44:31.792Z"
   },
   {
    "duration": 15,
    "start_time": "2022-09-12T07:44:58.786Z"
   },
   {
    "duration": 12,
    "start_time": "2022-09-12T07:45:04.317Z"
   },
   {
    "duration": 4,
    "start_time": "2022-09-12T07:45:46.283Z"
   },
   {
    "duration": 27,
    "start_time": "2022-09-12T07:50:45.859Z"
   },
   {
    "duration": 13,
    "start_time": "2022-09-12T07:53:20.554Z"
   },
   {
    "duration": 39,
    "start_time": "2022-09-12T07:53:21.093Z"
   },
   {
    "duration": 8,
    "start_time": "2022-09-12T07:54:00.371Z"
   },
   {
    "duration": 7,
    "start_time": "2022-09-12T07:54:01.347Z"
   },
   {
    "duration": 5,
    "start_time": "2022-09-12T07:54:51.842Z"
   },
   {
    "duration": 6,
    "start_time": "2022-09-12T07:54:52.366Z"
   },
   {
    "duration": 4,
    "start_time": "2022-09-12T07:54:52.908Z"
   },
   {
    "duration": 13,
    "start_time": "2022-09-12T07:55:49.871Z"
   },
   {
    "duration": 9,
    "start_time": "2022-09-12T07:56:28.859Z"
   },
   {
    "duration": 6,
    "start_time": "2022-09-12T07:56:51.583Z"
   },
   {
    "duration": 419,
    "start_time": "2022-09-12T08:44:21.779Z"
   },
   {
    "duration": 177,
    "start_time": "2022-09-12T08:44:23.373Z"
   },
   {
    "duration": 16,
    "start_time": "2022-09-12T08:45:03.324Z"
   },
   {
    "duration": 12,
    "start_time": "2022-09-12T08:45:03.950Z"
   },
   {
    "duration": 8,
    "start_time": "2022-09-12T08:45:12.159Z"
   },
   {
    "duration": 14,
    "start_time": "2022-09-12T08:45:26.202Z"
   },
   {
    "duration": 4,
    "start_time": "2022-09-12T08:45:44.168Z"
   },
   {
    "duration": 44,
    "start_time": "2022-09-12T08:45:44.176Z"
   },
   {
    "duration": 4,
    "start_time": "2022-09-12T08:45:44.222Z"
   },
   {
    "duration": 27,
    "start_time": "2022-09-12T08:45:44.228Z"
   },
   {
    "duration": 23,
    "start_time": "2022-09-12T08:45:44.258Z"
   },
   {
    "duration": 49,
    "start_time": "2022-09-12T08:45:44.283Z"
   },
   {
    "duration": 5,
    "start_time": "2022-09-12T08:45:44.333Z"
   },
   {
    "duration": 5,
    "start_time": "2022-09-12T08:45:44.340Z"
   },
   {
    "duration": 5,
    "start_time": "2022-09-12T08:45:44.346Z"
   },
   {
    "duration": 13,
    "start_time": "2022-09-12T08:45:44.352Z"
   },
   {
    "duration": 58,
    "start_time": "2022-09-12T08:45:44.367Z"
   },
   {
    "duration": 4,
    "start_time": "2022-09-12T08:45:44.427Z"
   },
   {
    "duration": 10,
    "start_time": "2022-09-12T08:45:44.432Z"
   },
   {
    "duration": 3,
    "start_time": "2022-09-12T08:45:44.443Z"
   },
   {
    "duration": 13,
    "start_time": "2022-09-12T08:45:44.447Z"
   },
   {
    "duration": 8,
    "start_time": "2022-09-12T08:45:44.461Z"
   },
   {
    "duration": 41,
    "start_time": "2022-09-12T08:45:44.471Z"
   },
   {
    "duration": 66,
    "start_time": "2022-09-12T08:45:44.514Z"
   },
   {
    "duration": 4,
    "start_time": "2022-09-12T08:45:44.581Z"
   },
   {
    "duration": 27,
    "start_time": "2022-09-12T08:45:44.586Z"
   },
   {
    "duration": 10,
    "start_time": "2022-09-12T08:45:44.614Z"
   },
   {
    "duration": 12,
    "start_time": "2022-09-12T08:45:44.625Z"
   },
   {
    "duration": 11,
    "start_time": "2022-09-12T08:45:44.638Z"
   },
   {
    "duration": 4,
    "start_time": "2022-09-12T08:45:44.651Z"
   },
   {
    "duration": 6,
    "start_time": "2022-09-12T08:45:44.657Z"
   },
   {
    "duration": 7,
    "start_time": "2022-09-12T08:45:44.664Z"
   },
   {
    "duration": 33,
    "start_time": "2022-09-12T08:45:44.673Z"
   },
   {
    "duration": 5,
    "start_time": "2022-09-12T08:45:44.707Z"
   },
   {
    "duration": 5,
    "start_time": "2022-09-12T08:45:44.715Z"
   },
   {
    "duration": 6,
    "start_time": "2022-09-12T08:45:44.721Z"
   },
   {
    "duration": 10,
    "start_time": "2022-09-12T08:45:44.729Z"
   },
   {
    "duration": 9,
    "start_time": "2022-09-12T08:45:44.740Z"
   },
   {
    "duration": 7,
    "start_time": "2022-09-12T08:45:44.751Z"
   },
   {
    "duration": 46,
    "start_time": "2022-09-12T08:45:44.759Z"
   },
   {
    "duration": 5,
    "start_time": "2022-09-12T08:45:44.807Z"
   },
   {
    "duration": 11,
    "start_time": "2022-09-12T08:45:44.813Z"
   },
   {
    "duration": 4,
    "start_time": "2022-09-12T08:45:44.825Z"
   },
   {
    "duration": 9,
    "start_time": "2022-09-12T08:45:44.830Z"
   },
   {
    "duration": 9,
    "start_time": "2022-09-12T08:45:44.840Z"
   },
   {
    "duration": 8,
    "start_time": "2022-09-12T08:45:44.850Z"
   },
   {
    "duration": 10,
    "start_time": "2022-09-12T08:45:44.859Z"
   },
   {
    "duration": 4,
    "start_time": "2022-09-12T08:46:10.727Z"
   },
   {
    "duration": 12,
    "start_time": "2022-09-12T08:46:12.153Z"
   },
   {
    "duration": 17,
    "start_time": "2022-09-12T08:46:13.614Z"
   },
   {
    "duration": 9,
    "start_time": "2022-09-12T08:46:18.134Z"
   },
   {
    "duration": 15,
    "start_time": "2022-09-12T08:46:18.788Z"
   },
   {
    "duration": 4,
    "start_time": "2022-09-12T08:46:29.717Z"
   },
   {
    "duration": 5,
    "start_time": "2022-09-12T08:46:32.167Z"
   },
   {
    "duration": 255,
    "start_time": "2022-09-12T09:14:10.433Z"
   },
   {
    "duration": 185,
    "start_time": "2022-09-12T09:14:31.792Z"
   },
   {
    "duration": 8,
    "start_time": "2022-09-12T09:16:59.261Z"
   },
   {
    "duration": 417,
    "start_time": "2022-09-12T10:05:29.846Z"
   },
   {
    "duration": 143,
    "start_time": "2022-09-12T10:05:30.475Z"
   },
   {
    "duration": 8,
    "start_time": "2022-09-12T10:05:33.680Z"
   },
   {
    "duration": 235,
    "start_time": "2022-09-12T10:05:36.771Z"
   },
   {
    "duration": 150,
    "start_time": "2022-09-12T10:05:47.112Z"
   },
   {
    "duration": 153,
    "start_time": "2022-09-12T10:05:55.499Z"
   },
   {
    "duration": 147,
    "start_time": "2022-09-12T10:06:10.419Z"
   },
   {
    "duration": 249621,
    "start_time": "2022-09-12T10:07:57.251Z"
   },
   {
    "duration": 3,
    "start_time": "2022-09-12T10:13:17.260Z"
   },
   {
    "duration": 3,
    "start_time": "2022-09-12T10:13:20.557Z"
   },
   {
    "duration": 14,
    "start_time": "2022-09-12T10:13:23.444Z"
   },
   {
    "duration": 14,
    "start_time": "2022-09-12T10:13:25.975Z"
   },
   {
    "duration": 22,
    "start_time": "2022-09-12T10:13:26.953Z"
   },
   {
    "duration": 167830,
    "start_time": "2022-09-12T10:17:38.190Z"
   },
   {
    "duration": 3,
    "start_time": "2022-09-12T10:24:04.748Z"
   },
   {
    "duration": 5,
    "start_time": "2022-09-12T10:24:06.152Z"
   },
   {
    "duration": 13,
    "start_time": "2022-09-12T10:24:10.807Z"
   },
   {
    "duration": 78,
    "start_time": "2022-09-12T10:27:07.144Z"
   },
   {
    "duration": 1235,
    "start_time": "2022-09-12T10:27:21.244Z"
   },
   {
    "duration": 11,
    "start_time": "2022-09-12T10:28:47.262Z"
   },
   {
    "duration": 1269,
    "start_time": "2022-09-12T10:30:30.758Z"
   },
   {
    "duration": 10,
    "start_time": "2022-09-12T10:30:32.152Z"
   },
   {
    "duration": 1402,
    "start_time": "2022-09-12T10:31:23.403Z"
   },
   {
    "duration": 9,
    "start_time": "2022-09-12T10:31:26.199Z"
   },
   {
    "duration": 1894,
    "start_time": "2022-09-12T10:31:39.978Z"
   },
   {
    "duration": 13,
    "start_time": "2022-09-12T10:31:41.874Z"
   },
   {
    "duration": 1958,
    "start_time": "2022-09-12T10:32:01.807Z"
   },
   {
    "duration": 14,
    "start_time": "2022-09-12T10:32:03.766Z"
   },
   {
    "duration": 2038,
    "start_time": "2022-09-12T10:32:13.459Z"
   },
   {
    "duration": 16,
    "start_time": "2022-09-12T10:32:15.506Z"
   },
   {
    "duration": 1993,
    "start_time": "2022-09-12T10:32:27.600Z"
   },
   {
    "duration": 20,
    "start_time": "2022-09-12T10:32:29.594Z"
   },
   {
    "duration": 1956,
    "start_time": "2022-09-12T10:32:38.859Z"
   },
   {
    "duration": 17,
    "start_time": "2022-09-12T10:32:40.817Z"
   },
   {
    "duration": 2079,
    "start_time": "2022-09-12T10:32:53.853Z"
   },
   {
    "duration": 16,
    "start_time": "2022-09-12T10:32:55.934Z"
   },
   {
    "duration": 2055,
    "start_time": "2022-09-12T10:33:08.347Z"
   },
   {
    "duration": 17,
    "start_time": "2022-09-12T10:33:10.403Z"
   },
   {
    "duration": 1088,
    "start_time": "2022-09-12T10:36:22.459Z"
   },
   {
    "duration": 12,
    "start_time": "2022-09-12T10:36:24.654Z"
   },
   {
    "duration": 1120,
    "start_time": "2022-09-12T10:37:02.347Z"
   },
   {
    "duration": 11,
    "start_time": "2022-09-12T10:37:04.393Z"
   },
   {
    "duration": 1170,
    "start_time": "2022-09-12T10:37:16.407Z"
   },
   {
    "duration": 16,
    "start_time": "2022-09-12T10:37:21.346Z"
   },
   {
    "duration": 1277,
    "start_time": "2022-09-12T10:37:30.541Z"
   },
   {
    "duration": 13,
    "start_time": "2022-09-12T10:37:31.820Z"
   },
   {
    "duration": 1423,
    "start_time": "2022-09-12T10:37:40.684Z"
   },
   {
    "duration": 17,
    "start_time": "2022-09-12T10:37:42.109Z"
   },
   {
    "duration": 1194,
    "start_time": "2022-09-12T10:37:52.981Z"
   },
   {
    "duration": 12,
    "start_time": "2022-09-12T10:37:54.177Z"
   },
   {
    "duration": 1172,
    "start_time": "2022-09-12T10:38:07.554Z"
   },
   {
    "duration": 14,
    "start_time": "2022-09-12T10:38:08.727Z"
   },
   {
    "duration": 1223,
    "start_time": "2022-09-12T10:38:34.083Z"
   },
   {
    "duration": 15,
    "start_time": "2022-09-12T10:38:36.260Z"
   },
   {
    "duration": 99,
    "start_time": "2022-09-12T10:46:46.610Z"
   },
   {
    "duration": 13,
    "start_time": "2022-09-12T10:47:26.613Z"
   },
   {
    "duration": 255,
    "start_time": "2022-09-12T10:50:08.563Z"
   },
   {
    "duration": 11,
    "start_time": "2022-09-12T10:50:38.248Z"
   },
   {
    "duration": 25,
    "start_time": "2022-09-12T10:53:06.051Z"
   },
   {
    "duration": 12,
    "start_time": "2022-09-12T10:53:07.348Z"
   },
   {
    "duration": 25,
    "start_time": "2022-09-12T10:53:49.598Z"
   },
   {
    "duration": 8,
    "start_time": "2022-09-12T10:53:51.746Z"
   },
   {
    "duration": 20,
    "start_time": "2022-09-12T10:54:02.841Z"
   },
   {
    "duration": 11,
    "start_time": "2022-09-12T10:54:04.276Z"
   },
   {
    "duration": 32,
    "start_time": "2022-09-12T10:54:19.412Z"
   },
   {
    "duration": 12,
    "start_time": "2022-09-12T10:54:21.041Z"
   },
   {
    "duration": 174317,
    "start_time": "2022-09-12T10:54:48.877Z"
   },
   {
    "duration": 4,
    "start_time": "2022-09-12T11:00:59.935Z"
   },
   {
    "duration": 4,
    "start_time": "2022-09-12T11:01:01.268Z"
   },
   {
    "duration": 15,
    "start_time": "2022-09-12T11:01:03.666Z"
   },
   {
    "duration": 14,
    "start_time": "2022-09-12T11:01:05.559Z"
   },
   {
    "duration": 24,
    "start_time": "2022-09-12T11:01:07.684Z"
   },
   {
    "duration": 90748,
    "start_time": "2022-09-12T11:01:18.407Z"
   },
   {
    "duration": 4,
    "start_time": "2022-09-12T11:04:50.568Z"
   },
   {
    "duration": 9,
    "start_time": "2022-09-12T11:04:52.105Z"
   },
   {
    "duration": 16,
    "start_time": "2022-09-12T11:04:55.464Z"
   },
   {
    "duration": 19,
    "start_time": "2022-09-12T11:05:01.020Z"
   },
   {
    "duration": 35,
    "start_time": "2022-09-12T11:05:01.888Z"
   },
   {
    "duration": 67729,
    "start_time": "2022-09-12T11:05:55.620Z"
   },
   {
    "duration": 3,
    "start_time": "2022-09-12T11:07:03.351Z"
   },
   {
    "duration": 7,
    "start_time": "2022-09-12T11:07:03.356Z"
   },
   {
    "duration": 17,
    "start_time": "2022-09-12T11:07:03.365Z"
   },
   {
    "duration": 67737,
    "start_time": "2022-09-12T11:09:15.000Z"
   },
   {
    "duration": 3,
    "start_time": "2022-09-12T11:10:22.739Z"
   },
   {
    "duration": 12,
    "start_time": "2022-09-12T11:10:22.744Z"
   },
   {
    "duration": 24,
    "start_time": "2022-09-12T11:10:22.758Z"
   },
   {
    "duration": 3,
    "start_time": "2022-09-12T11:10:29.532Z"
   },
   {
    "duration": 5,
    "start_time": "2022-09-12T11:10:31.116Z"
   },
   {
    "duration": 16,
    "start_time": "2022-09-12T11:10:32.558Z"
   },
   {
    "duration": 4,
    "start_time": "2022-09-12T11:21:05.181Z"
   },
   {
    "duration": 4,
    "start_time": "2022-09-12T11:21:06.221Z"
   },
   {
    "duration": 18,
    "start_time": "2022-09-12T11:21:07.044Z"
   },
   {
    "duration": 9,
    "start_time": "2022-09-12T11:21:48.291Z"
   },
   {
    "duration": 4,
    "start_time": "2022-09-12T11:21:55.334Z"
   },
   {
    "duration": 7,
    "start_time": "2022-09-12T11:21:56.905Z"
   },
   {
    "duration": 161,
    "start_time": "2022-09-12T11:21:58.067Z"
   },
   {
    "duration": 15,
    "start_time": "2022-09-12T11:39:07.883Z"
   },
   {
    "duration": 4,
    "start_time": "2022-09-12T12:35:53.924Z"
   },
   {
    "duration": 8,
    "start_time": "2022-09-12T12:36:39.465Z"
   },
   {
    "duration": 102,
    "start_time": "2022-09-12T12:36:40.343Z"
   },
   {
    "duration": 102,
    "start_time": "2022-09-12T12:37:03.479Z"
   },
   {
    "duration": 8,
    "start_time": "2022-09-12T12:39:40.106Z"
   },
   {
    "duration": 162,
    "start_time": "2022-09-12T12:39:50.110Z"
   },
   {
    "duration": 9,
    "start_time": "2022-09-12T12:52:10.347Z"
   },
   {
    "duration": 3,
    "start_time": "2022-09-12T12:52:13.720Z"
   },
   {
    "duration": 19,
    "start_time": "2022-09-12T12:52:15.016Z"
   },
   {
    "duration": 1459,
    "start_time": "2022-09-13T05:22:58.246Z"
   },
   {
    "duration": 83,
    "start_time": "2022-09-13T05:22:59.707Z"
   },
   {
    "duration": 3,
    "start_time": "2022-09-13T05:22:59.791Z"
   },
   {
    "duration": 21,
    "start_time": "2022-09-13T05:22:59.796Z"
   },
   {
    "duration": 11,
    "start_time": "2022-09-13T05:22:59.818Z"
   },
   {
    "duration": 33,
    "start_time": "2022-09-13T05:22:59.830Z"
   },
   {
    "duration": 5,
    "start_time": "2022-09-13T05:22:59.864Z"
   },
   {
    "duration": 6,
    "start_time": "2022-09-13T05:22:59.870Z"
   },
   {
    "duration": 3,
    "start_time": "2022-09-13T05:22:59.878Z"
   },
   {
    "duration": 33,
    "start_time": "2022-09-13T05:22:59.884Z"
   },
   {
    "duration": 31,
    "start_time": "2022-09-13T05:22:59.918Z"
   },
   {
    "duration": 4,
    "start_time": "2022-09-13T05:22:59.950Z"
   },
   {
    "duration": 8,
    "start_time": "2022-09-13T05:22:59.956Z"
   },
   {
    "duration": 4,
    "start_time": "2022-09-13T05:22:59.966Z"
   },
   {
    "duration": 37,
    "start_time": "2022-09-13T05:22:59.972Z"
   },
   {
    "duration": 8,
    "start_time": "2022-09-13T05:23:00.011Z"
   },
   {
    "duration": 16,
    "start_time": "2022-09-13T05:23:00.021Z"
   },
   {
    "duration": 12,
    "start_time": "2022-09-13T05:23:00.039Z"
   },
   {
    "duration": 90,
    "start_time": "2022-09-13T05:23:00.053Z"
   },
   {
    "duration": 4,
    "start_time": "2022-09-13T05:23:00.145Z"
   },
   {
    "duration": 19,
    "start_time": "2022-09-13T05:23:00.151Z"
   },
   {
    "duration": 11,
    "start_time": "2022-09-13T05:23:00.172Z"
   },
   {
    "duration": 24,
    "start_time": "2022-09-13T05:23:00.185Z"
   },
   {
    "duration": 10,
    "start_time": "2022-09-13T05:23:00.211Z"
   },
   {
    "duration": 6,
    "start_time": "2022-09-13T05:23:00.223Z"
   },
   {
    "duration": 17,
    "start_time": "2022-09-13T05:23:00.230Z"
   },
   {
    "duration": 9,
    "start_time": "2022-09-13T05:23:00.249Z"
   },
   {
    "duration": 5,
    "start_time": "2022-09-13T05:23:00.262Z"
   },
   {
    "duration": 9,
    "start_time": "2022-09-13T05:23:00.268Z"
   },
   {
    "duration": 33,
    "start_time": "2022-09-13T05:23:00.278Z"
   },
   {
    "duration": 16,
    "start_time": "2022-09-13T05:23:00.312Z"
   },
   {
    "duration": 30,
    "start_time": "2022-09-13T05:23:00.329Z"
   },
   {
    "duration": 45,
    "start_time": "2022-09-13T05:23:00.361Z"
   },
   {
    "duration": 6,
    "start_time": "2022-09-13T05:23:00.407Z"
   },
   {
    "duration": 27,
    "start_time": "2022-09-13T05:23:00.414Z"
   },
   {
    "duration": 15,
    "start_time": "2022-09-13T05:23:00.442Z"
   },
   {
    "duration": 16,
    "start_time": "2022-09-13T05:23:00.458Z"
   },
   {
    "duration": 20,
    "start_time": "2022-09-13T05:23:00.476Z"
   },
   {
    "duration": 19,
    "start_time": "2022-09-13T05:23:00.497Z"
   },
   {
    "duration": 31,
    "start_time": "2022-09-13T05:23:00.518Z"
   },
   {
    "duration": 20,
    "start_time": "2022-09-13T05:23:00.551Z"
   },
   {
    "duration": 20,
    "start_time": "2022-09-13T05:23:00.573Z"
   },
   {
    "duration": 7,
    "start_time": "2022-09-13T05:23:00.595Z"
   },
   {
    "duration": 21,
    "start_time": "2022-09-13T05:23:00.603Z"
   },
   {
    "duration": 32,
    "start_time": "2022-09-13T05:23:00.626Z"
   },
   {
    "duration": 10,
    "start_time": "2022-09-13T05:23:00.660Z"
   },
   {
    "duration": 15,
    "start_time": "2022-09-13T05:23:00.671Z"
   },
   {
    "duration": 7,
    "start_time": "2022-09-13T05:23:00.688Z"
   },
   {
    "duration": 127,
    "start_time": "2022-09-13T05:23:00.696Z"
   },
   {
    "duration": 0,
    "start_time": "2022-09-13T05:23:00.825Z"
   },
   {
    "duration": 0,
    "start_time": "2022-09-13T05:23:00.826Z"
   },
   {
    "duration": 0,
    "start_time": "2022-09-13T05:23:00.827Z"
   },
   {
    "duration": 0,
    "start_time": "2022-09-13T05:23:00.828Z"
   },
   {
    "duration": 0,
    "start_time": "2022-09-13T05:23:00.829Z"
   },
   {
    "duration": 0,
    "start_time": "2022-09-13T05:23:00.830Z"
   },
   {
    "duration": 0,
    "start_time": "2022-09-13T05:23:00.830Z"
   },
   {
    "duration": 0,
    "start_time": "2022-09-13T05:23:00.832Z"
   },
   {
    "duration": 0,
    "start_time": "2022-09-13T05:23:00.832Z"
   },
   {
    "duration": 0,
    "start_time": "2022-09-13T05:23:00.833Z"
   },
   {
    "duration": 0,
    "start_time": "2022-09-13T05:23:00.834Z"
   },
   {
    "duration": 0,
    "start_time": "2022-09-13T05:23:00.835Z"
   },
   {
    "duration": 0,
    "start_time": "2022-09-13T05:23:00.835Z"
   },
   {
    "duration": 0,
    "start_time": "2022-09-13T05:23:00.836Z"
   },
   {
    "duration": 0,
    "start_time": "2022-09-13T05:23:00.837Z"
   },
   {
    "duration": 0,
    "start_time": "2022-09-13T05:23:00.838Z"
   },
   {
    "duration": 0,
    "start_time": "2022-09-13T05:23:00.838Z"
   },
   {
    "duration": 0,
    "start_time": "2022-09-13T05:23:00.839Z"
   },
   {
    "duration": 0,
    "start_time": "2022-09-13T05:23:00.840Z"
   },
   {
    "duration": 0,
    "start_time": "2022-09-13T05:23:00.841Z"
   },
   {
    "duration": 0,
    "start_time": "2022-09-13T05:23:00.842Z"
   },
   {
    "duration": 0,
    "start_time": "2022-09-13T05:23:00.843Z"
   },
   {
    "duration": 0,
    "start_time": "2022-09-13T05:23:00.855Z"
   },
   {
    "duration": 0,
    "start_time": "2022-09-13T05:23:00.856Z"
   },
   {
    "duration": 0,
    "start_time": "2022-09-13T05:23:00.857Z"
   },
   {
    "duration": 0,
    "start_time": "2022-09-13T05:23:00.860Z"
   },
   {
    "duration": 0,
    "start_time": "2022-09-13T05:23:00.860Z"
   },
   {
    "duration": 0,
    "start_time": "2022-09-13T05:23:00.861Z"
   },
   {
    "duration": 0,
    "start_time": "2022-09-13T05:23:00.862Z"
   },
   {
    "duration": 0,
    "start_time": "2022-09-13T05:23:00.910Z"
   },
   {
    "duration": 0,
    "start_time": "2022-09-13T05:23:00.910Z"
   },
   {
    "duration": 0,
    "start_time": "2022-09-13T05:23:00.911Z"
   },
   {
    "duration": 0,
    "start_time": "2022-09-13T05:23:00.912Z"
   },
   {
    "duration": 0,
    "start_time": "2022-09-13T05:23:00.913Z"
   },
   {
    "duration": 0,
    "start_time": "2022-09-13T05:23:00.914Z"
   },
   {
    "duration": 0,
    "start_time": "2022-09-13T05:23:00.915Z"
   },
   {
    "duration": 0,
    "start_time": "2022-09-13T05:23:00.916Z"
   },
   {
    "duration": 0,
    "start_time": "2022-09-13T05:23:00.917Z"
   },
   {
    "duration": 0,
    "start_time": "2022-09-13T05:23:00.918Z"
   },
   {
    "duration": 0,
    "start_time": "2022-09-13T05:23:00.919Z"
   },
   {
    "duration": 0,
    "start_time": "2022-09-13T05:23:00.920Z"
   },
   {
    "duration": 0,
    "start_time": "2022-09-13T05:23:00.921Z"
   },
   {
    "duration": 0,
    "start_time": "2022-09-13T05:23:00.922Z"
   },
   {
    "duration": 8,
    "start_time": "2022-09-13T05:24:28.240Z"
   },
   {
    "duration": 9,
    "start_time": "2022-09-13T05:24:39.742Z"
   },
   {
    "duration": 11,
    "start_time": "2022-09-13T05:25:23.723Z"
   },
   {
    "duration": 11,
    "start_time": "2022-09-13T05:26:16.042Z"
   },
   {
    "duration": 3,
    "start_time": "2022-09-13T05:26:51.768Z"
   },
   {
    "duration": 7,
    "start_time": "2022-09-13T05:32:02.310Z"
   },
   {
    "duration": 6,
    "start_time": "2022-09-13T05:32:02.685Z"
   },
   {
    "duration": 7,
    "start_time": "2022-09-13T05:32:03.079Z"
   },
   {
    "duration": 7,
    "start_time": "2022-09-13T05:32:03.647Z"
   },
   {
    "duration": 4,
    "start_time": "2022-09-13T05:32:04.809Z"
   },
   {
    "duration": 4,
    "start_time": "2022-09-13T05:32:05.113Z"
   },
   {
    "duration": 5,
    "start_time": "2022-09-13T05:32:05.301Z"
   },
   {
    "duration": 5,
    "start_time": "2022-09-13T05:32:05.479Z"
   },
   {
    "duration": 4,
    "start_time": "2022-09-13T05:32:05.660Z"
   },
   {
    "duration": 5,
    "start_time": "2022-09-13T05:32:05.847Z"
   },
   {
    "duration": 6,
    "start_time": "2022-09-13T05:32:07.764Z"
   },
   {
    "duration": 5,
    "start_time": "2022-09-13T05:32:09.334Z"
   },
   {
    "duration": 5,
    "start_time": "2022-09-13T05:32:09.939Z"
   },
   {
    "duration": 503,
    "start_time": "2022-09-13T05:32:53.177Z"
   },
   {
    "duration": 160,
    "start_time": "2022-09-13T05:32:53.682Z"
   },
   {
    "duration": 146,
    "start_time": "2022-09-13T05:33:01.594Z"
   },
   {
    "duration": 10,
    "start_time": "2022-09-13T05:33:21.703Z"
   },
   {
    "duration": 72,
    "start_time": "2022-09-13T05:38:16.017Z"
   },
   {
    "duration": 145,
    "start_time": "2022-09-13T05:38:38.126Z"
   },
   {
    "duration": 342,
    "start_time": "2022-09-13T05:41:07.975Z"
   },
   {
    "duration": 161,
    "start_time": "2022-09-13T05:41:22.072Z"
   },
   {
    "duration": 10,
    "start_time": "2022-09-13T05:41:47.406Z"
   },
   {
    "duration": 102350,
    "start_time": "2022-09-13T05:43:19.076Z"
   },
   {
    "duration": 3,
    "start_time": "2022-09-13T05:47:21.095Z"
   },
   {
    "duration": 4,
    "start_time": "2022-09-13T05:47:23.005Z"
   },
   {
    "duration": 10,
    "start_time": "2022-09-13T05:47:42.878Z"
   },
   {
    "duration": 3,
    "start_time": "2022-09-13T05:47:46.081Z"
   },
   {
    "duration": 12,
    "start_time": "2022-09-13T05:47:47.371Z"
   },
   {
    "duration": 14,
    "start_time": "2022-09-13T05:52:46.525Z"
   },
   {
    "duration": 20,
    "start_time": "2022-09-13T05:52:55.202Z"
   },
   {
    "duration": 70784,
    "start_time": "2022-09-13T05:53:28.891Z"
   },
   {
    "duration": 5,
    "start_time": "2022-09-13T05:55:06.062Z"
   },
   {
    "duration": 4,
    "start_time": "2022-09-13T05:55:09.983Z"
   },
   {
    "duration": 15,
    "start_time": "2022-09-13T05:55:35.919Z"
   },
   {
    "duration": 128851,
    "start_time": "2022-09-13T05:56:44.248Z"
   },
   {
    "duration": 3,
    "start_time": "2022-09-13T06:00:21.159Z"
   },
   {
    "duration": 4,
    "start_time": "2022-09-13T06:00:22.622Z"
   },
   {
    "duration": 12,
    "start_time": "2022-09-13T06:00:24.247Z"
   },
   {
    "duration": 9,
    "start_time": "2022-09-13T06:01:23.438Z"
   },
   {
    "duration": 3,
    "start_time": "2022-09-13T06:01:26.264Z"
   },
   {
    "duration": 12,
    "start_time": "2022-09-13T06:01:26.891Z"
   },
   {
    "duration": 186513,
    "start_time": "2022-09-13T06:01:48.725Z"
   },
   {
    "duration": 4,
    "start_time": "2022-09-13T06:07:13.337Z"
   },
   {
    "duration": 3,
    "start_time": "2022-09-13T06:07:15.612Z"
   },
   {
    "duration": 14,
    "start_time": "2022-09-13T06:07:17.546Z"
   },
   {
    "duration": 103095,
    "start_time": "2022-09-13T06:07:29.956Z"
   },
   {
    "duration": 4,
    "start_time": "2022-09-13T06:09:52.530Z"
   },
   {
    "duration": 3,
    "start_time": "2022-09-13T06:09:54.343Z"
   },
   {
    "duration": 18,
    "start_time": "2022-09-13T06:09:55.165Z"
   },
   {
    "duration": 43539,
    "start_time": "2022-09-13T06:10:06.180Z"
   },
   {
    "duration": 4,
    "start_time": "2022-09-13T06:10:49.722Z"
   },
   {
    "duration": 3,
    "start_time": "2022-09-13T06:11:37.131Z"
   },
   {
    "duration": 3,
    "start_time": "2022-09-13T06:11:39.125Z"
   },
   {
    "duration": 12,
    "start_time": "2022-09-13T06:11:40.016Z"
   },
   {
    "duration": 160886,
    "start_time": "2022-09-13T06:11:49.324Z"
   },
   {
    "duration": 4,
    "start_time": "2022-09-13T06:14:37.818Z"
   },
   {
    "duration": 2,
    "start_time": "2022-09-13T06:14:38.961Z"
   },
   {
    "duration": 19,
    "start_time": "2022-09-13T06:14:43.333Z"
   },
   {
    "duration": 237812,
    "start_time": "2022-09-13T06:14:55.448Z"
   },
   {
    "duration": 5,
    "start_time": "2022-09-13T06:22:26.436Z"
   },
   {
    "duration": 4,
    "start_time": "2022-09-13T06:22:27.755Z"
   },
   {
    "duration": 3,
    "start_time": "2022-09-13T06:22:28.790Z"
   },
   {
    "duration": 17,
    "start_time": "2022-09-13T06:22:31.235Z"
   },
   {
    "duration": 166776,
    "start_time": "2022-09-13T06:26:32.102Z"
   },
   {
    "duration": 4,
    "start_time": "2022-09-13T06:30:39.068Z"
   },
   {
    "duration": 3,
    "start_time": "2022-09-13T06:30:41.465Z"
   },
   {
    "duration": 23,
    "start_time": "2022-09-13T06:30:42.275Z"
   },
   {
    "duration": 107940,
    "start_time": "2022-09-13T06:30:58.119Z"
   },
   {
    "duration": 107639,
    "start_time": "2022-09-13T06:32:59.136Z"
   },
   {
    "duration": 3,
    "start_time": "2022-09-13T06:34:46.777Z"
   },
   {
    "duration": 5,
    "start_time": "2022-09-13T06:34:46.782Z"
   },
   {
    "duration": 33,
    "start_time": "2022-09-13T06:34:46.789Z"
   },
   {
    "duration": 106551,
    "start_time": "2022-09-13T06:37:57.314Z"
   },
   {
    "duration": 4,
    "start_time": "2022-09-13T06:39:43.867Z"
   },
   {
    "duration": 21,
    "start_time": "2022-09-13T06:39:43.872Z"
   },
   {
    "duration": 27,
    "start_time": "2022-09-13T06:39:43.895Z"
   },
   {
    "duration": 98,
    "start_time": "2022-09-13T06:39:43.923Z"
   },
   {
    "duration": 4,
    "start_time": "2022-09-13T06:50:59.952Z"
   },
   {
    "duration": 3,
    "start_time": "2022-09-13T06:51:00.720Z"
   },
   {
    "duration": 22,
    "start_time": "2022-09-13T06:51:01.468Z"
   },
   {
    "duration": 104733,
    "start_time": "2022-09-13T06:51:32.789Z"
   },
   {
    "duration": 4,
    "start_time": "2022-09-13T06:53:17.523Z"
   },
   {
    "duration": 105132,
    "start_time": "2022-09-13T06:55:51.225Z"
   },
   {
    "duration": 5,
    "start_time": "2022-09-13T06:57:36.359Z"
   },
   {
    "duration": 3,
    "start_time": "2022-09-13T06:58:34.076Z"
   },
   {
    "duration": 2,
    "start_time": "2022-09-13T06:58:35.628Z"
   },
   {
    "duration": 17,
    "start_time": "2022-09-13T06:58:36.928Z"
   },
   {
    "duration": 105684,
    "start_time": "2022-09-13T06:58:54.650Z"
   },
   {
    "duration": 4,
    "start_time": "2022-09-13T07:02:18.791Z"
   },
   {
    "duration": 3,
    "start_time": "2022-09-13T07:02:19.617Z"
   },
   {
    "duration": 23,
    "start_time": "2022-09-13T07:02:20.768Z"
   },
   {
    "duration": 105499,
    "start_time": "2022-09-13T07:02:33.518Z"
   },
   {
    "duration": 3,
    "start_time": "2022-09-13T07:23:34.997Z"
   },
   {
    "duration": 15,
    "start_time": "2022-09-13T07:23:35.940Z"
   },
   {
    "duration": 237629,
    "start_time": "2022-09-13T07:23:55.666Z"
   },
   {
    "duration": 5,
    "start_time": "2022-09-13T07:28:33.197Z"
   },
   {
    "duration": 2,
    "start_time": "2022-09-13T07:28:34.340Z"
   },
   {
    "duration": 15,
    "start_time": "2022-09-13T07:28:35.500Z"
   },
   {
    "duration": 2,
    "start_time": "2022-09-13T07:28:58.305Z"
   },
   {
    "duration": 15,
    "start_time": "2022-09-13T07:28:59.428Z"
   },
   {
    "duration": 4,
    "start_time": "2022-09-13T07:29:09.073Z"
   },
   {
    "duration": 4,
    "start_time": "2022-09-13T07:29:10.269Z"
   },
   {
    "duration": 2,
    "start_time": "2022-09-13T07:29:11.206Z"
   },
   {
    "duration": 15,
    "start_time": "2022-09-13T07:29:15.044Z"
   },
   {
    "duration": 3,
    "start_time": "2022-09-13T07:29:23.662Z"
   },
   {
    "duration": 3,
    "start_time": "2022-09-13T07:29:24.802Z"
   },
   {
    "duration": 103202,
    "start_time": "2022-09-13T07:29:32.769Z"
   },
   {
    "duration": 4,
    "start_time": "2022-09-13T07:48:01.327Z"
   },
   {
    "duration": 2,
    "start_time": "2022-09-13T07:48:02.213Z"
   },
   {
    "duration": 14,
    "start_time": "2022-09-13T07:48:03.348Z"
   },
   {
    "duration": 934,
    "start_time": "2022-09-13T08:28:42.733Z"
   },
   {
    "duration": 28,
    "start_time": "2022-09-13T08:30:14.567Z"
   },
   {
    "duration": 1207,
    "start_time": "2022-09-13T08:31:36.517Z"
   },
   {
    "duration": 23,
    "start_time": "2022-09-13T08:41:38.234Z"
   },
   {
    "duration": 18,
    "start_time": "2022-09-13T08:41:55.863Z"
   },
   {
    "duration": 1259,
    "start_time": "2022-09-13T08:42:14.305Z"
   },
   {
    "duration": 794,
    "start_time": "2022-09-13T08:42:35.114Z"
   },
   {
    "duration": 14,
    "start_time": "2022-09-13T09:02:38.617Z"
   },
   {
    "duration": 15,
    "start_time": "2022-09-13T09:03:17.368Z"
   },
   {
    "duration": 15,
    "start_time": "2022-09-13T09:03:40.769Z"
   },
   {
    "duration": 33649,
    "start_time": "2022-09-13T09:04:57.944Z"
   },
   {
    "duration": 31405,
    "start_time": "2022-09-13T09:12:47.882Z"
   },
   {
    "duration": 31861,
    "start_time": "2022-09-13T09:14:57.855Z"
   },
   {
    "duration": 11,
    "start_time": "2022-09-13T09:23:26.834Z"
   },
   {
    "duration": 3,
    "start_time": "2022-09-13T09:24:34.823Z"
   },
   {
    "duration": 5,
    "start_time": "2022-09-13T09:24:42.394Z"
   },
   {
    "duration": 90,
    "start_time": "2022-09-13T09:50:11.870Z"
   },
   {
    "duration": 9,
    "start_time": "2022-09-13T09:50:46.619Z"
   },
   {
    "duration": 8,
    "start_time": "2022-09-13T09:50:52.459Z"
   },
   {
    "duration": 60,
    "start_time": "2022-09-13T09:51:00.950Z"
   },
   {
    "duration": 5,
    "start_time": "2022-09-13T09:51:40.443Z"
   },
   {
    "duration": 11,
    "start_time": "2022-09-13T09:51:43.624Z"
   },
   {
    "duration": 4,
    "start_time": "2022-09-13T09:51:52.133Z"
   },
   {
    "duration": 9,
    "start_time": "2022-09-13T09:51:53.303Z"
   },
   {
    "duration": 5,
    "start_time": "2022-09-13T09:52:15.017Z"
   },
   {
    "duration": 9,
    "start_time": "2022-09-13T09:53:07.829Z"
   },
   {
    "duration": 8,
    "start_time": "2022-09-13T09:53:16.886Z"
   },
   {
    "duration": 52,
    "start_time": "2022-09-13T09:55:20.440Z"
   },
   {
    "duration": 4,
    "start_time": "2022-09-13T09:55:27.952Z"
   },
   {
    "duration": 11,
    "start_time": "2022-09-13T09:55:35.466Z"
   },
   {
    "duration": 10,
    "start_time": "2022-09-13T09:55:49.306Z"
   },
   {
    "duration": 5,
    "start_time": "2022-09-13T09:58:48.952Z"
   },
   {
    "duration": 5,
    "start_time": "2022-09-13T09:59:19.367Z"
   },
   {
    "duration": 4,
    "start_time": "2022-09-13T10:00:26.133Z"
   },
   {
    "duration": 18,
    "start_time": "2022-09-13T10:00:27.015Z"
   },
   {
    "duration": 4,
    "start_time": "2022-09-13T10:00:38.267Z"
   },
   {
    "duration": 25,
    "start_time": "2022-09-13T10:02:40.666Z"
   },
   {
    "duration": 24,
    "start_time": "2022-09-13T10:03:01.137Z"
   },
   {
    "duration": 35482,
    "start_time": "2022-09-13T10:21:19.975Z"
   },
   {
    "duration": 301,
    "start_time": "2022-09-13T10:23:41.313Z"
   },
   {
    "duration": 30,
    "start_time": "2022-09-13T10:24:01.084Z"
   },
   {
    "duration": 24,
    "start_time": "2022-09-13T10:25:12.740Z"
   },
   {
    "duration": 21,
    "start_time": "2022-09-13T10:26:10.412Z"
   },
   {
    "duration": 22,
    "start_time": "2022-09-13T10:26:42.777Z"
   },
   {
    "duration": 15,
    "start_time": "2022-09-13T10:26:57.385Z"
   },
   {
    "duration": 17,
    "start_time": "2022-09-13T10:28:11.553Z"
   },
   {
    "duration": 39,
    "start_time": "2022-09-13T10:28:39.639Z"
   },
   {
    "duration": 40,
    "start_time": "2022-09-13T10:28:48.818Z"
   },
   {
    "duration": 22,
    "start_time": "2022-09-13T10:29:39.941Z"
   },
   {
    "duration": 32,
    "start_time": "2022-09-13T10:30:15.669Z"
   },
   {
    "duration": 33735,
    "start_time": "2022-09-13T10:31:22.291Z"
   },
   {
    "duration": 23,
    "start_time": "2022-09-13T10:32:11.107Z"
   },
   {
    "duration": 27,
    "start_time": "2022-09-13T10:33:56.846Z"
   },
   {
    "duration": 28,
    "start_time": "2022-09-13T10:35:06.517Z"
   },
   {
    "duration": 29,
    "start_time": "2022-09-13T10:35:56.145Z"
   },
   {
    "duration": 38,
    "start_time": "2022-09-13T10:36:08.840Z"
   },
   {
    "duration": 38,
    "start_time": "2022-09-13T10:48:47.459Z"
   },
   {
    "duration": 949,
    "start_time": "2022-09-13T10:49:21.781Z"
   },
   {
    "duration": 29,
    "start_time": "2022-09-13T10:50:13.353Z"
   },
   {
    "duration": 29,
    "start_time": "2022-09-13T10:51:04.470Z"
   },
   {
    "duration": 27,
    "start_time": "2022-09-13T10:51:28.182Z"
   },
   {
    "duration": 52,
    "start_time": "2022-09-13T10:52:10.363Z"
   },
   {
    "duration": 133,
    "start_time": "2022-09-13T10:52:17.849Z"
   },
   {
    "duration": 15,
    "start_time": "2022-09-13T10:52:29.805Z"
   },
   {
    "duration": 18,
    "start_time": "2022-09-13T10:52:35.574Z"
   },
   {
    "duration": 4,
    "start_time": "2022-09-13T10:53:03.123Z"
   },
   {
    "duration": 153,
    "start_time": "2022-09-13T10:53:57.756Z"
   },
   {
    "duration": 78,
    "start_time": "2022-09-13T10:54:06.708Z"
   },
   {
    "duration": 104,
    "start_time": "2022-09-13T11:00:17.454Z"
   },
   {
    "duration": 54,
    "start_time": "2022-09-13T11:53:43.063Z"
   },
   {
    "duration": 63,
    "start_time": "2022-09-13T11:53:54.189Z"
   },
   {
    "duration": 75,
    "start_time": "2022-09-13T11:54:16.875Z"
   },
   {
    "duration": 48,
    "start_time": "2022-09-13T11:54:32.051Z"
   },
   {
    "duration": 60,
    "start_time": "2022-09-13T11:54:44.510Z"
   },
   {
    "duration": 82,
    "start_time": "2022-09-13T11:55:54.868Z"
   },
   {
    "duration": 123,
    "start_time": "2022-09-13T11:56:15.300Z"
   },
   {
    "duration": 591,
    "start_time": "2022-09-13T14:27:48.301Z"
   },
   {
    "duration": 10,
    "start_time": "2022-09-13T14:28:01.137Z"
   },
   {
    "duration": 4,
    "start_time": "2022-09-13T14:28:16.784Z"
   },
   {
    "duration": 1380,
    "start_time": "2022-09-13T14:28:29.758Z"
   },
   {
    "duration": 6,
    "start_time": "2022-09-13T14:28:36.260Z"
   },
   {
    "duration": 4,
    "start_time": "2022-09-13T14:28:47.944Z"
   },
   {
    "duration": 16,
    "start_time": "2022-09-13T14:28:53.261Z"
   },
   {
    "duration": 3,
    "start_time": "2022-09-13T14:29:03.286Z"
   },
   {
    "duration": 11,
    "start_time": "2022-09-13T14:29:03.862Z"
   },
   {
    "duration": 4,
    "start_time": "2022-09-13T14:29:07.675Z"
   },
   {
    "duration": 5,
    "start_time": "2022-09-13T14:29:13.593Z"
   },
   {
    "duration": 134,
    "start_time": "2022-09-13T14:29:37.264Z"
   },
   {
    "duration": 2119,
    "start_time": "2022-09-14T06:35:40.045Z"
   },
   {
    "duration": 177,
    "start_time": "2022-09-14T06:35:42.166Z"
   },
   {
    "duration": 4,
    "start_time": "2022-09-14T06:35:42.345Z"
   },
   {
    "duration": 28,
    "start_time": "2022-09-14T06:35:42.352Z"
   },
   {
    "duration": 15,
    "start_time": "2022-09-14T06:35:42.382Z"
   },
   {
    "duration": 39,
    "start_time": "2022-09-14T06:35:42.399Z"
   },
   {
    "duration": 5,
    "start_time": "2022-09-14T06:35:42.440Z"
   },
   {
    "duration": 10,
    "start_time": "2022-09-14T06:35:42.446Z"
   },
   {
    "duration": 5,
    "start_time": "2022-09-14T06:35:42.457Z"
   },
   {
    "duration": 27,
    "start_time": "2022-09-14T06:35:42.465Z"
   },
   {
    "duration": 36,
    "start_time": "2022-09-14T06:35:42.493Z"
   },
   {
    "duration": 4,
    "start_time": "2022-09-14T06:35:42.531Z"
   },
   {
    "duration": 11,
    "start_time": "2022-09-14T06:35:42.536Z"
   },
   {
    "duration": 4,
    "start_time": "2022-09-14T06:35:42.548Z"
   },
   {
    "duration": 35,
    "start_time": "2022-09-14T06:35:42.554Z"
   },
   {
    "duration": 8,
    "start_time": "2022-09-14T06:35:42.591Z"
   },
   {
    "duration": 13,
    "start_time": "2022-09-14T06:35:42.601Z"
   },
   {
    "duration": 12,
    "start_time": "2022-09-14T06:35:42.616Z"
   },
   {
    "duration": 87,
    "start_time": "2022-09-14T06:35:42.629Z"
   },
   {
    "duration": 3,
    "start_time": "2022-09-14T06:35:42.718Z"
   },
   {
    "duration": 13,
    "start_time": "2022-09-14T06:35:42.723Z"
   },
   {
    "duration": 11,
    "start_time": "2022-09-14T06:35:42.738Z"
   },
   {
    "duration": 11,
    "start_time": "2022-09-14T06:35:42.750Z"
   },
   {
    "duration": 33,
    "start_time": "2022-09-14T06:35:42.762Z"
   },
   {
    "duration": 6,
    "start_time": "2022-09-14T06:35:42.797Z"
   },
   {
    "duration": 7,
    "start_time": "2022-09-14T06:35:42.805Z"
   },
   {
    "duration": 8,
    "start_time": "2022-09-14T06:35:42.814Z"
   },
   {
    "duration": 4,
    "start_time": "2022-09-14T06:35:42.826Z"
   },
   {
    "duration": 7,
    "start_time": "2022-09-14T06:35:42.832Z"
   },
   {
    "duration": 9,
    "start_time": "2022-09-14T06:35:42.840Z"
   },
   {
    "duration": 5,
    "start_time": "2022-09-14T06:35:42.851Z"
   },
   {
    "duration": 11,
    "start_time": "2022-09-14T06:35:42.890Z"
   },
   {
    "duration": 10,
    "start_time": "2022-09-14T06:35:42.903Z"
   },
   {
    "duration": 6,
    "start_time": "2022-09-14T06:35:42.914Z"
   },
   {
    "duration": 7,
    "start_time": "2022-09-14T06:35:42.922Z"
   },
   {
    "duration": 5,
    "start_time": "2022-09-14T06:35:42.931Z"
   },
   {
    "duration": 28,
    "start_time": "2022-09-14T06:35:42.937Z"
   },
   {
    "duration": 27,
    "start_time": "2022-09-14T06:35:42.966Z"
   },
   {
    "duration": 11,
    "start_time": "2022-09-14T06:35:42.994Z"
   },
   {
    "duration": 11,
    "start_time": "2022-09-14T06:35:43.007Z"
   },
   {
    "duration": 10,
    "start_time": "2022-09-14T06:35:43.020Z"
   },
   {
    "duration": 10,
    "start_time": "2022-09-14T06:35:43.031Z"
   },
   {
    "duration": 5,
    "start_time": "2022-09-14T06:35:43.043Z"
   },
   {
    "duration": 39,
    "start_time": "2022-09-14T06:35:43.050Z"
   },
   {
    "duration": 20,
    "start_time": "2022-09-14T06:35:43.090Z"
   },
   {
    "duration": 9,
    "start_time": "2022-09-14T06:35:43.112Z"
   },
   {
    "duration": 23,
    "start_time": "2022-09-14T06:35:43.123Z"
   },
   {
    "duration": 14,
    "start_time": "2022-09-14T06:35:43.148Z"
   },
   {
    "duration": 28,
    "start_time": "2022-09-14T06:35:43.164Z"
   },
   {
    "duration": 12,
    "start_time": "2022-09-14T06:35:43.195Z"
   },
   {
    "duration": 9,
    "start_time": "2022-09-14T06:35:43.208Z"
   },
   {
    "duration": 11,
    "start_time": "2022-09-14T06:35:43.218Z"
   },
   {
    "duration": 6,
    "start_time": "2022-09-14T06:35:43.231Z"
   },
   {
    "duration": 12,
    "start_time": "2022-09-14T06:35:43.238Z"
   },
   {
    "duration": 7,
    "start_time": "2022-09-14T06:35:43.251Z"
   },
   {
    "duration": 7,
    "start_time": "2022-09-14T06:35:43.259Z"
   },
   {
    "duration": 24,
    "start_time": "2022-09-14T06:35:43.267Z"
   },
   {
    "duration": 7,
    "start_time": "2022-09-14T06:35:43.293Z"
   },
   {
    "duration": 9,
    "start_time": "2022-09-14T06:35:43.302Z"
   },
   {
    "duration": 9,
    "start_time": "2022-09-14T06:35:43.313Z"
   },
   {
    "duration": 8,
    "start_time": "2022-09-14T06:35:43.324Z"
   },
   {
    "duration": 30,
    "start_time": "2022-09-14T06:35:43.335Z"
   },
   {
    "duration": 463,
    "start_time": "2022-09-14T06:35:43.367Z"
   },
   {
    "duration": 206,
    "start_time": "2022-09-14T06:35:43.832Z"
   },
   {
    "duration": 9,
    "start_time": "2022-09-14T06:35:44.039Z"
   },
   {
    "duration": 283,
    "start_time": "2022-09-14T06:35:44.049Z"
   },
   {
    "duration": 214,
    "start_time": "2022-09-14T06:35:44.333Z"
   },
   {
    "duration": 7,
    "start_time": "2022-09-14T06:35:44.548Z"
   },
   {
    "duration": 225006,
    "start_time": "2022-09-14T06:35:44.557Z"
   },
   {
    "duration": 4,
    "start_time": "2022-09-14T06:39:29.564Z"
   },
   {
    "duration": 10,
    "start_time": "2022-09-14T06:39:29.570Z"
   },
   {
    "duration": 10,
    "start_time": "2022-09-14T06:39:29.581Z"
   },
   {
    "duration": 18,
    "start_time": "2022-09-14T06:39:29.592Z"
   },
   {
    "duration": 103349,
    "start_time": "2022-09-14T06:39:29.612Z"
   },
   {
    "duration": 4,
    "start_time": "2022-09-14T06:41:12.962Z"
   },
   {
    "duration": 8,
    "start_time": "2022-09-14T06:41:12.968Z"
   },
   {
    "duration": 25,
    "start_time": "2022-09-14T06:41:12.977Z"
   },
   {
    "duration": 33841,
    "start_time": "2022-09-14T06:42:09.031Z"
   },
   {
    "duration": 32433,
    "start_time": "2022-09-14T06:44:29.942Z"
   },
   {
    "duration": 107,
    "start_time": "2022-09-14T06:52:26.206Z"
   },
   {
    "duration": 7,
    "start_time": "2022-09-14T06:52:36.544Z"
   },
   {
    "duration": 7,
    "start_time": "2022-09-14T06:52:46.540Z"
   },
   {
    "duration": 8,
    "start_time": "2022-09-14T06:56:46.406Z"
   },
   {
    "duration": 5,
    "start_time": "2022-09-14T06:57:09.347Z"
   },
   {
    "duration": 5,
    "start_time": "2022-09-14T06:57:35.221Z"
   },
   {
    "duration": 6,
    "start_time": "2022-09-14T06:58:06.523Z"
   },
   {
    "duration": 5,
    "start_time": "2022-09-14T07:00:15.515Z"
   },
   {
    "duration": 5,
    "start_time": "2022-09-14T07:00:27.604Z"
   },
   {
    "duration": 5,
    "start_time": "2022-09-14T07:00:32.833Z"
   },
   {
    "duration": 7,
    "start_time": "2022-09-14T07:00:58.740Z"
   },
   {
    "duration": 13,
    "start_time": "2022-09-14T07:07:13.697Z"
   },
   {
    "duration": 13,
    "start_time": "2022-09-14T07:08:07.348Z"
   },
   {
    "duration": 11,
    "start_time": "2022-09-14T07:08:29.868Z"
   },
   {
    "duration": 6,
    "start_time": "2022-09-14T07:08:44.385Z"
   },
   {
    "duration": 11,
    "start_time": "2022-09-14T07:12:09.674Z"
   },
   {
    "duration": 6,
    "start_time": "2022-09-14T07:12:13.952Z"
   },
   {
    "duration": 7,
    "start_time": "2022-09-14T07:13:07.234Z"
   },
   {
    "duration": 282605,
    "start_time": "2022-09-14T07:39:34.437Z"
   },
   {
    "duration": 6,
    "start_time": "2022-09-14T07:44:17.063Z"
   },
   {
    "duration": 10,
    "start_time": "2022-09-14T08:25:31.632Z"
   },
   {
    "duration": 980811,
    "start_time": "2022-09-14T08:25:31.643Z"
   },
   {
    "duration": 8,
    "start_time": "2022-09-14T08:41:52.462Z"
   },
   {
    "duration": 6,
    "start_time": "2022-09-14T09:16:21.100Z"
   },
   {
    "duration": 12,
    "start_time": "2022-09-14T09:23:42.245Z"
   },
   {
    "duration": 7,
    "start_time": "2022-09-14T09:24:24.616Z"
   },
   {
    "duration": 19,
    "start_time": "2022-09-14T09:24:39.994Z"
   },
   {
    "duration": 7,
    "start_time": "2022-09-14T09:29:46.345Z"
   },
   {
    "duration": 7,
    "start_time": "2022-09-14T09:30:06.877Z"
   },
   {
    "duration": 6,
    "start_time": "2022-09-14T09:30:28.865Z"
   },
   {
    "duration": 5,
    "start_time": "2022-09-14T09:30:56.098Z"
   },
   {
    "duration": 4,
    "start_time": "2022-09-14T09:31:45.544Z"
   },
   {
    "duration": 4,
    "start_time": "2022-09-14T09:31:53.659Z"
   },
   {
    "duration": 2,
    "start_time": "2022-09-14T09:40:48.494Z"
   },
   {
    "duration": 157,
    "start_time": "2022-09-14T09:41:23.190Z"
   },
   {
    "duration": 50,
    "start_time": "2022-09-14T09:41:59.477Z"
   },
   {
    "duration": 2,
    "start_time": "2022-09-14T09:42:38.771Z"
   },
   {
    "duration": 65,
    "start_time": "2022-09-14T09:42:39.579Z"
   },
   {
    "duration": 50,
    "start_time": "2022-09-14T09:42:40.448Z"
   },
   {
    "duration": 46,
    "start_time": "2022-09-14T09:42:43.871Z"
   },
   {
    "duration": 3,
    "start_time": "2022-09-14T09:42:48.111Z"
   },
   {
    "duration": 55,
    "start_time": "2022-09-14T09:42:48.709Z"
   },
   {
    "duration": 47,
    "start_time": "2022-09-14T09:42:50.995Z"
   },
   {
    "duration": 3,
    "start_time": "2022-09-14T09:43:23.073Z"
   },
   {
    "duration": 55,
    "start_time": "2022-09-14T09:43:23.515Z"
   },
   {
    "duration": 54,
    "start_time": "2022-09-14T09:43:23.954Z"
   },
   {
    "duration": 3,
    "start_time": "2022-09-14T09:43:33.019Z"
   },
   {
    "duration": 147,
    "start_time": "2022-09-14T09:43:33.536Z"
   },
   {
    "duration": 49,
    "start_time": "2022-09-14T09:43:34.395Z"
   },
   {
    "duration": 2,
    "start_time": "2022-09-14T09:43:42.343Z"
   },
   {
    "duration": 182,
    "start_time": "2022-09-14T09:43:43.048Z"
   },
   {
    "duration": 43,
    "start_time": "2022-09-14T09:43:43.814Z"
   },
   {
    "duration": 3,
    "start_time": "2022-09-14T09:44:04.752Z"
   },
   {
    "duration": 221,
    "start_time": "2022-09-14T09:44:05.299Z"
   },
   {
    "duration": 49,
    "start_time": "2022-09-14T09:44:06.080Z"
   },
   {
    "duration": 3,
    "start_time": "2022-09-14T09:44:14.821Z"
   },
   {
    "duration": 158,
    "start_time": "2022-09-14T09:44:15.317Z"
   },
   {
    "duration": 47,
    "start_time": "2022-09-14T09:44:16.281Z"
   },
   {
    "duration": 2,
    "start_time": "2022-09-14T09:44:25.246Z"
   },
   {
    "duration": 57,
    "start_time": "2022-09-14T09:44:25.814Z"
   },
   {
    "duration": 42,
    "start_time": "2022-09-14T09:44:26.705Z"
   },
   {
    "duration": 1344563,
    "start_time": "2022-09-14T09:45:25.950Z"
   },
   {
    "duration": 3,
    "start_time": "2022-09-14T10:07:50.962Z"
   },
   {
    "duration": 177,
    "start_time": "2022-09-14T10:07:50.966Z"
   },
   {
    "duration": 55,
    "start_time": "2022-09-14T10:07:51.146Z"
   },
   {
    "duration": 4,
    "start_time": "2022-09-14T10:07:51.205Z"
   },
   {
    "duration": 17,
    "start_time": "2022-09-14T10:07:51.210Z"
   },
   {
    "duration": 10,
    "start_time": "2022-09-14T10:07:51.228Z"
   },
   {
    "duration": 14,
    "start_time": "2022-09-14T10:07:51.240Z"
   },
   {
    "duration": 4,
    "start_time": "2022-09-14T10:09:13.721Z"
   },
   {
    "duration": 6,
    "start_time": "2022-09-14T10:09:14.724Z"
   },
   {
    "duration": 2,
    "start_time": "2022-09-14T10:09:15.762Z"
   },
   {
    "duration": 4,
    "start_time": "2022-09-14T10:09:26.250Z"
   },
   {
    "duration": 3,
    "start_time": "2022-09-14T10:09:27.025Z"
   },
   {
    "duration": 16,
    "start_time": "2022-09-14T10:09:27.757Z"
   },
   {
    "duration": 20,
    "start_time": "2022-09-14T10:09:58.595Z"
   },
   {
    "duration": 934399,
    "start_time": "2022-09-14T10:10:35.261Z"
   },
   {
    "duration": 4,
    "start_time": "2022-09-14T10:26:33.367Z"
   },
   {
    "duration": 2,
    "start_time": "2022-09-14T10:26:34.480Z"
   },
   {
    "duration": 16,
    "start_time": "2022-09-14T10:26:35.566Z"
   },
   {
    "duration": 130,
    "start_time": "2022-09-14T10:28:44.341Z"
   },
   {
    "duration": 957958,
    "start_time": "2022-09-14T10:31:46.790Z"
   },
   {
    "duration": 4,
    "start_time": "2022-09-14T10:48:27.445Z"
   },
   {
    "duration": 5,
    "start_time": "2022-09-14T10:48:31.579Z"
   },
   {
    "duration": 972870,
    "start_time": "2022-09-14T10:49:48.744Z"
   },
   {
    "duration": 4,
    "start_time": "2022-09-14T11:09:31.737Z"
   },
   {
    "duration": 4,
    "start_time": "2022-09-14T11:12:12.158Z"
   },
   {
    "duration": 29,
    "start_time": "2022-09-14T11:13:43.177Z"
   },
   {
    "duration": 6,
    "start_time": "2022-09-14T12:11:52.924Z"
   },
   {
    "duration": 31,
    "start_time": "2022-09-14T12:23:36.306Z"
   },
   {
    "duration": 8,
    "start_time": "2022-09-14T12:25:45.511Z"
   },
   {
    "duration": 368,
    "start_time": "2022-09-14T12:38:41.748Z"
   },
   {
    "duration": 13,
    "start_time": "2022-09-14T12:38:45.503Z"
   },
   {
    "duration": 28,
    "start_time": "2022-09-14T13:22:45.027Z"
   },
   {
    "duration": 21,
    "start_time": "2022-09-14T13:22:46.890Z"
   },
   {
    "duration": 26,
    "start_time": "2022-09-14T13:22:53.289Z"
   },
   {
    "duration": 9,
    "start_time": "2022-09-14T13:22:54.029Z"
   },
   {
    "duration": 24,
    "start_time": "2022-09-14T13:24:16.832Z"
   },
   {
    "duration": 15,
    "start_time": "2022-09-14T13:24:18.502Z"
   },
   {
    "duration": 21,
    "start_time": "2022-09-14T13:24:25.710Z"
   },
   {
    "duration": 12,
    "start_time": "2022-09-14T13:24:26.137Z"
   },
   {
    "duration": 54,
    "start_time": "2022-09-15T06:08:49.356Z"
   },
   {
    "duration": 1792,
    "start_time": "2022-09-15T06:08:55.801Z"
   },
   {
    "duration": 177,
    "start_time": "2022-09-15T06:08:57.595Z"
   },
   {
    "duration": 3,
    "start_time": "2022-09-15T06:08:57.774Z"
   },
   {
    "duration": 33,
    "start_time": "2022-09-15T06:08:57.779Z"
   },
   {
    "duration": 19,
    "start_time": "2022-09-15T06:08:57.814Z"
   },
   {
    "duration": 43,
    "start_time": "2022-09-15T06:08:57.835Z"
   },
   {
    "duration": 7,
    "start_time": "2022-09-15T06:09:04.546Z"
   },
   {
    "duration": 5,
    "start_time": "2022-09-15T06:09:12.740Z"
   },
   {
    "duration": 3,
    "start_time": "2022-09-15T06:09:13.245Z"
   },
   {
    "duration": 16,
    "start_time": "2022-09-15T06:09:15.006Z"
   },
   {
    "duration": 45,
    "start_time": "2022-09-15T06:09:20.765Z"
   },
   {
    "duration": 6,
    "start_time": "2022-09-15T06:09:26.519Z"
   },
   {
    "duration": 10,
    "start_time": "2022-09-15T06:09:27.214Z"
   },
   {
    "duration": 5,
    "start_time": "2022-09-15T06:09:30.642Z"
   },
   {
    "duration": 11,
    "start_time": "2022-09-15T06:09:31.118Z"
   },
   {
    "duration": 9,
    "start_time": "2022-09-15T06:09:37.633Z"
   },
   {
    "duration": 11,
    "start_time": "2022-09-15T06:09:39.418Z"
   },
   {
    "duration": 15,
    "start_time": "2022-09-15T06:09:41.409Z"
   },
   {
    "duration": 5,
    "start_time": "2022-09-15T06:23:40.955Z"
   },
   {
    "duration": 45,
    "start_time": "2022-09-15T06:23:40.963Z"
   },
   {
    "duration": 3,
    "start_time": "2022-09-15T06:23:41.010Z"
   },
   {
    "duration": 21,
    "start_time": "2022-09-15T06:23:41.015Z"
   },
   {
    "duration": 12,
    "start_time": "2022-09-15T06:23:41.038Z"
   },
   {
    "duration": 65,
    "start_time": "2022-09-15T06:23:41.052Z"
   },
   {
    "duration": 7,
    "start_time": "2022-09-15T06:23:41.119Z"
   },
   {
    "duration": 6,
    "start_time": "2022-09-15T06:23:41.127Z"
   },
   {
    "duration": 4,
    "start_time": "2022-09-15T06:23:41.135Z"
   },
   {
    "duration": 12,
    "start_time": "2022-09-15T06:23:41.141Z"
   },
   {
    "duration": 80,
    "start_time": "2022-09-15T06:23:41.156Z"
   },
   {
    "duration": 4,
    "start_time": "2022-09-15T06:23:41.237Z"
   },
   {
    "duration": 12,
    "start_time": "2022-09-15T06:23:41.243Z"
   },
   {
    "duration": 5,
    "start_time": "2022-09-15T06:23:41.256Z"
   },
   {
    "duration": 38,
    "start_time": "2022-09-15T06:23:41.262Z"
   },
   {
    "duration": 10,
    "start_time": "2022-09-15T06:23:41.302Z"
   },
   {
    "duration": 15,
    "start_time": "2022-09-15T06:23:41.313Z"
   },
   {
    "duration": 13,
    "start_time": "2022-09-15T06:23:41.330Z"
   },
   {
    "duration": 106,
    "start_time": "2022-09-15T06:23:41.347Z"
   },
   {
    "duration": 5,
    "start_time": "2022-09-15T06:23:41.455Z"
   },
   {
    "duration": 14,
    "start_time": "2022-09-15T06:23:41.462Z"
   },
   {
    "duration": 27,
    "start_time": "2022-09-15T06:23:41.478Z"
   },
   {
    "duration": 16,
    "start_time": "2022-09-15T06:23:41.507Z"
   },
   {
    "duration": 12,
    "start_time": "2022-09-15T06:23:41.525Z"
   },
   {
    "duration": 5,
    "start_time": "2022-09-15T06:23:41.539Z"
   },
   {
    "duration": 9,
    "start_time": "2022-09-15T06:23:41.546Z"
   },
   {
    "duration": 8,
    "start_time": "2022-09-15T06:23:41.556Z"
   },
   {
    "duration": 30,
    "start_time": "2022-09-15T06:23:41.566Z"
   },
   {
    "duration": 8,
    "start_time": "2022-09-15T06:23:41.597Z"
   },
   {
    "duration": 21,
    "start_time": "2022-09-15T06:23:41.606Z"
   },
   {
    "duration": 7,
    "start_time": "2022-09-15T06:23:41.628Z"
   },
   {
    "duration": 9,
    "start_time": "2022-09-15T06:23:41.637Z"
   },
   {
    "duration": 12,
    "start_time": "2022-09-15T06:23:41.648Z"
   },
   {
    "duration": 39,
    "start_time": "2022-09-15T06:23:41.662Z"
   },
   {
    "duration": 9,
    "start_time": "2022-09-15T06:23:41.703Z"
   },
   {
    "duration": 17,
    "start_time": "2022-09-15T06:23:41.714Z"
   },
   {
    "duration": 11,
    "start_time": "2022-09-15T06:23:41.733Z"
   },
   {
    "duration": 5,
    "start_time": "2022-09-15T06:23:41.746Z"
   },
   {
    "duration": 11,
    "start_time": "2022-09-15T06:23:41.753Z"
   },
   {
    "duration": 6,
    "start_time": "2022-09-15T06:23:41.765Z"
   },
   {
    "duration": 12,
    "start_time": "2022-09-15T06:23:41.796Z"
   },
   {
    "duration": 21,
    "start_time": "2022-09-15T06:23:41.812Z"
   },
   {
    "duration": 7,
    "start_time": "2022-09-15T06:23:41.834Z"
   },
   {
    "duration": 17,
    "start_time": "2022-09-15T06:23:41.843Z"
   },
   {
    "duration": 34,
    "start_time": "2022-09-15T06:23:41.862Z"
   },
   {
    "duration": 13,
    "start_time": "2022-09-15T06:23:41.898Z"
   },
   {
    "duration": 21,
    "start_time": "2022-09-15T06:23:41.913Z"
   },
   {
    "duration": 13,
    "start_time": "2022-09-15T06:23:46.646Z"
   },
   {
    "duration": 4,
    "start_time": "2022-09-15T06:23:53.146Z"
   },
   {
    "duration": 4,
    "start_time": "2022-09-15T06:24:21.242Z"
   },
   {
    "duration": 8,
    "start_time": "2022-09-15T06:24:22.332Z"
   },
   {
    "duration": 8,
    "start_time": "2022-09-15T06:24:22.888Z"
   },
   {
    "duration": 9,
    "start_time": "2022-09-15T06:24:23.391Z"
   },
   {
    "duration": 10,
    "start_time": "2022-09-15T06:24:24.104Z"
   },
   {
    "duration": 6,
    "start_time": "2022-09-15T06:24:26.672Z"
   },
   {
    "duration": 5,
    "start_time": "2022-09-15T06:24:27.191Z"
   },
   {
    "duration": 4,
    "start_time": "2022-09-15T06:24:27.692Z"
   },
   {
    "duration": 5,
    "start_time": "2022-09-15T06:24:28.506Z"
   },
   {
    "duration": 6,
    "start_time": "2022-09-15T06:24:29.376Z"
   },
   {
    "duration": 8,
    "start_time": "2022-09-15T06:24:29.999Z"
   },
   {
    "duration": 6,
    "start_time": "2022-09-15T06:24:40.746Z"
   },
   {
    "duration": 6,
    "start_time": "2022-09-15T06:24:41.157Z"
   },
   {
    "duration": 7,
    "start_time": "2022-09-15T06:24:41.658Z"
   },
   {
    "duration": 81,
    "start_time": "2022-09-15T06:25:22.512Z"
   },
   {
    "duration": 552,
    "start_time": "2022-09-15T06:25:52.345Z"
   },
   {
    "duration": 217,
    "start_time": "2022-09-15T06:25:52.899Z"
   },
   {
    "duration": 8,
    "start_time": "2022-09-15T06:25:59.125Z"
   },
   {
    "duration": 268,
    "start_time": "2022-09-15T06:26:02.227Z"
   },
   {
    "duration": 203,
    "start_time": "2022-09-15T06:26:02.843Z"
   },
   {
    "duration": 15,
    "start_time": "2022-09-15T06:26:07.998Z"
   },
   {
    "duration": 14,
    "start_time": "2022-09-15T06:26:09.512Z"
   },
   {
    "duration": 26,
    "start_time": "2022-09-15T06:47:17.314Z"
   },
   {
    "duration": 194,
    "start_time": "2022-09-15T06:47:17.404Z"
   },
   {
    "duration": 266309,
    "start_time": "2022-09-15T06:47:17.602Z"
   },
   {
    "duration": 4,
    "start_time": "2022-09-15T06:51:43.912Z"
   },
   {
    "duration": 4,
    "start_time": "2022-09-15T06:51:56.254Z"
   },
   {
    "duration": 6,
    "start_time": "2022-09-15T06:51:57.317Z"
   },
   {
    "duration": 5,
    "start_time": "2022-09-15T06:51:57.861Z"
   },
   {
    "duration": 5,
    "start_time": "2022-09-15T06:51:58.361Z"
   },
   {
    "duration": 26,
    "start_time": "2022-09-15T06:51:59.036Z"
   },
   {
    "duration": 25,
    "start_time": "2022-09-15T06:51:59.641Z"
   },
   {
    "duration": 5,
    "start_time": "2022-09-15T06:52:00.413Z"
   },
   {
    "duration": 94,
    "start_time": "2022-09-15T06:52:14.102Z"
   },
   {
    "duration": 79,
    "start_time": "2022-09-15T06:52:14.918Z"
   },
   {
    "duration": 10,
    "start_time": "2022-09-15T06:52:36.894Z"
   },
   {
    "duration": 81,
    "start_time": "2022-09-15T07:32:36.785Z"
   },
   {
    "duration": 277,
    "start_time": "2022-09-15T07:33:08.450Z"
   },
   {
    "duration": 2,
    "start_time": "2022-09-15T07:35:01.781Z"
   },
   {
    "duration": 18,
    "start_time": "2022-09-15T07:35:41.733Z"
   },
   {
    "duration": 17,
    "start_time": "2022-09-15T07:37:33.083Z"
   },
   {
    "duration": 17,
    "start_time": "2022-09-15T07:37:44.064Z"
   },
   {
    "duration": 10,
    "start_time": "2022-09-15T07:38:35.652Z"
   },
   {
    "duration": 9,
    "start_time": "2022-09-15T07:38:46.550Z"
   },
   {
    "duration": 378,
    "start_time": "2022-09-15T07:45:46.488Z"
   },
   {
    "duration": 328,
    "start_time": "2022-09-15T07:48:23.703Z"
   },
   {
    "duration": 1616,
    "start_time": "2022-09-15T08:08:05.125Z"
   },
   {
    "duration": 339,
    "start_time": "2022-09-15T08:09:05.021Z"
   },
   {
    "duration": 2334,
    "start_time": "2022-09-15T08:09:36.737Z"
   },
   {
    "duration": 353,
    "start_time": "2022-09-15T08:09:57.917Z"
   },
   {
    "duration": 11,
    "start_time": "2022-09-15T08:17:03.923Z"
   },
   {
    "duration": 19,
    "start_time": "2022-09-15T08:17:24.141Z"
   },
   {
    "duration": 15,
    "start_time": "2022-09-15T08:17:29.301Z"
   },
   {
    "duration": 21,
    "start_time": "2022-09-15T08:17:46.538Z"
   },
   {
    "duration": 12,
    "start_time": "2022-09-15T08:17:47.635Z"
   },
   {
    "duration": 280316,
    "start_time": "2022-09-15T08:26:32.827Z"
   },
   {
    "duration": 276820,
    "start_time": "2022-09-15T09:05:51.025Z"
   },
   {
    "duration": 6,
    "start_time": "2022-09-15T09:18:01.642Z"
   },
   {
    "duration": 5,
    "start_time": "2022-09-15T09:18:02.558Z"
   },
   {
    "duration": 5,
    "start_time": "2022-09-15T09:18:03.361Z"
   },
   {
    "duration": 4,
    "start_time": "2022-09-15T09:18:14.232Z"
   },
   {
    "duration": 5,
    "start_time": "2022-09-15T09:21:13.024Z"
   },
   {
    "duration": 48,
    "start_time": "2022-09-15T09:31:45.148Z"
   },
   {
    "duration": 11,
    "start_time": "2022-09-15T09:31:46.345Z"
   },
   {
    "duration": 3,
    "start_time": "2022-09-15T10:51:41.479Z"
   },
   {
    "duration": 4,
    "start_time": "2022-09-15T10:54:14.758Z"
   },
   {
    "duration": 8,
    "start_time": "2022-09-15T10:54:15.854Z"
   },
   {
    "duration": 9,
    "start_time": "2022-09-15T10:54:36.073Z"
   },
   {
    "duration": 5,
    "start_time": "2022-09-15T10:54:53.709Z"
   },
   {
    "duration": 415,
    "start_time": "2022-09-15T11:01:14.957Z"
   },
   {
    "duration": 364966,
    "start_time": "2022-09-15T11:08:06.105Z"
   },
   {
    "duration": 6,
    "start_time": "2022-09-15T11:27:37.483Z"
   },
   {
    "duration": 22,
    "start_time": "2022-09-15T11:27:38.200Z"
   },
   {
    "duration": 4,
    "start_time": "2022-09-15T11:28:49.440Z"
   },
   {
    "duration": 17,
    "start_time": "2022-09-15T11:28:50.629Z"
   },
   {
    "duration": 5,
    "start_time": "2022-09-15T11:29:18.195Z"
   },
   {
    "duration": 15,
    "start_time": "2022-09-15T11:29:19.474Z"
   },
   {
    "duration": 9,
    "start_time": "2022-09-15T11:30:22.555Z"
   },
   {
    "duration": 9,
    "start_time": "2022-09-15T11:30:47.933Z"
   },
   {
    "duration": 11,
    "start_time": "2022-09-15T11:31:16.186Z"
   },
   {
    "duration": 5,
    "start_time": "2022-09-15T11:31:29.367Z"
   },
   {
    "duration": 233,
    "start_time": "2022-09-15T11:34:20.545Z"
   },
   {
    "duration": 188017,
    "start_time": "2022-09-15T11:38:52.525Z"
   },
   {
    "duration": 4,
    "start_time": "2022-09-15T11:42:00.544Z"
   },
   {
    "duration": 6,
    "start_time": "2022-09-15T11:48:12.890Z"
   },
   {
    "duration": 29,
    "start_time": "2022-09-15T11:51:20.807Z"
   },
   {
    "duration": 9,
    "start_time": "2022-09-15T11:51:32.982Z"
   },
   {
    "duration": 5,
    "start_time": "2022-09-15T11:51:41.155Z"
   },
   {
    "duration": 23,
    "start_time": "2022-09-15T11:59:49.540Z"
   },
   {
    "duration": 6,
    "start_time": "2022-09-15T12:00:00.683Z"
   },
   {
    "duration": 5,
    "start_time": "2022-09-15T12:01:11.166Z"
   },
   {
    "duration": 28,
    "start_time": "2022-09-15T12:01:21.352Z"
   },
   {
    "duration": 22,
    "start_time": "2022-09-15T12:01:38.737Z"
   },
   {
    "duration": 26,
    "start_time": "2022-09-15T12:02:48.838Z"
   },
   {
    "duration": 4,
    "start_time": "2022-09-15T12:02:49.572Z"
   },
   {
    "duration": 22,
    "start_time": "2022-09-15T12:04:10.631Z"
   },
   {
    "duration": 22,
    "start_time": "2022-09-15T12:06:41.232Z"
   },
   {
    "duration": 16,
    "start_time": "2022-09-15T12:09:41.825Z"
   },
   {
    "duration": 20,
    "start_time": "2022-09-15T12:11:00.796Z"
   },
   {
    "duration": 2125,
    "start_time": "2022-09-16T08:43:57.401Z"
   },
   {
    "duration": 383,
    "start_time": "2022-09-16T08:43:59.528Z"
   },
   {
    "duration": 4,
    "start_time": "2022-09-16T08:43:59.912Z"
   },
   {
    "duration": 18,
    "start_time": "2022-09-16T08:43:59.918Z"
   },
   {
    "duration": 14,
    "start_time": "2022-09-16T08:43:59.937Z"
   },
   {
    "duration": 41,
    "start_time": "2022-09-16T08:43:59.952Z"
   },
   {
    "duration": 9,
    "start_time": "2022-09-16T08:43:59.995Z"
   },
   {
    "duration": 10,
    "start_time": "2022-09-16T08:44:00.006Z"
   },
   {
    "duration": 9,
    "start_time": "2022-09-16T08:44:00.018Z"
   },
   {
    "duration": 13,
    "start_time": "2022-09-16T08:44:00.029Z"
   },
   {
    "duration": 62,
    "start_time": "2022-09-16T08:44:00.044Z"
   },
   {
    "duration": 4,
    "start_time": "2022-09-16T08:44:00.108Z"
   },
   {
    "duration": 19,
    "start_time": "2022-09-16T08:44:00.114Z"
   },
   {
    "duration": 7,
    "start_time": "2022-09-16T08:44:32.213Z"
   },
   {
    "duration": 5,
    "start_time": "2022-09-16T08:44:56.979Z"
   },
   {
    "duration": 6,
    "start_time": "2022-09-16T08:45:21.526Z"
   },
   {
    "duration": 4,
    "start_time": "2022-09-16T08:45:41.648Z"
   },
   {
    "duration": 81,
    "start_time": "2022-09-16T08:45:41.657Z"
   },
   {
    "duration": 4,
    "start_time": "2022-09-16T08:45:41.741Z"
   },
   {
    "duration": 27,
    "start_time": "2022-09-16T08:45:41.746Z"
   },
   {
    "duration": 25,
    "start_time": "2022-09-16T08:45:41.776Z"
   },
   {
    "duration": 52,
    "start_time": "2022-09-16T08:45:41.803Z"
   },
   {
    "duration": 6,
    "start_time": "2022-09-16T08:45:41.857Z"
   },
   {
    "duration": 26,
    "start_time": "2022-09-16T08:45:41.865Z"
   },
   {
    "duration": 14,
    "start_time": "2022-09-16T08:45:41.893Z"
   },
   {
    "duration": 30,
    "start_time": "2022-09-16T08:45:41.909Z"
   },
   {
    "duration": 47,
    "start_time": "2022-09-16T08:45:41.942Z"
   },
   {
    "duration": 5,
    "start_time": "2022-09-16T08:45:41.991Z"
   },
   {
    "duration": 20,
    "start_time": "2022-09-16T08:45:41.998Z"
   },
   {
    "duration": 8,
    "start_time": "2022-09-16T08:46:09.915Z"
   },
   {
    "duration": 4,
    "start_time": "2022-09-16T08:46:26.405Z"
   },
   {
    "duration": 43,
    "start_time": "2022-09-16T08:46:27.794Z"
   },
   {
    "duration": 3,
    "start_time": "2022-09-16T08:46:28.787Z"
   },
   {
    "duration": 13,
    "start_time": "2022-09-16T08:46:29.769Z"
   },
   {
    "duration": 12,
    "start_time": "2022-09-16T08:46:30.740Z"
   },
   {
    "duration": 53,
    "start_time": "2022-09-16T08:46:31.923Z"
   },
   {
    "duration": 6,
    "start_time": "2022-09-16T08:46:35.936Z"
   },
   {
    "duration": 4,
    "start_time": "2022-09-16T08:46:38.425Z"
   },
   {
    "duration": 4,
    "start_time": "2022-09-16T08:46:39.135Z"
   },
   {
    "duration": 12,
    "start_time": "2022-09-16T08:47:03.111Z"
   },
   {
    "duration": 36,
    "start_time": "2022-09-16T08:47:07.466Z"
   },
   {
    "duration": 4,
    "start_time": "2022-09-16T08:47:15.777Z"
   },
   {
    "duration": 8,
    "start_time": "2022-09-16T08:47:16.544Z"
   },
   {
    "duration": 6,
    "start_time": "2022-09-16T08:47:34.826Z"
   },
   {
    "duration": 6,
    "start_time": "2022-09-16T08:47:46.326Z"
   },
   {
    "duration": 5,
    "start_time": "2022-09-16T08:47:58.349Z"
   },
   {
    "duration": 6,
    "start_time": "2022-09-16T08:48:09.422Z"
   },
   {
    "duration": 6,
    "start_time": "2022-09-16T08:48:19.501Z"
   },
   {
    "duration": 5,
    "start_time": "2022-09-16T08:48:29.115Z"
   },
   {
    "duration": 121,
    "start_time": "2022-09-16T08:48:37.346Z"
   },
   {
    "duration": 11,
    "start_time": "2022-09-16T08:48:42.301Z"
   },
   {
    "duration": 5,
    "start_time": "2022-09-16T08:49:02.178Z"
   },
   {
    "duration": 15,
    "start_time": "2022-09-16T08:49:03.368Z"
   },
   {
    "duration": 10,
    "start_time": "2022-09-16T08:49:32.025Z"
   },
   {
    "duration": 9,
    "start_time": "2022-09-16T08:49:48.502Z"
   },
   {
    "duration": 11,
    "start_time": "2022-09-16T08:50:03.056Z"
   },
   {
    "duration": 8,
    "start_time": "2022-09-16T10:14:09.374Z"
   },
   {
    "duration": 10,
    "start_time": "2022-09-16T10:14:33.879Z"
   },
   {
    "duration": 4,
    "start_time": "2022-09-16T10:23:12.017Z"
   },
   {
    "duration": 46,
    "start_time": "2022-09-16T10:23:12.035Z"
   },
   {
    "duration": 3,
    "start_time": "2022-09-16T10:23:12.084Z"
   },
   {
    "duration": 21,
    "start_time": "2022-09-16T10:23:12.089Z"
   },
   {
    "duration": 17,
    "start_time": "2022-09-16T10:23:12.113Z"
   },
   {
    "duration": 68,
    "start_time": "2022-09-16T10:23:12.131Z"
   },
   {
    "duration": 6,
    "start_time": "2022-09-16T10:23:12.201Z"
   },
   {
    "duration": 18,
    "start_time": "2022-09-16T10:23:12.208Z"
   },
   {
    "duration": 11,
    "start_time": "2022-09-16T10:23:12.227Z"
   },
   {
    "duration": 23,
    "start_time": "2022-09-16T10:23:12.240Z"
   },
   {
    "duration": 55,
    "start_time": "2022-09-16T10:23:12.266Z"
   },
   {
    "duration": 5,
    "start_time": "2022-09-16T10:23:12.323Z"
   },
   {
    "duration": 13,
    "start_time": "2022-09-16T10:23:12.329Z"
   },
   {
    "duration": 11,
    "start_time": "2022-09-16T10:23:12.344Z"
   },
   {
    "duration": 34,
    "start_time": "2022-09-16T10:23:12.356Z"
   },
   {
    "duration": 14,
    "start_time": "2022-09-16T10:23:12.392Z"
   },
   {
    "duration": 12,
    "start_time": "2022-09-16T10:23:12.407Z"
   },
   {
    "duration": 10,
    "start_time": "2022-09-16T10:23:12.421Z"
   },
   {
    "duration": 13,
    "start_time": "2022-09-16T10:23:12.432Z"
   },
   {
    "duration": 47,
    "start_time": "2022-09-16T10:23:12.447Z"
   },
   {
    "duration": 125,
    "start_time": "2022-09-16T10:23:12.496Z"
   },
   {
    "duration": 5,
    "start_time": "2022-09-16T10:23:12.623Z"
   },
   {
    "duration": 21,
    "start_time": "2022-09-16T10:23:12.630Z"
   },
   {
    "duration": 13,
    "start_time": "2022-09-16T10:23:12.653Z"
   },
   {
    "duration": 31,
    "start_time": "2022-09-16T10:23:12.668Z"
   },
   {
    "duration": 12,
    "start_time": "2022-09-16T10:23:12.701Z"
   },
   {
    "duration": 8,
    "start_time": "2022-09-16T10:23:12.714Z"
   },
   {
    "duration": 12,
    "start_time": "2022-09-16T10:23:12.725Z"
   },
   {
    "duration": 11,
    "start_time": "2022-09-16T10:23:12.740Z"
   },
   {
    "duration": 6,
    "start_time": "2022-09-16T10:23:12.752Z"
   },
   {
    "duration": 36,
    "start_time": "2022-09-16T10:23:12.759Z"
   },
   {
    "duration": 12,
    "start_time": "2022-09-16T10:23:12.797Z"
   },
   {
    "duration": 6,
    "start_time": "2022-09-16T10:23:12.810Z"
   },
   {
    "duration": 13,
    "start_time": "2022-09-16T10:23:12.818Z"
   },
   {
    "duration": 13,
    "start_time": "2022-09-16T10:23:12.833Z"
   },
   {
    "duration": 12,
    "start_time": "2022-09-16T10:23:12.848Z"
   },
   {
    "duration": 12,
    "start_time": "2022-09-16T10:23:12.889Z"
   },
   {
    "duration": 5,
    "start_time": "2022-09-16T10:23:22.207Z"
   },
   {
    "duration": 8,
    "start_time": "2022-09-16T10:23:24.258Z"
   },
   {
    "duration": 13,
    "start_time": "2022-09-16T10:59:43.397Z"
   },
   {
    "duration": 5,
    "start_time": "2022-09-16T10:59:54.974Z"
   },
   {
    "duration": 61,
    "start_time": "2022-09-16T10:59:54.983Z"
   },
   {
    "duration": 4,
    "start_time": "2022-09-16T10:59:55.045Z"
   },
   {
    "duration": 25,
    "start_time": "2022-09-16T10:59:55.050Z"
   },
   {
    "duration": 17,
    "start_time": "2022-09-16T10:59:55.077Z"
   },
   {
    "duration": 49,
    "start_time": "2022-09-16T10:59:55.096Z"
   },
   {
    "duration": 6,
    "start_time": "2022-09-16T10:59:55.147Z"
   },
   {
    "duration": 10,
    "start_time": "2022-09-16T10:59:55.154Z"
   },
   {
    "duration": 12,
    "start_time": "2022-09-16T10:59:55.166Z"
   },
   {
    "duration": 20,
    "start_time": "2022-09-16T10:59:55.189Z"
   },
   {
    "duration": 39,
    "start_time": "2022-09-16T10:59:55.212Z"
   },
   {
    "duration": 5,
    "start_time": "2022-09-16T10:59:55.253Z"
   },
   {
    "duration": 38,
    "start_time": "2022-09-16T10:59:55.260Z"
   },
   {
    "duration": 14,
    "start_time": "2022-09-16T10:59:55.301Z"
   },
   {
    "duration": 5,
    "start_time": "2022-09-16T10:59:55.317Z"
   },
   {
    "duration": 10,
    "start_time": "2022-09-16T10:59:55.324Z"
   },
   {
    "duration": 12,
    "start_time": "2022-09-16T10:59:55.337Z"
   },
   {
    "duration": 45,
    "start_time": "2022-09-16T10:59:55.351Z"
   },
   {
    "duration": 20,
    "start_time": "2022-09-16T10:59:55.398Z"
   },
   {
    "duration": 11,
    "start_time": "2022-09-16T10:59:55.420Z"
   },
   {
    "duration": 100,
    "start_time": "2022-09-16T10:59:55.433Z"
   },
   {
    "duration": 4,
    "start_time": "2022-09-16T10:59:55.534Z"
   },
   {
    "duration": 12,
    "start_time": "2022-09-16T10:59:55.540Z"
   },
   {
    "duration": 11,
    "start_time": "2022-09-16T10:59:55.555Z"
   },
   {
    "duration": 37,
    "start_time": "2022-09-16T10:59:55.567Z"
   },
   {
    "duration": 24,
    "start_time": "2022-09-16T10:59:55.606Z"
   },
   {
    "duration": 6,
    "start_time": "2022-09-16T10:59:55.631Z"
   },
   {
    "duration": 12,
    "start_time": "2022-09-16T10:59:55.639Z"
   },
   {
    "duration": 12,
    "start_time": "2022-09-16T10:59:55.653Z"
   },
   {
    "duration": 5,
    "start_time": "2022-09-16T10:59:55.667Z"
   },
   {
    "duration": 17,
    "start_time": "2022-09-16T10:59:55.674Z"
   },
   {
    "duration": 27,
    "start_time": "2022-09-16T10:59:55.693Z"
   },
   {
    "duration": 6,
    "start_time": "2022-09-16T10:59:55.722Z"
   },
   {
    "duration": 20,
    "start_time": "2022-09-16T10:59:55.729Z"
   },
   {
    "duration": 10,
    "start_time": "2022-09-16T10:59:55.751Z"
   },
   {
    "duration": 10,
    "start_time": "2022-09-16T10:59:55.763Z"
   },
   {
    "duration": 17,
    "start_time": "2022-09-16T10:59:55.775Z"
   },
   {
    "duration": 25,
    "start_time": "2022-09-16T10:59:55.794Z"
   },
   {
    "duration": 10,
    "start_time": "2022-09-16T10:59:55.821Z"
   },
   {
    "duration": 6,
    "start_time": "2022-09-16T10:59:55.832Z"
   },
   {
    "duration": 16,
    "start_time": "2022-09-16T10:59:55.839Z"
   },
   {
    "duration": 8,
    "start_time": "2022-09-16T10:59:55.857Z"
   },
   {
    "duration": 13,
    "start_time": "2022-09-16T10:59:55.866Z"
   },
   {
    "duration": 12,
    "start_time": "2022-09-16T10:59:55.880Z"
   },
   {
    "duration": 18,
    "start_time": "2022-09-16T10:59:55.895Z"
   },
   {
    "duration": 14,
    "start_time": "2022-09-16T10:59:55.915Z"
   },
   {
    "duration": 19,
    "start_time": "2022-09-16T10:59:55.930Z"
   },
   {
    "duration": 2,
    "start_time": "2022-09-16T10:59:55.951Z"
   },
   {
    "duration": 5,
    "start_time": "2022-09-16T10:59:55.954Z"
   },
   {
    "duration": 6,
    "start_time": "2022-09-16T10:59:55.961Z"
   },
   {
    "duration": 7,
    "start_time": "2022-09-16T10:59:55.968Z"
   },
   {
    "duration": 23,
    "start_time": "2022-09-16T10:59:55.976Z"
   },
   {
    "duration": 37,
    "start_time": "2022-09-16T10:59:56.001Z"
   },
   {
    "duration": 7,
    "start_time": "2022-09-16T10:59:56.040Z"
   },
   {
    "duration": 7,
    "start_time": "2022-09-16T10:59:56.048Z"
   },
   {
    "duration": 4,
    "start_time": "2022-09-16T10:59:56.056Z"
   },
   {
    "duration": 5,
    "start_time": "2022-09-16T10:59:56.061Z"
   },
   {
    "duration": 5,
    "start_time": "2022-09-16T10:59:56.068Z"
   },
   {
    "duration": 11,
    "start_time": "2022-09-16T10:59:56.075Z"
   },
   {
    "duration": 27,
    "start_time": "2022-09-16T10:59:56.087Z"
   },
   {
    "duration": 9,
    "start_time": "2022-09-16T10:59:56.116Z"
   },
   {
    "duration": 24,
    "start_time": "2022-09-16T10:59:56.129Z"
   },
   {
    "duration": 24,
    "start_time": "2022-09-16T11:27:47.014Z"
   },
   {
    "duration": 10,
    "start_time": "2022-09-16T11:27:49.679Z"
   },
   {
    "duration": 18,
    "start_time": "2022-09-16T11:27:50.469Z"
   },
   {
    "duration": 21,
    "start_time": "2022-09-16T11:28:47.967Z"
   },
   {
    "duration": 16,
    "start_time": "2022-09-16T11:29:16.774Z"
   },
   {
    "duration": 15,
    "start_time": "2022-09-16T11:41:56.266Z"
   },
   {
    "duration": 8,
    "start_time": "2022-09-16T11:42:49.705Z"
   },
   {
    "duration": 12,
    "start_time": "2022-09-16T11:43:28.887Z"
   },
   {
    "duration": 9,
    "start_time": "2022-09-16T11:43:31.042Z"
   },
   {
    "duration": 9,
    "start_time": "2022-09-16T11:43:31.713Z"
   },
   {
    "duration": 9,
    "start_time": "2022-09-16T11:43:41.600Z"
   },
   {
    "duration": 7,
    "start_time": "2022-09-16T11:44:09.511Z"
   },
   {
    "duration": 9,
    "start_time": "2022-09-16T11:44:39.861Z"
   },
   {
    "duration": 11,
    "start_time": "2022-09-16T11:44:49.044Z"
   },
   {
    "duration": 4,
    "start_time": "2022-09-16T11:44:52.854Z"
   },
   {
    "duration": 4,
    "start_time": "2022-09-16T11:45:04.140Z"
   },
   {
    "duration": 5,
    "start_time": "2022-09-16T11:45:08.443Z"
   },
   {
    "duration": 5,
    "start_time": "2022-09-16T11:45:12.451Z"
   },
   {
    "duration": 5,
    "start_time": "2022-09-16T11:45:16.232Z"
   },
   {
    "duration": 5,
    "start_time": "2022-09-16T11:45:23.061Z"
   },
   {
    "duration": 11,
    "start_time": "2022-09-16T11:45:34.602Z"
   },
   {
    "duration": 20,
    "start_time": "2022-09-16T11:45:42.340Z"
   },
   {
    "duration": 17,
    "start_time": "2022-09-16T11:49:05.398Z"
   },
   {
    "duration": 12,
    "start_time": "2022-09-16T11:50:10.874Z"
   },
   {
    "duration": 15,
    "start_time": "2022-09-16T11:51:01.528Z"
   },
   {
    "duration": 13,
    "start_time": "2022-09-16T11:54:25.966Z"
   },
   {
    "duration": 15,
    "start_time": "2022-09-16T12:39:42.453Z"
   },
   {
    "duration": 14,
    "start_time": "2022-09-16T12:41:01.157Z"
   },
   {
    "duration": 19,
    "start_time": "2022-09-16T12:41:50.090Z"
   },
   {
    "duration": 7,
    "start_time": "2022-09-16T12:42:15.267Z"
   },
   {
    "duration": 72,
    "start_time": "2022-09-16T12:42:15.279Z"
   },
   {
    "duration": 5,
    "start_time": "2022-09-16T12:42:15.353Z"
   },
   {
    "duration": 21,
    "start_time": "2022-09-16T12:42:15.359Z"
   },
   {
    "duration": 43,
    "start_time": "2022-09-16T12:42:15.383Z"
   },
   {
    "duration": 47,
    "start_time": "2022-09-16T12:42:15.428Z"
   },
   {
    "duration": 6,
    "start_time": "2022-09-16T12:42:15.477Z"
   },
   {
    "duration": 22,
    "start_time": "2022-09-16T12:42:15.484Z"
   },
   {
    "duration": 10,
    "start_time": "2022-09-16T12:42:15.507Z"
   },
   {
    "duration": 27,
    "start_time": "2022-09-16T12:42:15.518Z"
   },
   {
    "duration": 38,
    "start_time": "2022-09-16T12:42:15.548Z"
   },
   {
    "duration": 5,
    "start_time": "2022-09-16T12:42:15.589Z"
   },
   {
    "duration": 21,
    "start_time": "2022-09-16T12:42:15.596Z"
   },
   {
    "duration": 11,
    "start_time": "2022-09-16T12:42:15.619Z"
   },
   {
    "duration": 4,
    "start_time": "2022-09-16T12:42:15.632Z"
   },
   {
    "duration": 10,
    "start_time": "2022-09-16T12:42:15.638Z"
   },
   {
    "duration": 43,
    "start_time": "2022-09-16T12:42:15.650Z"
   },
   {
    "duration": 9,
    "start_time": "2022-09-16T12:42:15.694Z"
   },
   {
    "duration": 17,
    "start_time": "2022-09-16T12:42:15.705Z"
   },
   {
    "duration": 15,
    "start_time": "2022-09-16T12:42:15.724Z"
   },
   {
    "duration": 107,
    "start_time": "2022-09-16T12:42:15.741Z"
   },
   {
    "duration": 4,
    "start_time": "2022-09-16T12:42:15.850Z"
   },
   {
    "duration": 13,
    "start_time": "2022-09-16T12:42:15.856Z"
   },
   {
    "duration": 28,
    "start_time": "2022-09-16T12:42:15.871Z"
   },
   {
    "duration": 14,
    "start_time": "2022-09-16T12:42:15.901Z"
   },
   {
    "duration": 13,
    "start_time": "2022-09-16T12:42:15.917Z"
   },
   {
    "duration": 7,
    "start_time": "2022-09-16T12:42:15.931Z"
   },
   {
    "duration": 9,
    "start_time": "2022-09-16T12:42:15.940Z"
   },
   {
    "duration": 41,
    "start_time": "2022-09-16T12:42:15.954Z"
   },
   {
    "duration": 6,
    "start_time": "2022-09-16T12:42:15.997Z"
   },
   {
    "duration": 9,
    "start_time": "2022-09-16T12:42:16.005Z"
   },
   {
    "duration": 14,
    "start_time": "2022-09-16T12:42:16.016Z"
   },
   {
    "duration": 7,
    "start_time": "2022-09-16T12:42:16.032Z"
   },
   {
    "duration": 9,
    "start_time": "2022-09-16T12:42:16.041Z"
   },
   {
    "duration": 45,
    "start_time": "2022-09-16T12:42:16.053Z"
   },
   {
    "duration": 6,
    "start_time": "2022-09-16T12:42:16.100Z"
   },
   {
    "duration": 8,
    "start_time": "2022-09-16T12:42:16.109Z"
   },
   {
    "duration": 5,
    "start_time": "2022-09-16T12:42:16.119Z"
   },
   {
    "duration": 10,
    "start_time": "2022-09-16T12:42:16.125Z"
   },
   {
    "duration": 5,
    "start_time": "2022-09-16T12:42:16.137Z"
   },
   {
    "duration": 51,
    "start_time": "2022-09-16T12:42:16.143Z"
   },
   {
    "duration": 5,
    "start_time": "2022-09-16T12:42:16.196Z"
   },
   {
    "duration": 14,
    "start_time": "2022-09-16T12:42:16.203Z"
   },
   {
    "duration": 14,
    "start_time": "2022-09-16T12:42:16.219Z"
   },
   {
    "duration": 6,
    "start_time": "2022-09-16T12:42:16.235Z"
   },
   {
    "duration": 21,
    "start_time": "2022-09-16T12:42:16.242Z"
   },
   {
    "duration": 59,
    "start_time": "2022-09-16T12:42:16.264Z"
   },
   {
    "duration": 10,
    "start_time": "2022-09-16T12:42:16.325Z"
   },
   {
    "duration": 7,
    "start_time": "2022-09-16T12:42:16.336Z"
   },
   {
    "duration": 12,
    "start_time": "2022-09-16T12:42:16.344Z"
   },
   {
    "duration": 16,
    "start_time": "2022-09-16T12:42:16.358Z"
   },
   {
    "duration": 20,
    "start_time": "2022-09-16T12:42:16.375Z"
   },
   {
    "duration": 27,
    "start_time": "2022-09-16T12:42:16.397Z"
   },
   {
    "duration": 7,
    "start_time": "2022-09-16T12:42:16.426Z"
   },
   {
    "duration": 26,
    "start_time": "2022-09-16T12:42:16.435Z"
   },
   {
    "duration": 6,
    "start_time": "2022-09-16T12:42:16.462Z"
   },
   {
    "duration": 6,
    "start_time": "2022-09-16T12:42:16.469Z"
   },
   {
    "duration": 14,
    "start_time": "2022-09-16T12:42:16.477Z"
   },
   {
    "duration": 9,
    "start_time": "2022-09-16T12:42:16.492Z"
   },
   {
    "duration": 8,
    "start_time": "2022-09-16T12:42:16.502Z"
   },
   {
    "duration": 7,
    "start_time": "2022-09-16T12:42:16.512Z"
   },
   {
    "duration": 13,
    "start_time": "2022-09-16T12:42:16.521Z"
   },
   {
    "duration": 14,
    "start_time": "2022-09-16T12:42:16.536Z"
   },
   {
    "duration": 9,
    "start_time": "2022-09-16T12:42:16.552Z"
   },
   {
    "duration": 27,
    "start_time": "2022-09-16T12:42:16.563Z"
   },
   {
    "duration": 12,
    "start_time": "2022-09-16T12:46:45.844Z"
   },
   {
    "duration": 12,
    "start_time": "2022-09-16T12:46:49.348Z"
   },
   {
    "duration": 10,
    "start_time": "2022-09-16T12:47:25.736Z"
   },
   {
    "duration": 4,
    "start_time": "2022-09-16T12:47:50.935Z"
   },
   {
    "duration": 8,
    "start_time": "2022-09-16T12:48:16.289Z"
   },
   {
    "duration": 4,
    "start_time": "2022-09-16T12:49:35.747Z"
   },
   {
    "duration": 14,
    "start_time": "2022-09-16T12:50:28.528Z"
   },
   {
    "duration": 10,
    "start_time": "2022-09-16T12:51:06.996Z"
   },
   {
    "duration": 9,
    "start_time": "2022-09-16T12:51:47.132Z"
   },
   {
    "duration": 13,
    "start_time": "2022-09-16T12:52:26.906Z"
   },
   {
    "duration": 13,
    "start_time": "2022-09-16T12:52:46.643Z"
   },
   {
    "duration": 7,
    "start_time": "2022-09-16T12:57:29.868Z"
   },
   {
    "duration": 8,
    "start_time": "2022-09-16T12:57:30.530Z"
   },
   {
    "duration": 8,
    "start_time": "2022-09-16T12:57:31.042Z"
   },
   {
    "duration": 565,
    "start_time": "2022-09-16T12:57:41.530Z"
   },
   {
    "duration": 10,
    "start_time": "2022-09-16T12:57:52.020Z"
   },
   {
    "duration": 272,
    "start_time": "2022-09-16T12:57:56.555Z"
   },
   {
    "duration": 197,
    "start_time": "2022-09-16T12:57:58.062Z"
   },
   {
    "duration": 10,
    "start_time": "2022-09-16T12:58:02.230Z"
   },
   {
    "duration": 286,
    "start_time": "2022-09-16T13:36:05.770Z"
   },
   {
    "duration": 912944,
    "start_time": "2022-09-16T13:37:00.138Z"
   },
   {
    "duration": 4,
    "start_time": "2022-09-16T13:56:47.145Z"
   },
   {
    "duration": 4,
    "start_time": "2022-09-16T13:56:48.196Z"
   },
   {
    "duration": 29,
    "start_time": "2022-09-16T13:56:50.526Z"
   },
   {
    "duration": 1251867,
    "start_time": "2022-09-16T13:58:10.365Z"
   },
   {
    "duration": 4,
    "start_time": "2022-09-16T14:19:13.272Z"
   },
   {
    "duration": 5,
    "start_time": "2022-09-16T14:19:14.247Z"
   },
   {
    "duration": 2,
    "start_time": "2022-09-16T14:19:15.519Z"
   },
   {
    "duration": 4,
    "start_time": "2022-09-16T14:20:03.754Z"
   },
   {
    "duration": 11,
    "start_time": "2022-09-16T14:20:21.908Z"
   },
   {
    "duration": 4,
    "start_time": "2022-09-16T14:20:26.188Z"
   },
   {
    "duration": 265613,
    "start_time": "2022-09-16T14:33:42.508Z"
   },
   {
    "duration": 4,
    "start_time": "2022-09-16T14:38:08.123Z"
   },
   {
    "duration": 3,
    "start_time": "2022-09-16T14:48:35.710Z"
   },
   {
    "duration": 6,
    "start_time": "2022-09-16T14:48:51.087Z"
   },
   {
    "duration": 6,
    "start_time": "2022-09-16T14:48:51.852Z"
   },
   {
    "duration": 4,
    "start_time": "2022-09-16T14:48:57.446Z"
   },
   {
    "duration": 27,
    "start_time": "2022-09-16T14:49:00.843Z"
   },
   {
    "duration": 5,
    "start_time": "2022-09-16T14:49:01.698Z"
   },
   {
    "duration": 51,
    "start_time": "2022-09-16T14:49:22.138Z"
   },
   {
    "duration": 14,
    "start_time": "2022-09-16T14:49:22.740Z"
   },
   {
    "duration": 18,
    "start_time": "2022-09-16T14:49:33.040Z"
   },
   {
    "duration": 6,
    "start_time": "2022-09-16T14:49:33.702Z"
   },
   {
    "duration": 348,
    "start_time": "2022-09-16T14:49:38.202Z"
   },
   {
    "duration": 49,
    "start_time": "2022-09-16T19:37:47.945Z"
   },
   {
    "duration": 6,
    "start_time": "2022-09-16T19:37:50.790Z"
   },
   {
    "duration": 6,
    "start_time": "2022-09-16T19:37:53.089Z"
   },
   {
    "duration": 1586,
    "start_time": "2022-09-16T19:38:02.585Z"
   },
   {
    "duration": 83,
    "start_time": "2022-09-16T19:38:04.172Z"
   },
   {
    "duration": 4,
    "start_time": "2022-09-16T19:38:04.256Z"
   },
   {
    "duration": 17,
    "start_time": "2022-09-16T19:38:04.261Z"
   },
   {
    "duration": 11,
    "start_time": "2022-09-16T19:38:04.280Z"
   },
   {
    "duration": 41,
    "start_time": "2022-09-16T19:38:04.292Z"
   },
   {
    "duration": 6,
    "start_time": "2022-09-16T19:38:04.335Z"
   },
   {
    "duration": 6,
    "start_time": "2022-09-16T19:38:04.342Z"
   },
   {
    "duration": 11,
    "start_time": "2022-09-16T19:38:04.350Z"
   },
   {
    "duration": 12,
    "start_time": "2022-09-16T19:38:04.363Z"
   },
   {
    "duration": 45,
    "start_time": "2022-09-16T19:38:04.376Z"
   },
   {
    "duration": 9,
    "start_time": "2022-09-16T19:38:04.423Z"
   },
   {
    "duration": 26,
    "start_time": "2022-09-16T19:38:04.433Z"
   },
   {
    "duration": 16,
    "start_time": "2022-09-16T19:38:04.461Z"
   },
   {
    "duration": 7,
    "start_time": "2022-09-16T19:38:04.478Z"
   },
   {
    "duration": 23,
    "start_time": "2022-09-16T19:38:04.487Z"
   },
   {
    "duration": 21,
    "start_time": "2022-09-16T19:38:04.511Z"
   },
   {
    "duration": 14,
    "start_time": "2022-09-16T19:38:04.535Z"
   },
   {
    "duration": 27,
    "start_time": "2022-09-16T19:38:04.551Z"
   },
   {
    "duration": 12,
    "start_time": "2022-09-16T19:38:04.579Z"
   },
   {
    "duration": 62,
    "start_time": "2022-09-16T19:38:04.593Z"
   },
   {
    "duration": 3,
    "start_time": "2022-09-16T19:38:04.657Z"
   },
   {
    "duration": 12,
    "start_time": "2022-09-16T19:38:04.662Z"
   },
   {
    "duration": 11,
    "start_time": "2022-09-16T19:38:04.676Z"
   },
   {
    "duration": 31,
    "start_time": "2022-09-16T19:38:04.689Z"
   },
   {
    "duration": 11,
    "start_time": "2022-09-16T19:38:04.723Z"
   },
   {
    "duration": 5,
    "start_time": "2022-09-16T19:38:04.736Z"
   },
   {
    "duration": 4,
    "start_time": "2022-09-16T19:38:04.746Z"
   },
   {
    "duration": 21,
    "start_time": "2022-09-16T19:38:04.752Z"
   },
   {
    "duration": 15,
    "start_time": "2022-09-16T19:38:04.775Z"
   },
   {
    "duration": 8,
    "start_time": "2022-09-16T19:38:04.791Z"
   },
   {
    "duration": 11,
    "start_time": "2022-09-16T19:38:04.801Z"
   },
   {
    "duration": 10,
    "start_time": "2022-09-16T19:38:04.815Z"
   },
   {
    "duration": 14,
    "start_time": "2022-09-16T19:38:04.827Z"
   },
   {
    "duration": 12,
    "start_time": "2022-09-16T19:38:04.843Z"
   },
   {
    "duration": 6,
    "start_time": "2022-09-16T19:38:04.856Z"
   },
   {
    "duration": 12,
    "start_time": "2022-09-16T19:38:04.863Z"
   },
   {
    "duration": 6,
    "start_time": "2022-09-16T19:38:04.876Z"
   },
   {
    "duration": 10,
    "start_time": "2022-09-16T19:38:04.883Z"
   },
   {
    "duration": 6,
    "start_time": "2022-09-16T19:38:04.908Z"
   },
   {
    "duration": 10,
    "start_time": "2022-09-16T19:38:04.916Z"
   },
   {
    "duration": 12,
    "start_time": "2022-09-16T19:38:04.928Z"
   },
   {
    "duration": 8,
    "start_time": "2022-09-16T19:38:04.941Z"
   },
   {
    "duration": 12,
    "start_time": "2022-09-16T19:38:04.950Z"
   },
   {
    "duration": 15,
    "start_time": "2022-09-16T19:38:04.963Z"
   },
   {
    "duration": 12,
    "start_time": "2022-09-16T19:38:04.980Z"
   },
   {
    "duration": 35,
    "start_time": "2022-09-16T19:38:04.994Z"
   },
   {
    "duration": 2,
    "start_time": "2022-09-16T19:38:05.031Z"
   },
   {
    "duration": 7,
    "start_time": "2022-09-16T19:38:05.035Z"
   },
   {
    "duration": 7,
    "start_time": "2022-09-16T19:38:05.043Z"
   },
   {
    "duration": 8,
    "start_time": "2022-09-16T19:38:05.052Z"
   },
   {
    "duration": 8,
    "start_time": "2022-09-16T19:38:05.062Z"
   },
   {
    "duration": 6,
    "start_time": "2022-09-16T19:38:05.072Z"
   },
   {
    "duration": 8,
    "start_time": "2022-09-16T19:38:05.080Z"
   },
   {
    "duration": 10,
    "start_time": "2022-09-16T19:38:05.109Z"
   },
   {
    "duration": 5,
    "start_time": "2022-09-16T19:38:05.121Z"
   },
   {
    "duration": 11,
    "start_time": "2022-09-16T19:38:05.127Z"
   },
   {
    "duration": 7,
    "start_time": "2022-09-16T19:38:05.139Z"
   },
   {
    "duration": 8,
    "start_time": "2022-09-16T19:38:05.148Z"
   },
   {
    "duration": 4,
    "start_time": "2022-09-16T19:38:05.158Z"
   },
   {
    "duration": 6,
    "start_time": "2022-09-16T19:38:05.163Z"
   },
   {
    "duration": 9,
    "start_time": "2022-09-16T19:38:05.170Z"
   },
   {
    "duration": 108,
    "start_time": "2022-09-16T19:38:05.181Z"
   },
   {
    "duration": 0,
    "start_time": "2022-09-16T19:38:05.292Z"
   },
   {
    "duration": 0,
    "start_time": "2022-09-16T19:38:05.293Z"
   },
   {
    "duration": 0,
    "start_time": "2022-09-16T19:38:05.294Z"
   },
   {
    "duration": 0,
    "start_time": "2022-09-16T19:38:05.295Z"
   },
   {
    "duration": 0,
    "start_time": "2022-09-16T19:38:05.296Z"
   },
   {
    "duration": 0,
    "start_time": "2022-09-16T19:38:05.297Z"
   },
   {
    "duration": 0,
    "start_time": "2022-09-16T19:38:05.308Z"
   },
   {
    "duration": 0,
    "start_time": "2022-09-16T19:38:05.309Z"
   },
   {
    "duration": 0,
    "start_time": "2022-09-16T19:38:05.311Z"
   },
   {
    "duration": 0,
    "start_time": "2022-09-16T19:38:05.312Z"
   },
   {
    "duration": 0,
    "start_time": "2022-09-16T19:38:05.313Z"
   },
   {
    "duration": 0,
    "start_time": "2022-09-16T19:38:05.314Z"
   },
   {
    "duration": 0,
    "start_time": "2022-09-16T19:38:05.314Z"
   },
   {
    "duration": 0,
    "start_time": "2022-09-16T19:38:05.315Z"
   },
   {
    "duration": 0,
    "start_time": "2022-09-16T19:38:05.317Z"
   },
   {
    "duration": 0,
    "start_time": "2022-09-16T19:38:05.317Z"
   },
   {
    "duration": 0,
    "start_time": "2022-09-16T19:38:05.318Z"
   },
   {
    "duration": 0,
    "start_time": "2022-09-16T19:38:05.320Z"
   },
   {
    "duration": 0,
    "start_time": "2022-09-16T19:38:05.321Z"
   },
   {
    "duration": 1,
    "start_time": "2022-09-16T19:38:05.321Z"
   },
   {
    "duration": 0,
    "start_time": "2022-09-16T19:38:05.322Z"
   },
   {
    "duration": 0,
    "start_time": "2022-09-16T19:38:05.323Z"
   },
   {
    "duration": 0,
    "start_time": "2022-09-16T19:38:05.325Z"
   },
   {
    "duration": 0,
    "start_time": "2022-09-16T19:38:05.326Z"
   },
   {
    "duration": 0,
    "start_time": "2022-09-16T19:38:05.327Z"
   },
   {
    "duration": 0,
    "start_time": "2022-09-16T19:38:05.328Z"
   },
   {
    "duration": 0,
    "start_time": "2022-09-16T19:38:05.329Z"
   },
   {
    "duration": 0,
    "start_time": "2022-09-16T19:38:05.330Z"
   },
   {
    "duration": 0,
    "start_time": "2022-09-16T19:38:05.331Z"
   },
   {
    "duration": 0,
    "start_time": "2022-09-16T19:38:05.332Z"
   },
   {
    "duration": 0,
    "start_time": "2022-09-16T19:38:05.332Z"
   },
   {
    "duration": 0,
    "start_time": "2022-09-16T19:38:05.333Z"
   },
   {
    "duration": 0,
    "start_time": "2022-09-16T19:38:05.335Z"
   },
   {
    "duration": 0,
    "start_time": "2022-09-16T19:38:05.335Z"
   },
   {
    "duration": 0,
    "start_time": "2022-09-16T19:38:05.336Z"
   },
   {
    "duration": 0,
    "start_time": "2022-09-16T19:38:05.337Z"
   },
   {
    "duration": 1,
    "start_time": "2022-09-16T19:38:05.337Z"
   },
   {
    "duration": 0,
    "start_time": "2022-09-16T19:38:05.338Z"
   },
   {
    "duration": 0,
    "start_time": "2022-09-16T19:38:05.339Z"
   },
   {
    "duration": 0,
    "start_time": "2022-09-16T19:38:05.340Z"
   },
   {
    "duration": 0,
    "start_time": "2022-09-16T19:38:05.340Z"
   },
   {
    "duration": 0,
    "start_time": "2022-09-16T19:38:05.341Z"
   },
   {
    "duration": 0,
    "start_time": "2022-09-16T19:38:05.342Z"
   },
   {
    "duration": 0,
    "start_time": "2022-09-16T19:38:05.343Z"
   },
   {
    "duration": 0,
    "start_time": "2022-09-16T19:38:05.343Z"
   },
   {
    "duration": 0,
    "start_time": "2022-09-16T19:38:05.344Z"
   },
   {
    "duration": 0,
    "start_time": "2022-09-16T19:38:05.345Z"
   },
   {
    "duration": 0,
    "start_time": "2022-09-16T19:38:05.346Z"
   },
   {
    "duration": 0,
    "start_time": "2022-09-16T19:38:05.346Z"
   },
   {
    "duration": 0,
    "start_time": "2022-09-16T19:38:05.347Z"
   },
   {
    "duration": 0,
    "start_time": "2022-09-16T19:38:05.348Z"
   },
   {
    "duration": 0,
    "start_time": "2022-09-16T19:38:05.409Z"
   },
   {
    "duration": 0,
    "start_time": "2022-09-16T19:38:05.411Z"
   },
   {
    "duration": 0,
    "start_time": "2022-09-16T19:38:05.412Z"
   },
   {
    "duration": 0,
    "start_time": "2022-09-16T19:38:05.413Z"
   },
   {
    "duration": 0,
    "start_time": "2022-09-16T19:38:05.413Z"
   },
   {
    "duration": 0,
    "start_time": "2022-09-16T19:38:05.415Z"
   },
   {
    "duration": 0,
    "start_time": "2022-09-16T19:38:05.420Z"
   },
   {
    "duration": 0,
    "start_time": "2022-09-16T19:38:05.420Z"
   },
   {
    "duration": 0,
    "start_time": "2022-09-16T19:38:05.421Z"
   },
   {
    "duration": 0,
    "start_time": "2022-09-16T19:38:05.422Z"
   },
   {
    "duration": 0,
    "start_time": "2022-09-16T19:38:05.423Z"
   },
   {
    "duration": 0,
    "start_time": "2022-09-16T19:38:05.425Z"
   },
   {
    "duration": 0,
    "start_time": "2022-09-16T19:38:05.426Z"
   },
   {
    "duration": 9,
    "start_time": "2022-09-16T19:38:51.916Z"
   },
   {
    "duration": 8,
    "start_time": "2022-09-16T19:38:57.637Z"
   },
   {
    "duration": 9,
    "start_time": "2022-09-16T19:39:35.134Z"
   },
   {
    "duration": 6,
    "start_time": "2022-09-16T19:39:44.912Z"
   },
   {
    "duration": 45,
    "start_time": "2022-09-16T19:39:44.924Z"
   },
   {
    "duration": 3,
    "start_time": "2022-09-16T19:39:44.970Z"
   },
   {
    "duration": 16,
    "start_time": "2022-09-16T19:39:44.974Z"
   },
   {
    "duration": 12,
    "start_time": "2022-09-16T19:39:44.993Z"
   },
   {
    "duration": 46,
    "start_time": "2022-09-16T19:39:45.007Z"
   },
   {
    "duration": 6,
    "start_time": "2022-09-16T19:39:45.055Z"
   },
   {
    "duration": 7,
    "start_time": "2022-09-16T19:39:45.063Z"
   },
   {
    "duration": 14,
    "start_time": "2022-09-16T19:39:45.072Z"
   },
   {
    "duration": 13,
    "start_time": "2022-09-16T19:39:45.087Z"
   },
   {
    "duration": 39,
    "start_time": "2022-09-16T19:39:45.110Z"
   },
   {
    "duration": 5,
    "start_time": "2022-09-16T19:39:45.151Z"
   },
   {
    "duration": 12,
    "start_time": "2022-09-16T19:39:45.157Z"
   },
   {
    "duration": 7,
    "start_time": "2022-09-16T19:39:45.170Z"
   },
   {
    "duration": 3,
    "start_time": "2022-09-16T19:39:45.178Z"
   },
   {
    "duration": 38,
    "start_time": "2022-09-16T19:39:45.182Z"
   },
   {
    "duration": 14,
    "start_time": "2022-09-16T19:39:45.222Z"
   },
   {
    "duration": 7,
    "start_time": "2022-09-16T19:39:45.237Z"
   },
   {
    "duration": 11,
    "start_time": "2022-09-16T19:39:45.246Z"
   },
   {
    "duration": 11,
    "start_time": "2022-09-16T19:39:45.259Z"
   },
   {
    "duration": 99,
    "start_time": "2022-09-16T19:39:45.271Z"
   },
   {
    "duration": 3,
    "start_time": "2022-09-16T19:39:45.372Z"
   },
   {
    "duration": 12,
    "start_time": "2022-09-16T19:39:45.377Z"
   },
   {
    "duration": 14,
    "start_time": "2022-09-16T19:39:45.409Z"
   },
   {
    "duration": 14,
    "start_time": "2022-09-16T19:39:45.425Z"
   },
   {
    "duration": 9,
    "start_time": "2022-09-16T19:39:45.443Z"
   },
   {
    "duration": 6,
    "start_time": "2022-09-16T19:39:45.453Z"
   },
   {
    "duration": 7,
    "start_time": "2022-09-16T19:39:45.460Z"
   },
   {
    "duration": 7,
    "start_time": "2022-09-16T19:39:45.468Z"
   },
   {
    "duration": 44,
    "start_time": "2022-09-16T19:39:45.477Z"
   },
   {
    "duration": 11,
    "start_time": "2022-09-16T19:39:45.523Z"
   },
   {
    "duration": 9,
    "start_time": "2022-09-16T19:39:45.535Z"
   },
   {
    "duration": 5,
    "start_time": "2022-09-16T19:39:45.545Z"
   },
   {
    "duration": 9,
    "start_time": "2022-09-16T19:39:45.552Z"
   },
   {
    "duration": 9,
    "start_time": "2022-09-16T19:39:45.563Z"
   },
   {
    "duration": 41,
    "start_time": "2022-09-16T19:39:45.574Z"
   },
   {
    "duration": 16,
    "start_time": "2022-09-16T19:39:45.617Z"
   },
   {
    "duration": 5,
    "start_time": "2022-09-16T19:39:45.634Z"
   },
   {
    "duration": 12,
    "start_time": "2022-09-16T19:39:45.640Z"
   },
   {
    "duration": 7,
    "start_time": "2022-09-16T19:39:45.653Z"
   },
   {
    "duration": 8,
    "start_time": "2022-09-16T19:39:45.661Z"
   },
   {
    "duration": 4,
    "start_time": "2022-09-16T19:39:45.671Z"
   },
   {
    "duration": 39,
    "start_time": "2022-09-16T19:39:45.677Z"
   },
   {
    "duration": 17,
    "start_time": "2022-09-16T19:39:45.717Z"
   },
   {
    "duration": 5,
    "start_time": "2022-09-16T19:39:45.736Z"
   },
   {
    "duration": 12,
    "start_time": "2022-09-16T19:39:45.742Z"
   },
   {
    "duration": 19,
    "start_time": "2022-09-16T19:39:45.755Z"
   },
   {
    "duration": 2,
    "start_time": "2022-09-16T19:39:45.775Z"
   },
   {
    "duration": 9,
    "start_time": "2022-09-16T19:39:45.778Z"
   },
   {
    "duration": 29,
    "start_time": "2022-09-16T19:39:45.788Z"
   },
   {
    "duration": 13,
    "start_time": "2022-09-16T19:39:45.819Z"
   },
   {
    "duration": 10,
    "start_time": "2022-09-16T19:39:45.833Z"
   },
   {
    "duration": 10,
    "start_time": "2022-09-16T19:39:45.844Z"
   },
   {
    "duration": 10,
    "start_time": "2022-09-16T19:39:45.855Z"
   },
   {
    "duration": 7,
    "start_time": "2022-09-16T19:39:45.867Z"
   },
   {
    "duration": 19,
    "start_time": "2022-09-16T19:39:45.876Z"
   },
   {
    "duration": 9,
    "start_time": "2022-09-16T19:39:45.897Z"
   },
   {
    "duration": 13,
    "start_time": "2022-09-16T19:39:45.907Z"
   },
   {
    "duration": 12,
    "start_time": "2022-09-16T19:39:45.922Z"
   },
   {
    "duration": 19,
    "start_time": "2022-09-16T19:39:45.936Z"
   },
   {
    "duration": 5,
    "start_time": "2022-09-16T19:39:45.957Z"
   },
   {
    "duration": 13,
    "start_time": "2022-09-16T19:39:45.964Z"
   },
   {
    "duration": 14,
    "start_time": "2022-09-16T19:39:45.978Z"
   },
   {
    "duration": 0,
    "start_time": "2022-09-16T19:39:45.994Z"
   },
   {
    "duration": 0,
    "start_time": "2022-09-16T19:39:45.995Z"
   },
   {
    "duration": 0,
    "start_time": "2022-09-16T19:39:45.996Z"
   },
   {
    "duration": 0,
    "start_time": "2022-09-16T19:39:45.997Z"
   },
   {
    "duration": 0,
    "start_time": "2022-09-16T19:39:45.998Z"
   },
   {
    "duration": 0,
    "start_time": "2022-09-16T19:39:45.999Z"
   },
   {
    "duration": 0,
    "start_time": "2022-09-16T19:39:45.999Z"
   },
   {
    "duration": 0,
    "start_time": "2022-09-16T19:39:46.000Z"
   },
   {
    "duration": 0,
    "start_time": "2022-09-16T19:39:46.001Z"
   },
   {
    "duration": 0,
    "start_time": "2022-09-16T19:39:46.003Z"
   },
   {
    "duration": 0,
    "start_time": "2022-09-16T19:39:46.005Z"
   },
   {
    "duration": 0,
    "start_time": "2022-09-16T19:39:46.008Z"
   },
   {
    "duration": 0,
    "start_time": "2022-09-16T19:39:46.009Z"
   },
   {
    "duration": 0,
    "start_time": "2022-09-16T19:39:46.011Z"
   },
   {
    "duration": 0,
    "start_time": "2022-09-16T19:39:46.012Z"
   },
   {
    "duration": 0,
    "start_time": "2022-09-16T19:39:46.014Z"
   },
   {
    "duration": 0,
    "start_time": "2022-09-16T19:39:46.016Z"
   },
   {
    "duration": 0,
    "start_time": "2022-09-16T19:39:46.017Z"
   },
   {
    "duration": 0,
    "start_time": "2022-09-16T19:39:46.018Z"
   },
   {
    "duration": 0,
    "start_time": "2022-09-16T19:39:46.020Z"
   },
   {
    "duration": 0,
    "start_time": "2022-09-16T19:39:46.021Z"
   },
   {
    "duration": 1,
    "start_time": "2022-09-16T19:39:46.022Z"
   },
   {
    "duration": 0,
    "start_time": "2022-09-16T19:39:46.024Z"
   },
   {
    "duration": 0,
    "start_time": "2022-09-16T19:39:46.025Z"
   },
   {
    "duration": 0,
    "start_time": "2022-09-16T19:39:46.027Z"
   },
   {
    "duration": 0,
    "start_time": "2022-09-16T19:39:46.028Z"
   },
   {
    "duration": 0,
    "start_time": "2022-09-16T19:39:46.029Z"
   },
   {
    "duration": 0,
    "start_time": "2022-09-16T19:39:46.031Z"
   },
   {
    "duration": 0,
    "start_time": "2022-09-16T19:39:46.032Z"
   },
   {
    "duration": 1,
    "start_time": "2022-09-16T19:39:46.033Z"
   },
   {
    "duration": 0,
    "start_time": "2022-09-16T19:39:46.035Z"
   },
   {
    "duration": 0,
    "start_time": "2022-09-16T19:39:46.036Z"
   },
   {
    "duration": 0,
    "start_time": "2022-09-16T19:39:46.037Z"
   },
   {
    "duration": 0,
    "start_time": "2022-09-16T19:39:46.039Z"
   },
   {
    "duration": 0,
    "start_time": "2022-09-16T19:39:46.040Z"
   },
   {
    "duration": 0,
    "start_time": "2022-09-16T19:39:46.041Z"
   },
   {
    "duration": 0,
    "start_time": "2022-09-16T19:39:46.042Z"
   },
   {
    "duration": 0,
    "start_time": "2022-09-16T19:39:46.044Z"
   },
   {
    "duration": 0,
    "start_time": "2022-09-16T19:39:46.045Z"
   },
   {
    "duration": 0,
    "start_time": "2022-09-16T19:39:46.046Z"
   },
   {
    "duration": 1,
    "start_time": "2022-09-16T19:39:46.047Z"
   },
   {
    "duration": 0,
    "start_time": "2022-09-16T19:39:46.049Z"
   },
   {
    "duration": 0,
    "start_time": "2022-09-16T19:39:46.110Z"
   },
   {
    "duration": 1,
    "start_time": "2022-09-16T19:39:46.111Z"
   },
   {
    "duration": 0,
    "start_time": "2022-09-16T19:39:46.112Z"
   },
   {
    "duration": 0,
    "start_time": "2022-09-16T19:39:46.113Z"
   },
   {
    "duration": 0,
    "start_time": "2022-09-16T19:39:46.114Z"
   },
   {
    "duration": 0,
    "start_time": "2022-09-16T19:39:46.114Z"
   },
   {
    "duration": 0,
    "start_time": "2022-09-16T19:39:46.115Z"
   },
   {
    "duration": 0,
    "start_time": "2022-09-16T19:39:46.116Z"
   },
   {
    "duration": 0,
    "start_time": "2022-09-16T19:39:46.118Z"
   },
   {
    "duration": 0,
    "start_time": "2022-09-16T19:39:46.119Z"
   },
   {
    "duration": 0,
    "start_time": "2022-09-16T19:39:46.120Z"
   },
   {
    "duration": 0,
    "start_time": "2022-09-16T19:39:46.122Z"
   },
   {
    "duration": 0,
    "start_time": "2022-09-16T19:39:46.123Z"
   },
   {
    "duration": 0,
    "start_time": "2022-09-16T19:39:46.124Z"
   },
   {
    "duration": 0,
    "start_time": "2022-09-16T19:39:46.125Z"
   },
   {
    "duration": 0,
    "start_time": "2022-09-16T19:39:46.125Z"
   },
   {
    "duration": 0,
    "start_time": "2022-09-16T19:39:46.127Z"
   },
   {
    "duration": 0,
    "start_time": "2022-09-16T19:39:46.128Z"
   },
   {
    "duration": 0,
    "start_time": "2022-09-16T19:39:46.129Z"
   },
   {
    "duration": 0,
    "start_time": "2022-09-16T19:39:46.129Z"
   },
   {
    "duration": 0,
    "start_time": "2022-09-16T19:39:46.130Z"
   },
   {
    "duration": 0,
    "start_time": "2022-09-16T19:39:46.131Z"
   },
   {
    "duration": 0,
    "start_time": "2022-09-16T19:39:46.132Z"
   },
   {
    "duration": 0,
    "start_time": "2022-09-16T19:39:46.133Z"
   },
   {
    "duration": 0,
    "start_time": "2022-09-16T19:39:46.134Z"
   },
   {
    "duration": 9,
    "start_time": "2022-09-16T19:42:04.850Z"
   },
   {
    "duration": 8,
    "start_time": "2022-09-16T19:42:08.156Z"
   },
   {
    "duration": 9,
    "start_time": "2022-09-16T19:42:12.003Z"
   },
   {
    "duration": 5,
    "start_time": "2022-09-16T19:44:12.457Z"
   },
   {
    "duration": 45,
    "start_time": "2022-09-16T19:44:12.465Z"
   },
   {
    "duration": 3,
    "start_time": "2022-09-16T19:44:12.512Z"
   },
   {
    "duration": 12,
    "start_time": "2022-09-16T19:44:12.517Z"
   },
   {
    "duration": 12,
    "start_time": "2022-09-16T19:44:12.532Z"
   },
   {
    "duration": 35,
    "start_time": "2022-09-16T19:44:12.545Z"
   },
   {
    "duration": 5,
    "start_time": "2022-09-16T19:44:12.610Z"
   },
   {
    "duration": 10,
    "start_time": "2022-09-16T19:44:12.616Z"
   },
   {
    "duration": 8,
    "start_time": "2022-09-16T19:44:12.627Z"
   },
   {
    "duration": 13,
    "start_time": "2022-09-16T19:44:12.637Z"
   },
   {
    "duration": 28,
    "start_time": "2022-09-16T19:44:12.652Z"
   },
   {
    "duration": 4,
    "start_time": "2022-09-16T19:44:12.681Z"
   },
   {
    "duration": 29,
    "start_time": "2022-09-16T19:44:12.686Z"
   },
   {
    "duration": 7,
    "start_time": "2022-09-16T19:44:12.716Z"
   },
   {
    "duration": 3,
    "start_time": "2022-09-16T19:44:12.724Z"
   },
   {
    "duration": 7,
    "start_time": "2022-09-16T19:44:12.729Z"
   },
   {
    "duration": 9,
    "start_time": "2022-09-16T19:44:12.738Z"
   },
   {
    "duration": 6,
    "start_time": "2022-09-16T19:44:12.749Z"
   },
   {
    "duration": 11,
    "start_time": "2022-09-16T19:44:12.757Z"
   },
   {
    "duration": 47,
    "start_time": "2022-09-16T19:44:12.770Z"
   },
   {
    "duration": 57,
    "start_time": "2022-09-16T19:44:12.819Z"
   },
   {
    "duration": 4,
    "start_time": "2022-09-16T19:44:12.878Z"
   },
   {
    "duration": 31,
    "start_time": "2022-09-16T19:44:12.884Z"
   },
   {
    "duration": 9,
    "start_time": "2022-09-16T19:44:12.917Z"
   },
   {
    "duration": 9,
    "start_time": "2022-09-16T19:44:12.929Z"
   },
   {
    "duration": 13,
    "start_time": "2022-09-16T19:44:12.940Z"
   },
   {
    "duration": 9,
    "start_time": "2022-09-16T19:44:12.955Z"
   },
   {
    "duration": 10,
    "start_time": "2022-09-16T19:44:12.965Z"
   },
   {
    "duration": 33,
    "start_time": "2022-09-16T19:44:12.977Z"
   },
   {
    "duration": 5,
    "start_time": "2022-09-16T19:44:13.011Z"
   },
   {
    "duration": 7,
    "start_time": "2022-09-16T19:44:13.017Z"
   },
   {
    "duration": 8,
    "start_time": "2022-09-16T19:44:13.025Z"
   },
   {
    "duration": 10,
    "start_time": "2022-09-16T19:44:13.034Z"
   },
   {
    "duration": 9,
    "start_time": "2022-09-16T19:44:13.045Z"
   },
   {
    "duration": 9,
    "start_time": "2022-09-16T19:44:13.055Z"
   },
   {
    "duration": 7,
    "start_time": "2022-09-16T19:44:13.065Z"
   },
   {
    "duration": 43,
    "start_time": "2022-09-16T19:44:13.074Z"
   },
   {
    "duration": 5,
    "start_time": "2022-09-16T19:44:13.119Z"
   },
   {
    "duration": 8,
    "start_time": "2022-09-16T19:44:13.125Z"
   },
   {
    "duration": 9,
    "start_time": "2022-09-16T19:44:13.135Z"
   },
   {
    "duration": 8,
    "start_time": "2022-09-16T19:44:13.145Z"
   },
   {
    "duration": 7,
    "start_time": "2022-09-16T19:44:13.155Z"
   },
   {
    "duration": 7,
    "start_time": "2022-09-16T19:44:13.163Z"
   },
   {
    "duration": 10,
    "start_time": "2022-09-16T19:44:13.210Z"
   },
   {
    "duration": 4,
    "start_time": "2022-09-16T19:44:13.222Z"
   },
   {
    "duration": 16,
    "start_time": "2022-09-16T19:44:13.227Z"
   },
   {
    "duration": 25,
    "start_time": "2022-09-16T19:44:13.244Z"
   },
   {
    "duration": 2,
    "start_time": "2022-09-16T19:44:13.270Z"
   },
   {
    "duration": 9,
    "start_time": "2022-09-16T19:44:13.273Z"
   },
   {
    "duration": 6,
    "start_time": "2022-09-16T19:44:13.284Z"
   },
   {
    "duration": 23,
    "start_time": "2022-09-16T19:44:13.291Z"
   },
   {
    "duration": 9,
    "start_time": "2022-09-16T19:44:13.315Z"
   },
   {
    "duration": 5,
    "start_time": "2022-09-16T19:44:13.326Z"
   },
   {
    "duration": 5,
    "start_time": "2022-09-16T19:44:13.333Z"
   },
   {
    "duration": 5,
    "start_time": "2022-09-16T19:44:13.340Z"
   },
   {
    "duration": 4,
    "start_time": "2022-09-16T19:44:13.346Z"
   },
   {
    "duration": 5,
    "start_time": "2022-09-16T19:44:13.351Z"
   },
   {
    "duration": 5,
    "start_time": "2022-09-16T19:44:13.357Z"
   },
   {
    "duration": 5,
    "start_time": "2022-09-16T19:44:13.363Z"
   },
   {
    "duration": 41,
    "start_time": "2022-09-16T19:44:13.370Z"
   },
   {
    "duration": 6,
    "start_time": "2022-09-16T19:44:13.413Z"
   },
   {
    "duration": 9,
    "start_time": "2022-09-16T19:44:13.420Z"
   },
   {
    "duration": 10,
    "start_time": "2022-09-16T19:44:13.434Z"
   },
   {
    "duration": 0,
    "start_time": "2022-09-16T19:44:13.446Z"
   },
   {
    "duration": 0,
    "start_time": "2022-09-16T19:44:13.447Z"
   },
   {
    "duration": 1,
    "start_time": "2022-09-16T19:44:13.447Z"
   },
   {
    "duration": 0,
    "start_time": "2022-09-16T19:44:13.448Z"
   },
   {
    "duration": 0,
    "start_time": "2022-09-16T19:44:13.449Z"
   },
   {
    "duration": 0,
    "start_time": "2022-09-16T19:44:13.450Z"
   },
   {
    "duration": 0,
    "start_time": "2022-09-16T19:44:13.451Z"
   },
   {
    "duration": 0,
    "start_time": "2022-09-16T19:44:13.452Z"
   },
   {
    "duration": 0,
    "start_time": "2022-09-16T19:44:13.453Z"
   },
   {
    "duration": 0,
    "start_time": "2022-09-16T19:44:13.454Z"
   },
   {
    "duration": 0,
    "start_time": "2022-09-16T19:44:13.455Z"
   },
   {
    "duration": 0,
    "start_time": "2022-09-16T19:44:13.456Z"
   },
   {
    "duration": 0,
    "start_time": "2022-09-16T19:44:13.456Z"
   },
   {
    "duration": 0,
    "start_time": "2022-09-16T19:44:13.457Z"
   },
   {
    "duration": 0,
    "start_time": "2022-09-16T19:44:13.458Z"
   },
   {
    "duration": 0,
    "start_time": "2022-09-16T19:44:13.459Z"
   },
   {
    "duration": 0,
    "start_time": "2022-09-16T19:44:13.460Z"
   },
   {
    "duration": 0,
    "start_time": "2022-09-16T19:44:13.461Z"
   },
   {
    "duration": 0,
    "start_time": "2022-09-16T19:44:13.462Z"
   },
   {
    "duration": 0,
    "start_time": "2022-09-16T19:44:13.463Z"
   },
   {
    "duration": 0,
    "start_time": "2022-09-16T19:44:13.463Z"
   },
   {
    "duration": 0,
    "start_time": "2022-09-16T19:44:13.464Z"
   },
   {
    "duration": 0,
    "start_time": "2022-09-16T19:44:13.465Z"
   },
   {
    "duration": 0,
    "start_time": "2022-09-16T19:44:13.466Z"
   },
   {
    "duration": 0,
    "start_time": "2022-09-16T19:44:13.509Z"
   },
   {
    "duration": 0,
    "start_time": "2022-09-16T19:44:13.509Z"
   },
   {
    "duration": 0,
    "start_time": "2022-09-16T19:44:13.510Z"
   },
   {
    "duration": 0,
    "start_time": "2022-09-16T19:44:13.511Z"
   },
   {
    "duration": 0,
    "start_time": "2022-09-16T19:44:13.512Z"
   },
   {
    "duration": 0,
    "start_time": "2022-09-16T19:44:13.513Z"
   },
   {
    "duration": 0,
    "start_time": "2022-09-16T19:44:13.514Z"
   },
   {
    "duration": 0,
    "start_time": "2022-09-16T19:44:13.514Z"
   },
   {
    "duration": 0,
    "start_time": "2022-09-16T19:44:13.515Z"
   },
   {
    "duration": 0,
    "start_time": "2022-09-16T19:44:13.516Z"
   },
   {
    "duration": 0,
    "start_time": "2022-09-16T19:44:13.517Z"
   },
   {
    "duration": 0,
    "start_time": "2022-09-16T19:44:13.517Z"
   },
   {
    "duration": 0,
    "start_time": "2022-09-16T19:44:13.518Z"
   },
   {
    "duration": 0,
    "start_time": "2022-09-16T19:44:13.519Z"
   },
   {
    "duration": 0,
    "start_time": "2022-09-16T19:44:13.520Z"
   },
   {
    "duration": 0,
    "start_time": "2022-09-16T19:44:13.521Z"
   },
   {
    "duration": 0,
    "start_time": "2022-09-16T19:44:13.521Z"
   },
   {
    "duration": 0,
    "start_time": "2022-09-16T19:44:13.522Z"
   },
   {
    "duration": 0,
    "start_time": "2022-09-16T19:44:13.523Z"
   },
   {
    "duration": 0,
    "start_time": "2022-09-16T19:44:13.524Z"
   },
   {
    "duration": 0,
    "start_time": "2022-09-16T19:44:13.524Z"
   },
   {
    "duration": 0,
    "start_time": "2022-09-16T19:44:13.525Z"
   },
   {
    "duration": 0,
    "start_time": "2022-09-16T19:44:13.526Z"
   },
   {
    "duration": 0,
    "start_time": "2022-09-16T19:44:13.527Z"
   },
   {
    "duration": 0,
    "start_time": "2022-09-16T19:44:13.528Z"
   },
   {
    "duration": 0,
    "start_time": "2022-09-16T19:44:13.528Z"
   },
   {
    "duration": 0,
    "start_time": "2022-09-16T19:44:13.529Z"
   },
   {
    "duration": 0,
    "start_time": "2022-09-16T19:44:13.530Z"
   },
   {
    "duration": 0,
    "start_time": "2022-09-16T19:44:13.531Z"
   },
   {
    "duration": 0,
    "start_time": "2022-09-16T19:44:13.531Z"
   },
   {
    "duration": 0,
    "start_time": "2022-09-16T19:44:13.532Z"
   },
   {
    "duration": 0,
    "start_time": "2022-09-16T19:44:13.533Z"
   },
   {
    "duration": 0,
    "start_time": "2022-09-16T19:44:13.533Z"
   },
   {
    "duration": 0,
    "start_time": "2022-09-16T19:44:13.534Z"
   },
   {
    "duration": 0,
    "start_time": "2022-09-16T19:44:13.535Z"
   },
   {
    "duration": 0,
    "start_time": "2022-09-16T19:44:13.536Z"
   },
   {
    "duration": 0,
    "start_time": "2022-09-16T19:44:13.537Z"
   },
   {
    "duration": 0,
    "start_time": "2022-09-16T19:44:13.538Z"
   },
   {
    "duration": 0,
    "start_time": "2022-09-16T19:44:13.538Z"
   },
   {
    "duration": 0,
    "start_time": "2022-09-16T19:44:13.539Z"
   },
   {
    "duration": 0,
    "start_time": "2022-09-16T19:44:13.540Z"
   },
   {
    "duration": 0,
    "start_time": "2022-09-16T19:44:13.541Z"
   },
   {
    "duration": 70,
    "start_time": "2022-09-16T19:44:13.545Z"
   },
   {
    "duration": 11,
    "start_time": "2022-09-16T19:56:56.457Z"
   },
   {
    "duration": 12,
    "start_time": "2022-09-16T19:57:06.566Z"
   },
   {
    "duration": 139,
    "start_time": "2022-09-16T19:57:22.913Z"
   },
   {
    "duration": 4,
    "start_time": "2022-09-16T19:57:35.919Z"
   },
   {
    "duration": 40,
    "start_time": "2022-09-16T19:57:37.297Z"
   },
   {
    "duration": 3,
    "start_time": "2022-09-16T19:57:38.189Z"
   },
   {
    "duration": 11,
    "start_time": "2022-09-16T19:57:38.980Z"
   },
   {
    "duration": 10,
    "start_time": "2022-09-16T19:57:39.313Z"
   },
   {
    "duration": 34,
    "start_time": "2022-09-16T19:57:39.593Z"
   },
   {
    "duration": 5,
    "start_time": "2022-09-16T19:57:40.409Z"
   },
   {
    "duration": 3,
    "start_time": "2022-09-16T19:57:40.855Z"
   },
   {
    "duration": 3,
    "start_time": "2022-09-16T19:57:40.991Z"
   },
   {
    "duration": 13,
    "start_time": "2022-09-16T19:57:41.264Z"
   },
   {
    "duration": 33,
    "start_time": "2022-09-16T19:57:41.561Z"
   },
   {
    "duration": 4,
    "start_time": "2022-09-16T19:57:41.865Z"
   },
   {
    "duration": 9,
    "start_time": "2022-09-16T19:57:42.015Z"
   },
   {
    "duration": 8,
    "start_time": "2022-09-16T19:57:42.307Z"
   },
   {
    "duration": 4,
    "start_time": "2022-09-16T19:57:42.454Z"
   },
   {
    "duration": 7,
    "start_time": "2022-09-16T19:57:42.591Z"
   },
   {
    "duration": 10,
    "start_time": "2022-09-16T19:57:42.767Z"
   },
   {
    "duration": 7,
    "start_time": "2022-09-16T19:57:43.234Z"
   },
   {
    "duration": 9,
    "start_time": "2022-09-16T19:57:43.378Z"
   },
   {
    "duration": 11,
    "start_time": "2022-09-16T19:57:43.676Z"
   },
   {
    "duration": 72,
    "start_time": "2022-09-16T19:57:44.458Z"
   },
   {
    "duration": 3,
    "start_time": "2022-09-16T19:57:44.608Z"
   },
   {
    "duration": 10,
    "start_time": "2022-09-16T19:57:44.941Z"
   },
   {
    "duration": 12,
    "start_time": "2022-09-16T19:57:45.573Z"
   },
   {
    "duration": 11,
    "start_time": "2022-09-16T19:57:46.211Z"
   },
   {
    "duration": 9,
    "start_time": "2022-09-16T19:57:46.848Z"
   },
   {
    "duration": 4,
    "start_time": "2022-09-16T19:57:47.321Z"
   },
   {
    "duration": 5,
    "start_time": "2022-09-16T19:57:47.471Z"
   },
   {
    "duration": 8,
    "start_time": "2022-09-16T19:57:47.638Z"
   },
   {
    "duration": 4,
    "start_time": "2022-09-16T19:57:47.797Z"
   },
   {
    "duration": 6,
    "start_time": "2022-09-16T19:57:48.283Z"
   },
   {
    "duration": 6,
    "start_time": "2022-09-16T19:57:48.458Z"
   },
   {
    "duration": 5,
    "start_time": "2022-09-16T19:57:48.609Z"
   },
   {
    "duration": 7,
    "start_time": "2022-09-16T19:57:48.918Z"
   },
   {
    "duration": 8,
    "start_time": "2022-09-16T19:57:49.092Z"
   },
   {
    "duration": 5,
    "start_time": "2022-09-16T19:57:49.563Z"
   },
   {
    "duration": 7,
    "start_time": "2022-09-16T19:57:49.734Z"
   },
   {
    "duration": 6,
    "start_time": "2022-09-16T19:57:50.203Z"
   },
   {
    "duration": 7,
    "start_time": "2022-09-16T19:57:50.360Z"
   },
   {
    "duration": 5,
    "start_time": "2022-09-16T19:57:50.694Z"
   },
   {
    "duration": 7,
    "start_time": "2022-09-16T19:57:50.859Z"
   },
   {
    "duration": 5,
    "start_time": "2022-09-16T19:57:51.181Z"
   },
   {
    "duration": 8,
    "start_time": "2022-09-16T19:57:51.398Z"
   },
   {
    "duration": 9,
    "start_time": "2022-09-16T19:57:51.531Z"
   },
   {
    "duration": 4,
    "start_time": "2022-09-16T19:57:52.509Z"
   },
   {
    "duration": 11,
    "start_time": "2022-09-16T19:57:52.683Z"
   },
   {
    "duration": 16,
    "start_time": "2022-09-16T19:57:52.843Z"
   },
   {
    "duration": 2,
    "start_time": "2022-09-16T19:57:54.614Z"
   },
   {
    "duration": 2,
    "start_time": "2022-09-16T19:57:55.171Z"
   },
   {
    "duration": 3,
    "start_time": "2022-09-16T19:57:55.675Z"
   },
   {
    "duration": 4,
    "start_time": "2022-09-16T19:57:57.337Z"
   },
   {
    "duration": 7,
    "start_time": "2022-09-16T19:57:59.235Z"
   },
   {
    "duration": 7,
    "start_time": "2022-09-16T19:57:59.922Z"
   },
   {
    "duration": 6,
    "start_time": "2022-09-16T19:58:00.384Z"
   },
   {
    "duration": 9,
    "start_time": "2022-09-16T19:58:00.773Z"
   },
   {
    "duration": 4,
    "start_time": "2022-09-16T19:58:01.159Z"
   },
   {
    "duration": 3,
    "start_time": "2022-09-16T19:58:01.330Z"
   },
   {
    "duration": 3,
    "start_time": "2022-09-16T19:58:01.510Z"
   },
   {
    "duration": 3,
    "start_time": "2022-09-16T19:58:01.930Z"
   },
   {
    "duration": 4,
    "start_time": "2022-09-16T19:58:02.135Z"
   },
   {
    "duration": 3,
    "start_time": "2022-09-16T19:58:02.274Z"
   },
   {
    "duration": 8,
    "start_time": "2022-09-16T19:58:03.161Z"
   },
   {
    "duration": 11,
    "start_time": "2022-09-16T19:58:03.359Z"
   },
   {
    "duration": 12,
    "start_time": "2022-09-16T19:58:03.531Z"
   },
   {
    "duration": 12,
    "start_time": "2022-09-16T19:58:03.724Z"
   },
   {
    "duration": 8,
    "start_time": "2022-09-16T19:58:04.929Z"
   },
   {
    "duration": 11,
    "start_time": "2022-09-16T19:58:06.039Z"
   },
   {
    "duration": 12,
    "start_time": "2022-09-16T19:58:07.060Z"
   },
   {
    "duration": 12,
    "start_time": "2022-09-16T19:58:07.840Z"
   },
   {
    "duration": 8,
    "start_time": "2022-09-16T19:58:08.615Z"
   },
   {
    "duration": 10,
    "start_time": "2022-09-16T19:58:09.598Z"
   },
   {
    "duration": 2,
    "start_time": "2022-09-16T19:58:09.937Z"
   },
   {
    "duration": 7,
    "start_time": "2022-09-16T19:59:13.839Z"
   },
   {
    "duration": 12,
    "start_time": "2022-09-16T19:59:15.283Z"
   },
   {
    "duration": 6,
    "start_time": "2022-09-16T20:01:37.087Z"
   },
   {
    "duration": 7,
    "start_time": "2022-09-16T20:01:37.613Z"
   },
   {
    "duration": 7,
    "start_time": "2022-09-16T20:01:37.921Z"
   },
   {
    "duration": 7,
    "start_time": "2022-09-16T20:01:38.305Z"
   },
   {
    "duration": 4,
    "start_time": "2022-09-16T20:01:39.429Z"
   },
   {
    "duration": 4,
    "start_time": "2022-09-16T20:01:40.023Z"
   },
   {
    "duration": 3,
    "start_time": "2022-09-16T20:01:40.593Z"
   },
   {
    "duration": 3,
    "start_time": "2022-09-16T20:01:41.173Z"
   },
   {
    "duration": 3,
    "start_time": "2022-09-16T20:01:41.739Z"
   },
   {
    "duration": 4,
    "start_time": "2022-09-16T20:01:42.362Z"
   },
   {
    "duration": 8,
    "start_time": "2022-09-16T20:02:06.746Z"
   },
   {
    "duration": 14,
    "start_time": "2022-09-16T20:02:20.278Z"
   },
   {
    "duration": 10,
    "start_time": "2022-09-16T20:03:03.295Z"
   },
   {
    "duration": 10,
    "start_time": "2022-09-16T20:03:41.685Z"
   },
   {
    "duration": 8,
    "start_time": "2022-09-16T20:03:50.678Z"
   },
   {
    "duration": 9,
    "start_time": "2022-09-16T20:04:09.776Z"
   },
   {
    "duration": 8,
    "start_time": "2022-09-16T20:04:28.941Z"
   },
   {
    "duration": 8,
    "start_time": "2022-09-16T20:04:45.536Z"
   },
   {
    "duration": 10,
    "start_time": "2022-09-16T20:04:50.873Z"
   },
   {
    "duration": 7,
    "start_time": "2022-09-16T20:04:53.746Z"
   },
   {
    "duration": 5,
    "start_time": "2022-09-16T20:05:01.957Z"
   },
   {
    "duration": 5,
    "start_time": "2022-09-16T20:05:02.325Z"
   },
   {
    "duration": 6,
    "start_time": "2022-09-16T20:05:02.675Z"
   },
   {
    "duration": 469,
    "start_time": "2022-09-16T20:05:15.368Z"
   },
   {
    "duration": 186,
    "start_time": "2022-09-16T20:05:16.059Z"
   },
   {
    "duration": 7,
    "start_time": "2022-09-16T20:05:38.121Z"
   },
   {
    "duration": 256,
    "start_time": "2022-09-16T20:05:42.372Z"
   },
   {
    "duration": 162,
    "start_time": "2022-09-16T20:05:45.131Z"
   },
   {
    "duration": 7,
    "start_time": "2022-09-16T20:05:54.697Z"
   },
   {
    "duration": 1250,
    "start_time": "2022-09-16T20:32:53.547Z"
   },
   {
    "duration": 40,
    "start_time": "2022-09-16T20:32:54.798Z"
   },
   {
    "duration": 3,
    "start_time": "2022-09-16T20:32:54.840Z"
   },
   {
    "duration": 15,
    "start_time": "2022-09-16T20:32:54.845Z"
   },
   {
    "duration": 11,
    "start_time": "2022-09-16T20:32:54.862Z"
   },
   {
    "duration": 38,
    "start_time": "2022-09-16T20:32:54.874Z"
   },
   {
    "duration": 5,
    "start_time": "2022-09-16T20:32:54.914Z"
   },
   {
    "duration": 5,
    "start_time": "2022-09-16T20:32:54.921Z"
   },
   {
    "duration": 3,
    "start_time": "2022-09-16T20:32:54.928Z"
   },
   {
    "duration": 11,
    "start_time": "2022-09-16T20:32:54.934Z"
   },
   {
    "duration": 31,
    "start_time": "2022-09-16T20:32:54.946Z"
   },
   {
    "duration": 5,
    "start_time": "2022-09-16T20:32:55.008Z"
   },
   {
    "duration": 12,
    "start_time": "2022-09-16T20:32:55.014Z"
   },
   {
    "duration": 7,
    "start_time": "2022-09-16T20:32:55.028Z"
   },
   {
    "duration": 4,
    "start_time": "2022-09-16T20:32:55.037Z"
   },
   {
    "duration": 15,
    "start_time": "2022-09-16T20:32:55.042Z"
   },
   {
    "duration": 10,
    "start_time": "2022-09-16T20:32:55.058Z"
   },
   {
    "duration": 6,
    "start_time": "2022-09-16T20:32:55.070Z"
   },
   {
    "duration": 35,
    "start_time": "2022-09-16T20:32:55.078Z"
   },
   {
    "duration": 10,
    "start_time": "2022-09-16T20:32:55.115Z"
   },
   {
    "duration": 60,
    "start_time": "2022-09-16T20:32:55.126Z"
   },
   {
    "duration": 23,
    "start_time": "2022-09-16T20:32:55.187Z"
   },
   {
    "duration": 9,
    "start_time": "2022-09-16T20:32:55.211Z"
   },
   {
    "duration": 10,
    "start_time": "2022-09-16T20:32:55.222Z"
   },
   {
    "duration": 9,
    "start_time": "2022-09-16T20:32:55.234Z"
   },
   {
    "duration": 11,
    "start_time": "2022-09-16T20:32:55.244Z"
   },
   {
    "duration": 14,
    "start_time": "2022-09-16T20:32:55.256Z"
   },
   {
    "duration": 5,
    "start_time": "2022-09-16T20:32:55.276Z"
   },
   {
    "duration": 32,
    "start_time": "2022-09-16T20:32:55.282Z"
   },
   {
    "duration": 4,
    "start_time": "2022-09-16T20:32:55.315Z"
   },
   {
    "duration": 9,
    "start_time": "2022-09-16T20:32:55.320Z"
   },
   {
    "duration": 7,
    "start_time": "2022-09-16T20:32:55.330Z"
   },
   {
    "duration": 5,
    "start_time": "2022-09-16T20:32:55.338Z"
   },
   {
    "duration": 9,
    "start_time": "2022-09-16T20:32:55.344Z"
   },
   {
    "duration": 9,
    "start_time": "2022-09-16T20:32:55.354Z"
   },
   {
    "duration": 5,
    "start_time": "2022-09-16T20:32:55.364Z"
   },
   {
    "duration": 6,
    "start_time": "2022-09-16T20:32:55.370Z"
   },
   {
    "duration": 5,
    "start_time": "2022-09-16T20:32:55.409Z"
   },
   {
    "duration": 18,
    "start_time": "2022-09-16T20:32:55.415Z"
   },
   {
    "duration": 5,
    "start_time": "2022-09-16T20:32:55.434Z"
   },
   {
    "duration": 7,
    "start_time": "2022-09-16T20:32:55.441Z"
   },
   {
    "duration": 4,
    "start_time": "2022-09-16T20:32:55.449Z"
   },
   {
    "duration": 9,
    "start_time": "2022-09-16T20:32:55.454Z"
   },
   {
    "duration": 10,
    "start_time": "2022-09-16T20:32:55.464Z"
   },
   {
    "duration": 4,
    "start_time": "2022-09-16T20:32:55.475Z"
   },
   {
    "duration": 33,
    "start_time": "2022-09-16T20:32:55.481Z"
   },
   {
    "duration": 16,
    "start_time": "2022-09-16T20:32:55.516Z"
   },
   {
    "duration": 2,
    "start_time": "2022-09-16T20:32:55.534Z"
   },
   {
    "duration": 9,
    "start_time": "2022-09-16T20:32:55.537Z"
   },
   {
    "duration": 8,
    "start_time": "2022-09-16T20:32:55.547Z"
   },
   {
    "duration": 6,
    "start_time": "2022-09-16T20:32:55.556Z"
   },
   {
    "duration": 7,
    "start_time": "2022-09-16T20:32:55.563Z"
   },
   {
    "duration": 130,
    "start_time": "2022-09-16T20:32:55.572Z"
   },
   {
    "duration": 0,
    "start_time": "2022-09-16T20:32:55.709Z"
   },
   {
    "duration": 0,
    "start_time": "2022-09-16T20:32:55.710Z"
   },
   {
    "duration": 0,
    "start_time": "2022-09-16T20:32:55.710Z"
   },
   {
    "duration": 0,
    "start_time": "2022-09-16T20:32:55.711Z"
   },
   {
    "duration": 0,
    "start_time": "2022-09-16T20:32:55.712Z"
   },
   {
    "duration": 0,
    "start_time": "2022-09-16T20:32:55.713Z"
   },
   {
    "duration": 0,
    "start_time": "2022-09-16T20:32:55.714Z"
   },
   {
    "duration": 0,
    "start_time": "2022-09-16T20:32:55.715Z"
   },
   {
    "duration": 0,
    "start_time": "2022-09-16T20:32:55.715Z"
   },
   {
    "duration": 0,
    "start_time": "2022-09-16T20:32:55.716Z"
   },
   {
    "duration": 0,
    "start_time": "2022-09-16T20:32:55.717Z"
   },
   {
    "duration": 0,
    "start_time": "2022-09-16T20:32:55.718Z"
   },
   {
    "duration": 0,
    "start_time": "2022-09-16T20:32:55.718Z"
   },
   {
    "duration": 0,
    "start_time": "2022-09-16T20:32:55.719Z"
   },
   {
    "duration": 0,
    "start_time": "2022-09-16T20:32:55.720Z"
   },
   {
    "duration": 0,
    "start_time": "2022-09-16T20:32:55.721Z"
   },
   {
    "duration": 0,
    "start_time": "2022-09-16T20:32:55.722Z"
   },
   {
    "duration": 0,
    "start_time": "2022-09-16T20:32:55.722Z"
   },
   {
    "duration": 0,
    "start_time": "2022-09-16T20:32:55.723Z"
   },
   {
    "duration": 0,
    "start_time": "2022-09-16T20:32:55.724Z"
   },
   {
    "duration": 0,
    "start_time": "2022-09-16T20:32:55.725Z"
   },
   {
    "duration": 0,
    "start_time": "2022-09-16T20:32:55.725Z"
   },
   {
    "duration": 0,
    "start_time": "2022-09-16T20:32:55.726Z"
   },
   {
    "duration": 0,
    "start_time": "2022-09-16T20:32:55.727Z"
   },
   {
    "duration": 0,
    "start_time": "2022-09-16T20:32:55.728Z"
   },
   {
    "duration": 0,
    "start_time": "2022-09-16T20:32:55.729Z"
   },
   {
    "duration": 0,
    "start_time": "2022-09-16T20:32:55.729Z"
   },
   {
    "duration": 0,
    "start_time": "2022-09-16T20:32:55.730Z"
   },
   {
    "duration": 0,
    "start_time": "2022-09-16T20:32:55.731Z"
   },
   {
    "duration": 0,
    "start_time": "2022-09-16T20:32:55.731Z"
   },
   {
    "duration": 0,
    "start_time": "2022-09-16T20:32:55.732Z"
   },
   {
    "duration": 0,
    "start_time": "2022-09-16T20:32:55.733Z"
   },
   {
    "duration": 0,
    "start_time": "2022-09-16T20:32:55.733Z"
   },
   {
    "duration": 0,
    "start_time": "2022-09-16T20:32:55.734Z"
   },
   {
    "duration": 0,
    "start_time": "2022-09-16T20:32:55.735Z"
   },
   {
    "duration": 0,
    "start_time": "2022-09-16T20:32:55.735Z"
   },
   {
    "duration": 0,
    "start_time": "2022-09-16T20:32:55.736Z"
   },
   {
    "duration": 0,
    "start_time": "2022-09-16T20:32:55.737Z"
   },
   {
    "duration": 0,
    "start_time": "2022-09-16T20:32:55.737Z"
   },
   {
    "duration": 0,
    "start_time": "2022-09-16T20:32:55.738Z"
   },
   {
    "duration": 0,
    "start_time": "2022-09-16T20:32:55.739Z"
   },
   {
    "duration": 0,
    "start_time": "2022-09-16T20:32:55.740Z"
   },
   {
    "duration": 0,
    "start_time": "2022-09-16T20:32:55.741Z"
   },
   {
    "duration": 0,
    "start_time": "2022-09-16T20:32:55.741Z"
   },
   {
    "duration": 0,
    "start_time": "2022-09-16T20:32:55.742Z"
   },
   {
    "duration": 0,
    "start_time": "2022-09-16T20:32:55.743Z"
   },
   {
    "duration": 0,
    "start_time": "2022-09-16T20:32:55.744Z"
   },
   {
    "duration": 0,
    "start_time": "2022-09-16T20:32:55.745Z"
   },
   {
    "duration": 0,
    "start_time": "2022-09-16T20:32:55.746Z"
   },
   {
    "duration": 0,
    "start_time": "2022-09-16T20:32:55.747Z"
   },
   {
    "duration": 0,
    "start_time": "2022-09-16T20:32:55.809Z"
   },
   {
    "duration": 0,
    "start_time": "2022-09-16T20:32:55.810Z"
   },
   {
    "duration": 0,
    "start_time": "2022-09-16T20:32:55.812Z"
   },
   {
    "duration": 0,
    "start_time": "2022-09-16T20:32:55.813Z"
   },
   {
    "duration": 0,
    "start_time": "2022-09-16T20:32:55.813Z"
   },
   {
    "duration": 0,
    "start_time": "2022-09-16T20:32:55.814Z"
   },
   {
    "duration": 0,
    "start_time": "2022-09-16T20:32:55.815Z"
   },
   {
    "duration": 0,
    "start_time": "2022-09-16T20:32:55.816Z"
   },
   {
    "duration": 0,
    "start_time": "2022-09-16T20:32:55.817Z"
   },
   {
    "duration": 0,
    "start_time": "2022-09-16T20:32:55.817Z"
   },
   {
    "duration": 0,
    "start_time": "2022-09-16T20:32:55.818Z"
   },
   {
    "duration": 0,
    "start_time": "2022-09-16T20:32:55.819Z"
   },
   {
    "duration": 0,
    "start_time": "2022-09-16T20:32:55.820Z"
   },
   {
    "duration": 0,
    "start_time": "2022-09-16T20:32:55.821Z"
   },
   {
    "duration": 0,
    "start_time": "2022-09-16T20:32:55.822Z"
   },
   {
    "duration": 0,
    "start_time": "2022-09-16T20:32:55.823Z"
   },
   {
    "duration": 0,
    "start_time": "2022-09-16T20:32:55.824Z"
   },
   {
    "duration": 0,
    "start_time": "2022-09-16T20:32:55.825Z"
   },
   {
    "duration": 0,
    "start_time": "2022-09-16T20:32:55.825Z"
   },
   {
    "duration": 0,
    "start_time": "2022-09-16T20:32:55.826Z"
   },
   {
    "duration": 0,
    "start_time": "2022-09-16T20:32:55.827Z"
   },
   {
    "duration": 0,
    "start_time": "2022-09-16T20:32:55.828Z"
   },
   {
    "duration": 0,
    "start_time": "2022-09-16T20:32:55.829Z"
   },
   {
    "duration": 0,
    "start_time": "2022-09-16T20:32:55.830Z"
   },
   {
    "duration": 0,
    "start_time": "2022-09-16T20:32:55.830Z"
   },
   {
    "duration": 8,
    "start_time": "2022-09-16T20:35:52.943Z"
   },
   {
    "duration": 9,
    "start_time": "2022-09-16T20:44:12.863Z"
   },
   {
    "duration": 8,
    "start_time": "2022-09-16T20:44:15.357Z"
   },
   {
    "duration": 9,
    "start_time": "2022-09-16T20:44:15.935Z"
   },
   {
    "duration": 7,
    "start_time": "2022-09-16T20:44:23.340Z"
   },
   {
    "duration": 6,
    "start_time": "2022-09-16T20:44:24.693Z"
   },
   {
    "duration": 9,
    "start_time": "2022-09-16T20:44:25.221Z"
   },
   {
    "duration": 7,
    "start_time": "2022-09-16T20:44:30.314Z"
   },
   {
    "duration": 3,
    "start_time": "2022-09-16T20:44:31.585Z"
   },
   {
    "duration": 4,
    "start_time": "2022-09-16T20:44:32.015Z"
   },
   {
    "duration": 3,
    "start_time": "2022-09-16T20:44:32.236Z"
   },
   {
    "duration": 4,
    "start_time": "2022-09-16T20:44:32.447Z"
   },
   {
    "duration": 3,
    "start_time": "2022-09-16T20:44:32.693Z"
   },
   {
    "duration": 4,
    "start_time": "2022-09-16T20:44:32.896Z"
   },
   {
    "duration": 8,
    "start_time": "2022-09-16T20:44:33.408Z"
   },
   {
    "duration": 14,
    "start_time": "2022-09-16T20:44:33.692Z"
   },
   {
    "duration": 11,
    "start_time": "2022-09-16T20:44:33.894Z"
   },
   {
    "duration": 11,
    "start_time": "2022-09-16T20:44:34.098Z"
   },
   {
    "duration": 7,
    "start_time": "2022-09-16T20:44:34.285Z"
   },
   {
    "duration": 10,
    "start_time": "2022-09-16T20:44:34.558Z"
   },
   {
    "duration": 8,
    "start_time": "2022-09-16T20:44:34.718Z"
   },
   {
    "duration": 9,
    "start_time": "2022-09-16T20:44:34.891Z"
   },
   {
    "duration": 11,
    "start_time": "2022-09-16T20:44:35.067Z"
   },
   {
    "duration": 8,
    "start_time": "2022-09-16T20:44:35.223Z"
   },
   {
    "duration": 6,
    "start_time": "2022-09-16T20:44:35.542Z"
   },
   {
    "duration": 6,
    "start_time": "2022-09-16T20:44:35.994Z"
   },
   {
    "duration": 6,
    "start_time": "2022-09-16T20:44:36.170Z"
   },
   {
    "duration": 491,
    "start_time": "2022-09-16T20:44:48.694Z"
   },
   {
    "duration": 164,
    "start_time": "2022-09-16T20:44:49.331Z"
   },
   {
    "duration": 9,
    "start_time": "2022-09-16T20:44:51.017Z"
   },
   {
    "duration": 260,
    "start_time": "2022-09-16T20:44:53.370Z"
   },
   {
    "duration": 164,
    "start_time": "2022-09-16T20:44:54.469Z"
   },
   {
    "duration": 7,
    "start_time": "2022-09-16T20:44:58.966Z"
   },
   {
    "duration": 1255857,
    "start_time": "2022-09-16T20:45:04.311Z"
   },
   {
    "duration": 3,
    "start_time": "2022-09-16T21:06:00.170Z"
   },
   {
    "duration": 10,
    "start_time": "2022-09-16T21:06:00.174Z"
   },
   {
    "duration": 7,
    "start_time": "2022-09-16T21:06:00.186Z"
   },
   {
    "duration": 14,
    "start_time": "2022-09-16T21:06:00.195Z"
   },
   {
    "duration": 26,
    "start_time": "2022-09-16T21:06:00.210Z"
   },
   {
    "duration": 837427,
    "start_time": "2022-09-16T21:06:00.238Z"
   },
   {
    "duration": 3,
    "start_time": "2022-09-16T21:19:57.667Z"
   },
   {
    "duration": 6,
    "start_time": "2022-09-16T21:19:57.671Z"
   },
   {
    "duration": 35,
    "start_time": "2022-09-16T21:19:57.679Z"
   },
   {
    "duration": 254690,
    "start_time": "2022-09-16T21:19:57.715Z"
   },
   {
    "duration": 3,
    "start_time": "2022-09-16T21:24:12.406Z"
   },
   {
    "duration": 8,
    "start_time": "2022-09-16T21:24:12.411Z"
   },
   {
    "duration": 15,
    "start_time": "2022-09-16T21:24:12.421Z"
   },
   {
    "duration": 6,
    "start_time": "2022-09-16T21:24:12.437Z"
   },
   {
    "duration": 25,
    "start_time": "2022-09-16T21:24:12.444Z"
   },
   {
    "duration": 4,
    "start_time": "2022-09-16T21:24:12.471Z"
   },
   {
    "duration": 35,
    "start_time": "2022-09-16T21:24:12.476Z"
   },
   {
    "duration": 195,
    "start_time": "2022-09-16T21:24:12.515Z"
   },
   {
    "duration": 111,
    "start_time": "2022-09-16T21:24:12.715Z"
   },
   {
    "duration": 5,
    "start_time": "2022-09-16T21:24:12.828Z"
   },
   {
    "duration": 340,
    "start_time": "2022-09-16T21:24:12.835Z"
   },
   {
    "duration": 256284,
    "start_time": "2022-09-16T21:24:13.176Z"
   },
   {
    "duration": 4,
    "start_time": "2022-09-16T21:28:29.462Z"
   },
   {
    "duration": 23,
    "start_time": "2022-09-16T21:28:29.467Z"
   },
   {
    "duration": 24,
    "start_time": "2022-09-16T21:28:29.491Z"
   },
   {
    "duration": 95,
    "start_time": "2022-09-16T21:28:29.519Z"
   },
   {
    "duration": 94,
    "start_time": "2022-09-16T21:28:29.617Z"
   },
   {
    "duration": 25,
    "start_time": "2022-09-16T21:28:29.713Z"
   },
   {
    "duration": 11,
    "start_time": "2022-09-16T21:28:29.739Z"
   },
   {
    "duration": 6,
    "start_time": "2022-09-16T21:28:29.751Z"
   },
   {
    "duration": 417,
    "start_time": "2022-09-16T21:28:29.758Z"
   },
   {
    "duration": 342374,
    "start_time": "2022-09-16T21:28:30.176Z"
   },
   {
    "duration": 3,
    "start_time": "2022-09-16T21:34:12.552Z"
   },
   {
    "duration": 12,
    "start_time": "2022-09-16T21:34:12.556Z"
   },
   {
    "duration": 6,
    "start_time": "2022-09-16T21:34:12.569Z"
   },
   {
    "duration": 10,
    "start_time": "2022-09-16T21:34:12.576Z"
   },
   {
    "duration": 24,
    "start_time": "2022-09-16T21:34:12.587Z"
   },
   {
    "duration": 5,
    "start_time": "2022-09-16T21:34:12.613Z"
   },
   {
    "duration": 212,
    "start_time": "2022-09-16T21:34:12.619Z"
   },
   {
    "duration": 157612,
    "start_time": "2022-09-16T21:34:12.833Z"
   },
   {
    "duration": 4,
    "start_time": "2022-09-16T21:36:50.447Z"
   },
   {
    "duration": 15,
    "start_time": "2022-09-16T21:36:50.452Z"
   },
   {
    "duration": 4,
    "start_time": "2022-09-16T21:36:50.468Z"
   },
   {
    "duration": 41,
    "start_time": "2022-09-16T21:36:50.473Z"
   },
   {
    "duration": 4,
    "start_time": "2022-09-16T21:36:50.515Z"
   },
   {
    "duration": 11,
    "start_time": "2022-09-16T22:14:10.796Z"
   },
   {
    "duration": 4,
    "start_time": "2022-09-16T22:14:16.509Z"
   },
   {
    "duration": 16,
    "start_time": "2022-09-16T22:14:17.221Z"
   },
   {
    "duration": 5,
    "start_time": "2022-09-16T22:14:17.766Z"
   },
   {
    "duration": 16,
    "start_time": "2022-09-16T22:14:18.294Z"
   },
   {
    "duration": 112,
    "start_time": "2022-09-16T22:14:21.323Z"
   }
  ],
  "kernelspec": {
   "display_name": "Python 3 (ipykernel)",
   "language": "python",
   "name": "python3"
  },
  "language_info": {
   "codemirror_mode": {
    "name": "ipython",
    "version": 3
   },
   "file_extension": ".py",
   "mimetype": "text/x-python",
   "name": "python",
   "nbconvert_exporter": "python",
   "pygments_lexer": "ipython3",
   "version": "3.9.5"
  },
  "toc": {
   "base_numbering": 1,
   "nav_menu": {},
   "number_sections": true,
   "sideBar": true,
   "skip_h1_title": true,
   "title_cell": "Содержание",
   "title_sidebar": "Contents",
   "toc_cell": true,
   "toc_position": {
    "height": "calc(100% - 180px)",
    "left": "10px",
    "top": "150px",
    "width": "301px"
   },
   "toc_section_display": true,
   "toc_window_display": true
  }
 },
 "nbformat": 4,
 "nbformat_minor": 2
}
